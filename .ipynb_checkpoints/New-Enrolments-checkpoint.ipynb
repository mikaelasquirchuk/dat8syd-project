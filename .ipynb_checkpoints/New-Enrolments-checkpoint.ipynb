{
 "cells": [
  {
   "cell_type": "markdown",
   "metadata": {},
   "source": [
    "# Enrolments Data"
   ]
  },
  {
   "cell_type": "markdown",
   "metadata": {},
   "source": [
    "## Exploration\n",
    "### Statistical exploration"
   ]
  },
  {
   "cell_type": "markdown",
   "metadata": {},
   "source": [
    "#### Reading the data, removing useless columns and adding special columns"
   ]
  },
  {
   "cell_type": "code",
   "execution_count": 1,
   "metadata": {
    "collapsed": false
   },
   "outputs": [],
   "source": [
    "import pandas as pd\n",
    "import numpy as np\n",
    "#Read the data\n",
    "enrolments = pd.read_csv(\"data/courses snap_sales_funnel 2017-07-05T1254.csv\",low_memory=False)"
   ]
  },
  {
   "cell_type": "code",
   "execution_count": 2,
   "metadata": {
    "collapsed": false
   },
   "outputs": [
    {
     "data": {
      "text/plain": [
       "Index(['Startdate', 'Enddate', 'Metro', 'Course', 'PhoneValid', 'Price',\n",
       "       'Type', 'DaysEnroltoStart', 'DaysInvoicetoEnrol', 'DaysLeadtoEnroled',\n",
       "       'EnrolDate', 'EnrolDay', 'EnrolHour', 'Month', 'EnrolWeek', 'Year',\n",
       "       'CanceledDate', 'CanceledMonth', 'ExpectedPayment', 'PardotCategory',\n",
       "       'ApplicationType', 'LeadID', 'Status', 'OppCreatedDate',\n",
       "       'OppOwnerMetro', 'SpeedtoLead', 'CampaignSource',\n",
       "       'CampaignSourceCategory'],\n",
       "      dtype='object')"
      ]
     },
     "execution_count": 2,
     "metadata": {},
     "output_type": "execute_result"
    }
   ],
   "source": [
    "enrolments.columns"
   ]
  },
  {
   "cell_type": "code",
   "execution_count": 3,
   "metadata": {
    "collapsed": false
   },
   "outputs": [
    {
     "name": "stdout",
     "output_type": "stream",
     "text": [
      "<class 'pandas.core.frame.DataFrame'>\n",
      "RangeIndex: 50407 entries, 0 to 50406\n",
      "Data columns (total 28 columns):\n",
      "Startdate                 50407 non-null int64\n",
      "Enddate                   50407 non-null int64\n",
      "Metro                     50407 non-null object\n",
      "Course                    50407 non-null object\n",
      "PhoneValid                50407 non-null object\n",
      "Price                     50406 non-null float64\n",
      "Type                      50407 non-null object\n",
      "DaysEnroltoStart          46003 non-null float64\n",
      "DaysInvoicetoEnrol        50407 non-null int64\n",
      "DaysLeadtoEnroled         50407 non-null int64\n",
      "EnrolDate                 50407 non-null int64\n",
      "EnrolDay                  50407 non-null object\n",
      "EnrolHour                 50407 non-null int64\n",
      "Month                     50407 non-null int64\n",
      "EnrolWeek                 50407 non-null int64\n",
      "Year                      50407 non-null int64\n",
      "CanceledDate              9327 non-null float64\n",
      "CanceledMonth             9327 non-null float64\n",
      "ExpectedPayment           38772 non-null object\n",
      "PardotCategory            49407 non-null object\n",
      "ApplicationType           50407 non-null object\n",
      "LeadID                    50407 non-null int64\n",
      "Status                    39337 non-null object\n",
      "OppCreatedDate            50407 non-null int64\n",
      "OppOwnerMetro             35864 non-null object\n",
      "SpeedtoLead               13118 non-null float64\n",
      "CampaignSource            42503 non-null object\n",
      "CampaignSourceCategory    50407 non-null object\n",
      "dtypes: float64(5), int64(11), object(12)\n",
      "memory usage: 10.8+ MB\n"
     ]
    }
   ],
   "source": [
    "enrolments.info()"
   ]
  },
  {
   "cell_type": "code",
   "execution_count": 4,
   "metadata": {
    "collapsed": false
   },
   "outputs": [
    {
     "data": {
      "text/plain": [
       "Index(['Startdate', 'Enddate', 'Metro', 'Course', 'PhoneValid', 'Price',\n",
       "       'Type', 'DaysEnroltoStart', 'DaysInvoicetoEnrol', 'DaysLeadtoEnroled',\n",
       "       'EnrolDate', 'EnrolDay', 'EnrolHour', 'Month', 'EnrolWeek', 'Year',\n",
       "       'CanceledDate', 'CanceledMonth', 'ExpectedPayment', 'PardotCategory',\n",
       "       'ApplicationType', 'LeadID', 'SpeedtoLead'],\n",
       "      dtype='object')"
      ]
     },
     "execution_count": 4,
     "metadata": {},
     "output_type": "execute_result"
    }
   ],
   "source": [
    "#Remove some useless columns\n",
    "enrolments.drop('Status', axis=1, inplace=True)\n",
    "enrolments.drop('CampaignSourceCategory',axis=1,inplace=True)\n",
    "enrolments.drop('CampaignSource',axis=1,inplace=True)\n",
    "enrolments.drop('OppOwnerMetro', axis=1, inplace=True)\n",
    "enrolments.drop('OppCreatedDate', axis=1, inplace=True)\n",
    "enrolments.columns"
   ]
  },
  {
   "cell_type": "code",
   "execution_count": 5,
   "metadata": {
    "collapsed": false
   },
   "outputs": [],
   "source": [
    "#Add cancelled column to track whether an enrolment cancelled\n",
    "enrolments['Cancelled'] = enrolments.CanceledDate.notnull()"
   ]
  },
  {
   "cell_type": "code",
   "execution_count": 6,
   "metadata": {
    "collapsed": true
   },
   "outputs": [],
   "source": [
    "enrolments.drop('CanceledDate', axis=1, inplace=True)"
   ]
  },
  {
   "cell_type": "code",
   "execution_count": 7,
   "metadata": {
    "collapsed": false
   },
   "outputs": [
    {
     "data": {
      "text/plain": [
       "Index(['Startdate', 'Enddate', 'Metro', 'Course', 'PhoneValid', 'Price',\n",
       "       'Type', 'DaysEnroltoStart', 'DaysInvoicetoEnrol', 'DaysLeadtoEnroled',\n",
       "       'EnrolDate', 'EnrolDay', 'EnrolHour', 'Month', 'EnrolWeek', 'Year',\n",
       "       'CanceledMonth', 'ExpectedPayment', 'PardotCategory', 'ApplicationType',\n",
       "       'LeadID', 'SpeedtoLead', 'Cancelled'],\n",
       "      dtype='object')"
      ]
     },
     "execution_count": 7,
     "metadata": {},
     "output_type": "execute_result"
    }
   ],
   "source": [
    "enrolments.columns"
   ]
  },
  {
   "cell_type": "code",
   "execution_count": 8,
   "metadata": {
    "collapsed": true
   },
   "outputs": [],
   "source": [
    "#Add an APAC column\n",
    "enrolments['APAC'] = enrolments['Metro'].isin(['sydney','melbourne','hong-kong','singapore','brisbane'])"
   ]
  },
  {
   "cell_type": "code",
   "execution_count": 9,
   "metadata": {
    "collapsed": false
   },
   "outputs": [
    {
     "data": {
      "text/plain": [
       "False    42530\n",
       "True      7877\n",
       "Name: APAC, dtype: int64"
      ]
     },
     "execution_count": 9,
     "metadata": {},
     "output_type": "execute_result"
    }
   ],
   "source": [
    "enrolments.APAC.value_counts()"
   ]
  },
  {
   "cell_type": "code",
   "execution_count": 32,
   "metadata": {
    "collapsed": false
   },
   "outputs": [],
   "source": [
    "#Limit to only post mid-2014 data and pre mid-2017 data\n",
    "enrolments = enrolments[enrolments.EnrolDate > 20140630]\n",
    "enrolments = enrolments[enrolments.Startdate < 20170630]"
   ]
  },
  {
   "cell_type": "code",
   "execution_count": 33,
   "metadata": {
    "collapsed": false
   },
   "outputs": [
    {
     "data": {
      "text/plain": [
       "(39512, 24)"
      ]
     },
     "execution_count": 33,
     "metadata": {},
     "output_type": "execute_result"
    }
   ],
   "source": [
    "#Checkout all the numeric columns\n",
    "#enrolments.info()\n",
    "#enrolments.describe()\n",
    "enrolments.shape"
   ]
  },
  {
   "cell_type": "markdown",
   "metadata": {},
   "source": [
    "#### Dealing with null values"
   ]
  },
  {
   "cell_type": "code",
   "execution_count": 34,
   "metadata": {
    "collapsed": false
   },
   "outputs": [
    {
     "data": {
      "text/plain": [
       "Startdate             0\n",
       "Enddate               0\n",
       "Metro                 0\n",
       "Course                0\n",
       "PhoneValid            0\n",
       "Price                 0\n",
       "Type                  0\n",
       "DaysEnroltoStart      0\n",
       "DaysInvoicetoEnrol    0\n",
       "DaysLeadtoEnroled     0\n",
       "EnrolDate             0\n",
       "EnrolDay              0\n",
       "EnrolHour             0\n",
       "Month                 0\n",
       "EnrolWeek             0\n",
       "Year                  0\n",
       "CanceledMonth         0\n",
       "ExpectedPayment       0\n",
       "PardotCategory        0\n",
       "ApplicationType       0\n",
       "LeadID                0\n",
       "SpeedtoLead           0\n",
       "Cancelled             0\n",
       "APAC                  0\n",
       "dtype: int64"
      ]
     },
     "execution_count": 34,
     "metadata": {},
     "output_type": "execute_result"
    }
   ],
   "source": [
    "enrolments.isnull().sum()"
   ]
  },
  {
   "cell_type": "code",
   "execution_count": 35,
   "metadata": {
    "collapsed": false
   },
   "outputs": [],
   "source": [
    "enrolments.CanceledMonth.fillna(\"None\", inplace=True)\n",
    "enrolments.Price.fillna(0, inplace=True)"
   ]
  },
  {
   "cell_type": "code",
   "execution_count": 36,
   "metadata": {
    "collapsed": false
   },
   "outputs": [
    {
     "data": {
      "text/plain": [
       "GA Course Leads         18968\n",
       "Website                  6025\n",
       "CWE Purchase             4781\n",
       "Facebook Acquisition     1689\n",
       "Other                    1497\n",
       "GA Dash                  1465\n",
       "Sweepstake               1301\n",
       "Unknown                   884\n",
       "GA Front Row Signup       561\n",
       "Partner Event             490\n",
       "Twitter Promoted          412\n",
       "GA Circuits Leads         329\n",
       "Twitter Acquisition       232\n",
       "Uncategorized             231\n",
       "Content Partnership       150\n",
       "Student Enrollment        145\n",
       "Livestream Purchase       139\n",
       "Scholarship               109\n",
       "Partner Livestream        104\n",
       "Name: PardotCategory, dtype: int64"
      ]
     },
     "execution_count": 36,
     "metadata": {},
     "output_type": "execute_result"
    }
   ],
   "source": [
    "enrolments.PardotCategory.fillna(\"Unknown\", inplace=True)\n",
    "enrolments.PardotCategory.value_counts()"
   ]
  },
  {
   "cell_type": "code",
   "execution_count": 37,
   "metadata": {
    "collapsed": false
   },
   "outputs": [],
   "source": [
    "#enrolments.DaysEnroltoStart.mean()\n",
    "enrolments.DaysEnroltoStart.fillna(enrolments.DaysEnroltoStart.mean(), inplace=True)"
   ]
  },
  {
   "cell_type": "code",
   "execution_count": 38,
   "metadata": {
    "collapsed": false
   },
   "outputs": [],
   "source": [
    "#enrolments.SpeedtoLead.value_counts()\n",
    "enrolments.SpeedtoLead.fillna(enrolments.SpeedtoLead.mean(), inplace=True)"
   ]
  },
  {
   "cell_type": "code",
   "execution_count": 39,
   "metadata": {
    "collapsed": false
   },
   "outputs": [
    {
     "data": {
      "text/plain": [
       "Student / Self                28300\n",
       "Unknown                        6688\n",
       "Employer                       3876\n",
       "Veterans Affairs                281\n",
       "Other                           138\n",
       "Family                           94\n",
       "GA Employee/Instructor           82\n",
       "Government Funding / Grant       53\n",
       "Name: ExpectedPayment, dtype: int64"
      ]
     },
     "execution_count": 39,
     "metadata": {},
     "output_type": "execute_result"
    }
   ],
   "source": [
    "enrolments['ExpectedPayment'] = enrolments.ExpectedPayment.map({\n",
    "    'Student / Self': 'Student / Self',\n",
    "    'Student (self)': 'Student / Self',\n",
    "    'Employer': 'Employer',\n",
    "    'Loan (Partner, please note)': 'Loan Partner',\n",
    "    'Veterans Affairs': 'Veterans Affairs',\n",
    "    'Employer Bulk Pre-paid': 'Employer',\n",
    "    'Scholarship (Opportunity Fund)': 'Scholarship',\n",
    "    'Loan Partner (please note)': 'Loan Partner',\n",
    "    'Family':'Family',\n",
    "    'Other (please note)':'Other',\n",
    "    'GA Employee/Instructor':'GA Employee/Instructor',\n",
    "    'Loan (Private Bank, please note)':'Loan (Private)',\n",
    "    'Government Funding / Grant':'Government Funding / Grant',\n",
    "    'Other':'Other',\n",
    "    'CourseHorse':'Other',\n",
    "    'Opportunity Fund':'Scholarship',\n",
    "    'Enterprise Credit':'Other',\n",
    "    'Scholarship (GA Partner, please note)':'Scholarship',\n",
    "    'Scholarship (Other, please note)':'Scholarship',\n",
    "})\n",
    "enrolments.ExpectedPayment.fillna(\"Unknown\", inplace=True)\n",
    "enrolments.ExpectedPayment.value_counts()"
   ]
  },
  {
   "cell_type": "code",
   "execution_count": 40,
   "metadata": {
    "collapsed": false
   },
   "outputs": [
    {
     "data": {
      "text/plain": [
       "Startdate             0\n",
       "Enddate               0\n",
       "Metro                 0\n",
       "Course                0\n",
       "PhoneValid            0\n",
       "Price                 0\n",
       "Type                  0\n",
       "DaysEnroltoStart      0\n",
       "DaysInvoicetoEnrol    0\n",
       "DaysLeadtoEnroled     0\n",
       "EnrolDate             0\n",
       "EnrolDay              0\n",
       "EnrolHour             0\n",
       "Month                 0\n",
       "EnrolWeek             0\n",
       "Year                  0\n",
       "CanceledMonth         0\n",
       "ExpectedPayment       0\n",
       "PardotCategory        0\n",
       "ApplicationType       0\n",
       "LeadID                0\n",
       "SpeedtoLead           0\n",
       "Cancelled             0\n",
       "APAC                  0\n",
       "dtype: int64"
      ]
     },
     "execution_count": 40,
     "metadata": {},
     "output_type": "execute_result"
    }
   ],
   "source": [
    "enrolments.isnull().sum()"
   ]
  },
  {
   "cell_type": "markdown",
   "metadata": {},
   "source": [
    "#### Streamlining multiple categories"
   ]
  },
  {
   "cell_type": "code",
   "execution_count": 41,
   "metadata": {
    "collapsed": false
   },
   "outputs": [],
   "source": [
    "#Checkout only the more common application types\n",
    "#enrolments.ApplicationType.value_counts()<100"
   ]
  },
  {
   "cell_type": "code",
   "execution_count": 42,
   "metadata": {
    "collapsed": false
   },
   "outputs": [
    {
     "data": {
      "text/plain": [
       "Index(['apply now', 'request info', 'info session', 'referral', 'invoice',\n",
       "       'get notified', 'contact_admissions', 'financing contact us',\n",
       "       'cwe_feedback', 'trial class', 'lander', 'open house',\n",
       "       'emailed admissions@'],\n",
       "      dtype='object')"
      ]
     },
     "execution_count": 42,
     "metadata": {},
     "output_type": "execute_result"
    }
   ],
   "source": [
    "commonapptypes = enrolments.ApplicationType.value_counts().index[enrolments.ApplicationType.value_counts()>147]\n",
    "commonapptypes"
   ]
  },
  {
   "cell_type": "code",
   "execution_count": 43,
   "metadata": {
    "collapsed": false
   },
   "outputs": [
    {
     "data": {
      "text/plain": [
       "(39512, 24)"
      ]
     },
     "execution_count": 43,
     "metadata": {},
     "output_type": "execute_result"
    }
   ],
   "source": [
    "enrolments = enrolments[enrolments.ApplicationType.isin(commonapptypes)]\n",
    "enrolments.shape"
   ]
  },
  {
   "cell_type": "code",
   "execution_count": 44,
   "metadata": {
    "collapsed": false
   },
   "outputs": [
    {
     "data": {
      "text/plain": [
       "apply now               13589\n",
       "request info            13115\n",
       "info session             8179\n",
       "referral                 1114\n",
       "invoice                   663\n",
       "get notified              532\n",
       "contact_admissions        525\n",
       "financing contact us      507\n",
       "cwe_feedback              442\n",
       "trial class               286\n",
       "lander                    213\n",
       "open house                186\n",
       "emailed admissions@       161\n",
       "Name: ApplicationType, dtype: int64"
      ]
     },
     "execution_count": 44,
     "metadata": {},
     "output_type": "execute_result"
    }
   ],
   "source": [
    "enrolments.ApplicationType.value_counts()"
   ]
  },
  {
   "cell_type": "code",
   "execution_count": 45,
   "metadata": {
    "collapsed": false
   },
   "outputs": [
    {
     "data": {
      "text/plain": [
       "Index(['GA Course Leads', 'Website', 'CWE Purchase', 'Facebook Acquisition',\n",
       "       'Other', 'GA Dash', 'Sweepstake', 'Unknown', 'GA Front Row Signup',\n",
       "       'Partner Event', 'Twitter Promoted', 'GA Circuits Leads',\n",
       "       'Twitter Acquisition', 'Uncategorized', 'Content Partnership',\n",
       "       'Student Enrollment', 'Livestream Purchase', 'Scholarship',\n",
       "       'Partner Livestream'],\n",
       "      dtype='object')"
      ]
     },
     "execution_count": 45,
     "metadata": {},
     "output_type": "execute_result"
    }
   ],
   "source": [
    "#Checkout only the more common Pardot types\n",
    "#enrolments.PardotCategory.value_counts()>100\n",
    "commonpdtypes = enrolments.PardotCategory.value_counts().index[enrolments.PardotCategory.value_counts()>100]\n",
    "commonpdtypes"
   ]
  },
  {
   "cell_type": "code",
   "execution_count": 46,
   "metadata": {
    "collapsed": false
   },
   "outputs": [
    {
     "data": {
      "text/plain": [
       "(39512, 24)"
      ]
     },
     "execution_count": 46,
     "metadata": {},
     "output_type": "execute_result"
    }
   ],
   "source": [
    "enrolments = enrolments[enrolments.PardotCategory.isin(commonpdtypes)]\n",
    "enrolments.shape"
   ]
  },
  {
   "cell_type": "code",
   "execution_count": 47,
   "metadata": {
    "collapsed": false
   },
   "outputs": [
    {
     "data": {
      "text/plain": [
       "GA Course Leads         18968\n",
       "Website                  6025\n",
       "CWE Purchase             4781\n",
       "Facebook Acquisition     1689\n",
       "Other                    1497\n",
       "GA Dash                  1465\n",
       "Sweepstake               1301\n",
       "Unknown                   884\n",
       "GA Front Row Signup       561\n",
       "Partner Event             490\n",
       "Twitter Promoted          412\n",
       "GA Circuits Leads         329\n",
       "Twitter Acquisition       232\n",
       "Uncategorized             231\n",
       "Content Partnership       150\n",
       "Student Enrollment        145\n",
       "Livestream Purchase       139\n",
       "Scholarship               109\n",
       "Partner Livestream        104\n",
       "Name: PardotCategory, dtype: int64"
      ]
     },
     "execution_count": 47,
     "metadata": {},
     "output_type": "execute_result"
    }
   ],
   "source": [
    "enrolments.PardotCategory.value_counts()"
   ]
  },
  {
   "cell_type": "code",
   "execution_count": 48,
   "metadata": {
    "collapsed": false
   },
   "outputs": [
    {
     "data": {
      "text/plain": [
       "(39512, 24)"
      ]
     },
     "execution_count": 48,
     "metadata": {},
     "output_type": "execute_result"
    }
   ],
   "source": [
    "commoncourses = enrolments.Course.value_counts().index[enrolments.Course.value_counts()>100]\n",
    "commoncourses\n",
    "enrolments = enrolments[enrolments.Course.isin(commoncourses)]\n",
    "enrolments.shape"
   ]
  },
  {
   "cell_type": "code",
   "execution_count": 49,
   "metadata": {
    "collapsed": true
   },
   "outputs": [],
   "source": [
    "enrolments.PhoneValid.unique()\n",
    "enrolments['PhoneValid'] = enrolments.PhoneValid.map({'Yes': 1,'No': 0})"
   ]
  },
  {
   "cell_type": "code",
   "execution_count": 50,
   "metadata": {
    "collapsed": false
   },
   "outputs": [
    {
     "name": "stdout",
     "output_type": "stream",
     "text": [
      "<class 'pandas.core.frame.DataFrame'>\n",
      "Int64Index: 39512 entries, 758 to 50149\n",
      "Data columns (total 24 columns):\n",
      "Startdate             39512 non-null int64\n",
      "Enddate               39512 non-null int64\n",
      "Metro                 39512 non-null object\n",
      "Course                39512 non-null object\n",
      "PhoneValid            0 non-null float64\n",
      "Price                 39512 non-null float64\n",
      "Type                  39512 non-null object\n",
      "DaysEnroltoStart      39512 non-null float64\n",
      "DaysInvoicetoEnrol    39512 non-null int64\n",
      "DaysLeadtoEnroled     39512 non-null int64\n",
      "EnrolDate             39512 non-null int64\n",
      "EnrolDay              39512 non-null object\n",
      "EnrolHour             39512 non-null int64\n",
      "Month                 39512 non-null int64\n",
      "EnrolWeek             39512 non-null int64\n",
      "Year                  39512 non-null int64\n",
      "CanceledMonth         39512 non-null object\n",
      "ExpectedPayment       39512 non-null object\n",
      "PardotCategory        39512 non-null object\n",
      "ApplicationType       39512 non-null object\n",
      "LeadID                39512 non-null int64\n",
      "SpeedtoLead           39512 non-null float64\n",
      "Cancelled             39512 non-null bool\n",
      "APAC                  39512 non-null bool\n",
      "dtypes: bool(2), float64(4), int64(10), object(8)\n",
      "memory usage: 7.0+ MB\n"
     ]
    }
   ],
   "source": [
    "enrolments.info()"
   ]
  },
  {
   "cell_type": "code",
   "execution_count": 51,
   "metadata": {
    "collapsed": false
   },
   "outputs": [
    {
     "data": {
      "text/plain": [
       "0.17822200148994288"
      ]
     },
     "execution_count": 51,
     "metadata": {},
     "output_type": "execute_result"
    }
   ],
   "source": [
    "enrolments.Cancelled.value_counts()\n",
    "7177/(7717+32553)"
   ]
  },
  {
   "cell_type": "markdown",
   "metadata": {},
   "source": [
    "#### Pandas profile"
   ]
  },
  {
   "cell_type": "code",
   "execution_count": 52,
   "metadata": {
    "collapsed": false
   },
   "outputs": [],
   "source": [
    "#!pip install pandas-profiling"
   ]
  },
  {
   "cell_type": "code",
   "execution_count": 53,
   "metadata": {
    "collapsed": false
   },
   "outputs": [],
   "source": [
    "#import pandas_profiling\n",
    "#apandas_profiling.ProfileReport(enrolments)"
   ]
  },
  {
   "cell_type": "markdown",
   "metadata": {},
   "source": [
    "### Visualisation"
   ]
  },
  {
   "cell_type": "code",
   "execution_count": 54,
   "metadata": {
    "collapsed": true
   },
   "outputs": [],
   "source": [
    "from sklearn import tree\n",
    "from sklearn.model_selection import train_test_split\n",
    "from sklearn import metrics\n",
    "import matplotlib.pyplot as plt\n",
    "import seaborn as sns\n",
    "import urllib\n",
    "import plotly\n",
    "import plotly.plotly as py\n",
    "import plotly.graph_objs as go \n",
    "import folium\n",
    "import plotly.figure_factory as ff\n",
    "\n",
    "plotly.tools.set_credentials_file(username='Msquirchuk', api_key='kTj4gydNrsbGuMDjMcNn')\n",
    "\n",
    "sns.set(color_codes=True)"
   ]
  },
  {
   "cell_type": "code",
   "execution_count": 55,
   "metadata": {
    "collapsed": false
   },
   "outputs": [
    {
     "name": "stderr",
     "output_type": "stream",
     "text": [
      "/anaconda/lib/python3.6/site-packages/statsmodels/nonparametric/kdetools.py:20: VisibleDeprecationWarning:\n",
      "\n",
      "using a non-integer number instead of an integer will result in an error in the future\n",
      "\n"
     ]
    },
    {
     "data": {
      "text/plain": [
       "<matplotlib.axes._subplots.AxesSubplot at 0x10d6d8e48>"
      ]
     },
     "execution_count": 55,
     "metadata": {},
     "output_type": "execute_result"
    },
    {
     "data": {
      "image/png": "[encoded data removed]",
      "text/plain": [
       "<matplotlib.figure.Figure at 0x10d6d8160>"
      ]
     },
     "metadata": {},
     "output_type": "display_data"
    }
   ],
   "source": [
    "plt.figure(figsize = (15,6))\n",
    "sns.distplot(enrolments.DaysInvoicetoEnrol, bins=1)"
   ]
  },
  {
   "cell_type": "code",
   "execution_count": 56,
   "metadata": {
    "collapsed": false
   },
   "outputs": [
    {
     "name": "stderr",
     "output_type": "stream",
     "text": [
      "/anaconda/lib/python3.6/site-packages/statsmodels/nonparametric/kdetools.py:20: VisibleDeprecationWarning:\n",
      "\n",
      "using a non-integer number instead of an integer will result in an error in the future\n",
      "\n"
     ]
    },
    {
     "data": {
      "text/plain": [
       "<matplotlib.axes._subplots.AxesSubplot at 0x10d57d978>"
      ]
     },
     "execution_count": 56,
     "metadata": {},
     "output_type": "execute_result"
    },
    {
     "data": {
      "image/png": "[encoded data removed]",
      "text/plain": [
       "<matplotlib.figure.Figure at 0x10d57dc50>"
      ]
     },
     "metadata": {},
     "output_type": "display_data"
    }
   ],
   "source": [
    "plt.figure(figsize = (15,6))\n",
    "sns.distplot(enrolments.DaysEnroltoStart, bins=10)"
   ]
  },
  {
   "cell_type": "code",
   "execution_count": 57,
   "metadata": {
    "collapsed": false
   },
   "outputs": [
    {
     "data": {
      "text/plain": [
       "<matplotlib.axes._subplots.AxesSubplot at 0x10bbec2b0>"
      ]
     },
     "execution_count": 57,
     "metadata": {},
     "output_type": "execute_result"
    },
    {
     "data": {
      "image/png": "[encoded data removed]",
      "text/plain": [
       "<matplotlib.figure.Figure at 0x10bbf1828>"
      ]
     },
     "metadata": {},
     "output_type": "display_data"
    }
   ],
   "source": [
    "plt.figure(figsize = (15,6))\n",
    "sns.barplot(x='Metro', y = 'Cancelled', data = enrolments)"
   ]
  },
  {
   "cell_type": "code",
   "execution_count": 58,
   "metadata": {
    "collapsed": false
   },
   "outputs": [
    {
     "data": {
      "text/plain": [
       "<matplotlib.axes._subplots.AxesSubplot at 0x10d586860>"
      ]
     },
     "execution_count": 58,
     "metadata": {},
     "output_type": "execute_result"
    },
    {
     "data": {
      "image/png": "[encoded data removed]",
      "text/plain": [
       "<matplotlib.figure.Figure at 0x10bf73ef0>"
      ]
     },
     "metadata": {},
     "output_type": "display_data"
    }
   ],
   "source": [
    "plt.figure(figsize = (20,10))\n",
    "sns.barplot(x='Course', y = 'Cancelled', data = enrolments)"
   ]
  },
  {
   "cell_type": "code",
   "execution_count": 59,
   "metadata": {
    "collapsed": false
   },
   "outputs": [
    {
     "data": {
      "text/plain": [
       "<matplotlib.axes._subplots.AxesSubplot at 0x1146322b0>"
      ]
     },
     "execution_count": 59,
     "metadata": {},
     "output_type": "execute_result"
    },
    {
     "data": {
      "image/png": "[encoded data removed]",
      "text/plain": [
       "<matplotlib.figure.Figure at 0x1146324a8>"
      ]
     },
     "metadata": {},
     "output_type": "display_data"
    }
   ],
   "source": [
    "plt.figure(figsize=(20,10))\n",
    "plt.title(\"Enrolments v Cancelations\")\n",
    "sns.countplot(x='Month', hue='Cancelled', data = enrolments)"
   ]
  },
  {
   "cell_type": "code",
   "execution_count": 60,
   "metadata": {
    "collapsed": false
   },
   "outputs": [
    {
     "data": {
      "text/plain": [
       "<seaborn.axisgrid.JointGrid at 0x10bf82c50>"
      ]
     },
     "execution_count": 60,
     "metadata": {},
     "output_type": "execute_result"
    },
    {
     "data": {
      "image/png": "[encoded data removed]",
      "text/plain": [
       "<matplotlib.figure.Figure at 0x10bf82be0>"
      ]
     },
     "metadata": {},
     "output_type": "display_data"
    }
   ],
   "source": [
    "sns.jointplot(x='DaysEnroltoStart', y=\"DaysInvoicetoEnrol\", data=enrolments)"
   ]
  },
  {
   "cell_type": "code",
   "execution_count": 61,
   "metadata": {
    "collapsed": false
   },
   "outputs": [
    {
     "data": {
      "text/plain": [
       "<matplotlib.text.Text at 0x110629eb8>"
      ]
     },
     "execution_count": 61,
     "metadata": {},
     "output_type": "execute_result"
    },
    {
     "data": {
      "image/png": "[encoded data removed]",
      "text/plain": [
       "<matplotlib.figure.Figure at 0x11526efd0>"
      ]
     },
     "metadata": {},
     "output_type": "display_data"
    }
   ],
   "source": [
    "corr = enrolments.corr()\n",
    "corr = (corr)\n",
    "plt.figure(figsize = (20,20))\n",
    "sns.heatmap(corr, \n",
    "            xticklabels=corr.columns.values,\n",
    "            yticklabels=corr.columns.values)\n",
    "sns.plt.title('Heatmap of Correlation Matrix')"
   ]
  },
  {
   "cell_type": "markdown",
   "metadata": {},
   "source": [
    "## Running dummy data\n",
    "- These columns have text outputs:\n",
    " - Metro: object\n",
    " - Course: object\n",
    " - Type: object\n",
    " - EnrolDay: object\n",
    " - ExpectedPayment: object\n",
    " - ApplicationType: object\n",
    " - PardotCategory: object"
   ]
  },
  {
   "cell_type": "code",
   "execution_count": 62,
   "metadata": {
    "collapsed": false
   },
   "outputs": [
    {
     "name": "stdout",
     "output_type": "stream",
     "text": [
      "<class 'pandas.core.frame.DataFrame'>\n",
      "Int64Index: 39512 entries, 758 to 50149\n",
      "Data columns (total 23 columns):\n",
      "Startdate             39512 non-null int64\n",
      "Enddate               39512 non-null int64\n",
      "Metro                 39512 non-null object\n",
      "Course                39512 non-null object\n",
      "PhoneValid            0 non-null float64\n",
      "Price                 39512 non-null float64\n",
      "Type                  39512 non-null object\n",
      "DaysEnroltoStart      39512 non-null float64\n",
      "DaysInvoicetoEnrol    39512 non-null int64\n",
      "DaysLeadtoEnroled     39512 non-null int64\n",
      "EnrolDate             39512 non-null int64\n",
      "EnrolDay              39512 non-null object\n",
      "EnrolHour             39512 non-null int64\n",
      "Month                 39512 non-null int64\n",
      "EnrolWeek             39512 non-null int64\n",
      "Year                  39512 non-null int64\n",
      "ExpectedPayment       39512 non-null object\n",
      "PardotCategory        39512 non-null object\n",
      "ApplicationType       39512 non-null object\n",
      "LeadID                39512 non-null int64\n",
      "SpeedtoLead           39512 non-null float64\n",
      "Cancelled             39512 non-null bool\n",
      "APAC                  39512 non-null bool\n",
      "dtypes: bool(2), float64(4), int64(10), object(7)\n",
      "memory usage: 6.7+ MB\n"
     ]
    }
   ],
   "source": [
    "enrolments.drop('CanceledMonth', axis=1, inplace=True)\n",
    "enrolments.info()"
   ]
  },
  {
   "cell_type": "code",
   "execution_count": 63,
   "metadata": {
    "collapsed": false
   },
   "outputs": [],
   "source": [
    "dummydata = pd.get_dummies(data=enrolments, columns = ['Metro','Course','Type','ExpectedPayment','ApplicationType','PardotCategory','EnrolDay'], prefix = ['Metro','Course','Type','ExpectedPayment','ApplicationType','PardotCategory','EnrolDay'] )"
   ]
  },
  {
   "cell_type": "code",
   "execution_count": 64,
   "metadata": {
    "collapsed": false
   },
   "outputs": [
    {
     "data": {
      "text/plain": [
       "(39512, 100)"
      ]
     },
     "execution_count": 64,
     "metadata": {},
     "output_type": "execute_result"
    }
   ],
   "source": [
    "dummydata.shape"
   ]
  },
  {
   "cell_type": "code",
   "execution_count": 65,
   "metadata": {
    "collapsed": false
   },
   "outputs": [
    {
     "data": {
      "text/plain": [
       "Index(['Startdate', 'Enddate', 'PhoneValid', 'Price', 'DaysEnroltoStart',\n",
       "       'DaysInvoicetoEnrol', 'DaysLeadtoEnroled', 'EnrolDate', 'EnrolHour',\n",
       "       'Month', 'EnrolWeek', 'Year', 'LeadID', 'SpeedtoLead', 'Cancelled',\n",
       "       'APAC', 'Metro_atlanta', 'Metro_austin', 'Metro_boston',\n",
       "       'Metro_brisbane', 'Metro_chicago', 'Metro_denver', 'Metro_hong-kong',\n",
       "       'Metro_london', 'Metro_los-angeles', 'Metro_melbourne',\n",
       "       'Metro_new-york-city', 'Metro_online', 'Metro_san-francisco',\n",
       "       'Metro_seattle', 'Metro_singapore', 'Metro_sydney',\n",
       "       'Metro_washington-dc', 'Course_android-development-immersive',\n",
       "       'Course_back-end-web-development',\n",
       "       'Course_business-fundamentals-tactics', 'Course_data-analytics',\n",
       "       'Course_data-science', 'Course_data-science-immersive',\n",
       "       'Course_digital-marketing', 'Course_front-end-web-development',\n",
       "       'Course_ios-development', 'Course_javascript-development',\n",
       "       'Course_product-management', 'Course_product-management-immersive',\n",
       "       'Course_user-experience-design',\n",
       "       'Course_user-experience-design-immersive', 'Course_visual-design',\n",
       "       'Course_web-development-immersive',\n",
       "       'Course_web-development-immersive-remote', 'Type_course',\n",
       "       'Type_immersive', 'Type_remote', 'ExpectedPayment_Employer',\n",
       "       'ExpectedPayment_Family', 'ExpectedPayment_GA Employee/Instructor',\n",
       "       'ExpectedPayment_Government Funding / Grant', 'ExpectedPayment_Other',\n",
       "       'ExpectedPayment_Student / Self', 'ExpectedPayment_Unknown',\n",
       "       'ExpectedPayment_Veterans Affairs', 'ApplicationType_apply now',\n",
       "       'ApplicationType_contact_admissions', 'ApplicationType_cwe_feedback',\n",
       "       'ApplicationType_emailed admissions@',\n",
       "       'ApplicationType_financing contact us', 'ApplicationType_get notified',\n",
       "       'ApplicationType_info session', 'ApplicationType_invoice',\n",
       "       'ApplicationType_lander', 'ApplicationType_open house',\n",
       "       'ApplicationType_referral', 'ApplicationType_request info',\n",
       "       'ApplicationType_trial class', 'PardotCategory_CWE Purchase',\n",
       "       'PardotCategory_Content Partnership',\n",
       "       'PardotCategory_Facebook Acquisition',\n",
       "       'PardotCategory_GA Circuits Leads', 'PardotCategory_GA Course Leads',\n",
       "       'PardotCategory_GA Dash', 'PardotCategory_GA Front Row Signup',\n",
       "       'PardotCategory_Livestream Purchase', 'PardotCategory_Other',\n",
       "       'PardotCategory_Partner Event', 'PardotCategory_Partner Livestream',\n",
       "       'PardotCategory_Scholarship', 'PardotCategory_Student Enrollment',\n",
       "       'PardotCategory_Sweepstake', 'PardotCategory_Twitter Acquisition',\n",
       "       'PardotCategory_Twitter Promoted', 'PardotCategory_Uncategorized',\n",
       "       'PardotCategory_Unknown', 'PardotCategory_Website', 'EnrolDay_Friday',\n",
       "       'EnrolDay_Monday', 'EnrolDay_Saturday', 'EnrolDay_Sunday',\n",
       "       'EnrolDay_Thursday', 'EnrolDay_Tuesday', 'EnrolDay_Wednesday'],\n",
       "      dtype='object')"
      ]
     },
     "execution_count": 65,
     "metadata": {},
     "output_type": "execute_result"
    }
   ],
   "source": [
    "dummydata.columns"
   ]
  },
  {
   "cell_type": "markdown",
   "metadata": {},
   "source": [
    "## Let's try some algorithms!"
   ]
  },
  {
   "cell_type": "markdown",
   "metadata": {},
   "source": [
    "### Decision Tree"
   ]
  },
  {
   "cell_type": "code",
   "execution_count": 66,
   "metadata": {
    "collapsed": false
   },
   "outputs": [
    {
     "data": {
      "text/plain": [
       "False    31887\n",
       "True      7625\n",
       "Name: Cancelled, dtype: int64"
      ]
     },
     "execution_count": 66,
     "metadata": {},
     "output_type": "execute_result"
    }
   ],
   "source": [
    "dummydata.Cancelled.value_counts()"
   ]
  },
  {
   "cell_type": "code",
   "execution_count": 67,
   "metadata": {
    "collapsed": false
   },
   "outputs": [],
   "source": [
    "treesubset = dummydata"
   ]
  },
  {
   "cell_type": "code",
   "execution_count": 68,
   "metadata": {
    "collapsed": false
   },
   "outputs": [
    {
     "name": "stderr",
     "output_type": "stream",
     "text": [
      "/anaconda/lib/python3.6/site-packages/sklearn/cross_validation.py:44: DeprecationWarning:\n",
      "\n",
      "This module was deprecated in version 0.18 in favor of the model_selection module into which all the refactored classes and functions are moved. Also note that the interface of the new CV iterators are different from that of this module. This module will be removed in 0.20.\n",
      "\n"
     ]
    },
    {
     "data": {
      "text/html": [
       "<div>\n",
       "<table border=\"1\" class=\"dataframe\">\n",
       "  <thead>\n",
       "    <tr style=\"text-align: right;\">\n",
       "      <th></th>\n",
       "      <th>Startdate</th>\n",
       "      <th>Enddate</th>\n",
       "      <th>PhoneValid</th>\n",
       "      <th>Price</th>\n",
       "      <th>DaysEnroltoStart</th>\n",
       "      <th>DaysInvoicetoEnrol</th>\n",
       "      <th>DaysLeadtoEnroled</th>\n",
       "      <th>EnrolDate</th>\n",
       "      <th>EnrolHour</th>\n",
       "      <th>Month</th>\n",
       "      <th>...</th>\n",
       "      <th>PardotCategory_Uncategorized</th>\n",
       "      <th>PardotCategory_Unknown</th>\n",
       "      <th>PardotCategory_Website</th>\n",
       "      <th>EnrolDay_Friday</th>\n",
       "      <th>EnrolDay_Monday</th>\n",
       "      <th>EnrolDay_Saturday</th>\n",
       "      <th>EnrolDay_Sunday</th>\n",
       "      <th>EnrolDay_Thursday</th>\n",
       "      <th>EnrolDay_Tuesday</th>\n",
       "      <th>EnrolDay_Wednesday</th>\n",
       "    </tr>\n",
       "  </thead>\n",
       "  <tbody>\n",
       "    <tr>\n",
       "      <th>758</th>\n",
       "      <td>20170628</td>\n",
       "      <td>20170918</td>\n",
       "      <td>NaN</td>\n",
       "      <td>3950.0</td>\n",
       "      <td>96.000000</td>\n",
       "      <td>0</td>\n",
       "      <td>93</td>\n",
       "      <td>20170324</td>\n",
       "      <td>15</td>\n",
       "      <td>201703</td>\n",
       "      <td>...</td>\n",
       "      <td>0</td>\n",
       "      <td>0</td>\n",
       "      <td>0</td>\n",
       "      <td>1</td>\n",
       "      <td>0</td>\n",
       "      <td>0</td>\n",
       "      <td>0</td>\n",
       "      <td>0</td>\n",
       "      <td>0</td>\n",
       "      <td>0</td>\n",
       "    </tr>\n",
       "    <tr>\n",
       "      <th>759</th>\n",
       "      <td>20170628</td>\n",
       "      <td>20170918</td>\n",
       "      <td>NaN</td>\n",
       "      <td>3950.0</td>\n",
       "      <td>8.000000</td>\n",
       "      <td>0</td>\n",
       "      <td>1</td>\n",
       "      <td>20170620</td>\n",
       "      <td>17</td>\n",
       "      <td>201706</td>\n",
       "      <td>...</td>\n",
       "      <td>0</td>\n",
       "      <td>0</td>\n",
       "      <td>0</td>\n",
       "      <td>0</td>\n",
       "      <td>0</td>\n",
       "      <td>0</td>\n",
       "      <td>0</td>\n",
       "      <td>0</td>\n",
       "      <td>1</td>\n",
       "      <td>0</td>\n",
       "    </tr>\n",
       "    <tr>\n",
       "      <th>760</th>\n",
       "      <td>20170628</td>\n",
       "      <td>20170918</td>\n",
       "      <td>NaN</td>\n",
       "      <td>3950.0</td>\n",
       "      <td>6.000000</td>\n",
       "      <td>0</td>\n",
       "      <td>134</td>\n",
       "      <td>20170622</td>\n",
       "      <td>23</td>\n",
       "      <td>201706</td>\n",
       "      <td>...</td>\n",
       "      <td>0</td>\n",
       "      <td>0</td>\n",
       "      <td>0</td>\n",
       "      <td>0</td>\n",
       "      <td>0</td>\n",
       "      <td>0</td>\n",
       "      <td>0</td>\n",
       "      <td>1</td>\n",
       "      <td>0</td>\n",
       "      <td>0</td>\n",
       "    </tr>\n",
       "    <tr>\n",
       "      <th>761</th>\n",
       "      <td>20170628</td>\n",
       "      <td>20170918</td>\n",
       "      <td>NaN</td>\n",
       "      <td>3950.0</td>\n",
       "      <td>40.000000</td>\n",
       "      <td>7</td>\n",
       "      <td>16</td>\n",
       "      <td>20170519</td>\n",
       "      <td>23</td>\n",
       "      <td>201705</td>\n",
       "      <td>...</td>\n",
       "      <td>0</td>\n",
       "      <td>0</td>\n",
       "      <td>0</td>\n",
       "      <td>1</td>\n",
       "      <td>0</td>\n",
       "      <td>0</td>\n",
       "      <td>0</td>\n",
       "      <td>0</td>\n",
       "      <td>0</td>\n",
       "      <td>0</td>\n",
       "    </tr>\n",
       "    <tr>\n",
       "      <th>762</th>\n",
       "      <td>20170628</td>\n",
       "      <td>20170918</td>\n",
       "      <td>NaN</td>\n",
       "      <td>3950.0</td>\n",
       "      <td>44.000000</td>\n",
       "      <td>7</td>\n",
       "      <td>48</td>\n",
       "      <td>20170515</td>\n",
       "      <td>18</td>\n",
       "      <td>201705</td>\n",
       "      <td>...</td>\n",
       "      <td>0</td>\n",
       "      <td>1</td>\n",
       "      <td>0</td>\n",
       "      <td>0</td>\n",
       "      <td>1</td>\n",
       "      <td>0</td>\n",
       "      <td>0</td>\n",
       "      <td>0</td>\n",
       "      <td>0</td>\n",
       "      <td>0</td>\n",
       "    </tr>\n",
       "    <tr>\n",
       "      <th>763</th>\n",
       "      <td>20170628</td>\n",
       "      <td>20170918</td>\n",
       "      <td>NaN</td>\n",
       "      <td>3950.0</td>\n",
       "      <td>23.801682</td>\n",
       "      <td>0</td>\n",
       "      <td>18</td>\n",
       "      <td>20170331</td>\n",
       "      <td>16</td>\n",
       "      <td>201703</td>\n",
       "      <td>...</td>\n",
       "      <td>0</td>\n",
       "      <td>0</td>\n",
       "      <td>0</td>\n",
       "      <td>1</td>\n",
       "      <td>0</td>\n",
       "      <td>0</td>\n",
       "      <td>0</td>\n",
       "      <td>0</td>\n",
       "      <td>0</td>\n",
       "      <td>0</td>\n",
       "    </tr>\n",
       "    <tr>\n",
       "      <th>764</th>\n",
       "      <td>20170628</td>\n",
       "      <td>20170918</td>\n",
       "      <td>NaN</td>\n",
       "      <td>3950.0</td>\n",
       "      <td>20.000000</td>\n",
       "      <td>7</td>\n",
       "      <td>31</td>\n",
       "      <td>20170608</td>\n",
       "      <td>0</td>\n",
       "      <td>201706</td>\n",
       "      <td>...</td>\n",
       "      <td>0</td>\n",
       "      <td>0</td>\n",
       "      <td>0</td>\n",
       "      <td>0</td>\n",
       "      <td>0</td>\n",
       "      <td>0</td>\n",
       "      <td>0</td>\n",
       "      <td>1</td>\n",
       "      <td>0</td>\n",
       "      <td>0</td>\n",
       "    </tr>\n",
       "    <tr>\n",
       "      <th>765</th>\n",
       "      <td>20170628</td>\n",
       "      <td>20170918</td>\n",
       "      <td>NaN</td>\n",
       "      <td>3950.0</td>\n",
       "      <td>18.000000</td>\n",
       "      <td>0</td>\n",
       "      <td>78</td>\n",
       "      <td>20170610</td>\n",
       "      <td>16</td>\n",
       "      <td>201706</td>\n",
       "      <td>...</td>\n",
       "      <td>0</td>\n",
       "      <td>0</td>\n",
       "      <td>0</td>\n",
       "      <td>0</td>\n",
       "      <td>0</td>\n",
       "      <td>1</td>\n",
       "      <td>0</td>\n",
       "      <td>0</td>\n",
       "      <td>0</td>\n",
       "      <td>0</td>\n",
       "    </tr>\n",
       "    <tr>\n",
       "      <th>766</th>\n",
       "      <td>20170628</td>\n",
       "      <td>20170918</td>\n",
       "      <td>NaN</td>\n",
       "      <td>3950.0</td>\n",
       "      <td>61.000000</td>\n",
       "      <td>0</td>\n",
       "      <td>2</td>\n",
       "      <td>20170428</td>\n",
       "      <td>17</td>\n",
       "      <td>201704</td>\n",
       "      <td>...</td>\n",
       "      <td>0</td>\n",
       "      <td>0</td>\n",
       "      <td>0</td>\n",
       "      <td>1</td>\n",
       "      <td>0</td>\n",
       "      <td>0</td>\n",
       "      <td>0</td>\n",
       "      <td>0</td>\n",
       "      <td>0</td>\n",
       "      <td>0</td>\n",
       "    </tr>\n",
       "    <tr>\n",
       "      <th>767</th>\n",
       "      <td>20170627</td>\n",
       "      <td>20170831</td>\n",
       "      <td>NaN</td>\n",
       "      <td>4500.0</td>\n",
       "      <td>0.000000</td>\n",
       "      <td>14</td>\n",
       "      <td>642</td>\n",
       "      <td>20170627</td>\n",
       "      <td>7</td>\n",
       "      <td>201706</td>\n",
       "      <td>...</td>\n",
       "      <td>0</td>\n",
       "      <td>0</td>\n",
       "      <td>0</td>\n",
       "      <td>0</td>\n",
       "      <td>0</td>\n",
       "      <td>0</td>\n",
       "      <td>0</td>\n",
       "      <td>0</td>\n",
       "      <td>1</td>\n",
       "      <td>0</td>\n",
       "    </tr>\n",
       "    <tr>\n",
       "      <th>768</th>\n",
       "      <td>20170627</td>\n",
       "      <td>20170905</td>\n",
       "      <td>NaN</td>\n",
       "      <td>3950.0</td>\n",
       "      <td>90.000000</td>\n",
       "      <td>0</td>\n",
       "      <td>113</td>\n",
       "      <td>20170329</td>\n",
       "      <td>4</td>\n",
       "      <td>201703</td>\n",
       "      <td>...</td>\n",
       "      <td>0</td>\n",
       "      <td>0</td>\n",
       "      <td>1</td>\n",
       "      <td>0</td>\n",
       "      <td>0</td>\n",
       "      <td>0</td>\n",
       "      <td>0</td>\n",
       "      <td>0</td>\n",
       "      <td>0</td>\n",
       "      <td>1</td>\n",
       "    </tr>\n",
       "    <tr>\n",
       "      <th>769</th>\n",
       "      <td>20170627</td>\n",
       "      <td>20170905</td>\n",
       "      <td>NaN</td>\n",
       "      <td>3950.0</td>\n",
       "      <td>23.801682</td>\n",
       "      <td>7</td>\n",
       "      <td>66</td>\n",
       "      <td>20170622</td>\n",
       "      <td>22</td>\n",
       "      <td>201706</td>\n",
       "      <td>...</td>\n",
       "      <td>0</td>\n",
       "      <td>0</td>\n",
       "      <td>0</td>\n",
       "      <td>0</td>\n",
       "      <td>0</td>\n",
       "      <td>0</td>\n",
       "      <td>0</td>\n",
       "      <td>1</td>\n",
       "      <td>0</td>\n",
       "      <td>0</td>\n",
       "    </tr>\n",
       "    <tr>\n",
       "      <th>771</th>\n",
       "      <td>20170627</td>\n",
       "      <td>20170831</td>\n",
       "      <td>NaN</td>\n",
       "      <td>3000.0</td>\n",
       "      <td>61.000000</td>\n",
       "      <td>0</td>\n",
       "      <td>85</td>\n",
       "      <td>20170427</td>\n",
       "      <td>15</td>\n",
       "      <td>201704</td>\n",
       "      <td>...</td>\n",
       "      <td>0</td>\n",
       "      <td>0</td>\n",
       "      <td>0</td>\n",
       "      <td>0</td>\n",
       "      <td>0</td>\n",
       "      <td>0</td>\n",
       "      <td>0</td>\n",
       "      <td>1</td>\n",
       "      <td>0</td>\n",
       "      <td>0</td>\n",
       "    </tr>\n",
       "    <tr>\n",
       "      <th>772</th>\n",
       "      <td>20170627</td>\n",
       "      <td>20170905</td>\n",
       "      <td>NaN</td>\n",
       "      <td>3950.0</td>\n",
       "      <td>19.000000</td>\n",
       "      <td>0</td>\n",
       "      <td>3</td>\n",
       "      <td>20170609</td>\n",
       "      <td>20</td>\n",
       "      <td>201706</td>\n",
       "      <td>...</td>\n",
       "      <td>0</td>\n",
       "      <td>0</td>\n",
       "      <td>1</td>\n",
       "      <td>1</td>\n",
       "      <td>0</td>\n",
       "      <td>0</td>\n",
       "      <td>0</td>\n",
       "      <td>0</td>\n",
       "      <td>0</td>\n",
       "      <td>0</td>\n",
       "    </tr>\n",
       "    <tr>\n",
       "      <th>773</th>\n",
       "      <td>20170627</td>\n",
       "      <td>20170831</td>\n",
       "      <td>NaN</td>\n",
       "      <td>3000.0</td>\n",
       "      <td>61.000000</td>\n",
       "      <td>0</td>\n",
       "      <td>56</td>\n",
       "      <td>20170427</td>\n",
       "      <td>17</td>\n",
       "      <td>201704</td>\n",
       "      <td>...</td>\n",
       "      <td>0</td>\n",
       "      <td>0</td>\n",
       "      <td>0</td>\n",
       "      <td>0</td>\n",
       "      <td>0</td>\n",
       "      <td>0</td>\n",
       "      <td>0</td>\n",
       "      <td>1</td>\n",
       "      <td>0</td>\n",
       "      <td>0</td>\n",
       "    </tr>\n",
       "    <tr>\n",
       "      <th>774</th>\n",
       "      <td>20170627</td>\n",
       "      <td>20170905</td>\n",
       "      <td>NaN</td>\n",
       "      <td>3950.0</td>\n",
       "      <td>12.000000</td>\n",
       "      <td>0</td>\n",
       "      <td>0</td>\n",
       "      <td>20170616</td>\n",
       "      <td>21</td>\n",
       "      <td>201706</td>\n",
       "      <td>...</td>\n",
       "      <td>0</td>\n",
       "      <td>0</td>\n",
       "      <td>0</td>\n",
       "      <td>1</td>\n",
       "      <td>0</td>\n",
       "      <td>0</td>\n",
       "      <td>0</td>\n",
       "      <td>0</td>\n",
       "      <td>0</td>\n",
       "      <td>0</td>\n",
       "    </tr>\n",
       "    <tr>\n",
       "      <th>775</th>\n",
       "      <td>20170627</td>\n",
       "      <td>20170905</td>\n",
       "      <td>NaN</td>\n",
       "      <td>3950.0</td>\n",
       "      <td>8.000000</td>\n",
       "      <td>0</td>\n",
       "      <td>6</td>\n",
       "      <td>20170620</td>\n",
       "      <td>8</td>\n",
       "      <td>201706</td>\n",
       "      <td>...</td>\n",
       "      <td>0</td>\n",
       "      <td>0</td>\n",
       "      <td>0</td>\n",
       "      <td>0</td>\n",
       "      <td>0</td>\n",
       "      <td>0</td>\n",
       "      <td>0</td>\n",
       "      <td>0</td>\n",
       "      <td>1</td>\n",
       "      <td>0</td>\n",
       "    </tr>\n",
       "    <tr>\n",
       "      <th>776</th>\n",
       "      <td>20170627</td>\n",
       "      <td>20170905</td>\n",
       "      <td>NaN</td>\n",
       "      <td>3950.0</td>\n",
       "      <td>20.000000</td>\n",
       "      <td>0</td>\n",
       "      <td>20</td>\n",
       "      <td>20170607</td>\n",
       "      <td>21</td>\n",
       "      <td>201706</td>\n",
       "      <td>...</td>\n",
       "      <td>0</td>\n",
       "      <td>0</td>\n",
       "      <td>1</td>\n",
       "      <td>0</td>\n",
       "      <td>0</td>\n",
       "      <td>0</td>\n",
       "      <td>0</td>\n",
       "      <td>0</td>\n",
       "      <td>0</td>\n",
       "      <td>1</td>\n",
       "    </tr>\n",
       "    <tr>\n",
       "      <th>777</th>\n",
       "      <td>20170627</td>\n",
       "      <td>20170905</td>\n",
       "      <td>NaN</td>\n",
       "      <td>3950.0</td>\n",
       "      <td>14.000000</td>\n",
       "      <td>0</td>\n",
       "      <td>12</td>\n",
       "      <td>20170614</td>\n",
       "      <td>20</td>\n",
       "      <td>201706</td>\n",
       "      <td>...</td>\n",
       "      <td>0</td>\n",
       "      <td>0</td>\n",
       "      <td>0</td>\n",
       "      <td>0</td>\n",
       "      <td>0</td>\n",
       "      <td>0</td>\n",
       "      <td>0</td>\n",
       "      <td>0</td>\n",
       "      <td>0</td>\n",
       "      <td>1</td>\n",
       "    </tr>\n",
       "    <tr>\n",
       "      <th>779</th>\n",
       "      <td>20170627</td>\n",
       "      <td>20170905</td>\n",
       "      <td>NaN</td>\n",
       "      <td>3950.0</td>\n",
       "      <td>46.000000</td>\n",
       "      <td>0</td>\n",
       "      <td>7</td>\n",
       "      <td>20170512</td>\n",
       "      <td>22</td>\n",
       "      <td>201705</td>\n",
       "      <td>...</td>\n",
       "      <td>0</td>\n",
       "      <td>0</td>\n",
       "      <td>0</td>\n",
       "      <td>1</td>\n",
       "      <td>0</td>\n",
       "      <td>0</td>\n",
       "      <td>0</td>\n",
       "      <td>0</td>\n",
       "      <td>0</td>\n",
       "      <td>0</td>\n",
       "    </tr>\n",
       "    <tr>\n",
       "      <th>780</th>\n",
       "      <td>20170627</td>\n",
       "      <td>20170905</td>\n",
       "      <td>NaN</td>\n",
       "      <td>3950.0</td>\n",
       "      <td>23.801682</td>\n",
       "      <td>7</td>\n",
       "      <td>29</td>\n",
       "      <td>20170531</td>\n",
       "      <td>20</td>\n",
       "      <td>201705</td>\n",
       "      <td>...</td>\n",
       "      <td>0</td>\n",
       "      <td>0</td>\n",
       "      <td>1</td>\n",
       "      <td>0</td>\n",
       "      <td>0</td>\n",
       "      <td>0</td>\n",
       "      <td>0</td>\n",
       "      <td>0</td>\n",
       "      <td>0</td>\n",
       "      <td>1</td>\n",
       "    </tr>\n",
       "    <tr>\n",
       "      <th>781</th>\n",
       "      <td>20170627</td>\n",
       "      <td>20170905</td>\n",
       "      <td>NaN</td>\n",
       "      <td>3950.0</td>\n",
       "      <td>21.000000</td>\n",
       "      <td>0</td>\n",
       "      <td>19</td>\n",
       "      <td>20170606</td>\n",
       "      <td>22</td>\n",
       "      <td>201706</td>\n",
       "      <td>...</td>\n",
       "      <td>0</td>\n",
       "      <td>0</td>\n",
       "      <td>0</td>\n",
       "      <td>0</td>\n",
       "      <td>0</td>\n",
       "      <td>0</td>\n",
       "      <td>0</td>\n",
       "      <td>0</td>\n",
       "      <td>1</td>\n",
       "      <td>0</td>\n",
       "    </tr>\n",
       "    <tr>\n",
       "      <th>782</th>\n",
       "      <td>20170627</td>\n",
       "      <td>20170905</td>\n",
       "      <td>NaN</td>\n",
       "      <td>3950.0</td>\n",
       "      <td>61.000000</td>\n",
       "      <td>0</td>\n",
       "      <td>162</td>\n",
       "      <td>20170427</td>\n",
       "      <td>3</td>\n",
       "      <td>201704</td>\n",
       "      <td>...</td>\n",
       "      <td>0</td>\n",
       "      <td>0</td>\n",
       "      <td>0</td>\n",
       "      <td>0</td>\n",
       "      <td>0</td>\n",
       "      <td>0</td>\n",
       "      <td>0</td>\n",
       "      <td>1</td>\n",
       "      <td>0</td>\n",
       "      <td>0</td>\n",
       "    </tr>\n",
       "    <tr>\n",
       "      <th>783</th>\n",
       "      <td>20170627</td>\n",
       "      <td>20170905</td>\n",
       "      <td>NaN</td>\n",
       "      <td>3950.0</td>\n",
       "      <td>47.000000</td>\n",
       "      <td>7</td>\n",
       "      <td>11</td>\n",
       "      <td>20170511</td>\n",
       "      <td>0</td>\n",
       "      <td>201705</td>\n",
       "      <td>...</td>\n",
       "      <td>0</td>\n",
       "      <td>0</td>\n",
       "      <td>0</td>\n",
       "      <td>0</td>\n",
       "      <td>0</td>\n",
       "      <td>0</td>\n",
       "      <td>0</td>\n",
       "      <td>1</td>\n",
       "      <td>0</td>\n",
       "      <td>0</td>\n",
       "    </tr>\n",
       "    <tr>\n",
       "      <th>784</th>\n",
       "      <td>20170627</td>\n",
       "      <td>20170905</td>\n",
       "      <td>NaN</td>\n",
       "      <td>3950.0</td>\n",
       "      <td>7.000000</td>\n",
       "      <td>0</td>\n",
       "      <td>40</td>\n",
       "      <td>20170621</td>\n",
       "      <td>2</td>\n",
       "      <td>201706</td>\n",
       "      <td>...</td>\n",
       "      <td>0</td>\n",
       "      <td>0</td>\n",
       "      <td>0</td>\n",
       "      <td>0</td>\n",
       "      <td>0</td>\n",
       "      <td>0</td>\n",
       "      <td>0</td>\n",
       "      <td>0</td>\n",
       "      <td>0</td>\n",
       "      <td>1</td>\n",
       "    </tr>\n",
       "    <tr>\n",
       "      <th>786</th>\n",
       "      <td>20170627</td>\n",
       "      <td>20170905</td>\n",
       "      <td>NaN</td>\n",
       "      <td>3950.0</td>\n",
       "      <td>41.000000</td>\n",
       "      <td>0</td>\n",
       "      <td>7</td>\n",
       "      <td>20170517</td>\n",
       "      <td>15</td>\n",
       "      <td>201705</td>\n",
       "      <td>...</td>\n",
       "      <td>0</td>\n",
       "      <td>0</td>\n",
       "      <td>0</td>\n",
       "      <td>0</td>\n",
       "      <td>0</td>\n",
       "      <td>0</td>\n",
       "      <td>0</td>\n",
       "      <td>0</td>\n",
       "      <td>0</td>\n",
       "      <td>1</td>\n",
       "    </tr>\n",
       "    <tr>\n",
       "      <th>787</th>\n",
       "      <td>20170627</td>\n",
       "      <td>20170905</td>\n",
       "      <td>NaN</td>\n",
       "      <td>3950.0</td>\n",
       "      <td>19.000000</td>\n",
       "      <td>7</td>\n",
       "      <td>6</td>\n",
       "      <td>20170608</td>\n",
       "      <td>16</td>\n",
       "      <td>201706</td>\n",
       "      <td>...</td>\n",
       "      <td>0</td>\n",
       "      <td>0</td>\n",
       "      <td>0</td>\n",
       "      <td>0</td>\n",
       "      <td>0</td>\n",
       "      <td>0</td>\n",
       "      <td>0</td>\n",
       "      <td>1</td>\n",
       "      <td>0</td>\n",
       "      <td>0</td>\n",
       "    </tr>\n",
       "    <tr>\n",
       "      <th>788</th>\n",
       "      <td>20170627</td>\n",
       "      <td>20170905</td>\n",
       "      <td>NaN</td>\n",
       "      <td>3950.0</td>\n",
       "      <td>0.000000</td>\n",
       "      <td>0</td>\n",
       "      <td>1</td>\n",
       "      <td>20170627</td>\n",
       "      <td>2</td>\n",
       "      <td>201706</td>\n",
       "      <td>...</td>\n",
       "      <td>0</td>\n",
       "      <td>0</td>\n",
       "      <td>0</td>\n",
       "      <td>0</td>\n",
       "      <td>0</td>\n",
       "      <td>0</td>\n",
       "      <td>0</td>\n",
       "      <td>0</td>\n",
       "      <td>1</td>\n",
       "      <td>0</td>\n",
       "    </tr>\n",
       "    <tr>\n",
       "      <th>789</th>\n",
       "      <td>20170627</td>\n",
       "      <td>20170831</td>\n",
       "      <td>NaN</td>\n",
       "      <td>3000.0</td>\n",
       "      <td>17.000000</td>\n",
       "      <td>70</td>\n",
       "      <td>95</td>\n",
       "      <td>20170610</td>\n",
       "      <td>15</td>\n",
       "      <td>201706</td>\n",
       "      <td>...</td>\n",
       "      <td>0</td>\n",
       "      <td>0</td>\n",
       "      <td>0</td>\n",
       "      <td>0</td>\n",
       "      <td>0</td>\n",
       "      <td>1</td>\n",
       "      <td>0</td>\n",
       "      <td>0</td>\n",
       "      <td>0</td>\n",
       "      <td>0</td>\n",
       "    </tr>\n",
       "    <tr>\n",
       "      <th>790</th>\n",
       "      <td>20170627</td>\n",
       "      <td>20170907</td>\n",
       "      <td>NaN</td>\n",
       "      <td>3950.0</td>\n",
       "      <td>46.000000</td>\n",
       "      <td>0</td>\n",
       "      <td>240</td>\n",
       "      <td>20170513</td>\n",
       "      <td>22</td>\n",
       "      <td>201705</td>\n",
       "      <td>...</td>\n",
       "      <td>0</td>\n",
       "      <td>0</td>\n",
       "      <td>0</td>\n",
       "      <td>0</td>\n",
       "      <td>0</td>\n",
       "      <td>1</td>\n",
       "      <td>0</td>\n",
       "      <td>0</td>\n",
       "      <td>0</td>\n",
       "      <td>0</td>\n",
       "    </tr>\n",
       "    <tr>\n",
       "      <th>...</th>\n",
       "      <td>...</td>\n",
       "      <td>...</td>\n",
       "      <td>...</td>\n",
       "      <td>...</td>\n",
       "      <td>...</td>\n",
       "      <td>...</td>\n",
       "      <td>...</td>\n",
       "      <td>...</td>\n",
       "      <td>...</td>\n",
       "      <td>...</td>\n",
       "      <td>...</td>\n",
       "      <td>...</td>\n",
       "      <td>...</td>\n",
       "      <td>...</td>\n",
       "      <td>...</td>\n",
       "      <td>...</td>\n",
       "      <td>...</td>\n",
       "      <td>...</td>\n",
       "      <td>...</td>\n",
       "      <td>...</td>\n",
       "      <td>...</td>\n",
       "    </tr>\n",
       "    <tr>\n",
       "      <th>43821</th>\n",
       "      <td>20140517</td>\n",
       "      <td>20140719</td>\n",
       "      <td>NaN</td>\n",
       "      <td>3500.0</td>\n",
       "      <td>-65.000000</td>\n",
       "      <td>0</td>\n",
       "      <td>414</td>\n",
       "      <td>20140721</td>\n",
       "      <td>3</td>\n",
       "      <td>201407</td>\n",
       "      <td>...</td>\n",
       "      <td>0</td>\n",
       "      <td>0</td>\n",
       "      <td>0</td>\n",
       "      <td>0</td>\n",
       "      <td>1</td>\n",
       "      <td>0</td>\n",
       "      <td>0</td>\n",
       "      <td>0</td>\n",
       "      <td>0</td>\n",
       "      <td>0</td>\n",
       "    </tr>\n",
       "    <tr>\n",
       "      <th>43886</th>\n",
       "      <td>20140512</td>\n",
       "      <td>20140721</td>\n",
       "      <td>NaN</td>\n",
       "      <td>3500.0</td>\n",
       "      <td>23.801682</td>\n",
       "      <td>1120</td>\n",
       "      <td>1296</td>\n",
       "      <td>20170531</td>\n",
       "      <td>19</td>\n",
       "      <td>201705</td>\n",
       "      <td>...</td>\n",
       "      <td>0</td>\n",
       "      <td>0</td>\n",
       "      <td>0</td>\n",
       "      <td>0</td>\n",
       "      <td>0</td>\n",
       "      <td>0</td>\n",
       "      <td>0</td>\n",
       "      <td>0</td>\n",
       "      <td>0</td>\n",
       "      <td>1</td>\n",
       "    </tr>\n",
       "    <tr>\n",
       "      <th>44135</th>\n",
       "      <td>20140501</td>\n",
       "      <td>20140710</td>\n",
       "      <td>NaN</td>\n",
       "      <td>3500.0</td>\n",
       "      <td>-81.000000</td>\n",
       "      <td>98</td>\n",
       "      <td>102</td>\n",
       "      <td>20140722</td>\n",
       "      <td>20</td>\n",
       "      <td>201407</td>\n",
       "      <td>...</td>\n",
       "      <td>0</td>\n",
       "      <td>0</td>\n",
       "      <td>0</td>\n",
       "      <td>0</td>\n",
       "      <td>0</td>\n",
       "      <td>0</td>\n",
       "      <td>0</td>\n",
       "      <td>0</td>\n",
       "      <td>1</td>\n",
       "      <td>0</td>\n",
       "    </tr>\n",
       "    <tr>\n",
       "      <th>44238</th>\n",
       "      <td>20140428</td>\n",
       "      <td>20140709</td>\n",
       "      <td>NaN</td>\n",
       "      <td>2800.0</td>\n",
       "      <td>-275.000000</td>\n",
       "      <td>287</td>\n",
       "      <td>287</td>\n",
       "      <td>20150128</td>\n",
       "      <td>14</td>\n",
       "      <td>201501</td>\n",
       "      <td>...</td>\n",
       "      <td>0</td>\n",
       "      <td>0</td>\n",
       "      <td>0</td>\n",
       "      <td>0</td>\n",
       "      <td>0</td>\n",
       "      <td>0</td>\n",
       "      <td>0</td>\n",
       "      <td>0</td>\n",
       "      <td>0</td>\n",
       "      <td>1</td>\n",
       "    </tr>\n",
       "    <tr>\n",
       "      <th>44369</th>\n",
       "      <td>20140423</td>\n",
       "      <td>20140721</td>\n",
       "      <td>NaN</td>\n",
       "      <td>4000.0</td>\n",
       "      <td>-96.000000</td>\n",
       "      <td>98</td>\n",
       "      <td>110</td>\n",
       "      <td>20140729</td>\n",
       "      <td>19</td>\n",
       "      <td>201407</td>\n",
       "      <td>...</td>\n",
       "      <td>0</td>\n",
       "      <td>0</td>\n",
       "      <td>0</td>\n",
       "      <td>0</td>\n",
       "      <td>0</td>\n",
       "      <td>0</td>\n",
       "      <td>0</td>\n",
       "      <td>0</td>\n",
       "      <td>1</td>\n",
       "      <td>0</td>\n",
       "    </tr>\n",
       "    <tr>\n",
       "      <th>44575</th>\n",
       "      <td>20140414</td>\n",
       "      <td>20140702</td>\n",
       "      <td>NaN</td>\n",
       "      <td>2800.0</td>\n",
       "      <td>-80.000000</td>\n",
       "      <td>84</td>\n",
       "      <td>85</td>\n",
       "      <td>20140703</td>\n",
       "      <td>14</td>\n",
       "      <td>201407</td>\n",
       "      <td>...</td>\n",
       "      <td>0</td>\n",
       "      <td>0</td>\n",
       "      <td>0</td>\n",
       "      <td>0</td>\n",
       "      <td>0</td>\n",
       "      <td>0</td>\n",
       "      <td>0</td>\n",
       "      <td>1</td>\n",
       "      <td>0</td>\n",
       "      <td>0</td>\n",
       "    </tr>\n",
       "    <tr>\n",
       "      <th>44583</th>\n",
       "      <td>20140414</td>\n",
       "      <td>20140618</td>\n",
       "      <td>NaN</td>\n",
       "      <td>3500.0</td>\n",
       "      <td>-696.000000</td>\n",
       "      <td>707</td>\n",
       "      <td>829</td>\n",
       "      <td>20160311</td>\n",
       "      <td>0</td>\n",
       "      <td>201603</td>\n",
       "      <td>...</td>\n",
       "      <td>0</td>\n",
       "      <td>0</td>\n",
       "      <td>0</td>\n",
       "      <td>1</td>\n",
       "      <td>0</td>\n",
       "      <td>0</td>\n",
       "      <td>0</td>\n",
       "      <td>0</td>\n",
       "      <td>0</td>\n",
       "      <td>0</td>\n",
       "    </tr>\n",
       "    <tr>\n",
       "      <th>44621</th>\n",
       "      <td>20140408</td>\n",
       "      <td>20140624</td>\n",
       "      <td>NaN</td>\n",
       "      <td>3000.0</td>\n",
       "      <td>-91.000000</td>\n",
       "      <td>105</td>\n",
       "      <td>104</td>\n",
       "      <td>20140708</td>\n",
       "      <td>19</td>\n",
       "      <td>201407</td>\n",
       "      <td>...</td>\n",
       "      <td>0</td>\n",
       "      <td>0</td>\n",
       "      <td>0</td>\n",
       "      <td>0</td>\n",
       "      <td>0</td>\n",
       "      <td>0</td>\n",
       "      <td>0</td>\n",
       "      <td>0</td>\n",
       "      <td>1</td>\n",
       "      <td>0</td>\n",
       "    </tr>\n",
       "    <tr>\n",
       "      <th>44628</th>\n",
       "      <td>20140408</td>\n",
       "      <td>20140624</td>\n",
       "      <td>NaN</td>\n",
       "      <td>3000.0</td>\n",
       "      <td>-163.000000</td>\n",
       "      <td>161</td>\n",
       "      <td>164</td>\n",
       "      <td>20140918</td>\n",
       "      <td>8</td>\n",
       "      <td>201409</td>\n",
       "      <td>...</td>\n",
       "      <td>0</td>\n",
       "      <td>0</td>\n",
       "      <td>0</td>\n",
       "      <td>0</td>\n",
       "      <td>0</td>\n",
       "      <td>0</td>\n",
       "      <td>0</td>\n",
       "      <td>1</td>\n",
       "      <td>0</td>\n",
       "      <td>0</td>\n",
       "    </tr>\n",
       "    <tr>\n",
       "      <th>44639</th>\n",
       "      <td>20140408</td>\n",
       "      <td>20140624</td>\n",
       "      <td>NaN</td>\n",
       "      <td>3000.0</td>\n",
       "      <td>-91.000000</td>\n",
       "      <td>105</td>\n",
       "      <td>110</td>\n",
       "      <td>20140708</td>\n",
       "      <td>19</td>\n",
       "      <td>201407</td>\n",
       "      <td>...</td>\n",
       "      <td>0</td>\n",
       "      <td>0</td>\n",
       "      <td>0</td>\n",
       "      <td>0</td>\n",
       "      <td>0</td>\n",
       "      <td>0</td>\n",
       "      <td>0</td>\n",
       "      <td>0</td>\n",
       "      <td>1</td>\n",
       "      <td>0</td>\n",
       "    </tr>\n",
       "    <tr>\n",
       "      <th>44642</th>\n",
       "      <td>20140408</td>\n",
       "      <td>20140624</td>\n",
       "      <td>NaN</td>\n",
       "      <td>3000.0</td>\n",
       "      <td>-91.000000</td>\n",
       "      <td>105</td>\n",
       "      <td>104</td>\n",
       "      <td>20140708</td>\n",
       "      <td>19</td>\n",
       "      <td>201407</td>\n",
       "      <td>...</td>\n",
       "      <td>0</td>\n",
       "      <td>0</td>\n",
       "      <td>0</td>\n",
       "      <td>0</td>\n",
       "      <td>0</td>\n",
       "      <td>0</td>\n",
       "      <td>0</td>\n",
       "      <td>0</td>\n",
       "      <td>1</td>\n",
       "      <td>0</td>\n",
       "    </tr>\n",
       "    <tr>\n",
       "      <th>44681</th>\n",
       "      <td>20140405</td>\n",
       "      <td>20140628</td>\n",
       "      <td>NaN</td>\n",
       "      <td>4000.0</td>\n",
       "      <td>-638.000000</td>\n",
       "      <td>630</td>\n",
       "      <td>632</td>\n",
       "      <td>20160103</td>\n",
       "      <td>21</td>\n",
       "      <td>201601</td>\n",
       "      <td>...</td>\n",
       "      <td>0</td>\n",
       "      <td>0</td>\n",
       "      <td>0</td>\n",
       "      <td>0</td>\n",
       "      <td>0</td>\n",
       "      <td>0</td>\n",
       "      <td>1</td>\n",
       "      <td>0</td>\n",
       "      <td>0</td>\n",
       "      <td>0</td>\n",
       "    </tr>\n",
       "    <tr>\n",
       "      <th>44787</th>\n",
       "      <td>20140331</td>\n",
       "      <td>20140627</td>\n",
       "      <td>NaN</td>\n",
       "      <td>11500.0</td>\n",
       "      <td>-155.000000</td>\n",
       "      <td>126</td>\n",
       "      <td>126</td>\n",
       "      <td>20140902</td>\n",
       "      <td>21</td>\n",
       "      <td>201409</td>\n",
       "      <td>...</td>\n",
       "      <td>0</td>\n",
       "      <td>0</td>\n",
       "      <td>0</td>\n",
       "      <td>0</td>\n",
       "      <td>0</td>\n",
       "      <td>0</td>\n",
       "      <td>0</td>\n",
       "      <td>0</td>\n",
       "      <td>1</td>\n",
       "      <td>0</td>\n",
       "    </tr>\n",
       "    <tr>\n",
       "      <th>44942</th>\n",
       "      <td>20140324</td>\n",
       "      <td>20140609</td>\n",
       "      <td>NaN</td>\n",
       "      <td>2800.0</td>\n",
       "      <td>-164.000000</td>\n",
       "      <td>182</td>\n",
       "      <td>181</td>\n",
       "      <td>20140904</td>\n",
       "      <td>21</td>\n",
       "      <td>201409</td>\n",
       "      <td>...</td>\n",
       "      <td>0</td>\n",
       "      <td>0</td>\n",
       "      <td>0</td>\n",
       "      <td>0</td>\n",
       "      <td>0</td>\n",
       "      <td>0</td>\n",
       "      <td>0</td>\n",
       "      <td>1</td>\n",
       "      <td>0</td>\n",
       "      <td>0</td>\n",
       "    </tr>\n",
       "    <tr>\n",
       "      <th>44949</th>\n",
       "      <td>20140324</td>\n",
       "      <td>20140609</td>\n",
       "      <td>NaN</td>\n",
       "      <td>2800.0</td>\n",
       "      <td>-106.000000</td>\n",
       "      <td>119</td>\n",
       "      <td>116</td>\n",
       "      <td>20140708</td>\n",
       "      <td>12</td>\n",
       "      <td>201407</td>\n",
       "      <td>...</td>\n",
       "      <td>0</td>\n",
       "      <td>0</td>\n",
       "      <td>0</td>\n",
       "      <td>0</td>\n",
       "      <td>0</td>\n",
       "      <td>0</td>\n",
       "      <td>0</td>\n",
       "      <td>0</td>\n",
       "      <td>1</td>\n",
       "      <td>0</td>\n",
       "    </tr>\n",
       "    <tr>\n",
       "      <th>45054</th>\n",
       "      <td>20140317</td>\n",
       "      <td>20140521</td>\n",
       "      <td>NaN</td>\n",
       "      <td>3500.0</td>\n",
       "      <td>23.801682</td>\n",
       "      <td>728</td>\n",
       "      <td>829</td>\n",
       "      <td>20160311</td>\n",
       "      <td>0</td>\n",
       "      <td>201603</td>\n",
       "      <td>...</td>\n",
       "      <td>0</td>\n",
       "      <td>0</td>\n",
       "      <td>0</td>\n",
       "      <td>1</td>\n",
       "      <td>0</td>\n",
       "      <td>0</td>\n",
       "      <td>0</td>\n",
       "      <td>0</td>\n",
       "      <td>0</td>\n",
       "      <td>0</td>\n",
       "    </tr>\n",
       "    <tr>\n",
       "      <th>45726</th>\n",
       "      <td>20140218</td>\n",
       "      <td>20140424</td>\n",
       "      <td>NaN</td>\n",
       "      <td>2800.0</td>\n",
       "      <td>-423.000000</td>\n",
       "      <td>434</td>\n",
       "      <td>466</td>\n",
       "      <td>20150417</td>\n",
       "      <td>12</td>\n",
       "      <td>201504</td>\n",
       "      <td>...</td>\n",
       "      <td>0</td>\n",
       "      <td>0</td>\n",
       "      <td>0</td>\n",
       "      <td>1</td>\n",
       "      <td>0</td>\n",
       "      <td>0</td>\n",
       "      <td>0</td>\n",
       "      <td>0</td>\n",
       "      <td>0</td>\n",
       "      <td>0</td>\n",
       "    </tr>\n",
       "    <tr>\n",
       "      <th>46044</th>\n",
       "      <td>20140128</td>\n",
       "      <td>20140403</td>\n",
       "      <td>NaN</td>\n",
       "      <td>3500.0</td>\n",
       "      <td>-705.000000</td>\n",
       "      <td>672</td>\n",
       "      <td>710</td>\n",
       "      <td>20160103</td>\n",
       "      <td>21</td>\n",
       "      <td>201601</td>\n",
       "      <td>...</td>\n",
       "      <td>0</td>\n",
       "      <td>0</td>\n",
       "      <td>0</td>\n",
       "      <td>0</td>\n",
       "      <td>0</td>\n",
       "      <td>0</td>\n",
       "      <td>1</td>\n",
       "      <td>0</td>\n",
       "      <td>0</td>\n",
       "      <td>0</td>\n",
       "    </tr>\n",
       "    <tr>\n",
       "      <th>46472</th>\n",
       "      <td>20131221</td>\n",
       "      <td>20140308</td>\n",
       "      <td>NaN</td>\n",
       "      <td>2800.0</td>\n",
       "      <td>-196.000000</td>\n",
       "      <td>231</td>\n",
       "      <td>234</td>\n",
       "      <td>20140705</td>\n",
       "      <td>9</td>\n",
       "      <td>201407</td>\n",
       "      <td>...</td>\n",
       "      <td>0</td>\n",
       "      <td>0</td>\n",
       "      <td>0</td>\n",
       "      <td>0</td>\n",
       "      <td>0</td>\n",
       "      <td>1</td>\n",
       "      <td>0</td>\n",
       "      <td>0</td>\n",
       "      <td>0</td>\n",
       "      <td>0</td>\n",
       "    </tr>\n",
       "    <tr>\n",
       "      <th>46526</th>\n",
       "      <td>20131218</td>\n",
       "      <td>20140319</td>\n",
       "      <td>NaN</td>\n",
       "      <td>3500.0</td>\n",
       "      <td>23.801682</td>\n",
       "      <td>1288</td>\n",
       "      <td>1296</td>\n",
       "      <td>20170531</td>\n",
       "      <td>19</td>\n",
       "      <td>201705</td>\n",
       "      <td>...</td>\n",
       "      <td>0</td>\n",
       "      <td>0</td>\n",
       "      <td>0</td>\n",
       "      <td>0</td>\n",
       "      <td>0</td>\n",
       "      <td>0</td>\n",
       "      <td>0</td>\n",
       "      <td>0</td>\n",
       "      <td>0</td>\n",
       "      <td>1</td>\n",
       "    </tr>\n",
       "    <tr>\n",
       "      <th>46615</th>\n",
       "      <td>20131216</td>\n",
       "      <td>20140305</td>\n",
       "      <td>NaN</td>\n",
       "      <td>2800.0</td>\n",
       "      <td>-206.000000</td>\n",
       "      <td>217</td>\n",
       "      <td>317</td>\n",
       "      <td>20140710</td>\n",
       "      <td>10</td>\n",
       "      <td>201407</td>\n",
       "      <td>...</td>\n",
       "      <td>0</td>\n",
       "      <td>0</td>\n",
       "      <td>1</td>\n",
       "      <td>0</td>\n",
       "      <td>0</td>\n",
       "      <td>0</td>\n",
       "      <td>0</td>\n",
       "      <td>1</td>\n",
       "      <td>0</td>\n",
       "      <td>0</td>\n",
       "    </tr>\n",
       "    <tr>\n",
       "      <th>46688</th>\n",
       "      <td>20131210</td>\n",
       "      <td>20140306</td>\n",
       "      <td>NaN</td>\n",
       "      <td>4000.0</td>\n",
       "      <td>-665.000000</td>\n",
       "      <td>0</td>\n",
       "      <td>76</td>\n",
       "      <td>20151007</td>\n",
       "      <td>20</td>\n",
       "      <td>201510</td>\n",
       "      <td>...</td>\n",
       "      <td>0</td>\n",
       "      <td>0</td>\n",
       "      <td>0</td>\n",
       "      <td>0</td>\n",
       "      <td>0</td>\n",
       "      <td>0</td>\n",
       "      <td>0</td>\n",
       "      <td>0</td>\n",
       "      <td>0</td>\n",
       "      <td>1</td>\n",
       "    </tr>\n",
       "    <tr>\n",
       "      <th>47304</th>\n",
       "      <td>20131105</td>\n",
       "      <td>20140123</td>\n",
       "      <td>NaN</td>\n",
       "      <td>2800.0</td>\n",
       "      <td>-538.000000</td>\n",
       "      <td>546</td>\n",
       "      <td>550</td>\n",
       "      <td>20150427</td>\n",
       "      <td>8</td>\n",
       "      <td>201504</td>\n",
       "      <td>...</td>\n",
       "      <td>0</td>\n",
       "      <td>0</td>\n",
       "      <td>0</td>\n",
       "      <td>0</td>\n",
       "      <td>1</td>\n",
       "      <td>0</td>\n",
       "      <td>0</td>\n",
       "      <td>0</td>\n",
       "      <td>0</td>\n",
       "      <td>0</td>\n",
       "    </tr>\n",
       "    <tr>\n",
       "      <th>47310</th>\n",
       "      <td>20131105</td>\n",
       "      <td>20140213</td>\n",
       "      <td>NaN</td>\n",
       "      <td>4000.0</td>\n",
       "      <td>-471.000000</td>\n",
       "      <td>483</td>\n",
       "      <td>483</td>\n",
       "      <td>20150219</td>\n",
       "      <td>22</td>\n",
       "      <td>201502</td>\n",
       "      <td>...</td>\n",
       "      <td>0</td>\n",
       "      <td>0</td>\n",
       "      <td>0</td>\n",
       "      <td>0</td>\n",
       "      <td>0</td>\n",
       "      <td>0</td>\n",
       "      <td>0</td>\n",
       "      <td>1</td>\n",
       "      <td>0</td>\n",
       "      <td>0</td>\n",
       "    </tr>\n",
       "    <tr>\n",
       "      <th>48119</th>\n",
       "      <td>20130910</td>\n",
       "      <td>20131114</td>\n",
       "      <td>NaN</td>\n",
       "      <td>2800.0</td>\n",
       "      <td>-561.000000</td>\n",
       "      <td>560</td>\n",
       "      <td>561</td>\n",
       "      <td>20150325</td>\n",
       "      <td>14</td>\n",
       "      <td>201503</td>\n",
       "      <td>...</td>\n",
       "      <td>0</td>\n",
       "      <td>0</td>\n",
       "      <td>0</td>\n",
       "      <td>0</td>\n",
       "      <td>0</td>\n",
       "      <td>0</td>\n",
       "      <td>0</td>\n",
       "      <td>0</td>\n",
       "      <td>0</td>\n",
       "      <td>1</td>\n",
       "    </tr>\n",
       "    <tr>\n",
       "      <th>48138</th>\n",
       "      <td>20130910</td>\n",
       "      <td>20131114</td>\n",
       "      <td>NaN</td>\n",
       "      <td>3500.0</td>\n",
       "      <td>-694.000000</td>\n",
       "      <td>0</td>\n",
       "      <td>2</td>\n",
       "      <td>20150805</td>\n",
       "      <td>20</td>\n",
       "      <td>201508</td>\n",
       "      <td>...</td>\n",
       "      <td>0</td>\n",
       "      <td>0</td>\n",
       "      <td>0</td>\n",
       "      <td>0</td>\n",
       "      <td>0</td>\n",
       "      <td>0</td>\n",
       "      <td>0</td>\n",
       "      <td>0</td>\n",
       "      <td>0</td>\n",
       "      <td>1</td>\n",
       "    </tr>\n",
       "    <tr>\n",
       "      <th>48319</th>\n",
       "      <td>20130827</td>\n",
       "      <td>20131031</td>\n",
       "      <td>NaN</td>\n",
       "      <td>2800.0</td>\n",
       "      <td>-317.000000</td>\n",
       "      <td>315</td>\n",
       "      <td>317</td>\n",
       "      <td>20140710</td>\n",
       "      <td>10</td>\n",
       "      <td>201407</td>\n",
       "      <td>...</td>\n",
       "      <td>0</td>\n",
       "      <td>0</td>\n",
       "      <td>1</td>\n",
       "      <td>0</td>\n",
       "      <td>0</td>\n",
       "      <td>0</td>\n",
       "      <td>0</td>\n",
       "      <td>1</td>\n",
       "      <td>0</td>\n",
       "      <td>0</td>\n",
       "    </tr>\n",
       "    <tr>\n",
       "      <th>48327</th>\n",
       "      <td>20130827</td>\n",
       "      <td>20131031</td>\n",
       "      <td>NaN</td>\n",
       "      <td>2800.0</td>\n",
       "      <td>-535.000000</td>\n",
       "      <td>539</td>\n",
       "      <td>539</td>\n",
       "      <td>20150213</td>\n",
       "      <td>22</td>\n",
       "      <td>201502</td>\n",
       "      <td>...</td>\n",
       "      <td>0</td>\n",
       "      <td>0</td>\n",
       "      <td>1</td>\n",
       "      <td>1</td>\n",
       "      <td>0</td>\n",
       "      <td>0</td>\n",
       "      <td>0</td>\n",
       "      <td>0</td>\n",
       "      <td>0</td>\n",
       "      <td>0</td>\n",
       "    </tr>\n",
       "    <tr>\n",
       "      <th>48398</th>\n",
       "      <td>20130820</td>\n",
       "      <td>20131107</td>\n",
       "      <td>NaN</td>\n",
       "      <td>2800.0</td>\n",
       "      <td>-329.000000</td>\n",
       "      <td>329</td>\n",
       "      <td>327</td>\n",
       "      <td>20140715</td>\n",
       "      <td>20</td>\n",
       "      <td>201407</td>\n",
       "      <td>...</td>\n",
       "      <td>0</td>\n",
       "      <td>0</td>\n",
       "      <td>0</td>\n",
       "      <td>0</td>\n",
       "      <td>0</td>\n",
       "      <td>0</td>\n",
       "      <td>0</td>\n",
       "      <td>0</td>\n",
       "      <td>1</td>\n",
       "      <td>0</td>\n",
       "    </tr>\n",
       "    <tr>\n",
       "      <th>50149</th>\n",
       "      <td>20130219</td>\n",
       "      <td>20130509</td>\n",
       "      <td>NaN</td>\n",
       "      <td>2400.0</td>\n",
       "      <td>-723.000000</td>\n",
       "      <td>714</td>\n",
       "      <td>714</td>\n",
       "      <td>20150212</td>\n",
       "      <td>23</td>\n",
       "      <td>201502</td>\n",
       "      <td>...</td>\n",
       "      <td>1</td>\n",
       "      <td>0</td>\n",
       "      <td>0</td>\n",
       "      <td>0</td>\n",
       "      <td>0</td>\n",
       "      <td>0</td>\n",
       "      <td>0</td>\n",
       "      <td>1</td>\n",
       "      <td>0</td>\n",
       "      <td>0</td>\n",
       "    </tr>\n",
       "  </tbody>\n",
       "</table>\n",
       "<p>39512 rows × 99 columns</p>\n",
       "</div>"
      ],
      "text/plain": [
       "       Startdate   Enddate  PhoneValid    Price  DaysEnroltoStart  \\\n",
       "758     20170628  20170918         NaN   3950.0         96.000000   \n",
       "759     20170628  20170918         NaN   3950.0          8.000000   \n",
       "760     20170628  20170918         NaN   3950.0          6.000000   \n",
       "761     20170628  20170918         NaN   3950.0         40.000000   \n",
       "762     20170628  20170918         NaN   3950.0         44.000000   \n",
       "763     20170628  20170918         NaN   3950.0         23.801682   \n",
       "764     20170628  20170918         NaN   3950.0         20.000000   \n",
       "765     20170628  20170918         NaN   3950.0         18.000000   \n",
       "766     20170628  20170918         NaN   3950.0         61.000000   \n",
       "767     20170627  20170831         NaN   4500.0          0.000000   \n",
       "768     20170627  20170905         NaN   3950.0         90.000000   \n",
       "769     20170627  20170905         NaN   3950.0         23.801682   \n",
       "771     20170627  20170831         NaN   3000.0         61.000000   \n",
       "772     20170627  20170905         NaN   3950.0         19.000000   \n",
       "773     20170627  20170831         NaN   3000.0         61.000000   \n",
       "774     20170627  20170905         NaN   3950.0         12.000000   \n",
       "775     20170627  20170905         NaN   3950.0          8.000000   \n",
       "776     20170627  20170905         NaN   3950.0         20.000000   \n",
       "777     20170627  20170905         NaN   3950.0         14.000000   \n",
       "779     20170627  20170905         NaN   3950.0         46.000000   \n",
       "780     20170627  20170905         NaN   3950.0         23.801682   \n",
       "781     20170627  20170905         NaN   3950.0         21.000000   \n",
       "782     20170627  20170905         NaN   3950.0         61.000000   \n",
       "783     20170627  20170905         NaN   3950.0         47.000000   \n",
       "784     20170627  20170905         NaN   3950.0          7.000000   \n",
       "786     20170627  20170905         NaN   3950.0         41.000000   \n",
       "787     20170627  20170905         NaN   3950.0         19.000000   \n",
       "788     20170627  20170905         NaN   3950.0          0.000000   \n",
       "789     20170627  20170831         NaN   3000.0         17.000000   \n",
       "790     20170627  20170907         NaN   3950.0         46.000000   \n",
       "...          ...       ...         ...      ...               ...   \n",
       "43821   20140517  20140719         NaN   3500.0        -65.000000   \n",
       "43886   20140512  20140721         NaN   3500.0         23.801682   \n",
       "44135   20140501  20140710         NaN   3500.0        -81.000000   \n",
       "44238   20140428  20140709         NaN   2800.0       -275.000000   \n",
       "44369   20140423  20140721         NaN   4000.0        -96.000000   \n",
       "44575   20140414  20140702         NaN   2800.0        -80.000000   \n",
       "44583   20140414  20140618         NaN   3500.0       -696.000000   \n",
       "44621   20140408  20140624         NaN   3000.0        -91.000000   \n",
       "44628   20140408  20140624         NaN   3000.0       -163.000000   \n",
       "44639   20140408  20140624         NaN   3000.0        -91.000000   \n",
       "44642   20140408  20140624         NaN   3000.0        -91.000000   \n",
       "44681   20140405  20140628         NaN   4000.0       -638.000000   \n",
       "44787   20140331  20140627         NaN  11500.0       -155.000000   \n",
       "44942   20140324  20140609         NaN   2800.0       -164.000000   \n",
       "44949   20140324  20140609         NaN   2800.0       -106.000000   \n",
       "45054   20140317  20140521         NaN   3500.0         23.801682   \n",
       "45726   20140218  20140424         NaN   2800.0       -423.000000   \n",
       "46044   20140128  20140403         NaN   3500.0       -705.000000   \n",
       "46472   20131221  20140308         NaN   2800.0       -196.000000   \n",
       "46526   20131218  20140319         NaN   3500.0         23.801682   \n",
       "46615   20131216  20140305         NaN   2800.0       -206.000000   \n",
       "46688   20131210  20140306         NaN   4000.0       -665.000000   \n",
       "47304   20131105  20140123         NaN   2800.0       -538.000000   \n",
       "47310   20131105  20140213         NaN   4000.0       -471.000000   \n",
       "48119   20130910  20131114         NaN   2800.0       -561.000000   \n",
       "48138   20130910  20131114         NaN   3500.0       -694.000000   \n",
       "48319   20130827  20131031         NaN   2800.0       -317.000000   \n",
       "48327   20130827  20131031         NaN   2800.0       -535.000000   \n",
       "48398   20130820  20131107         NaN   2800.0       -329.000000   \n",
       "50149   20130219  20130509         NaN   2400.0       -723.000000   \n",
       "\n",
       "       DaysInvoicetoEnrol  DaysLeadtoEnroled  EnrolDate  EnrolHour   Month  \\\n",
       "758                     0                 93   20170324         15  201703   \n",
       "759                     0                  1   20170620         17  201706   \n",
       "760                     0                134   20170622         23  201706   \n",
       "761                     7                 16   20170519         23  201705   \n",
       "762                     7                 48   20170515         18  201705   \n",
       "763                     0                 18   20170331         16  201703   \n",
       "764                     7                 31   20170608          0  201706   \n",
       "765                     0                 78   20170610         16  201706   \n",
       "766                     0                  2   20170428         17  201704   \n",
       "767                    14                642   20170627          7  201706   \n",
       "768                     0                113   20170329          4  201703   \n",
       "769                     7                 66   20170622         22  201706   \n",
       "771                     0                 85   20170427         15  201704   \n",
       "772                     0                  3   20170609         20  201706   \n",
       "773                     0                 56   20170427         17  201704   \n",
       "774                     0                  0   20170616         21  201706   \n",
       "775                     0                  6   20170620          8  201706   \n",
       "776                     0                 20   20170607         21  201706   \n",
       "777                     0                 12   20170614         20  201706   \n",
       "779                     0                  7   20170512         22  201705   \n",
       "780                     7                 29   20170531         20  201705   \n",
       "781                     0                 19   20170606         22  201706   \n",
       "782                     0                162   20170427          3  201704   \n",
       "783                     7                 11   20170511          0  201705   \n",
       "784                     0                 40   20170621          2  201706   \n",
       "786                     0                  7   20170517         15  201705   \n",
       "787                     7                  6   20170608         16  201706   \n",
       "788                     0                  1   20170627          2  201706   \n",
       "789                    70                 95   20170610         15  201706   \n",
       "790                     0                240   20170513         22  201705   \n",
       "...                   ...                ...        ...        ...     ...   \n",
       "43821                   0                414   20140721          3  201407   \n",
       "43886                1120               1296   20170531         19  201705   \n",
       "44135                  98                102   20140722         20  201407   \n",
       "44238                 287                287   20150128         14  201501   \n",
       "44369                  98                110   20140729         19  201407   \n",
       "44575                  84                 85   20140703         14  201407   \n",
       "44583                 707                829   20160311          0  201603   \n",
       "44621                 105                104   20140708         19  201407   \n",
       "44628                 161                164   20140918          8  201409   \n",
       "44639                 105                110   20140708         19  201407   \n",
       "44642                 105                104   20140708         19  201407   \n",
       "44681                 630                632   20160103         21  201601   \n",
       "44787                 126                126   20140902         21  201409   \n",
       "44942                 182                181   20140904         21  201409   \n",
       "44949                 119                116   20140708         12  201407   \n",
       "45054                 728                829   20160311          0  201603   \n",
       "45726                 434                466   20150417         12  201504   \n",
       "46044                 672                710   20160103         21  201601   \n",
       "46472                 231                234   20140705          9  201407   \n",
       "46526                1288               1296   20170531         19  201705   \n",
       "46615                 217                317   20140710         10  201407   \n",
       "46688                   0                 76   20151007         20  201510   \n",
       "47304                 546                550   20150427          8  201504   \n",
       "47310                 483                483   20150219         22  201502   \n",
       "48119                 560                561   20150325         14  201503   \n",
       "48138                   0                  2   20150805         20  201508   \n",
       "48319                 315                317   20140710         10  201407   \n",
       "48327                 539                539   20150213         22  201502   \n",
       "48398                 329                327   20140715         20  201407   \n",
       "50149                 714                714   20150212         23  201502   \n",
       "\n",
       "              ...          PardotCategory_Uncategorized  \\\n",
       "758           ...                                     0   \n",
       "759           ...                                     0   \n",
       "760           ...                                     0   \n",
       "761           ...                                     0   \n",
       "762           ...                                     0   \n",
       "763           ...                                     0   \n",
       "764           ...                                     0   \n",
       "765           ...                                     0   \n",
       "766           ...                                     0   \n",
       "767           ...                                     0   \n",
       "768           ...                                     0   \n",
       "769           ...                                     0   \n",
       "771           ...                                     0   \n",
       "772           ...                                     0   \n",
       "773           ...                                     0   \n",
       "774           ...                                     0   \n",
       "775           ...                                     0   \n",
       "776           ...                                     0   \n",
       "777           ...                                     0   \n",
       "779           ...                                     0   \n",
       "780           ...                                     0   \n",
       "781           ...                                     0   \n",
       "782           ...                                     0   \n",
       "783           ...                                     0   \n",
       "784           ...                                     0   \n",
       "786           ...                                     0   \n",
       "787           ...                                     0   \n",
       "788           ...                                     0   \n",
       "789           ...                                     0   \n",
       "790           ...                                     0   \n",
       "...           ...                                   ...   \n",
       "43821         ...                                     0   \n",
       "43886         ...                                     0   \n",
       "44135         ...                                     0   \n",
       "44238         ...                                     0   \n",
       "44369         ...                                     0   \n",
       "44575         ...                                     0   \n",
       "44583         ...                                     0   \n",
       "44621         ...                                     0   \n",
       "44628         ...                                     0   \n",
       "44639         ...                                     0   \n",
       "44642         ...                                     0   \n",
       "44681         ...                                     0   \n",
       "44787         ...                                     0   \n",
       "44942         ...                                     0   \n",
       "44949         ...                                     0   \n",
       "45054         ...                                     0   \n",
       "45726         ...                                     0   \n",
       "46044         ...                                     0   \n",
       "46472         ...                                     0   \n",
       "46526         ...                                     0   \n",
       "46615         ...                                     0   \n",
       "46688         ...                                     0   \n",
       "47304         ...                                     0   \n",
       "47310         ...                                     0   \n",
       "48119         ...                                     0   \n",
       "48138         ...                                     0   \n",
       "48319         ...                                     0   \n",
       "48327         ...                                     0   \n",
       "48398         ...                                     0   \n",
       "50149         ...                                     1   \n",
       "\n",
       "       PardotCategory_Unknown  PardotCategory_Website  EnrolDay_Friday  \\\n",
       "758                         0                       0                1   \n",
       "759                         0                       0                0   \n",
       "760                         0                       0                0   \n",
       "761                         0                       0                1   \n",
       "762                         1                       0                0   \n",
       "763                         0                       0                1   \n",
       "764                         0                       0                0   \n",
       "765                         0                       0                0   \n",
       "766                         0                       0                1   \n",
       "767                         0                       0                0   \n",
       "768                         0                       1                0   \n",
       "769                         0                       0                0   \n",
       "771                         0                       0                0   \n",
       "772                         0                       1                1   \n",
       "773                         0                       0                0   \n",
       "774                         0                       0                1   \n",
       "775                         0                       0                0   \n",
       "776                         0                       1                0   \n",
       "777                         0                       0                0   \n",
       "779                         0                       0                1   \n",
       "780                         0                       1                0   \n",
       "781                         0                       0                0   \n",
       "782                         0                       0                0   \n",
       "783                         0                       0                0   \n",
       "784                         0                       0                0   \n",
       "786                         0                       0                0   \n",
       "787                         0                       0                0   \n",
       "788                         0                       0                0   \n",
       "789                         0                       0                0   \n",
       "790                         0                       0                0   \n",
       "...                       ...                     ...              ...   \n",
       "43821                       0                       0                0   \n",
       "43886                       0                       0                0   \n",
       "44135                       0                       0                0   \n",
       "44238                       0                       0                0   \n",
       "44369                       0                       0                0   \n",
       "44575                       0                       0                0   \n",
       "44583                       0                       0                1   \n",
       "44621                       0                       0                0   \n",
       "44628                       0                       0                0   \n",
       "44639                       0                       0                0   \n",
       "44642                       0                       0                0   \n",
       "44681                       0                       0                0   \n",
       "44787                       0                       0                0   \n",
       "44942                       0                       0                0   \n",
       "44949                       0                       0                0   \n",
       "45054                       0                       0                1   \n",
       "45726                       0                       0                1   \n",
       "46044                       0                       0                0   \n",
       "46472                       0                       0                0   \n",
       "46526                       0                       0                0   \n",
       "46615                       0                       1                0   \n",
       "46688                       0                       0                0   \n",
       "47304                       0                       0                0   \n",
       "47310                       0                       0                0   \n",
       "48119                       0                       0                0   \n",
       "48138                       0                       0                0   \n",
       "48319                       0                       1                0   \n",
       "48327                       0                       1                1   \n",
       "48398                       0                       0                0   \n",
       "50149                       0                       0                0   \n",
       "\n",
       "      EnrolDay_Monday  EnrolDay_Saturday  EnrolDay_Sunday  EnrolDay_Thursday  \\\n",
       "758                 0                  0                0                  0   \n",
       "759                 0                  0                0                  0   \n",
       "760                 0                  0                0                  1   \n",
       "761                 0                  0                0                  0   \n",
       "762                 1                  0                0                  0   \n",
       "763                 0                  0                0                  0   \n",
       "764                 0                  0                0                  1   \n",
       "765                 0                  1                0                  0   \n",
       "766                 0                  0                0                  0   \n",
       "767                 0                  0                0                  0   \n",
       "768                 0                  0                0                  0   \n",
       "769                 0                  0                0                  1   \n",
       "771                 0                  0                0                  1   \n",
       "772                 0                  0                0                  0   \n",
       "773                 0                  0                0                  1   \n",
       "774                 0                  0                0                  0   \n",
       "775                 0                  0                0                  0   \n",
       "776                 0                  0                0                  0   \n",
       "777                 0                  0                0                  0   \n",
       "779                 0                  0                0                  0   \n",
       "780                 0                  0                0                  0   \n",
       "781                 0                  0                0                  0   \n",
       "782                 0                  0                0                  1   \n",
       "783                 0                  0                0                  1   \n",
       "784                 0                  0                0                  0   \n",
       "786                 0                  0                0                  0   \n",
       "787                 0                  0                0                  1   \n",
       "788                 0                  0                0                  0   \n",
       "789                 0                  1                0                  0   \n",
       "790                 0                  1                0                  0   \n",
       "...               ...                ...              ...                ...   \n",
       "43821               1                  0                0                  0   \n",
       "43886               0                  0                0                  0   \n",
       "44135               0                  0                0                  0   \n",
       "44238               0                  0                0                  0   \n",
       "44369               0                  0                0                  0   \n",
       "44575               0                  0                0                  1   \n",
       "44583               0                  0                0                  0   \n",
       "44621               0                  0                0                  0   \n",
       "44628               0                  0                0                  1   \n",
       "44639               0                  0                0                  0   \n",
       "44642               0                  0                0                  0   \n",
       "44681               0                  0                1                  0   \n",
       "44787               0                  0                0                  0   \n",
       "44942               0                  0                0                  1   \n",
       "44949               0                  0                0                  0   \n",
       "45054               0                  0                0                  0   \n",
       "45726               0                  0                0                  0   \n",
       "46044               0                  0                1                  0   \n",
       "46472               0                  1                0                  0   \n",
       "46526               0                  0                0                  0   \n",
       "46615               0                  0                0                  1   \n",
       "46688               0                  0                0                  0   \n",
       "47304               1                  0                0                  0   \n",
       "47310               0                  0                0                  1   \n",
       "48119               0                  0                0                  0   \n",
       "48138               0                  0                0                  0   \n",
       "48319               0                  0                0                  1   \n",
       "48327               0                  0                0                  0   \n",
       "48398               0                  0                0                  0   \n",
       "50149               0                  0                0                  1   \n",
       "\n",
       "       EnrolDay_Tuesday  EnrolDay_Wednesday  \n",
       "758                   0                   0  \n",
       "759                   1                   0  \n",
       "760                   0                   0  \n",
       "761                   0                   0  \n",
       "762                   0                   0  \n",
       "763                   0                   0  \n",
       "764                   0                   0  \n",
       "765                   0                   0  \n",
       "766                   0                   0  \n",
       "767                   1                   0  \n",
       "768                   0                   1  \n",
       "769                   0                   0  \n",
       "771                   0                   0  \n",
       "772                   0                   0  \n",
       "773                   0                   0  \n",
       "774                   0                   0  \n",
       "775                   1                   0  \n",
       "776                   0                   1  \n",
       "777                   0                   1  \n",
       "779                   0                   0  \n",
       "780                   0                   1  \n",
       "781                   1                   0  \n",
       "782                   0                   0  \n",
       "783                   0                   0  \n",
       "784                   0                   1  \n",
       "786                   0                   1  \n",
       "787                   0                   0  \n",
       "788                   1                   0  \n",
       "789                   0                   0  \n",
       "790                   0                   0  \n",
       "...                 ...                 ...  \n",
       "43821                 0                   0  \n",
       "43886                 0                   1  \n",
       "44135                 1                   0  \n",
       "44238                 0                   1  \n",
       "44369                 1                   0  \n",
       "44575                 0                   0  \n",
       "44583                 0                   0  \n",
       "44621                 1                   0  \n",
       "44628                 0                   0  \n",
       "44639                 1                   0  \n",
       "44642                 1                   0  \n",
       "44681                 0                   0  \n",
       "44787                 1                   0  \n",
       "44942                 0                   0  \n",
       "44949                 1                   0  \n",
       "45054                 0                   0  \n",
       "45726                 0                   0  \n",
       "46044                 0                   0  \n",
       "46472                 0                   0  \n",
       "46526                 0                   1  \n",
       "46615                 0                   0  \n",
       "46688                 0                   1  \n",
       "47304                 0                   0  \n",
       "47310                 0                   0  \n",
       "48119                 0                   1  \n",
       "48138                 0                   1  \n",
       "48319                 0                   0  \n",
       "48327                 0                   0  \n",
       "48398                 1                   0  \n",
       "50149                 0                   0  \n",
       "\n",
       "[39512 rows x 99 columns]"
      ]
     },
     "execution_count": 68,
     "metadata": {},
     "output_type": "execute_result"
    }
   ],
   "source": [
    "from sklearn import tree\n",
    "from sklearn.cross_validation import train_test_split\n",
    "from sklearn import metrics\n",
    "import matplotlib.pyplot as plt\n",
    "\n",
    "%matplotlib inline\n",
    "\n",
    "cancelled = treesubset['Cancelled']\n",
    "del treesubset['Cancelled']\n",
    "treesubset"
   ]
  },
  {
   "cell_type": "code",
   "execution_count": 69,
   "metadata": {
    "collapsed": false
   },
   "outputs": [
    {
     "ename": "ValueError",
     "evalue": "Input contains NaN, infinity or a value too large for dtype('float32').",
     "output_type": "error",
     "traceback": [
      "\u001b[0;31m---------------------------------------------------------------------------\u001b[0m",
      "\u001b[0;31mValueError\u001b[0m                                Traceback (most recent call last)",
      "\u001b[0;32m<ipython-input-69-9fa0cb8c807f>\u001b[0m in \u001b[0;36m<module>\u001b[0;34m()\u001b[0m\n\u001b[1;32m      2\u001b[0m \u001b[0mctree\u001b[0m \u001b[0;34m=\u001b[0m \u001b[0mtree\u001b[0m\u001b[0;34m.\u001b[0m\u001b[0mDecisionTreeClassifier\u001b[0m\u001b[0;34m(\u001b[0m\u001b[0mrandom_state\u001b[0m\u001b[0;34m=\u001b[0m\u001b[0;36m1\u001b[0m\u001b[0;34m,\u001b[0m \u001b[0mmax_depth\u001b[0m\u001b[0;34m=\u001b[0m\u001b[0;36m2\u001b[0m\u001b[0;34m)\u001b[0m\u001b[0;34m\u001b[0m\u001b[0m\n\u001b[1;32m      3\u001b[0m \u001b[0;31m# Fit the decision tree classifier\u001b[0m\u001b[0;34m\u001b[0m\u001b[0;34m\u001b[0m\u001b[0m\n\u001b[0;32m----> 4\u001b[0;31m \u001b[0mctree\u001b[0m\u001b[0;34m.\u001b[0m\u001b[0mfit\u001b[0m\u001b[0;34m(\u001b[0m\u001b[0mX_train\u001b[0m\u001b[0;34m,\u001b[0m \u001b[0my_train\u001b[0m\u001b[0;34m)\u001b[0m\u001b[0;34m\u001b[0m\u001b[0m\n\u001b[0m\u001b[1;32m      5\u001b[0m \u001b[0;31m# Create a feature vector\u001b[0m\u001b[0;34m\u001b[0m\u001b[0;34m\u001b[0m\u001b[0m\n\u001b[1;32m      6\u001b[0m \u001b[0mfeatures\u001b[0m \u001b[0;34m=\u001b[0m \u001b[0mtreesubset\u001b[0m\u001b[0;34m.\u001b[0m\u001b[0mcolumns\u001b[0m\u001b[0;34m.\u001b[0m\u001b[0mtolist\u001b[0m\u001b[0;34m(\u001b[0m\u001b[0;34m)\u001b[0m\u001b[0;34m\u001b[0m\u001b[0m\n",
      "\u001b[0;32m/anaconda/lib/python3.6/site-packages/sklearn/tree/tree.py\u001b[0m in \u001b[0;36mfit\u001b[0;34m(self, X, y, sample_weight, check_input, X_idx_sorted)\u001b[0m\n\u001b[1;32m    737\u001b[0m             \u001b[0msample_weight\u001b[0m\u001b[0;34m=\u001b[0m\u001b[0msample_weight\u001b[0m\u001b[0;34m,\u001b[0m\u001b[0;34m\u001b[0m\u001b[0m\n\u001b[1;32m    738\u001b[0m             \u001b[0mcheck_input\u001b[0m\u001b[0;34m=\u001b[0m\u001b[0mcheck_input\u001b[0m\u001b[0;34m,\u001b[0m\u001b[0;34m\u001b[0m\u001b[0m\n\u001b[0;32m--> 739\u001b[0;31m             X_idx_sorted=X_idx_sorted)\n\u001b[0m\u001b[1;32m    740\u001b[0m         \u001b[0;32mreturn\u001b[0m \u001b[0mself\u001b[0m\u001b[0;34m\u001b[0m\u001b[0m\n\u001b[1;32m    741\u001b[0m \u001b[0;34m\u001b[0m\u001b[0m\n",
      "\u001b[0;32m/anaconda/lib/python3.6/site-packages/sklearn/tree/tree.py\u001b[0m in \u001b[0;36mfit\u001b[0;34m(self, X, y, sample_weight, check_input, X_idx_sorted)\u001b[0m\n\u001b[1;32m    120\u001b[0m         \u001b[0mrandom_state\u001b[0m \u001b[0;34m=\u001b[0m \u001b[0mcheck_random_state\u001b[0m\u001b[0;34m(\u001b[0m\u001b[0mself\u001b[0m\u001b[0;34m.\u001b[0m\u001b[0mrandom_state\u001b[0m\u001b[0;34m)\u001b[0m\u001b[0;34m\u001b[0m\u001b[0m\n\u001b[1;32m    121\u001b[0m         \u001b[0;32mif\u001b[0m \u001b[0mcheck_input\u001b[0m\u001b[0;34m:\u001b[0m\u001b[0;34m\u001b[0m\u001b[0m\n\u001b[0;32m--> 122\u001b[0;31m             \u001b[0mX\u001b[0m \u001b[0;34m=\u001b[0m \u001b[0mcheck_array\u001b[0m\u001b[0;34m(\u001b[0m\u001b[0mX\u001b[0m\u001b[0;34m,\u001b[0m \u001b[0mdtype\u001b[0m\u001b[0;34m=\u001b[0m\u001b[0mDTYPE\u001b[0m\u001b[0;34m,\u001b[0m \u001b[0maccept_sparse\u001b[0m\u001b[0;34m=\u001b[0m\u001b[0;34m\"csc\"\u001b[0m\u001b[0;34m)\u001b[0m\u001b[0;34m\u001b[0m\u001b[0m\n\u001b[0m\u001b[1;32m    123\u001b[0m             \u001b[0my\u001b[0m \u001b[0;34m=\u001b[0m \u001b[0mcheck_array\u001b[0m\u001b[0;34m(\u001b[0m\u001b[0my\u001b[0m\u001b[0;34m,\u001b[0m \u001b[0mensure_2d\u001b[0m\u001b[0;34m=\u001b[0m\u001b[0;32mFalse\u001b[0m\u001b[0;34m,\u001b[0m \u001b[0mdtype\u001b[0m\u001b[0;34m=\u001b[0m\u001b[0;32mNone\u001b[0m\u001b[0;34m)\u001b[0m\u001b[0;34m\u001b[0m\u001b[0m\n\u001b[1;32m    124\u001b[0m             \u001b[0;32mif\u001b[0m \u001b[0missparse\u001b[0m\u001b[0;34m(\u001b[0m\u001b[0mX\u001b[0m\u001b[0;34m)\u001b[0m\u001b[0;34m:\u001b[0m\u001b[0;34m\u001b[0m\u001b[0m\n",
      "\u001b[0;32m/anaconda/lib/python3.6/site-packages/sklearn/utils/validation.py\u001b[0m in \u001b[0;36mcheck_array\u001b[0;34m(array, accept_sparse, dtype, order, copy, force_all_finite, ensure_2d, allow_nd, ensure_min_samples, ensure_min_features, warn_on_dtype, estimator)\u001b[0m\n\u001b[1;32m    405\u001b[0m                              % (array.ndim, estimator_name))\n\u001b[1;32m    406\u001b[0m         \u001b[0;32mif\u001b[0m \u001b[0mforce_all_finite\u001b[0m\u001b[0;34m:\u001b[0m\u001b[0;34m\u001b[0m\u001b[0m\n\u001b[0;32m--> 407\u001b[0;31m             \u001b[0m_assert_all_finite\u001b[0m\u001b[0;34m(\u001b[0m\u001b[0marray\u001b[0m\u001b[0;34m)\u001b[0m\u001b[0;34m\u001b[0m\u001b[0m\n\u001b[0m\u001b[1;32m    408\u001b[0m \u001b[0;34m\u001b[0m\u001b[0m\n\u001b[1;32m    409\u001b[0m     \u001b[0mshape_repr\u001b[0m \u001b[0;34m=\u001b[0m \u001b[0m_shape_repr\u001b[0m\u001b[0;34m(\u001b[0m\u001b[0marray\u001b[0m\u001b[0;34m.\u001b[0m\u001b[0mshape\u001b[0m\u001b[0;34m)\u001b[0m\u001b[0;34m\u001b[0m\u001b[0m\n",
      "\u001b[0;32m/anaconda/lib/python3.6/site-packages/sklearn/utils/validation.py\u001b[0m in \u001b[0;36m_assert_all_finite\u001b[0;34m(X)\u001b[0m\n\u001b[1;32m     56\u001b[0m             and not np.isfinite(X).all()):\n\u001b[1;32m     57\u001b[0m         raise ValueError(\"Input contains NaN, infinity\"\n\u001b[0;32m---> 58\u001b[0;31m                          \" or a value too large for %r.\" % X.dtype)\n\u001b[0m\u001b[1;32m     59\u001b[0m \u001b[0;34m\u001b[0m\u001b[0m\n\u001b[1;32m     60\u001b[0m \u001b[0;34m\u001b[0m\u001b[0m\n",
      "\u001b[0;31mValueError\u001b[0m: Input contains NaN, infinity or a value too large for dtype('float32')."
     ]
    }
   ],
   "source": [
    "X_train, X_test, y_train, y_test = train_test_split(treesubset, cancelled, random_state=1)\n",
    "ctree = tree.DecisionTreeClassifier(random_state=1, max_depth=2)\n",
    "# Fit the decision tree classifier\n",
    "ctree.fit(X_train, y_train)\n",
    "# Create a feature vector\n",
    "features = treesubset.columns.tolist()\n",
    "features"
   ]
  },
  {
   "cell_type": "code",
   "execution_count": null,
   "metadata": {
    "collapsed": false
   },
   "outputs": [],
   "source": [
    "from io import StringIO\n",
    "out = StringIO()\n",
    "tree.export_graphviz(ctree, out_file = out)\n",
    "from sklearn.tree import export_graphviz\n",
    "export_graphviz(ctree, out_file='decisiontree.dot', feature_names=features)"
   ]
  },
  {
   "cell_type": "markdown",
   "metadata": {
    "collapsed": true
   },
   "source": [
    "#### Previously exported: \n",
    "<img src=\"assets/img/decisiontree-enrolments.png\">"
   ]
  },
  {
   "cell_type": "markdown",
   "metadata": {
    "collapsed": true
   },
   "source": [
    "### Logistic Regression"
   ]
  },
  {
   "cell_type": "code",
   "execution_count": null,
   "metadata": {
    "collapsed": false
   },
   "outputs": [],
   "source": [
    "import pandas as pd\n",
    "# data = dummydata\n",
    "all_ftcolumns = dummydata.columns.tolist()\n",
    "all_ftcolumns.remove('Cancelled')"
   ]
  },
  {
   "cell_type": "code",
   "execution_count": null,
   "metadata": {
    "collapsed": false
   },
   "outputs": [],
   "source": [
    "X = dummydata[all_ftcolumns]\n",
    "y = dummydata.Cancelled"
   ]
  },
  {
   "cell_type": "code",
   "execution_count": null,
   "metadata": {
    "collapsed": false
   },
   "outputs": [],
   "source": [
    "#split the data\n",
    "from sklearn.cross_validation import train_test_split\n",
    "from sklearn.cross_validation import cross_val_score\n",
    "\n",
    "X_train, X_test, y_train, y_test = train_test_split(X, y, random_state=1)\n",
    "#fit the logreg model and print the coefficients\n",
    "from sklearn.linear_model import LogisticRegression\n",
    "logreg = LogisticRegression()\n",
    "logreg.fit(X_train, y_train)\n",
    "zip(feature_cols, logreg.coef_[0])\n",
    "print(logreg.fit(X_train, y_train))"
   ]
  },
  {
   "cell_type": "code",
   "execution_count": null,
   "metadata": {
    "collapsed": false
   },
   "outputs": [],
   "source": [
    "#test accuracy\n",
    "y_pred_class = logreg.predict(X_test)\n",
    "from sklearn import metrics\n",
    "print(metrics.accuracy_score(y_test,y_pred_class))"
   ]
  },
  {
   "cell_type": "code",
   "execution_count": null,
   "metadata": {
    "collapsed": false
   },
   "outputs": [],
   "source": [
    "from sklearn.dummy import DummyClassifier\n",
    "dumb = DummyClassifier(strategy='most_frequent')\n",
    "dumb.fit(X_train, y_train)\n",
    "y_dumb_class = dumb.predict(X_test)\n",
    "print (metrics.accuracy_score(y_test, y_dumb_class))"
   ]
  },
  {
   "cell_type": "code",
   "execution_count": null,
   "metadata": {
    "collapsed": false
   },
   "outputs": [],
   "source": [
    "scores = cross_val_score(LogisticRegression(), X, y, scoring='accuracy', cv=10)\n",
    "print(scores)"
   ]
  },
  {
   "cell_type": "code",
   "execution_count": null,
   "metadata": {
    "collapsed": false
   },
   "outputs": [],
   "source": [
    "print(scores.mean())"
   ]
  },
  {
   "cell_type": "code",
   "execution_count": null,
   "metadata": {
    "collapsed": false
   },
   "outputs": [],
   "source": [
    "#print the confusion matrix\n",
    "from sklearn import metrics\n",
    "prds = logreg.predict(X)\n",
    "print(metrics.confusion_matrix(y_test, y_pred_class))"
   ]
  },
  {
   "cell_type": "code",
   "execution_count": null,
   "metadata": {
    "collapsed": false
   },
   "outputs": [],
   "source": [
    "#generate the ROC curve\n",
    "import matplotlib.pyplot as plt\n",
    "# Generate the prediction values for each of the test observations using predict_proba() function rather than just predict\n",
    "preds = logreg.predict_proba(X_test)[:,1]\n",
    "# Store the false positive rate(fpr), true positive rate (tpr) in vectors for use in the graph\n",
    "fpr, tpr, _ = metrics.roc_curve(y_test, preds)\n",
    "# Store the Area Under the Curve (AUC) so we can annotate our graph with this metric\n",
    "roc_auc = metrics.auc(fpr,tpr)\n",
    "# Plot the ROC Curve\n",
    "plt.figure()\n",
    "lw = 2\n",
    "plt.plot(fpr, tpr, color='darkorange',\n",
    "         lw=lw, label='ROC curve (area = %0.2f)' % roc_auc)\n",
    "plt.plot([0, 1], [0, 1], color='navy', lw=lw, linestyle='--')\n",
    "plt.xlim([0.0, 1.0])\n",
    "plt.ylim([0.0, 1.05])\n",
    "plt.xlabel('False Positive Rate')\n",
    "plt.ylabel('True Positive Rate')\n",
    "plt.title('Receiver operating characteristic example')\n",
    "plt.legend(loc=\"lower right\")\n",
    "plt.show()\n",
    "# Our aim when modelling is to maximise the area under the curve, the closer to one the better the model."
   ]
  },
  {
   "cell_type": "markdown",
   "metadata": {},
   "source": [
    "### Regression "
   ]
  },
  {
   "cell_type": "code",
   "execution_count": null,
   "metadata": {
    "collapsed": false
   },
   "outputs": [],
   "source": [
    "print('RMSE (No reg.) =', np.sqrt(metrics.mean_squared_error(y_test,y_pred_class)))"
   ]
  },
  {
   "cell_type": "code",
   "execution_count": null,
   "metadata": {
    "collapsed": false
   },
   "outputs": [],
   "source": [
    "from sklearn.linear_model import RidgeCV\n",
    "alpha_range = 10.**np.arange(-5, 5)\n",
    "rregcv = RidgeCV(normalize=True, scoring='neg_mean_squared_error', alphas=alpha_range)\n",
    "rregcv.fit(X_train, y_train)\n",
    "# Print the optimal value of Alpha for Ridge Regression\n",
    "print('Optimal Alpha Value: ', rregcv.alpha_)\n",
    "# Print the RMSE for the ridge regression model\n",
    "preds = rregcv.predict(X_test)\n",
    "print ('RMSE (Ridge CV reg.) =', np.sqrt(metrics.mean_squared_error(y_test, preds)))"
   ]
  },
  {
   "cell_type": "code",
   "execution_count": null,
   "metadata": {
    "collapsed": false
   },
   "outputs": [],
   "source": [
    "from sklearn.linear_model import LassoCV\n",
    "alpha_range = 10.**np.arange(-4, 4)\n",
    "lascv = LassoCV(normalize=True, alphas=alpha_range)\n",
    "lascv.fit(X_train, y_train)\n",
    "print('Optimal Alpha Value: ',lascv.alpha_)\n",
    "lascv.coef_\n",
    "preds = lascv.predict(X_test)\n",
    "print('RMSE (Lasso CV reg.) =', np.sqrt(metrics.mean_squared_error(y_test, preds)))"
   ]
  },
  {
   "cell_type": "code",
   "execution_count": null,
   "metadata": {
    "collapsed": false
   },
   "outputs": [],
   "source": [
    "from sklearn.linear_model import ElasticNetCV\n",
    "alpha_range = 10.**np.arange(-3, 3)\n",
    "enetCV = ElasticNetCV(normalize=True, alphas=alpha_range)\n",
    "enetCV.fit(X_train, y_train)\n",
    "print('Optimal Alpha Value: ',enetCV.alpha_)\n",
    "enetCV.coef_\n",
    "preds = enetCV.predict(X_test)\n",
    "print('RMSE (ENET CV reg.)', np.sqrt(metrics.mean_squared_error(y_test, preds)))"
   ]
  },
  {
   "cell_type": "markdown",
   "metadata": {},
   "source": [
    "### KNN Classifier"
   ]
  },
  {
   "cell_type": "code",
   "execution_count": null,
   "metadata": {
    "collapsed": false
   },
   "outputs": [],
   "source": [
    "from sklearn.neighbors import KNeighborsClassifier\n",
    "KNN_model = KNeighborsClassifier(5)\n",
    "KNN_model.fit(X_train, y_train)\n",
    "y_pred_class = KNN_model.predict(X_test)\n",
    "# Print the new accuracy rate\n",
    "print(metrics.accuracy_score(y_test, y_pred_class))"
   ]
  },
  {
   "cell_type": "markdown",
   "metadata": {},
   "source": [
    "### Random Forrest"
   ]
  },
  {
   "cell_type": "code",
   "execution_count": null,
   "metadata": {
    "collapsed": false
   },
   "outputs": [],
   "source": [
    "#all_ftcolumns"
   ]
  },
  {
   "cell_type": "code",
   "execution_count": null,
   "metadata": {
    "collapsed": false
   },
   "outputs": [],
   "source": [
    "from sklearn.ensemble import RandomForestClassifier\n",
    "rfclf = RandomForestClassifier(n_estimators=400, max_features=2, oob_score=True, random_state=1)\n",
    "rfclf.fit(dummydata[all_ftcolumns], dummydata.Cancelled)\n",
    "rfclf.oob_score_"
   ]
  },
  {
   "cell_type": "code",
   "execution_count": null,
   "metadata": {
    "collapsed": false
   },
   "outputs": [],
   "source": [
    "pd.DataFrame({'feature':all_ftcolumns, 'importance':rfclf.feature_importances_})"
   ]
  },
  {
   "cell_type": "markdown",
   "metadata": {},
   "source": [
    "## Parameter tuning?"
   ]
  },
  {
   "cell_type": "code",
   "execution_count": null,
   "metadata": {
    "collapsed": true
   },
   "outputs": [],
   "source": []
  },
  {
   "cell_type": "code",
   "execution_count": null,
   "metadata": {
    "collapsed": true
   },
   "outputs": [],
   "source": []
  }
 ],
 "metadata": {
  "kernelspec": {
   "display_name": "Python 3",
   "language": "python",
   "name": "python3"
  },
  "language_info": {
   "codemirror_mode": {
    "name": "ipython",
    "version": 3
   },
   "file_extension": ".py",
   "mimetype": "text/x-python",
   "name": "python",
   "nbconvert_exporter": "python",
   "pygments_lexer": "ipython3",
   "version": "3.6.0"
  }
 },
 "nbformat": 4,
 "nbformat_minor": 2
}
