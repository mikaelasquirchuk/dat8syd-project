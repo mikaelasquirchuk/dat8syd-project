{
 "cells": [
  {
   "cell_type": "markdown",
   "metadata": {},
   "source": [
    "# Enrolments Data"
   ]
  },
  {
   "cell_type": "markdown",
   "metadata": {},
   "source": [
    "## Exploration\n",
    "### Statistical exploration"
   ]
  },
  {
   "cell_type": "markdown",
   "metadata": {},
   "source": [
    "#### Enrolments"
   ]
  },
  {
   "cell_type": "code",
   "execution_count": 1,
   "metadata": {
    "collapsed": false
   },
   "outputs": [],
   "source": [
    "import pandas as pd\n",
    "import numpy as np\n",
    "#Read the data\n",
    "enrolments = pd.read_csv(\"data/courses snap_sales_funnel 2017-06-27T1636.csv\")"
   ]
  },
  {
   "cell_type": "code",
   "execution_count": 2,
   "metadata": {
    "collapsed": false
   },
   "outputs": [],
   "source": [
    "enrolments.PhoneValid.unique()\n",
    "enrolments['PhoneValid'] = enrolments.PhoneValid.map({'Yes': 1,'No': 0})\n",
    "#Remove some useless columns\n",
    "enrolments.drop('Status', axis=1, inplace=True)\n",
    "enrolments.drop('CampaignSourceCategory',axis=1,inplace=True)\n",
    "enrolments.drop('CampaignSource',axis=1,inplace=True)\n",
    "enrolments.drop('OppOwnerMetro', axis=1, inplace=True)\n",
    "enrolments.drop('OppOwnerEmail', axis=1, inplace=True)"
   ]
  },
  {
   "cell_type": "code",
   "execution_count": 3,
   "metadata": {
    "collapsed": false
   },
   "outputs": [
    {
     "data": {
      "text/plain": [
       "(37546, 23)"
      ]
     },
     "execution_count": 3,
     "metadata": {},
     "output_type": "execute_result"
    }
   ],
   "source": [
    "enrolments.shape\n",
    "#Checkout all the numeric columns\n",
    "#enrolments.info()\n",
    "#enrolments.describe()"
   ]
  },
  {
   "cell_type": "code",
   "execution_count": 4,
   "metadata": {
    "collapsed": false
   },
   "outputs": [
    {
     "data": {
      "text/plain": [
       "Index(['Startdate', 'Enddate', 'Price', 'Metro', 'Course', 'Type', 'LclPrice',\n",
       "       'DaysEnroltoStartdate', 'DaysInvoicetoEnrol', 'DaysLeadtoEnroled',\n",
       "       'EnrolDate', 'CanceledDate', 'Email', 'ExpectedPayment',\n",
       "       'InvoiceAmountLcl', 'ApplicationType', 'PardotCategory', 'Email.1',\n",
       "       'LeadID', 'OppCreatedDate', 'PhoneValid', 'SpeedtoLead', 'InstanceID',\n",
       "       'Cancelled'],\n",
       "      dtype='object')"
      ]
     },
     "execution_count": 4,
     "metadata": {},
     "output_type": "execute_result"
    }
   ],
   "source": [
    "#Add cancelled column to track whether an enrolment cancelled\n",
    "enrolments['Cancelled'] = enrolments.CanceledDate.notnull()\n",
    "enrolments.columns"
   ]
  },
  {
   "cell_type": "code",
   "execution_count": 5,
   "metadata": {
    "collapsed": false
   },
   "outputs": [
    {
     "data": {
      "text/plain": [
       "new-york-city    9087\n",
       "san-francisco    5800\n",
       "los-angeles      3284\n",
       "washington-dc    3189\n",
       "london           3094\n",
       "sydney           2713\n",
       "boston           1898\n",
       "melbourne        1631\n",
       "atlanta          1288\n",
       "seattle          1279\n",
       "chicago          1101\n",
       "singapore         853\n",
       "austin            852\n",
       "hong-kong         780\n",
       "online            392\n",
       "denver            247\n",
       "brisbane           17\n",
       "Name: Metro, dtype: int64"
      ]
     },
     "execution_count": 5,
     "metadata": {},
     "output_type": "execute_result"
    }
   ],
   "source": [
    "#Limit to only post mid-2014 data\n",
    "enrolments = enrolments[enrolments.Startdate > 20140630]\n",
    "enrolments.Metro.value_counts()"
   ]
  },
  {
   "cell_type": "code",
   "execution_count": 6,
   "metadata": {
    "collapsed": false
   },
   "outputs": [
    {
     "data": {
      "text/plain": [
       "Startdate                   0\n",
       "Enddate                     0\n",
       "Price                       0\n",
       "Metro                       0\n",
       "Course                      0\n",
       "Type                        0\n",
       "LclPrice                    0\n",
       "DaysEnroltoStartdate     3229\n",
       "DaysInvoicetoEnrol          0\n",
       "DaysLeadtoEnroled           0\n",
       "EnrolDate                   0\n",
       "CanceledDate            30860\n",
       "Email                       0\n",
       "ExpectedPayment          1744\n",
       "InvoiceAmountLcl            0\n",
       "ApplicationType             0\n",
       "PardotCategory            982\n",
       "Email.1                     0\n",
       "LeadID                      0\n",
       "OppCreatedDate              0\n",
       "PhoneValid                  0\n",
       "SpeedtoLead             24862\n",
       "InstanceID                  0\n",
       "Cancelled                   0\n",
       "dtype: int64"
      ]
     },
     "execution_count": 6,
     "metadata": {},
     "output_type": "execute_result"
    }
   ],
   "source": [
    "enrolments.isnull().sum()"
   ]
  },
  {
   "cell_type": "code",
   "execution_count": 7,
   "metadata": {
    "collapsed": false
   },
   "outputs": [
    {
     "data": {
      "text/plain": [
       "Student / Self                28253\n",
       "Employer                       3832\n",
       "Loan Partner                   2699\n",
       "Unknown                        1744\n",
       "Veterans Affairs                291\n",
       "Scholarship                     262\n",
       "Other                           143\n",
       "Family                           90\n",
       "GA Employee/Instructor           75\n",
       "Loan (Private)                   60\n",
       "Government Funding / Grant       56\n",
       "Name: ExpectedPayment, dtype: int64"
      ]
     },
     "execution_count": 7,
     "metadata": {},
     "output_type": "execute_result"
    }
   ],
   "source": [
    "enrolments['ExpectedPayment'] = enrolments.ExpectedPayment.map({\n",
    "    'Student / Self': 'Student / Self',\n",
    "    'Student (self)': 'Student / Self',\n",
    "    'Employer': 'Employer',\n",
    "    'Loan (Partner, please note)': 'Loan Partner',\n",
    "    'Veterans Affairs': 'Veterans Affairs',\n",
    "    'Employer Bulk Pre-paid': 'Employer',\n",
    "    'Scholarship (Opportunity Fund)': 'Scholarship',\n",
    "    'Loan Partner (please note)': 'Loan Partner',\n",
    "    'Family':'Family',\n",
    "    'Other (please note)':'Other',\n",
    "    'GA Employee/Instructor':'GA Employee/Instructor',\n",
    "    'Loan (Private Bank, please note)':'Loan (Private)',\n",
    "    'Government Funding / Grant':'Government Funding / Grant',\n",
    "    'Other':'Other',\n",
    "    'CourseHorse':'Other',\n",
    "    'Opportunity Fund':'Scholarship',\n",
    "    'Enterprise Credit':'Other',\n",
    "    'Scholarship (GA Partner, please note)':'Scholarship',\n",
    "    'Scholarship (Other, please note)':'Scholarship',\n",
    "})\n",
    "enrolments.ExpectedPayment.fillna(\"Unknown\", inplace=True)\n",
    "enrolments.ExpectedPayment.value_counts()"
   ]
  },
  {
   "cell_type": "code",
   "execution_count": 8,
   "metadata": {
    "collapsed": false
   },
   "outputs": [
    {
     "data": {
      "text/plain": [
       "GA Course Leads                17758\n",
       "Website                         5743\n",
       "CWE Purchase                    4557\n",
       "Facebook Acquisition            1609\n",
       "GA Dash                         1368\n",
       "Sweepstake                      1204\n",
       "Other                           1078\n",
       "Unknown                          995\n",
       "Partner Event                    466\n",
       "GA Front Row Signup              388\n",
       "GA Circuits Leads                377\n",
       "Twitter Promoted                 370\n",
       "Student Enrollment               197\n",
       "Twitter Acquisition              190\n",
       "Uncategorized                    186\n",
       "Content Partnership              150\n",
       "Scholarship                      117\n",
       "Livestream Purchase              117\n",
       "Partner Livestream               105\n",
       "CWE Walk Ins                     102\n",
       "Global Acquisition Campaign       78\n",
       "Free Front Row Trial Local        54\n",
       "GA Content                        52\n",
       "Social Organic                    39\n",
       "GA Event                          34\n",
       "GA Blog                           32\n",
       "LinkedIn Acquisition              32\n",
       "List Purchase                     22\n",
       "Tuition Credit                    14\n",
       "Local Sweepstake                  13\n",
       "GA Hub                             9\n",
       "GA University Leads                9\n",
       "AdWords Acquisition                8\n",
       "Local Content Partnership          7\n",
       "Affiliate Lead Gen                 6\n",
       "Adwords Lead Gen                   6\n",
       "Facebook Lead Gen                  5\n",
       "Free Front Row Trial Global        4\n",
       "Facebook Promoted                  4\n",
       "Name: PardotCategory, dtype: int64"
      ]
     },
     "execution_count": 8,
     "metadata": {},
     "output_type": "execute_result"
    }
   ],
   "source": [
    "enrolments.PardotCategory.fillna(\"Unknown\", inplace=True)\n",
    "enrolments.PardotCategory.value_counts()"
   ]
  },
  {
   "cell_type": "code",
   "execution_count": 9,
   "metadata": {
    "collapsed": false
   },
   "outputs": [],
   "source": [
    "#enrolments.CanceledDate.value_counts()\n",
    "enrolments.CanceledDate.fillna(enrolments.CanceledDate.mean(), inplace=True)"
   ]
  },
  {
   "cell_type": "code",
   "execution_count": 10,
   "metadata": {
    "collapsed": false
   },
   "outputs": [],
   "source": [
    "#enrolments.DaysEnroltoStartdate.mean()\n",
    "enrolments.DaysEnroltoStartdate.fillna(enrolments.DaysEnroltoStartdate.mean(), inplace=True)"
   ]
  },
  {
   "cell_type": "code",
   "execution_count": 11,
   "metadata": {
    "collapsed": false
   },
   "outputs": [],
   "source": [
    "#enrolments.SpeedtoLead.value_counts()\n",
    "enrolments.SpeedtoLead.fillna(enrolments.SpeedtoLead.mean(), inplace=True)"
   ]
  },
  {
   "cell_type": "code",
   "execution_count": 12,
   "metadata": {
    "collapsed": false
   },
   "outputs": [
    {
     "data": {
      "text/plain": [
       "Startdate               0\n",
       "Enddate                 0\n",
       "Price                   0\n",
       "Metro                   0\n",
       "Course                  0\n",
       "Type                    0\n",
       "LclPrice                0\n",
       "DaysEnroltoStartdate    0\n",
       "DaysInvoicetoEnrol      0\n",
       "DaysLeadtoEnroled       0\n",
       "EnrolDate               0\n",
       "CanceledDate            0\n",
       "Email                   0\n",
       "ExpectedPayment         0\n",
       "InvoiceAmountLcl        0\n",
       "ApplicationType         0\n",
       "PardotCategory          0\n",
       "Email.1                 0\n",
       "LeadID                  0\n",
       "OppCreatedDate          0\n",
       "PhoneValid              0\n",
       "SpeedtoLead             0\n",
       "InstanceID              0\n",
       "Cancelled               0\n",
       "dtype: int64"
      ]
     },
     "execution_count": 12,
     "metadata": {},
     "output_type": "execute_result"
    }
   ],
   "source": [
    "enrolments.isnull().sum()"
   ]
  },
  {
   "cell_type": "code",
   "execution_count": 13,
   "metadata": {
    "collapsed": false
   },
   "outputs": [
    {
     "data": {
      "text/plain": [
       "False    30860\n",
       "True      6645\n",
       "Name: Cancelled, dtype: int64"
      ]
     },
     "execution_count": 13,
     "metadata": {},
     "output_type": "execute_result"
    }
   ],
   "source": [
    "enrolments.Cancelled.value_counts()"
   ]
  },
  {
   "cell_type": "markdown",
   "metadata": {},
   "source": [
    "#### What about APAC only?"
   ]
  },
  {
   "cell_type": "code",
   "execution_count": 14,
   "metadata": {
    "collapsed": false
   },
   "outputs": [
    {
     "data": {
      "text/plain": [
       "False    31511\n",
       "True      5994\n",
       "Name: APAC, dtype: int64"
      ]
     },
     "execution_count": 14,
     "metadata": {},
     "output_type": "execute_result"
    }
   ],
   "source": [
    "#Add an APAC column\n",
    "enrolments['APAC'] = enrolments['Metro'].isin(['sydney','melbourne','hong-kong','singapore','brisbane'])\n",
    "enrolments.APAC.value_counts()"
   ]
  },
  {
   "cell_type": "markdown",
   "metadata": {},
   "source": [
    "#### Only common application types"
   ]
  },
  {
   "cell_type": "code",
   "execution_count": 15,
   "metadata": {
    "collapsed": false
   },
   "outputs": [
    {
     "data": {
      "text/plain": [
       "apply now                            False\n",
       "request info                         False\n",
       "info session                         False\n",
       "referral                             False\n",
       "contact_admissions                   False\n",
       "financing contact us                 False\n",
       "get notified                         False\n",
       "cwe_feedback                         False\n",
       "trial class                          False\n",
       "lander                               False\n",
       "open house                           False\n",
       "emailed admissions@                  False\n",
       "contact_admissions_oneweek_remote    False\n",
       "online info session                  False\n",
       "hotline                              False\n",
       "Salesforce Opportunity               False\n",
       "self enrollment prospect             False\n",
       "opp fund                              True\n",
       "live chat                             True\n",
       "front desk inquiry                    True\n",
       "Intro Class                           True\n",
       "uxd one week lander                   True\n",
       "coffee chat                           True\n",
       "tuition credit                        True\n",
       "Switch Up                             True\n",
       "employee benefits                     True\n",
       "cwe feedback form                     True\n",
       "marketing owned                       True\n",
       "request info - lander                 True\n",
       "scholarship                           True\n",
       "                                     ...  \n",
       "skimm ppl                             True\n",
       "cwe follow up                         True\n",
       "employer sponsorship                  True\n",
       "dgm one week lander                   True\n",
       "info session cwe                      True\n",
       "marketing                             True\n",
       "meet an instructor                    True\n",
       "2u graduate program                   True\n",
       "vetadvisor alp                        True\n",
       "Alumni Recommendation                 True\n",
       "circuits track                        True\n",
       "an one week lander                    True\n",
       "a day in the life                     True\n",
       "course consultation                   True\n",
       "chalk talk                            True\n",
       "coursehorse                           True\n",
       "adwords                               True\n",
       "wework ppl                            True\n",
       "facebook                              True\n",
       "shayhowe                              True\n",
       "ibm_enterprise                        True\n",
       "career panel                          True\n",
       "desk test                             True\n",
       "meetup cwe                            True\n",
       "enterprise lead                       True\n",
       "find-your-course-survey               True\n",
       "campus tour                           True\n",
       "linkedin                              True\n",
       "study.com                             True\n",
       "audit                                 True\n",
       "Name: ApplicationType, dtype: bool"
      ]
     },
     "execution_count": 15,
     "metadata": {},
     "output_type": "execute_result"
    }
   ],
   "source": [
    "#Checkout only the more common application types\n",
    "enrolments.ApplicationType.value_counts()<100"
   ]
  },
  {
   "cell_type": "code",
   "execution_count": 16,
   "metadata": {
    "collapsed": false
   },
   "outputs": [
    {
     "data": {
      "text/plain": [
       "Index(['apply now', 'request info', 'info session', 'referral',\n",
       "       'contact_admissions', 'financing contact us', 'get notified',\n",
       "       'cwe_feedback', 'trial class', 'lander', 'open house'],\n",
       "      dtype='object')"
      ]
     },
     "execution_count": 16,
     "metadata": {},
     "output_type": "execute_result"
    }
   ],
   "source": [
    "commonapptypes = enrolments.ApplicationType.value_counts().index[enrolments.ApplicationType.value_counts()>147]\n",
    "commonapptypes"
   ]
  },
  {
   "cell_type": "code",
   "execution_count": 17,
   "metadata": {
    "collapsed": false
   },
   "outputs": [
    {
     "data": {
      "text/plain": [
       "(35957, 25)"
      ]
     },
     "execution_count": 17,
     "metadata": {},
     "output_type": "execute_result"
    }
   ],
   "source": [
    "enrolments = enrolments[enrolments.ApplicationType.isin(commonapptypes)]\n",
    "enrolments.shape"
   ]
  },
  {
   "cell_type": "code",
   "execution_count": 18,
   "metadata": {
    "collapsed": false
   },
   "outputs": [
    {
     "data": {
      "text/plain": [
       "apply now               12684\n",
       "request info            12329\n",
       "info session             7258\n",
       "referral                 1141\n",
       "contact_admissions        536\n",
       "financing contact us      506\n",
       "get notified              498\n",
       "cwe_feedback              346\n",
       "trial class               273\n",
       "lander                    206\n",
       "open house                180\n",
       "Name: ApplicationType, dtype: int64"
      ]
     },
     "execution_count": 18,
     "metadata": {},
     "output_type": "execute_result"
    }
   ],
   "source": [
    "enrolments.ApplicationType.value_counts()"
   ]
  },
  {
   "cell_type": "code",
   "execution_count": 19,
   "metadata": {
    "collapsed": false
   },
   "outputs": [
    {
     "name": "stdout",
     "output_type": "stream",
     "text": [
      "<class 'pandas.core.frame.DataFrame'>\n",
      "Int64Index: 35957 entries, 0 to 37504\n",
      "Data columns (total 25 columns):\n",
      "Startdate               35957 non-null int64\n",
      "Enddate                 35957 non-null int64\n",
      "Price                   35957 non-null int64\n",
      "Metro                   35957 non-null object\n",
      "Course                  35957 non-null object\n",
      "Type                    35957 non-null object\n",
      "LclPrice                35957 non-null int64\n",
      "DaysEnroltoStartdate    35957 non-null float64\n",
      "DaysInvoicetoEnrol      35957 non-null int64\n",
      "DaysLeadtoEnroled       35957 non-null int64\n",
      "EnrolDate               35957 non-null int64\n",
      "CanceledDate            35957 non-null float64\n",
      "Email                   35957 non-null object\n",
      "ExpectedPayment         35957 non-null object\n",
      "InvoiceAmountLcl        35957 non-null int64\n",
      "ApplicationType         35957 non-null object\n",
      "PardotCategory          35957 non-null object\n",
      "Email.1                 35957 non-null object\n",
      "LeadID                  35957 non-null int64\n",
      "OppCreatedDate          35957 non-null int64\n",
      "PhoneValid              35957 non-null int64\n",
      "SpeedtoLead             35957 non-null float64\n",
      "InstanceID              35957 non-null int64\n",
      "Cancelled               35957 non-null bool\n",
      "APAC                    35957 non-null bool\n",
      "dtypes: bool(2), float64(3), int64(12), object(8)\n",
      "memory usage: 6.7+ MB\n"
     ]
    }
   ],
   "source": [
    "enrolments.info()"
   ]
  },
  {
   "cell_type": "markdown",
   "metadata": {},
   "source": [
    "#### Pandas profile"
   ]
  },
  {
   "cell_type": "code",
   "execution_count": 20,
   "metadata": {
    "collapsed": false
   },
   "outputs": [],
   "source": [
    "#!pip install pandas-profiling"
   ]
  },
  {
   "cell_type": "code",
   "execution_count": 21,
   "metadata": {
    "collapsed": false
   },
   "outputs": [],
   "source": [
    "#import pandas_profiling\n",
    "#apandas_profiling.ProfileReport(enrolments)"
   ]
  },
  {
   "cell_type": "markdown",
   "metadata": {},
   "source": [
    "### Visualisation"
   ]
  },
  {
   "cell_type": "code",
   "execution_count": 22,
   "metadata": {
    "collapsed": true
   },
   "outputs": [],
   "source": [
    "from sklearn import tree\n",
    "from sklearn.model_selection import train_test_split\n",
    "from sklearn import metrics\n",
    "import matplotlib.pyplot as plt\n",
    "import seaborn as sns\n",
    "import urllib\n",
    "import plotly\n",
    "import plotly.plotly as py\n",
    "import plotly.graph_objs as go \n",
    "import folium\n",
    "import plotly.figure_factory as ff\n",
    "\n",
    "plotly.tools.set_credentials_file(username='Msquirchuk', api_key='kTj4gydNrsbGuMDjMcNn')\n",
    "\n",
    "%matplotlib inline\n",
    "sns.set(color_codes=True)"
   ]
  },
  {
   "cell_type": "code",
   "execution_count": 23,
   "metadata": {
    "collapsed": false
   },
   "outputs": [
    {
     "data": {
      "text/plain": [
       "<matplotlib.axes._subplots.AxesSubplot at 0x11cb05a58>"
      ]
     },
     "execution_count": 23,
     "metadata": {},
     "output_type": "execute_result"
    },
    {
     "data": {
      "image/png": "[encoded data removed]",
      "text/plain": [
       "<matplotlib.figure.Figure at 0x119f53b70>"
      ]
     },
     "metadata": {},
     "output_type": "display_data"
    }
   ],
   "source": [
    "enrolments['DaysInvoicetoEnrol'].hist()"
   ]
  },
  {
   "cell_type": "code",
   "execution_count": 24,
   "metadata": {
    "collapsed": false
   },
   "outputs": [
    {
     "data": {
      "text/plain": [
       "<matplotlib.axes._subplots.AxesSubplot at 0x120eb9128>"
      ]
     },
     "execution_count": 24,
     "metadata": {},
     "output_type": "execute_result"
    },
    {
     "data": {
      "image/png": "[encoded data removed]",
      "text/plain": [
       "<matplotlib.figure.Figure at 0x119f53cf8>"
      ]
     },
     "metadata": {},
     "output_type": "display_data"
    }
   ],
   "source": [
    "enrolments['DaysEnroltoStartdate'].hist()"
   ]
  },
  {
   "cell_type": "code",
   "execution_count": 25,
   "metadata": {
    "collapsed": false
   },
   "outputs": [
    {
     "data": {
      "text/plain": [
       "<seaborn.axisgrid.JointGrid at 0x119f53908>"
      ]
     },
     "execution_count": 25,
     "metadata": {},
     "output_type": "execute_result"
    },
    {
     "data": {
      "image/png": "[encoded data removed]",
      "text/plain": [
       "<matplotlib.figure.Figure at 0x119f53f28>"
      ]
     },
     "metadata": {},
     "output_type": "display_data"
    }
   ],
   "source": [
    "sns.jointplot(x='DaysEnroltoStartdate', y=\"DaysInvoicetoEnrol\", data=enrolments)"
   ]
  },
  {
   "cell_type": "code",
   "execution_count": 26,
   "metadata": {
    "collapsed": false
   },
   "outputs": [
    {
     "data": {
      "text/plain": [
       "<matplotlib.text.Text at 0x1223e97b8>"
      ]
     },
     "execution_count": 26,
     "metadata": {},
     "output_type": "execute_result"
    },
    {
     "data": {
      "image/png": "[encoded data removed]",
      "text/plain": [
       "<matplotlib.figure.Figure at 0x118d8a278>"
      ]
     },
     "metadata": {},
     "output_type": "display_data"
    }
   ],
   "source": [
    "corr = enrolments.corr()\n",
    "corr = (corr)\n",
    "corr_cancelled = pd.DataFrame(corr['Cancelled'].drop('Cancelled'))\n",
    "corr_cancelled.sort_values(by = 'Cancelled', ascending = False)\n",
    "plt.figure(figsize = (20,20))\n",
    "sns.heatmap(corr, \n",
    "            xticklabels=corr.columns.values,\n",
    "            yticklabels=corr.columns.values)\n",
    "sns.plt.title('Heatmap of Correlation Matrix')"
   ]
  },
  {
   "cell_type": "code",
   "execution_count": 27,
   "metadata": {
    "collapsed": false
   },
   "outputs": [
    {
     "data": {
      "text/plain": [
       "<matplotlib.axes._subplots.AxesSubplot at 0x1223b4438>"
      ]
     },
     "execution_count": 27,
     "metadata": {},
     "output_type": "execute_result"
    },
    {
     "data": {
      "image/png": "[encoded data removed]",
      "text/plain": [
       "<matplotlib.figure.Figure at 0x11aa6fb00>"
      ]
     },
     "metadata": {},
     "output_type": "display_data"
    }
   ],
   "source": [
    "plt.figure(figsize = (15,6))\n",
    "sns.barplot(x='Metro', y = 'Cancelled', data = enrolments)"
   ]
  },
  {
   "cell_type": "markdown",
   "metadata": {},
   "source": [
    "### Tree Subset"
   ]
  },
  {
   "cell_type": "code",
   "execution_count": 28,
   "metadata": {
    "collapsed": false
   },
   "outputs": [
    {
     "data": {
      "text/html": [
       "<div>\n",
       "<table border=\"1\" class=\"dataframe\">\n",
       "  <thead>\n",
       "    <tr style=\"text-align: right;\">\n",
       "      <th></th>\n",
       "      <th>Startdate</th>\n",
       "      <th>Enddate</th>\n",
       "      <th>Price</th>\n",
       "      <th>LclPrice</th>\n",
       "      <th>EnrolDate</th>\n",
       "      <th>DaysEnroltoStartdate</th>\n",
       "      <th>DaysInvoicetoEnrol</th>\n",
       "      <th>DaysLeadtoEnroled</th>\n",
       "      <th>Cancelled</th>\n",
       "      <th>APAC</th>\n",
       "    </tr>\n",
       "  </thead>\n",
       "  <tbody>\n",
       "    <tr>\n",
       "      <th>0</th>\n",
       "      <td>20171127</td>\n",
       "      <td>20180209</td>\n",
       "      <td>9000</td>\n",
       "      <td>9000</td>\n",
       "      <td>20170605</td>\n",
       "      <td>175.0</td>\n",
       "      <td>7</td>\n",
       "      <td>89</td>\n",
       "      <td>False</td>\n",
       "      <td>False</td>\n",
       "    </tr>\n",
       "    <tr>\n",
       "      <th>1</th>\n",
       "      <td>20171127</td>\n",
       "      <td>20180223</td>\n",
       "      <td>8000</td>\n",
       "      <td>8000</td>\n",
       "      <td>20170621</td>\n",
       "      <td>159.0</td>\n",
       "      <td>0</td>\n",
       "      <td>37</td>\n",
       "      <td>False</td>\n",
       "      <td>False</td>\n",
       "    </tr>\n",
       "    <tr>\n",
       "      <th>2</th>\n",
       "      <td>20171127</td>\n",
       "      <td>20180223</td>\n",
       "      <td>13950</td>\n",
       "      <td>13950</td>\n",
       "      <td>20170402</td>\n",
       "      <td>239.0</td>\n",
       "      <td>7</td>\n",
       "      <td>27</td>\n",
       "      <td>False</td>\n",
       "      <td>False</td>\n",
       "    </tr>\n",
       "    <tr>\n",
       "      <th>3</th>\n",
       "      <td>20171127</td>\n",
       "      <td>20180223</td>\n",
       "      <td>8000</td>\n",
       "      <td>8000</td>\n",
       "      <td>20170509</td>\n",
       "      <td>202.0</td>\n",
       "      <td>0</td>\n",
       "      <td>25</td>\n",
       "      <td>False</td>\n",
       "      <td>False</td>\n",
       "    </tr>\n",
       "    <tr>\n",
       "      <th>4</th>\n",
       "      <td>20171127</td>\n",
       "      <td>20180223</td>\n",
       "      <td>13950</td>\n",
       "      <td>13950</td>\n",
       "      <td>20170615</td>\n",
       "      <td>165.0</td>\n",
       "      <td>0</td>\n",
       "      <td>56</td>\n",
       "      <td>False</td>\n",
       "      <td>False</td>\n",
       "    </tr>\n",
       "  </tbody>\n",
       "</table>\n",
       "</div>"
      ],
      "text/plain": [
       "   Startdate   Enddate  Price  LclPrice  EnrolDate  DaysEnroltoStartdate  \\\n",
       "0   20171127  20180209   9000      9000   20170605                 175.0   \n",
       "1   20171127  20180223   8000      8000   20170621                 159.0   \n",
       "2   20171127  20180223  13950     13950   20170402                 239.0   \n",
       "3   20171127  20180223   8000      8000   20170509                 202.0   \n",
       "4   20171127  20180223  13950     13950   20170615                 165.0   \n",
       "\n",
       "   DaysInvoicetoEnrol  DaysLeadtoEnroled Cancelled   APAC  \n",
       "0                   7                 89     False  False  \n",
       "1                   0                 37     False  False  \n",
       "2                   7                 27     False  False  \n",
       "3                   0                 25     False  False  \n",
       "4                   0                 56     False  False  "
      ]
     },
     "execution_count": 28,
     "metadata": {},
     "output_type": "execute_result"
    }
   ],
   "source": [
    "treesubset = enrolments[['Startdate', 'Enddate','Price','LclPrice','EnrolDate','DaysEnroltoStartdate','DaysInvoicetoEnrol','DaysLeadtoEnroled','Cancelled','APAC']]\n",
    "treesubset.head()"
   ]
  },
  {
   "cell_type": "code",
   "execution_count": 29,
   "metadata": {
    "collapsed": false
   },
   "outputs": [],
   "source": [
    "#treesubset['DaysEnroltoStartdate'].fillna(value=0,inplace=True)"
   ]
  },
  {
   "cell_type": "code",
   "execution_count": 30,
   "metadata": {
    "collapsed": false
   },
   "outputs": [
    {
     "data": {
      "text/html": [
       "<div>\n",
       "<table border=\"1\" class=\"dataframe\">\n",
       "  <thead>\n",
       "    <tr style=\"text-align: right;\">\n",
       "      <th></th>\n",
       "      <th>Startdate</th>\n",
       "      <th>Enddate</th>\n",
       "      <th>Price</th>\n",
       "      <th>LclPrice</th>\n",
       "      <th>EnrolDate</th>\n",
       "      <th>DaysEnroltoStartdate</th>\n",
       "      <th>DaysInvoicetoEnrol</th>\n",
       "      <th>DaysLeadtoEnroled</th>\n",
       "    </tr>\n",
       "  </thead>\n",
       "  <tbody>\n",
       "    <tr>\n",
       "      <th>count</th>\n",
       "      <td>3.595700e+04</td>\n",
       "      <td>3.595700e+04</td>\n",
       "      <td>35957.000000</td>\n",
       "      <td>35957.000000</td>\n",
       "      <td>3.595700e+04</td>\n",
       "      <td>35957.000000</td>\n",
       "      <td>35957.000000</td>\n",
       "      <td>35957.000000</td>\n",
       "    </tr>\n",
       "    <tr>\n",
       "      <th>mean</th>\n",
       "      <td>2.015833e+07</td>\n",
       "      <td>2.016000e+07</td>\n",
       "      <td>6742.364491</td>\n",
       "      <td>6742.364491</td>\n",
       "      <td>2.015756e+07</td>\n",
       "      <td>24.743483</td>\n",
       "      <td>5.920127</td>\n",
       "      <td>47.393581</td>\n",
       "    </tr>\n",
       "    <tr>\n",
       "      <th>std</th>\n",
       "      <td>8.450807e+03</td>\n",
       "      <td>7.964749e+03</td>\n",
       "      <td>7520.005319</td>\n",
       "      <td>7520.005319</td>\n",
       "      <td>8.521488e+03</td>\n",
       "      <td>30.625850</td>\n",
       "      <td>18.625379</td>\n",
       "      <td>80.672103</td>\n",
       "    </tr>\n",
       "    <tr>\n",
       "      <th>min</th>\n",
       "      <td>2.014072e+07</td>\n",
       "      <td>2.014092e+07</td>\n",
       "      <td>750.000000</td>\n",
       "      <td>750.000000</td>\n",
       "      <td>2.014051e+07</td>\n",
       "      <td>-353.000000</td>\n",
       "      <td>0.000000</td>\n",
       "      <td>-16.000000</td>\n",
       "    </tr>\n",
       "    <tr>\n",
       "      <th>25%</th>\n",
       "      <td>2.015082e+07</td>\n",
       "      <td>2.015111e+07</td>\n",
       "      <td>3500.000000</td>\n",
       "      <td>3500.000000</td>\n",
       "      <td>2.015073e+07</td>\n",
       "      <td>7.000000</td>\n",
       "      <td>0.000000</td>\n",
       "      <td>8.000000</td>\n",
       "    </tr>\n",
       "    <tr>\n",
       "      <th>50%</th>\n",
       "      <td>2.016033e+07</td>\n",
       "      <td>2.016061e+07</td>\n",
       "      <td>3950.000000</td>\n",
       "      <td>3950.000000</td>\n",
       "      <td>2.016031e+07</td>\n",
       "      <td>21.000000</td>\n",
       "      <td>0.000000</td>\n",
       "      <td>20.000000</td>\n",
       "    </tr>\n",
       "    <tr>\n",
       "      <th>75%</th>\n",
       "      <td>2.016112e+07</td>\n",
       "      <td>2.017020e+07</td>\n",
       "      <td>9500.000000</td>\n",
       "      <td>9500.000000</td>\n",
       "      <td>2.016102e+07</td>\n",
       "      <td>36.000000</td>\n",
       "      <td>7.000000</td>\n",
       "      <td>49.000000</td>\n",
       "    </tr>\n",
       "    <tr>\n",
       "      <th>max</th>\n",
       "      <td>2.017113e+07</td>\n",
       "      <td>2.018022e+07</td>\n",
       "      <td>130000.000000</td>\n",
       "      <td>130000.000000</td>\n",
       "      <td>2.017063e+07</td>\n",
       "      <td>270.000000</td>\n",
       "      <td>700.000000</td>\n",
       "      <td>1027.000000</td>\n",
       "    </tr>\n",
       "  </tbody>\n",
       "</table>\n",
       "</div>"
      ],
      "text/plain": [
       "          Startdate       Enddate          Price       LclPrice     EnrolDate  \\\n",
       "count  3.595700e+04  3.595700e+04   35957.000000   35957.000000  3.595700e+04   \n",
       "mean   2.015833e+07  2.016000e+07    6742.364491    6742.364491  2.015756e+07   \n",
       "std    8.450807e+03  7.964749e+03    7520.005319    7520.005319  8.521488e+03   \n",
       "min    2.014072e+07  2.014092e+07     750.000000     750.000000  2.014051e+07   \n",
       "25%    2.015082e+07  2.015111e+07    3500.000000    3500.000000  2.015073e+07   \n",
       "50%    2.016033e+07  2.016061e+07    3950.000000    3950.000000  2.016031e+07   \n",
       "75%    2.016112e+07  2.017020e+07    9500.000000    9500.000000  2.016102e+07   \n",
       "max    2.017113e+07  2.018022e+07  130000.000000  130000.000000  2.017063e+07   \n",
       "\n",
       "       DaysEnroltoStartdate  DaysInvoicetoEnrol  DaysLeadtoEnroled  \n",
       "count          35957.000000        35957.000000       35957.000000  \n",
       "mean              24.743483            5.920127          47.393581  \n",
       "std               30.625850           18.625379          80.672103  \n",
       "min             -353.000000            0.000000         -16.000000  \n",
       "25%                7.000000            0.000000           8.000000  \n",
       "50%               21.000000            0.000000          20.000000  \n",
       "75%               36.000000            7.000000          49.000000  \n",
       "max              270.000000          700.000000        1027.000000  "
      ]
     },
     "execution_count": 30,
     "metadata": {},
     "output_type": "execute_result"
    }
   ],
   "source": [
    "treesubset.describe()\n",
    "#treesubset.isnull().sum()"
   ]
  },
  {
   "cell_type": "code",
   "execution_count": 31,
   "metadata": {
    "collapsed": false
   },
   "outputs": [
    {
     "data": {
      "text/plain": [
       "False    29576\n",
       "True      6381\n",
       "Name: Cancelled, dtype: int64"
      ]
     },
     "execution_count": 31,
     "metadata": {},
     "output_type": "execute_result"
    }
   ],
   "source": [
    "treesubset.Cancelled.value_counts()"
   ]
  },
  {
   "cell_type": "code",
   "execution_count": 34,
   "metadata": {
    "collapsed": false
   },
   "outputs": [
    {
     "name": "stderr",
     "output_type": "stream",
     "text": [
      "/anaconda/lib/python3.6/site-packages/sklearn/cross_validation.py:44: DeprecationWarning:\n",
      "\n",
      "This module was deprecated in version 0.18 in favor of the model_selection module into which all the refactored classes and functions are moved. Also note that the interface of the new CV iterators are different from that of this module. This module will be removed in 0.20.\n",
      "\n"
     ]
    },
    {
     "data": {
      "text/html": [
       "<div>\n",
       "<table border=\"1\" class=\"dataframe\">\n",
       "  <thead>\n",
       "    <tr style=\"text-align: right;\">\n",
       "      <th></th>\n",
       "      <th>Startdate</th>\n",
       "      <th>Enddate</th>\n",
       "      <th>Price</th>\n",
       "      <th>LclPrice</th>\n",
       "      <th>EnrolDate</th>\n",
       "      <th>DaysEnroltoStartdate</th>\n",
       "      <th>DaysInvoicetoEnrol</th>\n",
       "      <th>DaysLeadtoEnroled</th>\n",
       "      <th>APAC</th>\n",
       "    </tr>\n",
       "  </thead>\n",
       "  <tbody>\n",
       "    <tr>\n",
       "      <th>0</th>\n",
       "      <td>20171127</td>\n",
       "      <td>20180209</td>\n",
       "      <td>9000</td>\n",
       "      <td>9000</td>\n",
       "      <td>20170605</td>\n",
       "      <td>175.000000</td>\n",
       "      <td>7</td>\n",
       "      <td>89</td>\n",
       "      <td>False</td>\n",
       "    </tr>\n",
       "    <tr>\n",
       "      <th>1</th>\n",
       "      <td>20171127</td>\n",
       "      <td>20180223</td>\n",
       "      <td>8000</td>\n",
       "      <td>8000</td>\n",
       "      <td>20170621</td>\n",
       "      <td>159.000000</td>\n",
       "      <td>0</td>\n",
       "      <td>37</td>\n",
       "      <td>False</td>\n",
       "    </tr>\n",
       "    <tr>\n",
       "      <th>2</th>\n",
       "      <td>20171127</td>\n",
       "      <td>20180223</td>\n",
       "      <td>13950</td>\n",
       "      <td>13950</td>\n",
       "      <td>20170402</td>\n",
       "      <td>239.000000</td>\n",
       "      <td>7</td>\n",
       "      <td>27</td>\n",
       "      <td>False</td>\n",
       "    </tr>\n",
       "    <tr>\n",
       "      <th>3</th>\n",
       "      <td>20171127</td>\n",
       "      <td>20180223</td>\n",
       "      <td>8000</td>\n",
       "      <td>8000</td>\n",
       "      <td>20170509</td>\n",
       "      <td>202.000000</td>\n",
       "      <td>0</td>\n",
       "      <td>25</td>\n",
       "      <td>False</td>\n",
       "    </tr>\n",
       "    <tr>\n",
       "      <th>4</th>\n",
       "      <td>20171127</td>\n",
       "      <td>20180223</td>\n",
       "      <td>13950</td>\n",
       "      <td>13950</td>\n",
       "      <td>20170615</td>\n",
       "      <td>165.000000</td>\n",
       "      <td>0</td>\n",
       "      <td>56</td>\n",
       "      <td>False</td>\n",
       "    </tr>\n",
       "    <tr>\n",
       "      <th>5</th>\n",
       "      <td>20171127</td>\n",
       "      <td>20180223</td>\n",
       "      <td>8000</td>\n",
       "      <td>8000</td>\n",
       "      <td>20170610</td>\n",
       "      <td>170.000000</td>\n",
       "      <td>0</td>\n",
       "      <td>36</td>\n",
       "      <td>False</td>\n",
       "    </tr>\n",
       "    <tr>\n",
       "      <th>6</th>\n",
       "      <td>20171127</td>\n",
       "      <td>20180223</td>\n",
       "      <td>13950</td>\n",
       "      <td>13950</td>\n",
       "      <td>20170511</td>\n",
       "      <td>200.000000</td>\n",
       "      <td>0</td>\n",
       "      <td>9</td>\n",
       "      <td>False</td>\n",
       "    </tr>\n",
       "    <tr>\n",
       "      <th>7</th>\n",
       "      <td>20171127</td>\n",
       "      <td>20180223</td>\n",
       "      <td>8000</td>\n",
       "      <td>8000</td>\n",
       "      <td>20170512</td>\n",
       "      <td>199.000000</td>\n",
       "      <td>0</td>\n",
       "      <td>19</td>\n",
       "      <td>False</td>\n",
       "    </tr>\n",
       "    <tr>\n",
       "      <th>8</th>\n",
       "      <td>20171120</td>\n",
       "      <td>20180223</td>\n",
       "      <td>17500</td>\n",
       "      <td>17500</td>\n",
       "      <td>20170527</td>\n",
       "      <td>176.000000</td>\n",
       "      <td>0</td>\n",
       "      <td>299</td>\n",
       "      <td>True</td>\n",
       "    </tr>\n",
       "    <tr>\n",
       "      <th>9</th>\n",
       "      <td>20171030</td>\n",
       "      <td>20180112</td>\n",
       "      <td>13950</td>\n",
       "      <td>13950</td>\n",
       "      <td>20170515</td>\n",
       "      <td>168.000000</td>\n",
       "      <td>7</td>\n",
       "      <td>299</td>\n",
       "      <td>False</td>\n",
       "    </tr>\n",
       "    <tr>\n",
       "      <th>10</th>\n",
       "      <td>20171030</td>\n",
       "      <td>20180112</td>\n",
       "      <td>13950</td>\n",
       "      <td>13950</td>\n",
       "      <td>20170610</td>\n",
       "      <td>142.000000</td>\n",
       "      <td>0</td>\n",
       "      <td>13</td>\n",
       "      <td>False</td>\n",
       "    </tr>\n",
       "    <tr>\n",
       "      <th>11</th>\n",
       "      <td>20171016</td>\n",
       "      <td>20171021</td>\n",
       "      <td>2800</td>\n",
       "      <td>2800</td>\n",
       "      <td>20170620</td>\n",
       "      <td>118.000000</td>\n",
       "      <td>28</td>\n",
       "      <td>197</td>\n",
       "      <td>False</td>\n",
       "    </tr>\n",
       "    <tr>\n",
       "      <th>12</th>\n",
       "      <td>20171016</td>\n",
       "      <td>20180112</td>\n",
       "      <td>10000</td>\n",
       "      <td>10000</td>\n",
       "      <td>20170606</td>\n",
       "      <td>132.000000</td>\n",
       "      <td>0</td>\n",
       "      <td>34</td>\n",
       "      <td>False</td>\n",
       "    </tr>\n",
       "    <tr>\n",
       "      <th>13</th>\n",
       "      <td>20171016</td>\n",
       "      <td>20180112</td>\n",
       "      <td>10000</td>\n",
       "      <td>10000</td>\n",
       "      <td>20170522</td>\n",
       "      <td>147.000000</td>\n",
       "      <td>7</td>\n",
       "      <td>322</td>\n",
       "      <td>False</td>\n",
       "    </tr>\n",
       "    <tr>\n",
       "      <th>14</th>\n",
       "      <td>20171016</td>\n",
       "      <td>20180112</td>\n",
       "      <td>10000</td>\n",
       "      <td>10000</td>\n",
       "      <td>20170523</td>\n",
       "      <td>146.000000</td>\n",
       "      <td>0</td>\n",
       "      <td>70</td>\n",
       "      <td>False</td>\n",
       "    </tr>\n",
       "    <tr>\n",
       "      <th>15</th>\n",
       "      <td>20171016</td>\n",
       "      <td>20180112</td>\n",
       "      <td>10000</td>\n",
       "      <td>10000</td>\n",
       "      <td>20170524</td>\n",
       "      <td>145.000000</td>\n",
       "      <td>0</td>\n",
       "      <td>66</td>\n",
       "      <td>False</td>\n",
       "    </tr>\n",
       "    <tr>\n",
       "      <th>16</th>\n",
       "      <td>20171010</td>\n",
       "      <td>20180105</td>\n",
       "      <td>14950</td>\n",
       "      <td>14950</td>\n",
       "      <td>20170601</td>\n",
       "      <td>131.000000</td>\n",
       "      <td>0</td>\n",
       "      <td>400</td>\n",
       "      <td>False</td>\n",
       "    </tr>\n",
       "    <tr>\n",
       "      <th>17</th>\n",
       "      <td>20171009</td>\n",
       "      <td>20171213</td>\n",
       "      <td>3950</td>\n",
       "      <td>3950</td>\n",
       "      <td>20170609</td>\n",
       "      <td>123.000000</td>\n",
       "      <td>0</td>\n",
       "      <td>35</td>\n",
       "      <td>False</td>\n",
       "    </tr>\n",
       "    <tr>\n",
       "      <th>18</th>\n",
       "      <td>20171004</td>\n",
       "      <td>20171211</td>\n",
       "      <td>4500</td>\n",
       "      <td>4500</td>\n",
       "      <td>20170602</td>\n",
       "      <td>124.000000</td>\n",
       "      <td>0</td>\n",
       "      <td>16</td>\n",
       "      <td>True</td>\n",
       "    </tr>\n",
       "    <tr>\n",
       "      <th>19</th>\n",
       "      <td>20171002</td>\n",
       "      <td>20171007</td>\n",
       "      <td>2800</td>\n",
       "      <td>2800</td>\n",
       "      <td>20170622</td>\n",
       "      <td>102.000000</td>\n",
       "      <td>0</td>\n",
       "      <td>16</td>\n",
       "      <td>False</td>\n",
       "    </tr>\n",
       "    <tr>\n",
       "      <th>20</th>\n",
       "      <td>20171002</td>\n",
       "      <td>20171127</td>\n",
       "      <td>2800</td>\n",
       "      <td>2800</td>\n",
       "      <td>20170609</td>\n",
       "      <td>115.000000</td>\n",
       "      <td>0</td>\n",
       "      <td>155</td>\n",
       "      <td>False</td>\n",
       "    </tr>\n",
       "    <tr>\n",
       "      <th>21</th>\n",
       "      <td>20171002</td>\n",
       "      <td>20171220</td>\n",
       "      <td>13500</td>\n",
       "      <td>13500</td>\n",
       "      <td>20170518</td>\n",
       "      <td>137.000000</td>\n",
       "      <td>0</td>\n",
       "      <td>113</td>\n",
       "      <td>False</td>\n",
       "    </tr>\n",
       "    <tr>\n",
       "      <th>22</th>\n",
       "      <td>20171002</td>\n",
       "      <td>20171220</td>\n",
       "      <td>3950</td>\n",
       "      <td>3950</td>\n",
       "      <td>20170623</td>\n",
       "      <td>101.000000</td>\n",
       "      <td>0</td>\n",
       "      <td>65</td>\n",
       "      <td>False</td>\n",
       "    </tr>\n",
       "    <tr>\n",
       "      <th>23</th>\n",
       "      <td>20171002</td>\n",
       "      <td>20171220</td>\n",
       "      <td>13500</td>\n",
       "      <td>13500</td>\n",
       "      <td>20170519</td>\n",
       "      <td>136.000000</td>\n",
       "      <td>0</td>\n",
       "      <td>116</td>\n",
       "      <td>False</td>\n",
       "    </tr>\n",
       "    <tr>\n",
       "      <th>24</th>\n",
       "      <td>20170926</td>\n",
       "      <td>20171207</td>\n",
       "      <td>3950</td>\n",
       "      <td>3950</td>\n",
       "      <td>20170621</td>\n",
       "      <td>98.000000</td>\n",
       "      <td>0</td>\n",
       "      <td>27</td>\n",
       "      <td>False</td>\n",
       "    </tr>\n",
       "    <tr>\n",
       "      <th>25</th>\n",
       "      <td>20170926</td>\n",
       "      <td>20171205</td>\n",
       "      <td>3950</td>\n",
       "      <td>3950</td>\n",
       "      <td>20170616</td>\n",
       "      <td>103.000000</td>\n",
       "      <td>0</td>\n",
       "      <td>3</td>\n",
       "      <td>False</td>\n",
       "    </tr>\n",
       "    <tr>\n",
       "      <th>27</th>\n",
       "      <td>20170925</td>\n",
       "      <td>20171215</td>\n",
       "      <td>8000</td>\n",
       "      <td>8000</td>\n",
       "      <td>20170609</td>\n",
       "      <td>108.000000</td>\n",
       "      <td>0</td>\n",
       "      <td>26</td>\n",
       "      <td>False</td>\n",
       "    </tr>\n",
       "    <tr>\n",
       "      <th>28</th>\n",
       "      <td>20170925</td>\n",
       "      <td>20171220</td>\n",
       "      <td>14950</td>\n",
       "      <td>14950</td>\n",
       "      <td>20170613</td>\n",
       "      <td>104.000000</td>\n",
       "      <td>0</td>\n",
       "      <td>42</td>\n",
       "      <td>False</td>\n",
       "    </tr>\n",
       "    <tr>\n",
       "      <th>29</th>\n",
       "      <td>20170925</td>\n",
       "      <td>20171222</td>\n",
       "      <td>15950</td>\n",
       "      <td>15950</td>\n",
       "      <td>20170625</td>\n",
       "      <td>92.000000</td>\n",
       "      <td>0</td>\n",
       "      <td>20</td>\n",
       "      <td>False</td>\n",
       "    </tr>\n",
       "    <tr>\n",
       "      <th>30</th>\n",
       "      <td>20170925</td>\n",
       "      <td>20171215</td>\n",
       "      <td>8000</td>\n",
       "      <td>8000</td>\n",
       "      <td>20170611</td>\n",
       "      <td>106.000000</td>\n",
       "      <td>0</td>\n",
       "      <td>46</td>\n",
       "      <td>False</td>\n",
       "    </tr>\n",
       "    <tr>\n",
       "      <th>...</th>\n",
       "      <td>...</td>\n",
       "      <td>...</td>\n",
       "      <td>...</td>\n",
       "      <td>...</td>\n",
       "      <td>...</td>\n",
       "      <td>...</td>\n",
       "      <td>...</td>\n",
       "      <td>...</td>\n",
       "      <td>...</td>\n",
       "    </tr>\n",
       "    <tr>\n",
       "      <th>37475</th>\n",
       "      <td>20140816</td>\n",
       "      <td>20141025</td>\n",
       "      <td>3500</td>\n",
       "      <td>3500</td>\n",
       "      <td>20140815</td>\n",
       "      <td>1.000000</td>\n",
       "      <td>0</td>\n",
       "      <td>24</td>\n",
       "      <td>False</td>\n",
       "    </tr>\n",
       "    <tr>\n",
       "      <th>37476</th>\n",
       "      <td>20140816</td>\n",
       "      <td>20141025</td>\n",
       "      <td>3250</td>\n",
       "      <td>3250</td>\n",
       "      <td>20140814</td>\n",
       "      <td>2.000000</td>\n",
       "      <td>7</td>\n",
       "      <td>10</td>\n",
       "      <td>False</td>\n",
       "    </tr>\n",
       "    <tr>\n",
       "      <th>37477</th>\n",
       "      <td>20140816</td>\n",
       "      <td>20141025</td>\n",
       "      <td>3500</td>\n",
       "      <td>3500</td>\n",
       "      <td>20140814</td>\n",
       "      <td>2.000000</td>\n",
       "      <td>0</td>\n",
       "      <td>7</td>\n",
       "      <td>False</td>\n",
       "    </tr>\n",
       "    <tr>\n",
       "      <th>37478</th>\n",
       "      <td>20140816</td>\n",
       "      <td>20141025</td>\n",
       "      <td>3250</td>\n",
       "      <td>3250</td>\n",
       "      <td>20140813</td>\n",
       "      <td>3.000000</td>\n",
       "      <td>0</td>\n",
       "      <td>5</td>\n",
       "      <td>False</td>\n",
       "    </tr>\n",
       "    <tr>\n",
       "      <th>37479</th>\n",
       "      <td>20140816</td>\n",
       "      <td>20141018</td>\n",
       "      <td>4000</td>\n",
       "      <td>4000</td>\n",
       "      <td>20140806</td>\n",
       "      <td>10.000000</td>\n",
       "      <td>0</td>\n",
       "      <td>8</td>\n",
       "      <td>True</td>\n",
       "    </tr>\n",
       "    <tr>\n",
       "      <th>37480</th>\n",
       "      <td>20140812</td>\n",
       "      <td>20141016</td>\n",
       "      <td>25000</td>\n",
       "      <td>25000</td>\n",
       "      <td>20140806</td>\n",
       "      <td>6.000000</td>\n",
       "      <td>0</td>\n",
       "      <td>8</td>\n",
       "      <td>True</td>\n",
       "    </tr>\n",
       "    <tr>\n",
       "      <th>37481</th>\n",
       "      <td>20140812</td>\n",
       "      <td>20141016</td>\n",
       "      <td>25000</td>\n",
       "      <td>25000</td>\n",
       "      <td>20140819</td>\n",
       "      <td>-7.000000</td>\n",
       "      <td>0</td>\n",
       "      <td>11</td>\n",
       "      <td>True</td>\n",
       "    </tr>\n",
       "    <tr>\n",
       "      <th>37482</th>\n",
       "      <td>20140812</td>\n",
       "      <td>20141016</td>\n",
       "      <td>25000</td>\n",
       "      <td>25000</td>\n",
       "      <td>20140815</td>\n",
       "      <td>-3.000000</td>\n",
       "      <td>7</td>\n",
       "      <td>14</td>\n",
       "      <td>True</td>\n",
       "    </tr>\n",
       "    <tr>\n",
       "      <th>37483</th>\n",
       "      <td>20140812</td>\n",
       "      <td>20141016</td>\n",
       "      <td>25000</td>\n",
       "      <td>25000</td>\n",
       "      <td>20140805</td>\n",
       "      <td>7.000000</td>\n",
       "      <td>0</td>\n",
       "      <td>3</td>\n",
       "      <td>True</td>\n",
       "    </tr>\n",
       "    <tr>\n",
       "      <th>37484</th>\n",
       "      <td>20140812</td>\n",
       "      <td>20141016</td>\n",
       "      <td>25000</td>\n",
       "      <td>25000</td>\n",
       "      <td>20140808</td>\n",
       "      <td>4.000000</td>\n",
       "      <td>0</td>\n",
       "      <td>4</td>\n",
       "      <td>True</td>\n",
       "    </tr>\n",
       "    <tr>\n",
       "      <th>37485</th>\n",
       "      <td>20140811</td>\n",
       "      <td>20141022</td>\n",
       "      <td>3500</td>\n",
       "      <td>3500</td>\n",
       "      <td>20140808</td>\n",
       "      <td>3.000000</td>\n",
       "      <td>0</td>\n",
       "      <td>4</td>\n",
       "      <td>False</td>\n",
       "    </tr>\n",
       "    <tr>\n",
       "      <th>37486</th>\n",
       "      <td>20140811</td>\n",
       "      <td>20141022</td>\n",
       "      <td>3500</td>\n",
       "      <td>3500</td>\n",
       "      <td>20140808</td>\n",
       "      <td>3.000000</td>\n",
       "      <td>0</td>\n",
       "      <td>9</td>\n",
       "      <td>False</td>\n",
       "    </tr>\n",
       "    <tr>\n",
       "      <th>37487</th>\n",
       "      <td>20140811</td>\n",
       "      <td>20141022</td>\n",
       "      <td>3500</td>\n",
       "      <td>3500</td>\n",
       "      <td>20140808</td>\n",
       "      <td>3.000000</td>\n",
       "      <td>0</td>\n",
       "      <td>24</td>\n",
       "      <td>False</td>\n",
       "    </tr>\n",
       "    <tr>\n",
       "      <th>37488</th>\n",
       "      <td>20140811</td>\n",
       "      <td>20141022</td>\n",
       "      <td>3500</td>\n",
       "      <td>3500</td>\n",
       "      <td>20140808</td>\n",
       "      <td>3.000000</td>\n",
       "      <td>0</td>\n",
       "      <td>3</td>\n",
       "      <td>False</td>\n",
       "    </tr>\n",
       "    <tr>\n",
       "      <th>37489</th>\n",
       "      <td>20140811</td>\n",
       "      <td>20141022</td>\n",
       "      <td>3500</td>\n",
       "      <td>3500</td>\n",
       "      <td>20140811</td>\n",
       "      <td>0.000000</td>\n",
       "      <td>0</td>\n",
       "      <td>4</td>\n",
       "      <td>False</td>\n",
       "    </tr>\n",
       "    <tr>\n",
       "      <th>37490</th>\n",
       "      <td>20140811</td>\n",
       "      <td>20141022</td>\n",
       "      <td>3500</td>\n",
       "      <td>3500</td>\n",
       "      <td>20140808</td>\n",
       "      <td>3.000000</td>\n",
       "      <td>0</td>\n",
       "      <td>1</td>\n",
       "      <td>False</td>\n",
       "    </tr>\n",
       "    <tr>\n",
       "      <th>37491</th>\n",
       "      <td>20140809</td>\n",
       "      <td>20141018</td>\n",
       "      <td>3500</td>\n",
       "      <td>3500</td>\n",
       "      <td>20140718</td>\n",
       "      <td>22.000000</td>\n",
       "      <td>0</td>\n",
       "      <td>0</td>\n",
       "      <td>False</td>\n",
       "    </tr>\n",
       "    <tr>\n",
       "      <th>37492</th>\n",
       "      <td>20140809</td>\n",
       "      <td>20141018</td>\n",
       "      <td>3500</td>\n",
       "      <td>3500</td>\n",
       "      <td>20140816</td>\n",
       "      <td>-7.000000</td>\n",
       "      <td>0</td>\n",
       "      <td>8</td>\n",
       "      <td>False</td>\n",
       "    </tr>\n",
       "    <tr>\n",
       "      <th>37493</th>\n",
       "      <td>20140805</td>\n",
       "      <td>20141009</td>\n",
       "      <td>3250</td>\n",
       "      <td>3250</td>\n",
       "      <td>20140808</td>\n",
       "      <td>-2.000000</td>\n",
       "      <td>0</td>\n",
       "      <td>4</td>\n",
       "      <td>False</td>\n",
       "    </tr>\n",
       "    <tr>\n",
       "      <th>37494</th>\n",
       "      <td>20140805</td>\n",
       "      <td>20141009</td>\n",
       "      <td>3500</td>\n",
       "      <td>3500</td>\n",
       "      <td>20140804</td>\n",
       "      <td>2.000000</td>\n",
       "      <td>7</td>\n",
       "      <td>6</td>\n",
       "      <td>False</td>\n",
       "    </tr>\n",
       "    <tr>\n",
       "      <th>37495</th>\n",
       "      <td>20140805</td>\n",
       "      <td>20141009</td>\n",
       "      <td>3500</td>\n",
       "      <td>3500</td>\n",
       "      <td>20140805</td>\n",
       "      <td>1.000000</td>\n",
       "      <td>0</td>\n",
       "      <td>1</td>\n",
       "      <td>False</td>\n",
       "    </tr>\n",
       "    <tr>\n",
       "      <th>37496</th>\n",
       "      <td>20140805</td>\n",
       "      <td>20141009</td>\n",
       "      <td>3500</td>\n",
       "      <td>3500</td>\n",
       "      <td>20140805</td>\n",
       "      <td>1.000000</td>\n",
       "      <td>0</td>\n",
       "      <td>7</td>\n",
       "      <td>False</td>\n",
       "    </tr>\n",
       "    <tr>\n",
       "      <th>37497</th>\n",
       "      <td>20140804</td>\n",
       "      <td>20141031</td>\n",
       "      <td>11500</td>\n",
       "      <td>11500</td>\n",
       "      <td>20140620</td>\n",
       "      <td>45.000000</td>\n",
       "      <td>0</td>\n",
       "      <td>0</td>\n",
       "      <td>False</td>\n",
       "    </tr>\n",
       "    <tr>\n",
       "      <th>37498</th>\n",
       "      <td>20140804</td>\n",
       "      <td>20141008</td>\n",
       "      <td>3500</td>\n",
       "      <td>3500</td>\n",
       "      <td>20140730</td>\n",
       "      <td>5.000000</td>\n",
       "      <td>0</td>\n",
       "      <td>0</td>\n",
       "      <td>True</td>\n",
       "    </tr>\n",
       "    <tr>\n",
       "      <th>37499</th>\n",
       "      <td>20140804</td>\n",
       "      <td>20141031</td>\n",
       "      <td>11500</td>\n",
       "      <td>11500</td>\n",
       "      <td>20140808</td>\n",
       "      <td>-4.000000</td>\n",
       "      <td>0</td>\n",
       "      <td>8</td>\n",
       "      <td>False</td>\n",
       "    </tr>\n",
       "    <tr>\n",
       "      <th>37500</th>\n",
       "      <td>20140730</td>\n",
       "      <td>20141015</td>\n",
       "      <td>3250</td>\n",
       "      <td>3250</td>\n",
       "      <td>20140709</td>\n",
       "      <td>24.550735</td>\n",
       "      <td>0</td>\n",
       "      <td>13</td>\n",
       "      <td>False</td>\n",
       "    </tr>\n",
       "    <tr>\n",
       "      <th>37501</th>\n",
       "      <td>20140730</td>\n",
       "      <td>20141015</td>\n",
       "      <td>3250</td>\n",
       "      <td>3250</td>\n",
       "      <td>20140729</td>\n",
       "      <td>1.000000</td>\n",
       "      <td>21</td>\n",
       "      <td>57</td>\n",
       "      <td>False</td>\n",
       "    </tr>\n",
       "    <tr>\n",
       "      <th>37502</th>\n",
       "      <td>20140729</td>\n",
       "      <td>20141009</td>\n",
       "      <td>25000</td>\n",
       "      <td>25000</td>\n",
       "      <td>20140805</td>\n",
       "      <td>-7.000000</td>\n",
       "      <td>0</td>\n",
       "      <td>20</td>\n",
       "      <td>True</td>\n",
       "    </tr>\n",
       "    <tr>\n",
       "      <th>37503</th>\n",
       "      <td>20140721</td>\n",
       "      <td>20141001</td>\n",
       "      <td>4000</td>\n",
       "      <td>4000</td>\n",
       "      <td>20140719</td>\n",
       "      <td>2.000000</td>\n",
       "      <td>0</td>\n",
       "      <td>1</td>\n",
       "      <td>False</td>\n",
       "    </tr>\n",
       "    <tr>\n",
       "      <th>37504</th>\n",
       "      <td>20140717</td>\n",
       "      <td>20140925</td>\n",
       "      <td>3250</td>\n",
       "      <td>3250</td>\n",
       "      <td>20140709</td>\n",
       "      <td>8.000000</td>\n",
       "      <td>0</td>\n",
       "      <td>13</td>\n",
       "      <td>False</td>\n",
       "    </tr>\n",
       "  </tbody>\n",
       "</table>\n",
       "<p>35957 rows × 9 columns</p>\n",
       "</div>"
      ],
      "text/plain": [
       "       Startdate   Enddate  Price  LclPrice  EnrolDate  DaysEnroltoStartdate  \\\n",
       "0       20171127  20180209   9000      9000   20170605            175.000000   \n",
       "1       20171127  20180223   8000      8000   20170621            159.000000   \n",
       "2       20171127  20180223  13950     13950   20170402            239.000000   \n",
       "3       20171127  20180223   8000      8000   20170509            202.000000   \n",
       "4       20171127  20180223  13950     13950   20170615            165.000000   \n",
       "5       20171127  20180223   8000      8000   20170610            170.000000   \n",
       "6       20171127  20180223  13950     13950   20170511            200.000000   \n",
       "7       20171127  20180223   8000      8000   20170512            199.000000   \n",
       "8       20171120  20180223  17500     17500   20170527            176.000000   \n",
       "9       20171030  20180112  13950     13950   20170515            168.000000   \n",
       "10      20171030  20180112  13950     13950   20170610            142.000000   \n",
       "11      20171016  20171021   2800      2800   20170620            118.000000   \n",
       "12      20171016  20180112  10000     10000   20170606            132.000000   \n",
       "13      20171016  20180112  10000     10000   20170522            147.000000   \n",
       "14      20171016  20180112  10000     10000   20170523            146.000000   \n",
       "15      20171016  20180112  10000     10000   20170524            145.000000   \n",
       "16      20171010  20180105  14950     14950   20170601            131.000000   \n",
       "17      20171009  20171213   3950      3950   20170609            123.000000   \n",
       "18      20171004  20171211   4500      4500   20170602            124.000000   \n",
       "19      20171002  20171007   2800      2800   20170622            102.000000   \n",
       "20      20171002  20171127   2800      2800   20170609            115.000000   \n",
       "21      20171002  20171220  13500     13500   20170518            137.000000   \n",
       "22      20171002  20171220   3950      3950   20170623            101.000000   \n",
       "23      20171002  20171220  13500     13500   20170519            136.000000   \n",
       "24      20170926  20171207   3950      3950   20170621             98.000000   \n",
       "25      20170926  20171205   3950      3950   20170616            103.000000   \n",
       "27      20170925  20171215   8000      8000   20170609            108.000000   \n",
       "28      20170925  20171220  14950     14950   20170613            104.000000   \n",
       "29      20170925  20171222  15950     15950   20170625             92.000000   \n",
       "30      20170925  20171215   8000      8000   20170611            106.000000   \n",
       "...          ...       ...    ...       ...        ...                   ...   \n",
       "37475   20140816  20141025   3500      3500   20140815              1.000000   \n",
       "37476   20140816  20141025   3250      3250   20140814              2.000000   \n",
       "37477   20140816  20141025   3500      3500   20140814              2.000000   \n",
       "37478   20140816  20141025   3250      3250   20140813              3.000000   \n",
       "37479   20140816  20141018   4000      4000   20140806             10.000000   \n",
       "37480   20140812  20141016  25000     25000   20140806              6.000000   \n",
       "37481   20140812  20141016  25000     25000   20140819             -7.000000   \n",
       "37482   20140812  20141016  25000     25000   20140815             -3.000000   \n",
       "37483   20140812  20141016  25000     25000   20140805              7.000000   \n",
       "37484   20140812  20141016  25000     25000   20140808              4.000000   \n",
       "37485   20140811  20141022   3500      3500   20140808              3.000000   \n",
       "37486   20140811  20141022   3500      3500   20140808              3.000000   \n",
       "37487   20140811  20141022   3500      3500   20140808              3.000000   \n",
       "37488   20140811  20141022   3500      3500   20140808              3.000000   \n",
       "37489   20140811  20141022   3500      3500   20140811              0.000000   \n",
       "37490   20140811  20141022   3500      3500   20140808              3.000000   \n",
       "37491   20140809  20141018   3500      3500   20140718             22.000000   \n",
       "37492   20140809  20141018   3500      3500   20140816             -7.000000   \n",
       "37493   20140805  20141009   3250      3250   20140808             -2.000000   \n",
       "37494   20140805  20141009   3500      3500   20140804              2.000000   \n",
       "37495   20140805  20141009   3500      3500   20140805              1.000000   \n",
       "37496   20140805  20141009   3500      3500   20140805              1.000000   \n",
       "37497   20140804  20141031  11500     11500   20140620             45.000000   \n",
       "37498   20140804  20141008   3500      3500   20140730              5.000000   \n",
       "37499   20140804  20141031  11500     11500   20140808             -4.000000   \n",
       "37500   20140730  20141015   3250      3250   20140709             24.550735   \n",
       "37501   20140730  20141015   3250      3250   20140729              1.000000   \n",
       "37502   20140729  20141009  25000     25000   20140805             -7.000000   \n",
       "37503   20140721  20141001   4000      4000   20140719              2.000000   \n",
       "37504   20140717  20140925   3250      3250   20140709              8.000000   \n",
       "\n",
       "       DaysInvoicetoEnrol  DaysLeadtoEnroled   APAC  \n",
       "0                       7                 89  False  \n",
       "1                       0                 37  False  \n",
       "2                       7                 27  False  \n",
       "3                       0                 25  False  \n",
       "4                       0                 56  False  \n",
       "5                       0                 36  False  \n",
       "6                       0                  9  False  \n",
       "7                       0                 19  False  \n",
       "8                       0                299   True  \n",
       "9                       7                299  False  \n",
       "10                      0                 13  False  \n",
       "11                     28                197  False  \n",
       "12                      0                 34  False  \n",
       "13                      7                322  False  \n",
       "14                      0                 70  False  \n",
       "15                      0                 66  False  \n",
       "16                      0                400  False  \n",
       "17                      0                 35  False  \n",
       "18                      0                 16   True  \n",
       "19                      0                 16  False  \n",
       "20                      0                155  False  \n",
       "21                      0                113  False  \n",
       "22                      0                 65  False  \n",
       "23                      0                116  False  \n",
       "24                      0                 27  False  \n",
       "25                      0                  3  False  \n",
       "27                      0                 26  False  \n",
       "28                      0                 42  False  \n",
       "29                      0                 20  False  \n",
       "30                      0                 46  False  \n",
       "...                   ...                ...    ...  \n",
       "37475                   0                 24  False  \n",
       "37476                   7                 10  False  \n",
       "37477                   0                  7  False  \n",
       "37478                   0                  5  False  \n",
       "37479                   0                  8   True  \n",
       "37480                   0                  8   True  \n",
       "37481                   0                 11   True  \n",
       "37482                   7                 14   True  \n",
       "37483                   0                  3   True  \n",
       "37484                   0                  4   True  \n",
       "37485                   0                  4  False  \n",
       "37486                   0                  9  False  \n",
       "37487                   0                 24  False  \n",
       "37488                   0                  3  False  \n",
       "37489                   0                  4  False  \n",
       "37490                   0                  1  False  \n",
       "37491                   0                  0  False  \n",
       "37492                   0                  8  False  \n",
       "37493                   0                  4  False  \n",
       "37494                   7                  6  False  \n",
       "37495                   0                  1  False  \n",
       "37496                   0                  7  False  \n",
       "37497                   0                  0  False  \n",
       "37498                   0                  0   True  \n",
       "37499                   0                  8  False  \n",
       "37500                   0                 13  False  \n",
       "37501                  21                 57  False  \n",
       "37502                   0                 20   True  \n",
       "37503                   0                  1  False  \n",
       "37504                   0                 13  False  \n",
       "\n",
       "[35957 rows x 9 columns]"
      ]
     },
     "execution_count": 34,
     "metadata": {},
     "output_type": "execute_result"
    }
   ],
   "source": [
    "from sklearn import tree\n",
    "from sklearn.cross_validation import train_test_split\n",
    "from sklearn import metrics\n",
    "import matplotlib.pyplot as plt\n",
    "\n",
    "%matplotlib inline\n",
    "\n",
    "cancelled = treesubset['Cancelled']\n",
    "del treesubset['Cancelled']\n",
    "treesubset"
   ]
  },
  {
   "cell_type": "code",
   "execution_count": 35,
   "metadata": {
    "collapsed": false
   },
   "outputs": [
    {
     "data": {
      "text/plain": [
       "['Startdate',\n",
       " 'Enddate',\n",
       " 'Price',\n",
       " 'LclPrice',\n",
       " 'EnrolDate',\n",
       " 'DaysEnroltoStartdate',\n",
       " 'DaysInvoicetoEnrol',\n",
       " 'DaysLeadtoEnroled',\n",
       " 'APAC']"
      ]
     },
     "execution_count": 35,
     "metadata": {},
     "output_type": "execute_result"
    }
   ],
   "source": [
    "X_train, X_test, y_train, y_test = train_test_split(treesubset, cancelled, random_state=1)\n",
    "ctree = tree.DecisionTreeClassifier(random_state=1, max_depth=2)\n",
    "# Fit the decision tree classifier\n",
    "ctree.fit(X_train, y_train)\n",
    "# Create a feature vector\n",
    "features = treesubset.columns.tolist()\n",
    "features"
   ]
  },
  {
   "cell_type": "code",
   "execution_count": 36,
   "metadata": {
    "collapsed": false
   },
   "outputs": [],
   "source": [
    "from io import StringIO\n",
    "out = StringIO()\n",
    "tree.export_graphviz(ctree, out_file = out)\n",
    "from sklearn.tree import export_graphviz\n",
    "export_graphviz(ctree, out_file='decisiontree.dot', feature_names=features)"
   ]
  },
  {
   "cell_type": "markdown",
   "metadata": {
    "collapsed": true
   },
   "source": [
    "#### Previously exported: \n",
    "<img src=\"decisiontree-enrolments.png\">"
   ]
  },
  {
   "cell_type": "markdown",
   "metadata": {
    "collapsed": true
   },
   "source": [
    "### Linear or Logistic Regression?"
   ]
  },
  {
   "cell_type": "code",
   "execution_count": 90,
   "metadata": {
    "collapsed": true
   },
   "outputs": [],
   "source": [
    "import pandas as pd\n",
    "# data = enrolments\n",
    "\n",
    "enrolmentswd = pd.get_dummies(data=enrolments, columns = ['ApplicationType'], prefix = ['ApplicationType'] )\n",
    "#define the columns to read (x), and the target (y)"
   ]
  },
  {
   "cell_type": "code",
   "execution_count": 91,
   "metadata": {
    "collapsed": false
   },
   "outputs": [
    {
     "data": {
      "text/plain": [
       "Index(['Startdate', 'Enddate', 'Price', 'Metro', 'Course', 'Type', 'LclPrice',\n",
       "       'DaysEnroltoStartdate', 'DaysInvoicetoEnrol', 'DaysLeadtoEnroled',\n",
       "       'EnrolDate', 'CanceledDate', 'Email', 'ExpectedPayment',\n",
       "       'InvoiceAmountLcl', 'PardotCategory', 'Email.1', 'LeadID',\n",
       "       'OppCreatedDate', 'PhoneValid', 'SpeedtoLead', 'InstanceID',\n",
       "       'Cancelled', 'APAC', 'ApplicationType_apply now',\n",
       "       'ApplicationType_contact_admissions', 'ApplicationType_cwe_feedback',\n",
       "       'ApplicationType_financing contact us', 'ApplicationType_get notified',\n",
       "       'ApplicationType_info session', 'ApplicationType_lander',\n",
       "       'ApplicationType_open house', 'ApplicationType_referral',\n",
       "       'ApplicationType_request info', 'ApplicationType_trial class'],\n",
       "      dtype='object')"
      ]
     },
     "execution_count": 91,
     "metadata": {},
     "output_type": "execute_result"
    }
   ],
   "source": [
    "enrolmentswd.columns"
   ]
  },
  {
   "cell_type": "code",
   "execution_count": 99,
   "metadata": {
    "collapsed": false
   },
   "outputs": [],
   "source": [
    "feature_cols = ['DaysEnroltoStartdate','DaysInvoicetoEnrol','DaysLeadtoEnroled','APAC']\n",
    "X = enrolmentswd[feature_cols]\n",
    "y = enrolmentswd.Cancelled"
   ]
  },
  {
   "cell_type": "code",
   "execution_count": 100,
   "metadata": {
    "collapsed": false
   },
   "outputs": [],
   "source": [
    "#enrolmentswd['DaysEnroltoStartdate'].fillna(value=0,inplace=True)\n",
    "#enrolmentswd['ExpectedPayment'].fillna(value=0,inplace=True)\n",
    "#enrolmentswd.isnull().sum()"
   ]
  },
  {
   "cell_type": "code",
   "execution_count": 101,
   "metadata": {
    "collapsed": false
   },
   "outputs": [
    {
     "name": "stdout",
     "output_type": "stream",
     "text": [
      "LogisticRegression(C=1.0, class_weight=None, dual=False, fit_intercept=True,\n",
      "          intercept_scaling=1, max_iter=100, multi_class='ovr', n_jobs=1,\n",
      "          penalty='l2', random_state=None, solver='liblinear', tol=0.0001,\n",
      "          verbose=0, warm_start=False)\n"
     ]
    }
   ],
   "source": [
    "#split the data\n",
    "from sklearn.cross_validation import train_test_split\n",
    "from sklearn.cross_validation import cross_val_score\n",
    "\n",
    "X_train, X_test, y_train, y_test = train_test_split(X, y, random_state=1)\n",
    "#fit the logreg model and print the coefficients\n",
    "from sklearn.linear_model import LogisticRegression\n",
    "logreg = LogisticRegression()\n",
    "logreg.fit(X_train, y_train)\n",
    "zip(feature_cols, logreg.coef_[0])\n",
    "print(logreg.fit(X_train, y_train))"
   ]
  },
  {
   "cell_type": "code",
   "execution_count": 102,
   "metadata": {
    "collapsed": false
   },
   "outputs": [
    {
     "name": "stdout",
     "output_type": "stream",
     "text": [
      "0.816462736374\n"
     ]
    }
   ],
   "source": [
    "#test accuracy\n",
    "y_pred_class = logreg.predict(X_test)\n",
    "from sklearn import metrics\n",
    "print(metrics.accuracy_score(y_test,y_pred_class))"
   ]
  },
  {
   "cell_type": "code",
   "execution_count": 103,
   "metadata": {
    "collapsed": false
   },
   "outputs": [
    {
     "name": "stdout",
     "output_type": "stream",
     "text": [
      "0.816462736374\n"
     ]
    }
   ],
   "source": [
    "from sklearn.dummy import DummyClassifier\n",
    "dumb = DummyClassifier(strategy='most_frequent')\n",
    "dumb.fit(X_train, y_train)\n",
    "y_dumb_class = dumb.predict(X_test)\n",
    "print (metrics.accuracy_score(y_test, y_dumb_class))"
   ]
  },
  {
   "cell_type": "code",
   "execution_count": 104,
   "metadata": {
    "collapsed": false
   },
   "outputs": [
    {
     "name": "stdout",
     "output_type": "stream",
     "text": [
      "[ 0.82235196  0.82258065  0.82258065  0.82258065  0.82258065  0.82258065\n",
      "  0.82253129  0.82253129  0.82253129  0.82253129]\n"
     ]
    }
   ],
   "source": [
    "scores = cross_val_score(LogisticRegression(), X, y, scoring='accuracy', cv=10)\n",
    "print(scores)"
   ]
  },
  {
   "cell_type": "code",
   "execution_count": 105,
   "metadata": {
    "collapsed": false
   },
   "outputs": [
    {
     "name": "stdout",
     "output_type": "stream",
     "text": [
      "0.822538035963\n"
     ]
    }
   ],
   "source": [
    "print(scores.mean())"
   ]
  },
  {
   "cell_type": "code",
   "execution_count": 106,
   "metadata": {
    "collapsed": false
   },
   "outputs": [
    {
     "name": "stdout",
     "output_type": "stream",
     "text": [
      "[[7340    0]\n",
      " [1650    0]]\n"
     ]
    }
   ],
   "source": [
    "#print the confusion matrix\n",
    "from sklearn import metrics\n",
    "prds = logreg.predict(X)\n",
    "print(metrics.confusion_matrix(y_test, y_pred_class))"
   ]
  },
  {
   "cell_type": "code",
   "execution_count": 107,
   "metadata": {
    "collapsed": false
   },
   "outputs": [
    {
     "data": {
      "image/png": "[encoded data removed]",
      "text/plain": [
       "<matplotlib.figure.Figure at 0x127e8fba8>"
      ]
     },
     "metadata": {},
     "output_type": "display_data"
    }
   ],
   "source": [
    "#generate the ROC curve\n",
    "import matplotlib.pyplot as plt\n",
    "# Generate the prediction values for each of the test observations using predict_proba() function rather than just predict\n",
    "preds = logreg.predict_proba(X_test)[:,1]\n",
    "# Store the false positive rate(fpr), true positive rate (tpr) in vectors for use in the graph\n",
    "fpr, tpr, _ = metrics.roc_curve(y_test, preds)\n",
    "# Store the Area Under the Curve (AUC) so we can annotate our graph with this metric\n",
    "roc_auc = metrics.auc(fpr,tpr)\n",
    "# Plot the ROC Curve\n",
    "plt.figure()\n",
    "lw = 2\n",
    "plt.plot(fpr, tpr, color='darkorange',\n",
    "         lw=lw, label='ROC curve (area = %0.2f)' % roc_auc)\n",
    "plt.plot([0, 1], [0, 1], color='navy', lw=lw, linestyle='--')\n",
    "plt.xlim([0.0, 1.0])\n",
    "plt.ylim([0.0, 1.05])\n",
    "plt.xlabel('False Positive Rate')\n",
    "plt.ylabel('True Positive Rate')\n",
    "plt.title('Receiver operating characteristic example')\n",
    "plt.legend(loc=\"lower right\")\n",
    "plt.show()\n",
    "# Our aim when modelling is to maximise the area under the curve, the closer to one the better the model."
   ]
  },
  {
   "cell_type": "markdown",
   "metadata": {},
   "source": [
    "#### Regression "
   ]
  },
  {
   "cell_type": "code",
   "execution_count": 108,
   "metadata": {
    "collapsed": false
   },
   "outputs": [
    {
     "name": "stdout",
     "output_type": "stream",
     "text": [
      "RMSE (No reg.) = 0.428412492379\n"
     ]
    },
    {
     "name": "stderr",
     "output_type": "stream",
     "text": [
      "/anaconda/lib/python3.6/site-packages/sklearn/metrics/regression.py:232: DeprecationWarning:\n",
      "\n",
      "numpy boolean subtract, the `-` operator, is deprecated, use the bitwise_xor, the `^` operator, or the logical_xor function instead.\n",
      "\n"
     ]
    }
   ],
   "source": [
    "print('RMSE (No reg.) =', np.sqrt(metrics.mean_squared_error(y_test,y_pred_class)))"
   ]
  },
  {
   "cell_type": "code",
   "execution_count": 109,
   "metadata": {
    "collapsed": false
   },
   "outputs": [
    {
     "name": "stdout",
     "output_type": "stream",
     "text": [
      "Optimal Alpha Value:  0.01\n",
      "RMSE (Ridge CV reg.) = 0.386062656861\n"
     ]
    }
   ],
   "source": [
    "from sklearn.linear_model import RidgeCV\n",
    "alpha_range = 10.**np.arange(-5, 5)\n",
    "rregcv = RidgeCV(normalize=True, scoring='neg_mean_squared_error', alphas=alpha_range)\n",
    "rregcv.fit(X_train, y_train)\n",
    "# Print the optimal value of Alpha for Ridge Regression\n",
    "print('Optimal Alpha Value: ', rregcv.alpha_)\n",
    "# Print the RMSE for the ridge regression model\n",
    "preds = rregcv.predict(X_test)\n",
    "print ('RMSE (Ridge CV reg.) =', np.sqrt(metrics.mean_squared_error(y_test, preds)))"
   ]
  },
  {
   "cell_type": "code",
   "execution_count": 110,
   "metadata": {
    "collapsed": false
   },
   "outputs": [
    {
     "name": "stdout",
     "output_type": "stream",
     "text": [
      "Optimal Alpha Value:  0.0001\n",
      "RMSE (Lasso CV reg.) = 0.387140902791\n"
     ]
    }
   ],
   "source": [
    "from sklearn.linear_model import LassoCV\n",
    "alpha_range = 10.**np.arange(-4, 4)\n",
    "lascv = LassoCV(normalize=True, alphas=alpha_range)\n",
    "lascv.fit(X_train, y_train)\n",
    "print('Optimal Alpha Value: ',lascv.alpha_)\n",
    "lascv.coef_\n",
    "preds = lascv.predict(X_test)\n",
    "print('RMSE (Lasso CV reg.) =', np.sqrt(metrics.mean_squared_error(y_test, preds)))"
   ]
  },
  {
   "cell_type": "code",
   "execution_count": 111,
   "metadata": {
    "collapsed": false
   },
   "outputs": [
    {
     "name": "stdout",
     "output_type": "stream",
     "text": [
      "Optimal Alpha Value:  100.0\n",
      "RMSE (ENET CV reg.) 0.387191111097\n"
     ]
    }
   ],
   "source": [
    "from sklearn.linear_model import ElasticNetCV\n",
    "alpha_range = 10.**np.arange(-3, 3)\n",
    "enetCV = ElasticNetCV(normalize=True, alphas=alpha_range)\n",
    "enetCV.fit(X_train, y_train)\n",
    "print('Optimal Alpha Value: ',enetCV.alpha_)\n",
    "enetCV.coef_\n",
    "preds = enetCV.predict(X_test)\n",
    "print('RMSE (ENET CV reg.)', np.sqrt(metrics.mean_squared_error(y_test, preds)))"
   ]
  },
  {
   "cell_type": "markdown",
   "metadata": {},
   "source": [
    "### KNN Classifier"
   ]
  },
  {
   "cell_type": "code",
   "execution_count": 112,
   "metadata": {
    "collapsed": false
   },
   "outputs": [
    {
     "name": "stdout",
     "output_type": "stream",
     "text": [
      "0.878531701891\n"
     ]
    }
   ],
   "source": [
    "from sklearn.neighbors import KNeighborsClassifier\n",
    "KNN_model = KNeighborsClassifier(5)\n",
    "KNN_model.fit(X_train, y_train)\n",
    "y_pred_class = KNN_model.predict(X_test)\n",
    "# Print the new accuracy rate\n",
    "print(metrics.accuracy_score(y_test, y_pred_class))"
   ]
  },
  {
   "cell_type": "markdown",
   "metadata": {},
   "source": [
    "### Random Forrest"
   ]
  },
  {
   "cell_type": "code",
   "execution_count": 113,
   "metadata": {
    "collapsed": false
   },
   "outputs": [
    {
     "data": {
      "text/plain": [
       "['DaysEnroltoStartdate', 'DaysInvoicetoEnrol', 'DaysLeadtoEnroled', 'APAC']"
      ]
     },
     "execution_count": 113,
     "metadata": {},
     "output_type": "execute_result"
    }
   ],
   "source": [
    "feature_cols"
   ]
  },
  {
   "cell_type": "code",
   "execution_count": 114,
   "metadata": {
    "collapsed": false
   },
   "outputs": [
    {
     "data": {
      "text/plain": [
       "0.88895069110326219"
      ]
     },
     "execution_count": 114,
     "metadata": {},
     "output_type": "execute_result"
    }
   ],
   "source": [
    "from sklearn.ensemble import RandomForestClassifier\n",
    "rfclf = RandomForestClassifier(n_estimators=500, max_features=1, oob_score=True, random_state=1)\n",
    "rfclf.fit(enrolmentswd[feature_cols], enrolmentswd.Cancelled)\n",
    "rfclf.oob_score_"
   ]
  },
  {
   "cell_type": "code",
   "execution_count": 115,
   "metadata": {
    "collapsed": false
   },
   "outputs": [
    {
     "data": {
      "text/html": [
       "<div>\n",
       "<table border=\"1\" class=\"dataframe\">\n",
       "  <thead>\n",
       "    <tr style=\"text-align: right;\">\n",
       "      <th></th>\n",
       "      <th>feature</th>\n",
       "      <th>importance</th>\n",
       "    </tr>\n",
       "  </thead>\n",
       "  <tbody>\n",
       "    <tr>\n",
       "      <th>0</th>\n",
       "      <td>DaysEnroltoStartdate</td>\n",
       "      <td>0.756590</td>\n",
       "    </tr>\n",
       "    <tr>\n",
       "      <th>1</th>\n",
       "      <td>DaysInvoicetoEnrol</td>\n",
       "      <td>0.016991</td>\n",
       "    </tr>\n",
       "    <tr>\n",
       "      <th>2</th>\n",
       "      <td>DaysLeadtoEnroled</td>\n",
       "      <td>0.223054</td>\n",
       "    </tr>\n",
       "    <tr>\n",
       "      <th>3</th>\n",
       "      <td>APAC</td>\n",
       "      <td>0.003365</td>\n",
       "    </tr>\n",
       "  </tbody>\n",
       "</table>\n",
       "</div>"
      ],
      "text/plain": [
       "                feature  importance\n",
       "0  DaysEnroltoStartdate    0.756590\n",
       "1    DaysInvoicetoEnrol    0.016991\n",
       "2     DaysLeadtoEnroled    0.223054\n",
       "3                  APAC    0.003365"
      ]
     },
     "execution_count": 115,
     "metadata": {},
     "output_type": "execute_result"
    }
   ],
   "source": [
    "pd.DataFrame({'feature':feature_cols, 'importance':rfclf.feature_importances_})"
   ]
  },
  {
   "cell_type": "markdown",
   "metadata": {},
   "source": [
    "### Parameter tuning?"
   ]
  },
  {
   "cell_type": "code",
   "execution_count": null,
   "metadata": {
    "collapsed": true
   },
   "outputs": [],
   "source": []
  }
 ],
 "metadata": {
  "kernelspec": {
   "display_name": "Python 3",
   "language": "python",
   "name": "python3"
  },
  "language_info": {
   "codemirror_mode": {
    "name": "ipython",
    "version": 3
   },
   "file_extension": ".py",
   "mimetype": "text/x-python",
   "name": "python",
   "nbconvert_exporter": "python",
   "pygments_lexer": "ipython3",
   "version": "3.6.0"
  }
 },
 "nbformat": 4,
 "nbformat_minor": 2
}
