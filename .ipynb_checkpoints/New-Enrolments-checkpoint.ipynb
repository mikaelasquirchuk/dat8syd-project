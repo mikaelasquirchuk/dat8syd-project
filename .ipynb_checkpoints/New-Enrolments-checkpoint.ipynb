{
 "cells": [
  {
   "cell_type": "markdown",
   "metadata": {},
   "source": [
    "# Enrolments Data"
   ]
  },
  {
   "cell_type": "markdown",
   "metadata": {},
   "source": [
    "## Exploration\n",
    "### Statistical exploration"
   ]
  },
  {
   "cell_type": "markdown",
   "metadata": {},
   "source": [
    "#### Reading the data, removing useless columns and adding special columns"
   ]
  },
  {
   "cell_type": "code",
   "execution_count": 1,
   "metadata": {
    "collapsed": false
   },
   "outputs": [],
   "source": [
    "import pandas as pd\n",
    "import numpy as np\n",
    "#Read the data\n",
    "enrolments = pd.read_csv(\"data/courses snap_sales_funnel 2017-07-05T1254.csv\",low_memory=False)"
   ]
  },
  {
   "cell_type": "code",
   "execution_count": 2,
   "metadata": {
    "collapsed": false
   },
   "outputs": [
    {
     "data": {
      "text/plain": [
       "Index(['Startdate', 'Enddate', 'Metro', 'Course', 'PhoneValid', 'Price',\n",
       "       'Type', 'DaysEnroltoStart', 'DaysInvoicetoEnrol', 'DaysLeadtoEnroled',\n",
       "       'EnrolDate', 'EnrolDay', 'EnrolHour', 'Month', 'EnrolWeek', 'Year',\n",
       "       'CanceledDate', 'CanceledMonth', 'ExpectedPayment', 'PardotCategory',\n",
       "       'ApplicationType', 'LeadID', 'Status', 'OppCreatedDate',\n",
       "       'OppOwnerMetro', 'SpeedtoLead', 'CampaignSource',\n",
       "       'CampaignSourceCategory'],\n",
       "      dtype='object')"
      ]
     },
     "execution_count": 2,
     "metadata": {},
     "output_type": "execute_result"
    }
   ],
   "source": [
    "enrolments.columns"
   ]
  },
  {
   "cell_type": "markdown",
   "metadata": {},
   "source": [
    "##### Columns\n",
    "- 'Startdate' = Enrolment course start date\n",
    "- 'Enddate'= Enrolment course end date\n",
    "- 'Metro' = Enrolment course location\n",
    "- 'Course' = Enrolment course (WDi, DAT, etc.)\n",
    "- 'PhoneValid' = Whether enrolment has valid phone number\n",
    "- 'Price' = Enrolment course price\n",
    "- 'Type' = Enrolment course type (immersive, part-time, remote)\n",
    "- 'DaysEnroltoStart' = Days between enrolment and course start date\n",
    "- 'DaysInvoicetoEnrol'= Days between invoice and enrolment\n",
    "- 'DaysLeadtoEnroled' = Days between lead entry (e.g. website visit) to enrolment\n",
    "- 'EnrolDate' = Date of enrolment\n",
    "- 'EnrolDay' = Day (of the week) of enrolment\n",
    "- 'EnrolHour' = Hour of enrolment\n",
    "- 'Month' = Month of enrolment\n",
    "- 'EnrolWeek' = Week of enrolment\n",
    "- 'Year' = Year of enrolment\n",
    "- 'CanceledDate' = Date cancelled\n",
    "- 'CanceledMonth' = Month cancelled\n",
    "- 'ExpectedPayment' = Method of expected payment (e.g. employer paid, personal loan, etc.)\n",
    "- 'PardotCategory' = Category of lead - how did they enter our system?\n",
    "- 'ApplicationType' = Type of application\n",
    "- 'LeadID' = ID of lead\n",
    "- 'Status'= Status of lead\n",
    "- 'OppCreatedDate' = Date lead creation\n",
    "- 'OppOwnerMetro' = Metro of lead creation\n",
    "- 'SpeedtoLead' = Time taken to contact lead\n",
    "- 'CampaignSource' = Source of campaign\n",
    "- 'CampaignSourceCategory' = Category of source of campaign"
   ]
  },
  {
   "cell_type": "code",
   "execution_count": 3,
   "metadata": {
    "collapsed": false
   },
   "outputs": [
    {
     "name": "stdout",
     "output_type": "stream",
     "text": [
      "<class 'pandas.core.frame.DataFrame'>\n",
      "RangeIndex: 50407 entries, 0 to 50406\n",
      "Data columns (total 28 columns):\n",
      "Startdate                 50407 non-null int64\n",
      "Enddate                   50407 non-null int64\n",
      "Metro                     50407 non-null object\n",
      "Course                    50407 non-null object\n",
      "PhoneValid                50407 non-null object\n",
      "Price                     50406 non-null float64\n",
      "Type                      50407 non-null object\n",
      "DaysEnroltoStart          46003 non-null float64\n",
      "DaysInvoicetoEnrol        50407 non-null int64\n",
      "DaysLeadtoEnroled         50407 non-null int64\n",
      "EnrolDate                 50407 non-null int64\n",
      "EnrolDay                  50407 non-null object\n",
      "EnrolHour                 50407 non-null int64\n",
      "Month                     50407 non-null int64\n",
      "EnrolWeek                 50407 non-null int64\n",
      "Year                      50407 non-null int64\n",
      "CanceledDate              9327 non-null float64\n",
      "CanceledMonth             9327 non-null float64\n",
      "ExpectedPayment           38772 non-null object\n",
      "PardotCategory            49407 non-null object\n",
      "ApplicationType           50407 non-null object\n",
      "LeadID                    50407 non-null int64\n",
      "Status                    39337 non-null object\n",
      "OppCreatedDate            50407 non-null int64\n",
      "OppOwnerMetro             35864 non-null object\n",
      "SpeedtoLead               13118 non-null float64\n",
      "CampaignSource            42503 non-null object\n",
      "CampaignSourceCategory    50407 non-null object\n",
      "dtypes: float64(5), int64(11), object(12)\n",
      "memory usage: 10.8+ MB\n"
     ]
    }
   ],
   "source": [
    "enrolments.info()"
   ]
  },
  {
   "cell_type": "markdown",
   "metadata": {},
   "source": [
    "##### Remove some useless columns or unused columns (with majority null value)"
   ]
  },
  {
   "cell_type": "code",
   "execution_count": 4,
   "metadata": {
    "collapsed": false
   },
   "outputs": [
    {
     "data": {
      "text/plain": [
       "Index(['Startdate', 'Enddate', 'Metro', 'Course', 'PhoneValid', 'Price',\n",
       "       'Type', 'DaysEnroltoStart', 'DaysInvoicetoEnrol', 'DaysLeadtoEnroled',\n",
       "       'EnrolDate', 'EnrolDay', 'EnrolHour', 'Month', 'EnrolWeek', 'Year',\n",
       "       'CanceledDate', 'CanceledMonth', 'ExpectedPayment', 'PardotCategory',\n",
       "       'ApplicationType'],\n",
       "      dtype='object')"
      ]
     },
     "execution_count": 4,
     "metadata": {},
     "output_type": "execute_result"
    }
   ],
   "source": [
    "enrolments.drop('Status', axis=1, inplace=True)\n",
    "enrolments.drop('CampaignSourceCategory',axis=1,inplace=True)\n",
    "enrolments.drop('CampaignSource',axis=1,inplace=True)\n",
    "enrolments.drop('OppOwnerMetro', axis=1, inplace=True)\n",
    "enrolments.drop('OppCreatedDate', axis=1, inplace=True)\n",
    "enrolments.drop('LeadID', axis=1, inplace=True)\n",
    "enrolments.drop('SpeedtoLead', axis=1, inplace=True)\n",
    "enrolments.columns"
   ]
  },
  {
   "cell_type": "code",
   "execution_count": 5,
   "metadata": {
    "collapsed": false
   },
   "outputs": [],
   "source": [
    "#Add cancelled column to track whether an enrolment cancelled\n",
    "enrolments['Cancelled'] = enrolments.CanceledDate.notnull()\n",
    "enrolments.drop('CanceledDate', axis=1, inplace=True)\n",
    "enrolments.drop('CanceledMonth', axis=1, inplace=True)"
   ]
  },
  {
   "cell_type": "code",
   "execution_count": 6,
   "metadata": {
    "collapsed": false
   },
   "outputs": [
    {
     "data": {
      "text/plain": [
       "False    42530\n",
       "True      7877\n",
       "Name: APAC, dtype: int64"
      ]
     },
     "execution_count": 6,
     "metadata": {},
     "output_type": "execute_result"
    }
   ],
   "source": [
    "#Add an APAC column\n",
    "enrolments['APAC'] = enrolments['Metro'].isin(['sydney','melbourne','hong-kong','singapore','brisbane'])\n",
    "enrolments.APAC.value_counts()"
   ]
  },
  {
   "cell_type": "code",
   "execution_count": 7,
   "metadata": {
    "collapsed": false
   },
   "outputs": [],
   "source": [
    "#Limit to only post mid-2014 data and pre mid-2017 data\n",
    "enrolments = enrolments[enrolments.EnrolDate > 20140630]\n",
    "enrolments = enrolments[enrolments.Startdate < 20170630]"
   ]
  },
  {
   "cell_type": "code",
   "execution_count": 8,
   "metadata": {
    "collapsed": true
   },
   "outputs": [],
   "source": [
    "#Cancellations are enroled before their course starts, so daysenroltostart must be positive\n",
    "enrolments = enrolments[enrolments.DaysEnroltoStart > 0]"
   ]
  },
  {
   "cell_type": "code",
   "execution_count": 9,
   "metadata": {
    "collapsed": false
   },
   "outputs": [],
   "source": [
    "#Some anomalies in the price data - restrictions!\n",
    "enrolments = enrolments[enrolments.Price < 20000]"
   ]
  },
  {
   "cell_type": "code",
   "execution_count": 10,
   "metadata": {
    "collapsed": false
   },
   "outputs": [
    {
     "data": {
      "text/plain": [
       "(32699, 21)"
      ]
     },
     "execution_count": 10,
     "metadata": {},
     "output_type": "execute_result"
    }
   ],
   "source": [
    "#enrolments.info()\n",
    "#enrolments.describe()\n",
    "enrolments.shape\n",
    "#enrolments.columns"
   ]
  },
  {
   "cell_type": "markdown",
   "metadata": {},
   "source": [
    "#### Dealing with null values"
   ]
  },
  {
   "cell_type": "code",
   "execution_count": 11,
   "metadata": {
    "collapsed": false
   },
   "outputs": [
    {
     "data": {
      "text/plain": [
       "Startdate                0\n",
       "Enddate                  0\n",
       "Metro                    0\n",
       "Course                   0\n",
       "PhoneValid               0\n",
       "Price                    0\n",
       "Type                     0\n",
       "DaysEnroltoStart         0\n",
       "DaysInvoicetoEnrol       0\n",
       "DaysLeadtoEnroled        0\n",
       "EnrolDate                0\n",
       "EnrolDay                 0\n",
       "EnrolHour                0\n",
       "Month                    0\n",
       "EnrolWeek                0\n",
       "Year                     0\n",
       "ExpectedPayment       3035\n",
       "PardotCategory         665\n",
       "ApplicationType          0\n",
       "Cancelled                0\n",
       "APAC                     0\n",
       "dtype: int64"
      ]
     },
     "execution_count": 11,
     "metadata": {},
     "output_type": "execute_result"
    }
   ],
   "source": [
    "enrolments.isnull().sum()"
   ]
  },
  {
   "cell_type": "code",
   "execution_count": 12,
   "metadata": {
    "collapsed": false
   },
   "outputs": [],
   "source": [
    "#enrolments.Price.fillna(0, inplace=True)"
   ]
  },
  {
   "cell_type": "code",
   "execution_count": 13,
   "metadata": {
    "collapsed": false
   },
   "outputs": [
    {
     "data": {
      "text/plain": [
       "Student / Self                24192\n",
       "Employer                       3249\n",
       "Unknown                        3035\n",
       "Loan Partner                   1603\n",
       "Veterans Affairs                176\n",
       "Scholarship                     142\n",
       "Family                           88\n",
       "Other                            76\n",
       "Loan (Private)                   50\n",
       "Government Funding / Grant       48\n",
       "GA Employee/Instructor           40\n",
       "Name: ExpectedPayment, dtype: int64"
      ]
     },
     "execution_count": 13,
     "metadata": {},
     "output_type": "execute_result"
    }
   ],
   "source": [
    "enrolments['ExpectedPayment'] = enrolments.ExpectedPayment.map({\n",
    "    'Student / Self': 'Student / Self',\n",
    "    'Student (self)': 'Student / Self',\n",
    "    'Employer': 'Employer',\n",
    "    'Loan (Partner, please note)': 'Loan Partner',\n",
    "    'Veterans Affairs': 'Veterans Affairs',\n",
    "    'Employer Bulk Pre-paid': 'Employer',\n",
    "    'Scholarship (Opportunity Fund)': 'Scholarship',\n",
    "    'Loan Partner (please note)': 'Loan Partner',\n",
    "    'Family':'Family',\n",
    "    'Other (please note)':'Other',\n",
    "    'GA Employee/Instructor':'GA Employee/Instructor',\n",
    "    'Loan (Private Bank, please note)':'Loan (Private)',\n",
    "    'Government Funding / Grant':'Government Funding / Grant',\n",
    "    'Other':'Other',\n",
    "    'CourseHorse':'Other',\n",
    "    'Opportunity Fund':'Scholarship',\n",
    "    'Enterprise Credit':'Other',\n",
    "    'Scholarship (GA Partner, please note)':'Scholarship',\n",
    "    'Scholarship (Other, please note)':'Scholarship',\n",
    "})\n",
    "enrolments.ExpectedPayment.fillna(\"Unknown\", inplace=True)\n",
    "enrolments.ExpectedPayment.value_counts()"
   ]
  },
  {
   "cell_type": "code",
   "execution_count": 14,
   "metadata": {
    "collapsed": false
   },
   "outputs": [
    {
     "data": {
      "text/plain": [
       "GA Course Leads                15387\n",
       "Website                         4918\n",
       "CWE Purchase                    3922\n",
       "Facebook Acquisition            1363\n",
       "Other                           1212\n",
       "GA Dash                         1198\n",
       "Sweepstake                      1102\n",
       "Unknown                          675\n",
       "GA Front Row Signup              468\n",
       "Partner Event                    406\n",
       "Twitter Promoted                 364\n",
       "GA Circuits Leads                308\n",
       "Twitter Acquisition              200\n",
       "Uncategorized                    182\n",
       "Student Enrollment               137\n",
       "Content Partnership              127\n",
       "Livestream Purchase              120\n",
       "Scholarship                       90\n",
       "Partner Livestream                81\n",
       "CWE Walk Ins                      75\n",
       "Global Acquisition Campaign       73\n",
       "Free Front Row Trial Local        53\n",
       "GA Content                        42\n",
       "GA Event                          29\n",
       "Social Organic                    29\n",
       "GA Blog                           25\n",
       "LinkedIn Acquisition              22\n",
       "List Purchase                     18\n",
       "Tuition Credit                    12\n",
       "Local Sweepstake                  11\n",
       "GA Hub                             8\n",
       "GA University Leads                8\n",
       "Facebook Lead Gen                  7\n",
       "AdWords Acquisition                6\n",
       "Local Content Partnership          6\n",
       "Free Front Row Trial Global        5\n",
       "Affiliate Lead Gen                 4\n",
       "Adwords Lead Gen                   4\n",
       "Facebook Promoted                  2\n",
       "Name: PardotCategory, dtype: int64"
      ]
     },
     "execution_count": 14,
     "metadata": {},
     "output_type": "execute_result"
    }
   ],
   "source": [
    "enrolments.PardotCategory.fillna(\"Unknown\", inplace=True)\n",
    "enrolments.PardotCategory.value_counts()"
   ]
  },
  {
   "cell_type": "code",
   "execution_count": 15,
   "metadata": {
    "collapsed": false
   },
   "outputs": [],
   "source": [
    "#enrolments.SpeedtoLead.value_counts()\n",
    "#enrolments.SpeedtoLead.fillna(enrolments.SpeedtoLead.mean(), inplace=True)"
   ]
  },
  {
   "cell_type": "code",
   "execution_count": 16,
   "metadata": {
    "collapsed": false
   },
   "outputs": [
    {
     "data": {
      "text/plain": [
       "Startdate             0\n",
       "Enddate               0\n",
       "Metro                 0\n",
       "Course                0\n",
       "PhoneValid            0\n",
       "Price                 0\n",
       "Type                  0\n",
       "DaysEnroltoStart      0\n",
       "DaysInvoicetoEnrol    0\n",
       "DaysLeadtoEnroled     0\n",
       "EnrolDate             0\n",
       "EnrolDay              0\n",
       "EnrolHour             0\n",
       "Month                 0\n",
       "EnrolWeek             0\n",
       "Year                  0\n",
       "ExpectedPayment       0\n",
       "PardotCategory        0\n",
       "ApplicationType       0\n",
       "Cancelled             0\n",
       "APAC                  0\n",
       "dtype: int64"
      ]
     },
     "execution_count": 16,
     "metadata": {},
     "output_type": "execute_result"
    }
   ],
   "source": [
    "enrolments.isnull().sum()"
   ]
  },
  {
   "cell_type": "markdown",
   "metadata": {},
   "source": [
    "#### Streamlining multiple categories\n",
    "##### Most common application types"
   ]
  },
  {
   "cell_type": "code",
   "execution_count": 17,
   "metadata": {
    "collapsed": false
   },
   "outputs": [
    {
     "data": {
      "text/plain": [
       "(31377, 21)"
      ]
     },
     "execution_count": 17,
     "metadata": {},
     "output_type": "execute_result"
    }
   ],
   "source": [
    "#Checkout and include only the more common application types\n",
    "commonapptypes = enrolments.ApplicationType.value_counts().index[enrolments.ApplicationType.value_counts()>147]\n",
    "enrolments = enrolments[enrolments.ApplicationType.isin(commonapptypes)]\n",
    "enrolments.shape"
   ]
  },
  {
   "cell_type": "code",
   "execution_count": 18,
   "metadata": {
    "collapsed": false
   },
   "outputs": [
    {
     "data": {
      "text/plain": [
       "apply now               10942\n",
       "request info            10544\n",
       "info session             6721\n",
       "referral                  763\n",
       "invoice                   473\n",
       "contact_admissions        437\n",
       "get notified              411\n",
       "financing contact us      370\n",
       "cwe_feedback              362\n",
       "trial class               193\n",
       "lander                    161\n",
       "Name: ApplicationType, dtype: int64"
      ]
     },
     "execution_count": 18,
     "metadata": {},
     "output_type": "execute_result"
    }
   ],
   "source": [
    "enrolments.ApplicationType.value_counts()"
   ]
  },
  {
   "cell_type": "markdown",
   "metadata": {},
   "source": [
    "##### Most common Pardot types"
   ]
  },
  {
   "cell_type": "code",
   "execution_count": 19,
   "metadata": {
    "collapsed": false
   },
   "outputs": [
    {
     "data": {
      "text/plain": [
       "(30824, 21)"
      ]
     },
     "execution_count": 19,
     "metadata": {},
     "output_type": "execute_result"
    }
   ],
   "source": [
    "#Checkout only and include the more common Pardot types\n",
    "commonpdtypes = enrolments.PardotCategory.value_counts().index[enrolments.PardotCategory.value_counts()>100]\n",
    "enrolments = enrolments[enrolments.PardotCategory.isin(commonpdtypes)]\n",
    "enrolments.shape"
   ]
  },
  {
   "cell_type": "code",
   "execution_count": 20,
   "metadata": {
    "collapsed": false
   },
   "outputs": [
    {
     "data": {
      "text/plain": [
       "GA Course Leads         15020\n",
       "Website                  4696\n",
       "CWE Purchase             3705\n",
       "Facebook Acquisition     1304\n",
       "Other                    1141\n",
       "GA Dash                  1137\n",
       "Sweepstake               1049\n",
       "Unknown                   603\n",
       "GA Front Row Signup       454\n",
       "Partner Event             387\n",
       "Twitter Promoted          347\n",
       "GA Circuits Leads         255\n",
       "Twitter Acquisition       194\n",
       "Uncategorized             180\n",
       "Student Enrollment        120\n",
       "Content Partnership       117\n",
       "Livestream Purchase       115\n",
       "Name: PardotCategory, dtype: int64"
      ]
     },
     "execution_count": 20,
     "metadata": {},
     "output_type": "execute_result"
    }
   ],
   "source": [
    "enrolments.PardotCategory.value_counts()"
   ]
  },
  {
   "cell_type": "markdown",
   "metadata": {},
   "source": [
    "##### Most common courses"
   ]
  },
  {
   "cell_type": "code",
   "execution_count": 21,
   "metadata": {
    "collapsed": false
   },
   "outputs": [
    {
     "data": {
      "text/plain": [
       "(30622, 21)"
      ]
     },
     "execution_count": 21,
     "metadata": {},
     "output_type": "execute_result"
    }
   ],
   "source": [
    "commoncourses = enrolments.Course.value_counts().index[enrolments.Course.value_counts()>100]\n",
    "enrolments = enrolments[enrolments.Course.isin(commoncourses)]\n",
    "enrolments.shape"
   ]
  },
  {
   "cell_type": "markdown",
   "metadata": {},
   "source": [
    "##### Mapping PhoneValid field to yes and no"
   ]
  },
  {
   "cell_type": "code",
   "execution_count": 22,
   "metadata": {
    "collapsed": true
   },
   "outputs": [],
   "source": [
    "enrolments.PhoneValid.unique()\n",
    "enrolments['PhoneValid'] = enrolments.PhoneValid.map({'Yes': 1,'No': 0})"
   ]
  },
  {
   "cell_type": "code",
   "execution_count": 23,
   "metadata": {
    "collapsed": false
   },
   "outputs": [
    {
     "name": "stdout",
     "output_type": "stream",
     "text": [
      "<class 'pandas.core.frame.DataFrame'>\n",
      "Int64Index: 30622 entries, 758 to 42687\n",
      "Data columns (total 21 columns):\n",
      "Startdate             30622 non-null int64\n",
      "Enddate               30622 non-null int64\n",
      "Metro                 30622 non-null object\n",
      "Course                30622 non-null object\n",
      "PhoneValid            30622 non-null int64\n",
      "Price                 30622 non-null float64\n",
      "Type                  30622 non-null object\n",
      "DaysEnroltoStart      30622 non-null float64\n",
      "DaysInvoicetoEnrol    30622 non-null int64\n",
      "DaysLeadtoEnroled     30622 non-null int64\n",
      "EnrolDate             30622 non-null int64\n",
      "EnrolDay              30622 non-null object\n",
      "EnrolHour             30622 non-null int64\n",
      "Month                 30622 non-null int64\n",
      "EnrolWeek             30622 non-null int64\n",
      "Year                  30622 non-null int64\n",
      "ExpectedPayment       30622 non-null object\n",
      "PardotCategory        30622 non-null object\n",
      "ApplicationType       30622 non-null object\n",
      "Cancelled             30622 non-null bool\n",
      "APAC                  30622 non-null bool\n",
      "dtypes: bool(2), float64(2), int64(10), object(7)\n",
      "memory usage: 4.7+ MB\n"
     ]
    }
   ],
   "source": [
    "enrolments.info()"
   ]
  },
  {
   "cell_type": "markdown",
   "metadata": {},
   "source": [
    "### Visualisation\n",
    "#### Exploring the data visually"
   ]
  },
  {
   "cell_type": "code",
   "execution_count": 24,
   "metadata": {
    "collapsed": true
   },
   "outputs": [],
   "source": [
    "from sklearn import tree\n",
    "from sklearn.model_selection import train_test_split\n",
    "from sklearn import metrics\n",
    "import matplotlib.pyplot as plt\n",
    "import seaborn as sns\n",
    "import urllib\n",
    "\n",
    "%matplotlib inline\n",
    "sns.set(color_codes=True)"
   ]
  },
  {
   "cell_type": "code",
   "execution_count": 25,
   "metadata": {
    "collapsed": false
   },
   "outputs": [
    {
     "name": "stderr",
     "output_type": "stream",
     "text": [
      "/anaconda/lib/python3.6/site-packages/statsmodels/nonparametric/kdetools.py:20: VisibleDeprecationWarning: using a non-integer number instead of an integer will result in an error in the future\n",
      "  y = X[:m/2+1] + np.r_[0,X[m/2+1:],0]*1j\n"
     ]
    },
    {
     "data": {
      "text/plain": [
       "<matplotlib.axes._subplots.AxesSubplot at 0x116462908>"
      ]
     },
     "execution_count": 25,
     "metadata": {},
     "output_type": "execute_result"
    },
    {
     "data": {
      "image/png": "[encoded data removed]",
      "text/plain": [
       "<matplotlib.figure.Figure at 0x1164628d0>"
      ]
     },
     "metadata": {},
     "output_type": "display_data"
    }
   ],
   "source": [
    "plt.figure(figsize = (15,6))\n",
    "sns.distplot(enrolments.DaysInvoicetoEnrol, bins=10)"
   ]
  },
  {
   "cell_type": "code",
   "execution_count": 26,
   "metadata": {
    "collapsed": false
   },
   "outputs": [
    {
     "name": "stderr",
     "output_type": "stream",
     "text": [
      "/anaconda/lib/python3.6/site-packages/statsmodels/nonparametric/kdetools.py:20: VisibleDeprecationWarning: using a non-integer number instead of an integer will result in an error in the future\n",
      "  y = X[:m/2+1] + np.r_[0,X[m/2+1:],0]*1j\n"
     ]
    },
    {
     "data": {
      "text/plain": [
       "<matplotlib.axes._subplots.AxesSubplot at 0x11a696898>"
      ]
     },
     "execution_count": 26,
     "metadata": {},
     "output_type": "execute_result"
    },
    {
     "data": {
      "image/png": "[encoded data removed]",
      "text/plain": [
       "<matplotlib.figure.Figure at 0x116462278>"
      ]
     },
     "metadata": {},
     "output_type": "display_data"
    }
   ],
   "source": [
    "sns.distplot(enrolments.DaysEnroltoStart, bins=10)"
   ]
  },
  {
   "cell_type": "code",
   "execution_count": 27,
   "metadata": {
    "collapsed": false
   },
   "outputs": [
    {
     "data": {
      "text/plain": [
       "<matplotlib.axes._subplots.AxesSubplot at 0x116b51a20>"
      ]
     },
     "execution_count": 27,
     "metadata": {},
     "output_type": "execute_result"
    },
    {
     "data": {
      "image/png": "[encoded data removed]",
      "text/plain": [
       "<matplotlib.figure.Figure at 0x116b517f0>"
      ]
     },
     "metadata": {},
     "output_type": "display_data"
    }
   ],
   "source": [
    "plt.figure(figsize = (15,6))\n",
    "sns.barplot(x='Metro', y = 'Cancelled', data = enrolments)"
   ]
  },
  {
   "cell_type": "code",
   "execution_count": 28,
   "metadata": {
    "collapsed": false
   },
   "outputs": [
    {
     "data": {
      "text/plain": [
       "<matplotlib.axes._subplots.AxesSubplot at 0x118a39da0>"
      ]
     },
     "execution_count": 28,
     "metadata": {},
     "output_type": "execute_result"
    },
    {
     "data": {
      "image/png": "[encoded data removed]",
      "text/plain": [
       "<matplotlib.figure.Figure at 0x118b0dd30>"
      ]
     },
     "metadata": {},
     "output_type": "display_data"
    }
   ],
   "source": [
    "plt.figure(figsize = (20,10))\n",
    "sns.barplot(x='ExpectedPayment', y = 'Cancelled', data = enrolments)"
   ]
  },
  {
   "cell_type": "code",
   "execution_count": 29,
   "metadata": {
    "collapsed": false
   },
   "outputs": [
    {
     "data": {
      "text/plain": [
       "<matplotlib.axes._subplots.AxesSubplot at 0x118ae4be0>"
      ]
     },
     "execution_count": 29,
     "metadata": {},
     "output_type": "execute_result"
    },
    {
     "data": {
      "image/png": "[encoded data removed]",
      "text/plain": [
       "<matplotlib.figure.Figure at 0x1189788d0>"
      ]
     },
     "metadata": {},
     "output_type": "display_data"
    }
   ],
   "source": [
    "plt.figure(figsize=(20,10))\n",
    "plt.title(\"Enrolments v Cancelations\")\n",
    "sns.countplot(x='Year', hue='Cancelled', data = enrolments)"
   ]
  },
  {
   "cell_type": "code",
   "execution_count": 30,
   "metadata": {
    "collapsed": false
   },
   "outputs": [
    {
     "data": {
      "text/plain": [
       "<seaborn.axisgrid.JointGrid at 0x118ae97f0>"
      ]
     },
     "execution_count": 30,
     "metadata": {},
     "output_type": "execute_result"
    },
    {
     "data": {
      "image/png": "[encoded data removed]",
      "text/plain": [
       "<matplotlib.figure.Figure at 0x118a40780>"
      ]
     },
     "metadata": {},
     "output_type": "display_data"
    }
   ],
   "source": [
    "sns.jointplot(x='DaysEnroltoStart', y=\"Price\", data=enrolments)"
   ]
  },
  {
   "cell_type": "code",
   "execution_count": 31,
   "metadata": {
    "collapsed": false
   },
   "outputs": [
    {
     "data": {
      "text/plain": [
       "<seaborn.axisgrid.JointGrid at 0x11aa68160>"
      ]
     },
     "execution_count": 31,
     "metadata": {},
     "output_type": "execute_result"
    },
    {
     "data": {
      "image/png": "[encoded data removed]",
      "text/plain": [
       "<matplotlib.figure.Figure at 0x11b206e80>"
      ]
     },
     "metadata": {},
     "output_type": "display_data"
    }
   ],
   "source": [
    "sns.jointplot(x='DaysEnroltoStart', y=\"DaysInvoicetoEnrol\", data=enrolments)"
   ]
  },
  {
   "cell_type": "code",
   "execution_count": 32,
   "metadata": {
    "collapsed": false
   },
   "outputs": [
    {
     "data": {
      "text/plain": [
       "<matplotlib.text.Text at 0x11f77d3c8>"
      ]
     },
     "execution_count": 32,
     "metadata": {},
     "output_type": "execute_result"
    },
    {
     "data": {
      "image/png": "[encoded data removed]",
      "text/plain": [
       "<matplotlib.figure.Figure at 0x11b1f5b38>"
      ]
     },
     "metadata": {},
     "output_type": "display_data"
    }
   ],
   "source": [
    "corr = enrolments.corr()\n",
    "corr = (corr)\n",
    "plt.figure(figsize = (20,20))\n",
    "sns.heatmap(corr, \n",
    "            xticklabels=corr.columns.values,\n",
    "            yticklabels=corr.columns.values)\n",
    "sns.plt.title('Heatmap of Correlation Matrix')"
   ]
  },
  {
   "cell_type": "markdown",
   "metadata": {},
   "source": [
    "## Running dummy data\n",
    "- These columns have text outputs:\n",
    " - Metro: object\n",
    " - Course: object\n",
    " - Type: object\n",
    " - EnrolDay: object\n",
    " - ExpectedPayment: object\n",
    " - ApplicationType: object\n",
    " - PardotCategory: object"
   ]
  },
  {
   "cell_type": "code",
   "execution_count": 33,
   "metadata": {
    "collapsed": false
   },
   "outputs": [
    {
     "name": "stdout",
     "output_type": "stream",
     "text": [
      "<class 'pandas.core.frame.DataFrame'>\n",
      "Int64Index: 30622 entries, 758 to 42687\n",
      "Data columns (total 21 columns):\n",
      "Startdate             30622 non-null int64\n",
      "Enddate               30622 non-null int64\n",
      "Metro                 30622 non-null object\n",
      "Course                30622 non-null object\n",
      "PhoneValid            30622 non-null int64\n",
      "Price                 30622 non-null float64\n",
      "Type                  30622 non-null object\n",
      "DaysEnroltoStart      30622 non-null float64\n",
      "DaysInvoicetoEnrol    30622 non-null int64\n",
      "DaysLeadtoEnroled     30622 non-null int64\n",
      "EnrolDate             30622 non-null int64\n",
      "EnrolDay              30622 non-null object\n",
      "EnrolHour             30622 non-null int64\n",
      "Month                 30622 non-null int64\n",
      "EnrolWeek             30622 non-null int64\n",
      "Year                  30622 non-null int64\n",
      "ExpectedPayment       30622 non-null object\n",
      "PardotCategory        30622 non-null object\n",
      "ApplicationType       30622 non-null object\n",
      "Cancelled             30622 non-null bool\n",
      "APAC                  30622 non-null bool\n",
      "dtypes: bool(2), float64(2), int64(10), object(7)\n",
      "memory usage: 4.7+ MB\n"
     ]
    }
   ],
   "source": [
    "enrolments.info()"
   ]
  },
  {
   "cell_type": "code",
   "execution_count": 34,
   "metadata": {
    "collapsed": false
   },
   "outputs": [],
   "source": [
    "dummydata = pd.get_dummies(data=enrolments, columns = ['Metro','Course','Type','ExpectedPayment','ApplicationType','PardotCategory','EnrolDay'], prefix = ['Metro','Course','Type','ExpectedPayment','ApplicationType','PardotCategory','EnrolDay'] )"
   ]
  },
  {
   "cell_type": "code",
   "execution_count": 35,
   "metadata": {
    "collapsed": false
   },
   "outputs": [
    {
     "data": {
      "text/plain": [
       "(30622, 95)"
      ]
     },
     "execution_count": 35,
     "metadata": {},
     "output_type": "execute_result"
    }
   ],
   "source": [
    "dummydata.shape"
   ]
  },
  {
   "cell_type": "code",
   "execution_count": 36,
   "metadata": {
    "collapsed": false
   },
   "outputs": [
    {
     "data": {
      "text/plain": [
       "Index(['Startdate', 'Enddate', 'PhoneValid', 'Price', 'DaysEnroltoStart',\n",
       "       'DaysInvoicetoEnrol', 'DaysLeadtoEnroled', 'EnrolDate', 'EnrolHour',\n",
       "       'Month', 'EnrolWeek', 'Year', 'Cancelled', 'APAC', 'Metro_atlanta',\n",
       "       'Metro_austin', 'Metro_boston', 'Metro_brisbane', 'Metro_chicago',\n",
       "       'Metro_denver', 'Metro_london', 'Metro_los-angeles', 'Metro_melbourne',\n",
       "       'Metro_new-york-city', 'Metro_online', 'Metro_san-francisco',\n",
       "       'Metro_seattle', 'Metro_singapore', 'Metro_sydney',\n",
       "       'Metro_washington-dc', 'Course_android-development-immersive',\n",
       "       'Course_back-end-web-development', 'Course_data-analytics',\n",
       "       'Course_data-science', 'Course_data-science-immersive',\n",
       "       'Course_digital-marketing', 'Course_front-end-web-development',\n",
       "       'Course_ios-development', 'Course_javascript-development',\n",
       "       'Course_product-management', 'Course_product-management-immersive',\n",
       "       'Course_user-experience-design',\n",
       "       'Course_user-experience-design-immersive', 'Course_visual-design',\n",
       "       'Course_web-development-immersive',\n",
       "       'Course_web-development-immersive-remote', 'Type_course',\n",
       "       'Type_immersive', 'Type_remote', 'ExpectedPayment_Employer',\n",
       "       'ExpectedPayment_Family', 'ExpectedPayment_GA Employee/Instructor',\n",
       "       'ExpectedPayment_Government Funding / Grant',\n",
       "       'ExpectedPayment_Loan (Private)', 'ExpectedPayment_Loan Partner',\n",
       "       'ExpectedPayment_Other', 'ExpectedPayment_Scholarship',\n",
       "       'ExpectedPayment_Student / Self', 'ExpectedPayment_Unknown',\n",
       "       'ExpectedPayment_Veterans Affairs', 'ApplicationType_apply now',\n",
       "       'ApplicationType_contact_admissions', 'ApplicationType_cwe_feedback',\n",
       "       'ApplicationType_financing contact us', 'ApplicationType_get notified',\n",
       "       'ApplicationType_info session', 'ApplicationType_invoice',\n",
       "       'ApplicationType_lander', 'ApplicationType_referral',\n",
       "       'ApplicationType_request info', 'ApplicationType_trial class',\n",
       "       'PardotCategory_CWE Purchase', 'PardotCategory_Content Partnership',\n",
       "       'PardotCategory_Facebook Acquisition',\n",
       "       'PardotCategory_GA Circuits Leads', 'PardotCategory_GA Course Leads',\n",
       "       'PardotCategory_GA Dash', 'PardotCategory_GA Front Row Signup',\n",
       "       'PardotCategory_Livestream Purchase', 'PardotCategory_Other',\n",
       "       'PardotCategory_Partner Event', 'PardotCategory_Student Enrollment',\n",
       "       'PardotCategory_Sweepstake', 'PardotCategory_Twitter Acquisition',\n",
       "       'PardotCategory_Twitter Promoted', 'PardotCategory_Uncategorized',\n",
       "       'PardotCategory_Unknown', 'PardotCategory_Website', 'EnrolDay_Friday',\n",
       "       'EnrolDay_Monday', 'EnrolDay_Saturday', 'EnrolDay_Sunday',\n",
       "       'EnrolDay_Thursday', 'EnrolDay_Tuesday', 'EnrolDay_Wednesday'],\n",
       "      dtype='object')"
      ]
     },
     "execution_count": 36,
     "metadata": {},
     "output_type": "execute_result"
    }
   ],
   "source": [
    "dummydata.columns"
   ]
  },
  {
   "cell_type": "markdown",
   "metadata": {},
   "source": [
    "# Next step:\n",
    "## Let's try some modeling!"
   ]
  },
  {
   "cell_type": "markdown",
   "metadata": {},
   "source": [
    "#### What's our baseline?\n",
    "\n",
    "It's important to have some baseline to compare it to, so let's look at what the chance of picking a student at random and picking a cancellation:"
   ]
  },
  {
   "cell_type": "code",
   "execution_count": 37,
   "metadata": {
    "collapsed": false
   },
   "outputs": [],
   "source": [
    "cancels = dummydata.Cancelled.value_counts()"
   ]
  },
  {
   "cell_type": "code",
   "execution_count": 38,
   "metadata": {
    "collapsed": false
   },
   "outputs": [
    {
     "data": {
      "text/plain": [
       "0.10691659591143621"
      ]
     },
     "execution_count": 38,
     "metadata": {},
     "output_type": "execute_result"
    }
   ],
   "source": [
    "#Percentage of enrolments that cancel:\n",
    "Percent = (1-cancels[0]/(cancels[0]+cancels[1]))\n",
    "Percent"
   ]
  },
  {
   "cell_type": "code",
   "execution_count": 39,
   "metadata": {
    "collapsed": false
   },
   "outputs": [],
   "source": [
    "all_ftcolumns = dummydata.columns.tolist()\n",
    "all_ftcolumns.remove('Cancelled')\n",
    "all_ftcolumns\n",
    "\n",
    "\n",
    "X = dummydata[all_ftcolumns]\n",
    "y = dummydata.Cancelled"
   ]
  },
  {
   "cell_type": "code",
   "execution_count": 40,
   "metadata": {
    "collapsed": false
   },
   "outputs": [
    {
     "name": "stderr",
     "output_type": "stream",
     "text": [
      "/anaconda/lib/python3.6/site-packages/sklearn/cross_validation.py:44: DeprecationWarning: This module was deprecated in version 0.18 in favor of the model_selection module into which all the refactored classes and functions are moved. Also note that the interface of the new CV iterators are different from that of this module. This module will be removed in 0.20.\n",
      "  \"This module will be removed in 0.20.\", DeprecationWarning)\n"
     ]
    }
   ],
   "source": [
    "from sklearn.cross_validation import train_test_split\n",
    "X_train, X_test, y_train, y_test = train_test_split(X, y, random_state=1)"
   ]
  },
  {
   "cell_type": "code",
   "execution_count": 45,
   "metadata": {
    "collapsed": false
   },
   "outputs": [
    {
     "name": "stdout",
     "output_type": "stream",
     "text": [
      "Accuracy Score: 0.890151515152\n"
     ]
    }
   ],
   "source": [
    "from sklearn.dummy import DummyClassifier\n",
    "dumb = DummyClassifier(strategy='most_frequent')\n",
    "dumb.fit(X_train, y_train)\n",
    "y_dumb_class = dumb.predict(X_test)\n",
    "print ('Accuracy Score:',metrics.accuracy_score(y_test, y_dumb_class))"
   ]
  },
  {
   "cell_type": "markdown",
   "metadata": {},
   "source": [
    "- Because we're looking at predicting cancellation (predicting \"1\" for the \"Cancelled\" attribute), a confusion matrix, sensitivity and specificity are good mechanisms for testing the accuracy of a model!\n",
    "- Sensitivity is the number of true positives as a percentage of all predicted positives.\n",
    "- Specificity is the number of true negatives as a percentage of all predicted negatives.\n",
    "\n",
    "- We want HIGH SPECIFICITY!\n",
    "\n",
    "https://www.analyticsvidhya.com/blog/2016/02/7-important-model-evaluation-error-metrics/"
   ]
  },
  {
   "cell_type": "raw",
   "metadata": {},
   "source": [
    "     P      N\n",
    "\n",
    "P [[TP     FP]\n",
    "\n",
    "N  [FN     TN]]\n",
    "\n",
    "TP = confusion_matrix[0,0]\n",
    "\n",
    "FP = confusion_matrix[0,1]\n",
    "\n",
    "FN = confusion_matrix[1,0]\n",
    "\n",
    "TN = confusion_matrix[1,1]"
   ]
  },
  {
   "cell_type": "code",
   "execution_count": 44,
   "metadata": {
    "collapsed": false
   },
   "outputs": [
    {
     "name": "stdout",
     "output_type": "stream",
     "text": [
      "Confusion Matrix: [[6815    0]\n",
      " [ 841    0]]\n",
      "Sensitivity: 1.0\n",
      "Specificity: 0.0\n"
     ]
    }
   ],
   "source": [
    "confusion_matrix = metrics.confusion_matrix(y_test, y_dumb_class)\n",
    "print('Confusion Matrix:',confusion_matrix)\n",
    "print('Sensitivity:',(confusion_matrix[0,0]/(confusion_matrix[0,1]+ confusion_matrix[0,0])))\n",
    "print('Specificity:',(confusion_matrix[1,1]/(confusion_matrix[1,1]+ confusion_matrix[1,0])))"
   ]
  },
  {
   "cell_type": "code",
   "execution_count": 46,
   "metadata": {
    "collapsed": false
   },
   "outputs": [
    {
     "data": {
      "image/png": "[encoded data removed]",
      "text/plain": [
       "<matplotlib.figure.Figure at 0x1207b55c0>"
      ]
     },
     "metadata": {},
     "output_type": "display_data"
    }
   ],
   "source": [
    "import matplotlib.pyplot as plt\n",
    "preds = dumb.predict_proba(X_test)[:,1]\n",
    "fpr, tpr, _ = metrics.roc_curve(y_test, preds)\n",
    "roc_auc = metrics.auc(fpr,tpr)\n",
    "plt.figure()\n",
    "lw = 2\n",
    "plt.plot(fpr, tpr, color='red',\n",
    "         lw=lw, label='ROC curve (area = %0.2f)' % roc_auc)\n",
    "plt.plot([0, 1], [0, 1], color='navy', lw=lw, linestyle='--')\n",
    "plt.xlim([0.0, 1.0])\n",
    "plt.ylim([0.0, 1.05])\n",
    "plt.xlabel('False Positive Rate')\n",
    "plt.ylabel('True Positive Rate')\n",
    "plt.title('Receiver operating characteristic example')\n",
    "plt.legend(loc=\"lower right\")\n",
    "plt.show()"
   ]
  },
  {
   "cell_type": "markdown",
   "metadata": {},
   "source": [
    "### Decision Tree"
   ]
  },
  {
   "cell_type": "code",
   "execution_count": 47,
   "metadata": {
    "collapsed": false
   },
   "outputs": [],
   "source": [
    "treesubset = dummydata"
   ]
  },
  {
   "cell_type": "code",
   "execution_count": 48,
   "metadata": {
    "collapsed": false
   },
   "outputs": [],
   "source": [
    "from sklearn import tree\n",
    "#%matplotlib inline\n",
    "\n",
    "#cancelled = treesubset['Cancelled']\n",
    "#del 'Cancelled'"
   ]
  },
  {
   "cell_type": "code",
   "execution_count": 49,
   "metadata": {
    "collapsed": false
   },
   "outputs": [],
   "source": [
    "ctree = tree.DecisionTreeClassifier(random_state=1, max_depth=100)\n",
    "# Fit the decision tree classifier\n",
    "ctree.fit(X_train, y_train)\n",
    "# Create a feature vector\n",
    "features = treesubset.columns.tolist()"
   ]
  },
  {
   "cell_type": "code",
   "execution_count": 50,
   "metadata": {
    "collapsed": false
   },
   "outputs": [],
   "source": [
    "from io import StringIO\n",
    "out = StringIO()\n",
    "tree.export_graphviz(ctree, out_file = out)\n",
    "from sklearn.tree import export_graphviz\n",
    "export_graphviz(ctree, out_file='decisiontree.dot', feature_names=features)"
   ]
  },
  {
   "cell_type": "code",
   "execution_count": 52,
   "metadata": {
    "collapsed": false
   },
   "outputs": [
    {
     "name": "stdout",
     "output_type": "stream",
     "text": [
      "Accuracy Score: 0.8039446186\n",
      "Confusion Matrix: [[6030  785]\n",
      " [ 716  125]]\n",
      "Sensitivity: 0.884812912693\n",
      "Specificity: 0.148632580262\n"
     ]
    }
   ],
   "source": [
    "y_pred_class = ctree.predict(X_test)\n",
    "print('Accuracy Score:', metrics.accuracy_score(y_test, y_pred_class))\n",
    "confusion_matrix = metrics.confusion_matrix(y_test, y_pred_class)\n",
    "print('Confusion Matrix:', confusion_matrix)\n",
    "print('Sensitivity:',(confusion_matrix[0,0]/(confusion_matrix[0,1]+ confusion_matrix[0,0])))\n",
    "print('Specificity:',(confusion_matrix[1,1]/(confusion_matrix[1,1]+ confusion_matrix[1,0])))"
   ]
  },
  {
   "cell_type": "code",
   "execution_count": 53,
   "metadata": {
    "collapsed": false
   },
   "outputs": [
    {
     "data": {
      "image/png": "[encoded data removed]",
      "text/plain": [
       "<matplotlib.figure.Figure at 0x11f5e8438>"
      ]
     },
     "metadata": {},
     "output_type": "display_data"
    }
   ],
   "source": [
    "import matplotlib.pyplot as plt\n",
    "preds = ctree.predict_proba(X_test)[:,1]\n",
    "fpr, tpr, _ = metrics.roc_curve(y_test, preds)\n",
    "roc_auc = metrics.auc(fpr,tpr)\n",
    "plt.figure()\n",
    "lw = 2\n",
    "plt.plot(fpr, tpr, color='darkorange',\n",
    "         lw=lw, label='ROC curve (area = %0.2f)' % roc_auc)\n",
    "plt.plot([0, 1], [0, 1], color='navy', lw=lw, linestyle='--')\n",
    "plt.xlim([0.0, 1.0])\n",
    "plt.ylim([0.0, 1.05])\n",
    "plt.xlabel('False Positive Rate')\n",
    "plt.ylabel('True Positive Rate')\n",
    "plt.title('Receiver operating characteristic example')\n",
    "plt.legend(loc=\"lower right\")\n",
    "plt.show()"
   ]
  },
  {
   "cell_type": "markdown",
   "metadata": {
    "collapsed": true
   },
   "source": [
    "#### Previously exported: \n",
    "<img src=\"assets/img/decisiontree-enrolments.png\">"
   ]
  },
  {
   "cell_type": "markdown",
   "metadata": {
    "collapsed": true
   },
   "source": [
    "### Logistic Regression\n",
    "##### Plain ol' logistic regression:"
   ]
  },
  {
   "cell_type": "code",
   "execution_count": 54,
   "metadata": {
    "collapsed": true
   },
   "outputs": [],
   "source": [
    "from sklearn.cross_validation import cross_val_score\n",
    "from sklearn import metrics\n",
    "from sklearn.linear_model import LogisticRegression"
   ]
  },
  {
   "cell_type": "code",
   "execution_count": 55,
   "metadata": {
    "collapsed": false
   },
   "outputs": [
    {
     "name": "stdout",
     "output_type": "stream",
     "text": [
      "LogisticRegression(C=1.0, class_weight=None, dual=False, fit_intercept=True,\n",
      "          intercept_scaling=1, max_iter=100, multi_class='ovr', n_jobs=1,\n",
      "          penalty='l2', random_state=None, solver='liblinear', tol=0.0001,\n",
      "          verbose=0, warm_start=False)\n",
      "0.890151515152\n",
      "[[6815    0]\n",
      " [ 841    0]]\n",
      "Sensitivity: 1.0\n",
      "Specificity: 0.0\n"
     ]
    }
   ],
   "source": [
    "#fit the logreg model and print the coefficients\n",
    "logreg = LogisticRegression()\n",
    "logreg.fit(X_train, y_train)\n",
    "zip(all_ftcolumns, logreg.coef_[0])\n",
    "print(logreg.fit(X_train, y_train))\n",
    "y_pred_class = logreg.predict(X_test)\n",
    "print('Accuracy Score:', metrics.accuracy_score(y_test,y_pred_class))\n",
    "confusion_matrix = metrics.confusion_matrix(y_test, y_pred_class)\n",
    "print('Confusion Matrix:', confusion_matrix)\n",
    "print('Sensitivity:',(confusion_matrix[0,0]/(confusion_matrix[0,1]+ confusion_matrix[0,0])))\n",
    "print('Specificity:',(confusion_matrix[1,1]/(confusion_matrix[1,1]+ confusion_matrix[1,0])))"
   ]
  },
  {
   "cell_type": "code",
   "execution_count": 56,
   "metadata": {
    "collapsed": false
   },
   "outputs": [
    {
     "data": {
      "image/png": "[encoded data removed]",
      "text/plain": [
       "<matplotlib.figure.Figure at 0x11f5e8f60>"
      ]
     },
     "metadata": {},
     "output_type": "display_data"
    }
   ],
   "source": [
    "import matplotlib.pyplot as plt\n",
    "preds = logreg.predict_proba(X_test)[:,1]\n",
    "fpr, tpr, _ = metrics.roc_curve(y_test, preds)\n",
    "roc_auc = metrics.auc(fpr,tpr)\n",
    "plt.figure()\n",
    "lw = 2\n",
    "plt.plot(fpr, tpr, color='darkorange',\n",
    "         lw=lw, label='ROC curve (area = %0.2f)' % roc_auc)\n",
    "plt.plot([0, 1], [0, 1], color='navy', lw=lw, linestyle='--')\n",
    "plt.xlim([0.0, 1.0])\n",
    "plt.ylim([0.0, 1.05])\n",
    "plt.xlabel('False Positive Rate')\n",
    "plt.ylabel('True Positive Rate')\n",
    "plt.title('Receiver operating characteristic example')\n",
    "plt.legend(loc=\"lower right\")\n",
    "plt.show()"
   ]
  },
  {
   "cell_type": "markdown",
   "metadata": {},
   "source": [
    "* Logistic regression is as good as picking the most frequent class for all of them.\n",
    "* Really that's all that this is doing right now."
   ]
  },
  {
   "cell_type": "markdown",
   "metadata": {},
   "source": [
    "##### Cross-validation doesn't help us much more:"
   ]
  },
  {
   "cell_type": "code",
   "execution_count": 57,
   "metadata": {
    "collapsed": false
   },
   "outputs": [
    {
     "name": "stdout",
     "output_type": "stream",
     "text": [
      "[ 0.89291544  0.89291544  0.89291544  0.89291544  0.89320705  0.89320705\n",
      "  0.89320705  0.89320705  0.89317217  0.89317217]\n",
      "0.893083431828\n"
     ]
    }
   ],
   "source": [
    "scores = cross_val_score(LogisticRegression(), X, y, scoring='accuracy', cv=10)\n",
    "print(scores)\n",
    "print(scores.mean())"
   ]
  },
  {
   "cell_type": "code",
   "execution_count": null,
   "metadata": {
    "collapsed": false
   },
   "outputs": [],
   "source": [
    "print('RMSE (No reg.) =', np.sqrt(metrics.mean_squared_error(y_test,y_pred_class)))"
   ]
  },
  {
   "cell_type": "markdown",
   "metadata": {},
   "source": [
    "#### Adding regularisation"
   ]
  },
  {
   "cell_type": "code",
   "execution_count": null,
   "metadata": {
    "collapsed": false
   },
   "outputs": [],
   "source": [
    "from sklearn.linear_model import RidgeCV\n",
    "alpha_range = 10.**np.arange(-5, 5)\n",
    "rregcv = RidgeCV(normalize=True, scoring='neg_mean_squared_error', alphas=alpha_range)\n",
    "rregcv.fit(X_train, y_train)\n",
    "\n",
    "print('Optimal Alpha Value: ', rregcv.alpha_)\n",
    "\n",
    "preds = rregcv.predict(X_test)\n",
    "print ('RMSE (Ridge CV reg.) =', np.sqrt(metrics.mean_squared_error(y_test, preds)))"
   ]
  },
  {
   "cell_type": "code",
   "execution_count": null,
   "metadata": {
    "collapsed": false
   },
   "outputs": [],
   "source": [
    "from sklearn.linear_model import LassoCV\n",
    "alpha_range = 10.**np.arange(-4, 4)\n",
    "lascv = LassoCV(normalize=True, alphas=alpha_range)\n",
    "lascv.fit(X_train, y_train)\n",
    "print('Optimal Alpha Value: ',lascv.alpha_)\n",
    "lascv.coef_\n",
    "preds = lascv.predict(X_test)\n",
    "print('RMSE (Lasso CV reg.) =', np.sqrt(metrics.mean_squared_error(y_test, preds)))#generate the ROC curve"
   ]
  },
  {
   "cell_type": "code",
   "execution_count": null,
   "metadata": {
    "collapsed": false
   },
   "outputs": [],
   "source": [
    "from sklearn.linear_model import ElasticNetCV\n",
    "alpha_range = 10.**np.arange(-3, 3)\n",
    "enetCV = ElasticNetCV(normalize=True, alphas=alpha_range)\n",
    "enetCV.fit(X_train, y_train)\n",
    "print('Optimal Alpha Value: ',enetCV.alpha_)\n",
    "\n",
    "enetCV.coef_\n",
    "preds = enetCV.predict(X_test)\n",
    "print('RMSE (ENET CV reg.)', np.sqrt(metrics.mean_squared_error(y_test, preds)))"
   ]
  },
  {
   "cell_type": "markdown",
   "metadata": {},
   "source": [
    "### KNN Classifier"
   ]
  },
  {
   "cell_type": "code",
   "execution_count": null,
   "metadata": {
    "collapsed": false
   },
   "outputs": [],
   "source": [
    "from sklearn.neighbors import KNeighborsClassifier\n",
    "KNN_model = KNeighborsClassifier(5)\n",
    "KNN_model.fit(X_train, y_train)\n",
    "y_pred_class = KNN_model.predict(X_test)\n",
    "\n",
    "print(metrics.accuracy_score(y_test, y_pred_class))\n",
    "\n",
    "print('KNN RMSE', np.sqrt(metrics.mean_squared_error(y_test, y_pred_class)))\n",
    "print(metrics.accuracy_score(y_test,y_pred_class))\n",
    "confusion_matrix = metrics.confusion_matrix(y_test, y_pred_class)\n",
    "print(confusion_matrix)\n",
    "print('Sensitivity:',(confusion_matrix[0,0]/(confusion_matrix[0,1]+ confusion_matrix[0,0])))\n",
    "print('Specificity:',(confusion_matrix[1,1]/(confusion_matrix[1,1]+ confusion_matrix[1,0])))"
   ]
  },
  {
   "cell_type": "code",
   "execution_count": null,
   "metadata": {
    "collapsed": false
   },
   "outputs": [],
   "source": [
    "import matplotlib.pyplot as plt\n",
    "preds = KNN_model.predict_proba(X_test)[:,1]\n",
    "fpr, tpr, _ = metrics.roc_curve(y_test, preds)\n",
    "roc_auc = metrics.auc(fpr,tpr)\n",
    "plt.figure()\n",
    "lw = 2\n",
    "plt.plot(fpr, tpr, color='darkorange',\n",
    "         lw=lw, label='ROC curve (area = %0.2f)' % roc_auc)\n",
    "plt.plot([0, 1], [0, 1], color='navy', lw=lw, linestyle='--')\n",
    "plt.xlim([0.0, 1.0])\n",
    "plt.ylim([0.0, 1.05])\n",
    "plt.xlabel('False Positive Rate')\n",
    "plt.ylabel('True Positive Rate')\n",
    "plt.title('Receiver operating characteristic example')\n",
    "plt.legend(loc=\"lower right\")\n",
    "plt.show()"
   ]
  },
  {
   "cell_type": "markdown",
   "metadata": {},
   "source": [
    "## Is there a better model?\n",
    "- Decision tree is the best so far, but it's still not very good!\n",
    "- Why are we running into so many issues?\n",
    "- The issue is that the classes are imbalanced. So many models assume an equal number in class A as are in class B, but here there are many more enrolments that become students than become cancellations.\n",
    "\n",
    "https://svds.com/learning-imbalanced-classes/"
   ]
  },
  {
   "cell_type": "markdown",
   "metadata": {},
   "source": [
    "### Random Forest"
   ]
  },
  {
   "cell_type": "code",
   "execution_count": null,
   "metadata": {
    "collapsed": false
   },
   "outputs": [],
   "source": [
    "from sklearn.ensemble import RandomForestClassifier\n",
    "rfclf = RandomForestClassifier(n_estimators=400, max_features=2, oob_score=True, random_state=1,class_weight='balanced')\n",
    "rfclf.fit(dummydata[all_ftcolumns], dummydata.Cancelled)\n",
    "rfclf.oob_score_"
   ]
  },
  {
   "cell_type": "code",
   "execution_count": null,
   "metadata": {
    "collapsed": false
   },
   "outputs": [],
   "source": [
    "from sklearn import metrics\n",
    "\n",
    "y_pred_class = rfclf.predict(X_test)\n",
    "confusion_matrix = metrics.confusion_matrix(y_test, y_pred_class)\n",
    "print(confusion_matrix)\n",
    "print('Sensitivity:',(confusion_matrix[0,0]/(confusion_matrix[0,1]+ confusion_matrix[0,0])))\n",
    "print('Specificity:',(confusion_matrix[1,1]/(confusion_matrix[1,1]+ confusion_matrix[1,0])))"
   ]
  },
  {
   "cell_type": "code",
   "execution_count": null,
   "metadata": {
    "collapsed": false
   },
   "outputs": [],
   "source": [
    "import matplotlib.pyplot as plt\n",
    "preds = rfclf.predict_proba(X_test)[:,1]\n",
    "fpr, tpr, _ = metrics.roc_curve(y_test, preds)\n",
    "roc_auc = metrics.auc(fpr,tpr)\n",
    "plt.figure()\n",
    "lw = 2\n",
    "plt.plot(fpr, tpr, color='red',\n",
    "         lw=lw, label='ROC curve (area = %0.5f)' % roc_auc)\n",
    "plt.plot([0, 1], [0, 1], color='purple', lw=lw, linestyle='--')\n",
    "plt.xlim([0.0, 1.0])\n",
    "plt.ylim([0.0, 1.05])\n",
    "plt.xlabel('False Positive Rate')\n",
    "plt.ylabel('True Positive Rate')\n",
    "plt.title('Receiver operating characteristic example')\n",
    "plt.legend(loc=\"lower right\")\n",
    "plt.show()"
   ]
  },
  {
   "cell_type": "code",
   "execution_count": null,
   "metadata": {
    "collapsed": false,
    "scrolled": false
   },
   "outputs": [],
   "source": [
    "feature_importance = pd.DataFrame({'feature':all_ftcolumns, 'importance':rfclf.feature_importances_})\n",
    "feature_importance.sort('importance',ascending=False)"
   ]
  },
  {
   "cell_type": "raw",
   "metadata": {},
   "source": [
    "categories: [\n",
    "# Date course starts: YYYYMMDD\n",
    "                  'Startdate', \n",
    "# Date course ends: YYYYMMDD\n",
    "                  'Enddate', \n",
    "# Is the phone valid? Yes or no\n",
    "                  'PhoneValid',\n",
    "# Price of course: numerical\n",
    "                  'Price', \n",
    "# Days enrolled to start of course: numerical\n",
    "                  'DaysEnroltoStart',\n",
    "# Days invoiced to enrolled: numerical\n",
    "                  'DaysInvoicetoEnrol', \n",
    "# Days lead to enrolled: numerical\n",
    "                  'DaysLeadtoEnroled', \n",
    "# Date enrolled: YYYYMMDD\n",
    "                  'EnrolDate', \n",
    "# Hour enrolled: HH (<=24)\n",
    "                  'EnrolHour',\n",
    "# Month enrolled: YYYYMM\n",
    "                  'Month', \n",
    "# Week enrolled: ## (<=52)\n",
    "                  'EnrolWeek', \n",
    "# Year enrolled: YYYY (>=2014)\n",
    "                  'Year', \n",
    "# Speed to lead: #\n",
    "                  'SpeedtoLead', \n",
    "# APAC or not: Boolean\n",
    "                  'APAC',\n",
    "# Metro: 17 options\n",
    "                  'Metro_atlanta', 'Metro_austin', 'Metro_boston', 'Metro_brisbane','Metro_chicago', 'Metro_denver', 'Metro_hong-kong', 'Metro_london','Metro_los-angeles', 'Metro_melbourne', 'Metro_new-york-city','Metro_online', 'Metro_san-francisco', 'Metro_seattle','Metro_singapore', 'Metro_sydney', 'Metro_washington-dc',\n",
    "# Course: 17 options\n",
    "                  'Course_android-development-immersive','Course_back-end-web-development','Course_business-fundamentals-tactics', 'Course_data-analytics','Course_data-science', 'Course_data-science-immersive','Course_digital-marketing', 'Course_front-end-web-development','Course_ios-development', 'Course_javascript-development','Course_product-management', 'Course_product-management-immersive','Course_user-experience-design','Course_user-experience-design-immersive', 'Course_visual-design','Course_web-development-immersive','Course_web-development-immersive-remote',\n",
    "# Type of course: 3 options\n",
    "                  'Type_course','Type_immersive', 'Type_remote', \n",
    "# Expected payemnt method: 11 options\n",
    "                  'ExpectedPayment_Employer','ExpectedPayment_Family', 'ExpectedPayment_GA Employee/Instructor','ExpectedPayment_Government Funding / Grant','ExpectedPayment_Loan (Private)', 'ExpectedPayment_Loan Partner','ExpectedPayment_Other', 'ExpectedPayment_Scholarship','ExpectedPayment_Student / Self', 'ExpectedPayment_Unknown','ExpectedPayment_Veterans Affairs', \n",
    "# Application types: 12 options\n",
    "                  'ApplicationType_apply now','ApplicationType_contact_admissions', 'ApplicationType_cwe_feedback','ApplicationType_financing contact us', 'ApplicationType_get notified','ApplicationType_info session', 'ApplicationType_invoice','ApplicationType_lander', 'ApplicationType_open house','ApplicationType_referral', 'ApplicationType_request info','ApplicationType_trial class',\n",
    "# Pardot category: 17 options\n",
    "                  'PardotCategory_CWE Purchase','PardotCategory_Content Partnership','PardotCategory_Facebook Acquisition','PardotCategory_GA Circuits Leads', 'PardotCategory_GA Course Leads','PardotCategory_GA Dash', 'PardotCategory_GA Front Row Signup','PardotCategory_Livestream Purchase', 'PardotCategory_Other','PardotCategory_Partner Event', 'PardotCategory_Student Enrollment', 'PardotCategory_Sweepstake', 'PardotCategory_Twitter Acquisition','PardotCategory_Twitter Promoted', 'PardotCategory_Uncategorized','PardotCategory_Unknown', 'PardotCategory_Website', \n",
    "# Days of the week: 7 Options\n",
    "                  'EnrolDay_Friday','EnrolDay_Monday', 'EnrolDay_Saturday', 'EnrolDay_Sunday','EnrolDay_Thursday', 'EnrolDay_Tuesday', 'EnrolDay_Wednesday']"
   ]
  },
  {
   "cell_type": "markdown",
   "metadata": {},
   "source": [
    "# PLAYING AROUND"
   ]
  },
  {
   "cell_type": "code",
   "execution_count": null,
   "metadata": {
    "collapsed": false
   },
   "outputs": [],
   "source": [
    "import pandas as pd\n",
    "import numpy as np\n",
    "from sklearn.cross_validation import train_test_split"
   ]
  },
  {
   "cell_type": "code",
   "execution_count": null,
   "metadata": {
    "collapsed": true
   },
   "outputs": [],
   "source": [
    "enrolments = pd.read_csv(\"data/courses snap_sales_funnel 2017-07-05T1254.csv\",low_memory=False)"
   ]
  },
  {
   "cell_type": "code",
   "execution_count": null,
   "metadata": {
    "collapsed": true
   },
   "outputs": [],
   "source": [
    "enrolments.drop('Status', axis=1, inplace=True)\n",
    "enrolments.drop('CampaignSourceCategory',axis=1,inplace=True)\n",
    "enrolments.drop('CampaignSource',axis=1,inplace=True)\n",
    "enrolments.drop('OppOwnerMetro', axis=1, inplace=True)\n",
    "enrolments.drop('OppCreatedDate', axis=1, inplace=True)\n",
    "enrolments.drop('LeadID', axis=1, inplace=True)\n",
    "enrolments.drop('SpeedtoLead', axis=1, inplace=True)\n",
    "enrolments.drop('Year', axis=1, inplace=True)"
   ]
  },
  {
   "cell_type": "code",
   "execution_count": null,
   "metadata": {
    "collapsed": false
   },
   "outputs": [],
   "source": [
    "enrolments['Cancelled'] = enrolments.CanceledDate.notnull()\n",
    "enrolments.drop('CanceledDate', axis=1, inplace=True)\n",
    "enrolments.drop('CanceledMonth', axis=1, inplace=True)\n",
    "enrolments['APAC'] = enrolments['Metro'].isin(['sydney','melbourne','hong-kong','singapore','brisbane'])\n",
    "enrolments = enrolments[enrolments.EnrolDate > 20140630]\n",
    "enrolments = enrolments[enrolments.Startdate < 20170630]\n",
    "enrolments = enrolments[enrolments.DaysEnroltoStart > 0]\n",
    "enrolments['ExpectedPayment'] = enrolments.ExpectedPayment.map({\n",
    "    'Student / Self': 'Student / Self',\n",
    "    'Student (self)': 'Student / Self',\n",
    "    'Employer': 'Employer',\n",
    "    'Loan (Partner, please note)': 'Loan Partner',\n",
    "    'Veterans Affairs': 'Veterans Affairs',\n",
    "    'Employer Bulk Pre-paid': 'Employer',\n",
    "    'Scholarship (Opportunity Fund)': 'Scholarship',\n",
    "    'Loan Partner (please note)': 'Loan Partner',\n",
    "    'Family':'Family',\n",
    "    'Other (please note)':'Other',\n",
    "    'GA Employee/Instructor':'GA Employee/Instructor',\n",
    "    'Loan (Private Bank, please note)':'Loan (Private)',\n",
    "    'Government Funding / Grant':'Government Funding / Grant',\n",
    "    'Other':'Other',\n",
    "    'CourseHorse':'Other',\n",
    "    'Opportunity Fund':'Scholarship',\n",
    "    'Enterprise Credit':'Other',\n",
    "    'Scholarship (GA Partner, please note)':'Scholarship',\n",
    "    'Scholarship (Other, please note)':'Scholarship',\n",
    "})\n",
    "enrolments.ExpectedPayment.fillna(\"Unknown\", inplace=True)\n",
    "enrolments.PardotCategory.fillna(\"Unknown\", inplace=True)\n",
    "enrolments = enrolments[enrolments.ApplicationType.isin(enrolments.ApplicationType.value_counts().index[enrolments.ApplicationType.value_counts()>147])]\n",
    "enrolments = enrolments[enrolments.PardotCategory.isin(enrolments.PardotCategory.value_counts().index[enrolments.PardotCategory.value_counts()>100])]\n",
    "enrolments = enrolments[enrolments.Course.isin(enrolments.Course.value_counts().index[enrolments.Course.value_counts()>100])]\n",
    "enrolments['PhoneValid'] = enrolments.PhoneValid.map({'Yes': 1,'No': 0})\n",
    "dummydata = pd.get_dummies(data=enrolments, columns = ['Metro','Course','Type','ExpectedPayment','ApplicationType','PardotCategory','EnrolDay'], prefix = ['Metro','Course','Type','ExpectedPayment','ApplicationType','PardotCategory','EnrolDay'] )"
   ]
  },
  {
   "cell_type": "code",
   "execution_count": null,
   "metadata": {
    "collapsed": false
   },
   "outputs": [],
   "source": [
    "all_ftcolumns = dummydata.columns.tolist()\n",
    "all_ftcolumns.remove('Cancelled')\n",
    "all_ftcolumns.remove('EnrolDate')\n",
    "all_ftcolumns.remove('DaysLeadtoEnroled')\n",
    "all_ftcolumns.remove('DaysEnroltoStart')\n",
    "all_ftcolumns.remove('DaysInvoicetoEnrol')\n",
    "all_ftcolumns.remove('EnrolWeek')\n",
    "all_ftcolumns.remove('EnrolHour')\n",
    "all_ftcolumns.remove('Startdate')\n",
    "all_ftcolumns.remove('Enddate')\n",
    "all_ftcolumns.remove('Month')\n",
    "all_ftcolumns.remove('APAC')"
   ]
  },
  {
   "cell_type": "code",
   "execution_count": null,
   "metadata": {
    "collapsed": false
   },
   "outputs": [],
   "source": [
    "X = dummydata[all_ftcolumns]\n",
    "y = dummydata.Cancelled\n",
    "X_train, X_test, y_train, y_test = train_test_split(X, y, random_state=1)"
   ]
  },
  {
   "cell_type": "code",
   "execution_count": null,
   "metadata": {
    "collapsed": false
   },
   "outputs": [],
   "source": [
    "import matplotlib.pyplot as plt\n",
    "import seaborn as sns\n",
    "\n",
    "%matplotlib inline\n",
    "sns.set(color_codes=True)\n",
    "\n",
    "corr = dummydata.corr()\n",
    "corr = (corr)\n",
    "plt.figure(figsize = (20,20))\n",
    "sns.heatmap(corr, \n",
    "            xticklabels=corr.columns.values,\n",
    "            yticklabels=corr.columns.values)\n",
    "sns.plt.title('Heatmap of Correlation Matrix')"
   ]
  },
  {
   "cell_type": "code",
   "execution_count": null,
   "metadata": {
    "collapsed": false
   },
   "outputs": [],
   "source": [
    "from sklearn.ensemble import RandomForestClassifier\n",
    "rfclf = RandomForestClassifier(n_estimators=400, max_features=2, oob_score=True, random_state=1,class_weight='balanced')\n",
    "rfclf.fit(dummydata[all_ftcolumns], dummydata.Cancelled)\n",
    "rfclf.oob_score_"
   ]
  },
  {
   "cell_type": "code",
   "execution_count": null,
   "metadata": {
    "collapsed": false
   },
   "outputs": [],
   "source": [
    "from sklearn import metrics\n",
    "\n",
    "y_pred_class = rfclf.predict(X_test)\n",
    "confusion_matrix = metrics.confusion_matrix(y_test, y_pred_class)\n",
    "print(confusion_matrix)\n",
    "print('Sensitivity:',(confusion_matrix[0,0]/(confusion_matrix[0,1]+ confusion_matrix[0,0])))\n",
    "print('Specificity:',(confusion_matrix[1,1]/(confusion_matrix[1,1]+ confusion_matrix[1,0])))"
   ]
  },
  {
   "cell_type": "code",
   "execution_count": null,
   "metadata": {
    "collapsed": false
   },
   "outputs": [],
   "source": [
    "import matplotlib.pyplot as plt\n",
    "preds = rfclf.predict_proba(X_test)[:,1]\n",
    "fpr, tpr, _ = metrics.roc_curve(y_test, preds)\n",
    "roc_auc = metrics.auc(fpr,tpr)\n",
    "plt.figure()\n",
    "lw = 2\n",
    "plt.plot(fpr, tpr, color='red',\n",
    "         lw=lw, label='ROC curve (area = %0.5f)' % roc_auc)\n",
    "plt.plot([0, 1], [0, 1], color='purple', lw=lw, linestyle='--')\n",
    "plt.xlim([0.0, 1.0])\n",
    "plt.ylim([0.0, 1.05])\n",
    "plt.xlabel('False Positive Rate')\n",
    "plt.ylabel('True Positive Rate')\n",
    "plt.title('Receiver operating characteristic example')\n",
    "plt.legend(loc=\"lower right\")\n",
    "plt.show()"
   ]
  },
  {
   "cell_type": "code",
   "execution_count": null,
   "metadata": {
    "collapsed": false,
    "scrolled": false
   },
   "outputs": [],
   "source": [
    "feature_importance = pd.DataFrame({'feature':all_ftcolumns, 'importance':rfclf.feature_importances_})\n",
    "feature_importance.sort('importance',ascending=False)"
   ]
  },
  {
   "cell_type": "code",
   "execution_count": null,
   "metadata": {
    "collapsed": true
   },
   "outputs": [],
   "source": []
  },
  {
   "cell_type": "code",
   "execution_count": null,
   "metadata": {
    "collapsed": true
   },
   "outputs": [],
   "source": []
  },
  {
   "cell_type": "code",
   "execution_count": null,
   "metadata": {
    "collapsed": true
   },
   "outputs": [],
   "source": []
  }
 ],
 "metadata": {
  "kernelspec": {
   "display_name": "Python 3",
   "language": "python",
   "name": "python3"
  },
  "language_info": {
   "codemirror_mode": {
    "name": "ipython",
    "version": 3
   },
   "file_extension": ".py",
   "mimetype": "text/x-python",
   "name": "python",
   "nbconvert_exporter": "python",
   "pygments_lexer": "ipython3",
   "version": "3.6.0"
  }
 },
 "nbformat": 4,
 "nbformat_minor": 2
}
