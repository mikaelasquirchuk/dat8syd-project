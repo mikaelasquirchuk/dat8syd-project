{
 "cells": [
  {
   "cell_type": "markdown",
   "metadata": {},
   "source": [
    "# Enrolments Data"
   ]
  },
  {
   "cell_type": "markdown",
   "metadata": {},
   "source": [
    "## Exploration\n",
    "### Statistical exploration"
   ]
  },
  {
   "cell_type": "code",
   "execution_count": 1,
   "metadata": {
    "collapsed": true
   },
   "outputs": [],
   "source": [
    "import pandas as pd\n",
    "import numpy as np"
   ]
  },
  {
   "cell_type": "code",
   "execution_count": 2,
   "metadata": {
    "collapsed": false
   },
   "outputs": [],
   "source": [
    "enrolments = pd.read_csv(\"data/courses snap_sales_funnel 2017-06-27T1636.csv\")"
   ]
  },
  {
   "cell_type": "code",
   "execution_count": 3,
   "metadata": {
    "collapsed": false
   },
   "outputs": [
    {
     "data": {
      "text/html": [
       "<div>\n",
       "<table border=\"1\" class=\"dataframe\">\n",
       "  <thead>\n",
       "    <tr style=\"text-align: right;\">\n",
       "      <th></th>\n",
       "      <th>Startdate</th>\n",
       "      <th>Enddate</th>\n",
       "      <th>Price</th>\n",
       "      <th>LclPrice</th>\n",
       "      <th>DaysEnroltoStartdate</th>\n",
       "      <th>DaysInvoicetoEnrol</th>\n",
       "      <th>DaysLeadtoEnroled</th>\n",
       "      <th>EnrolDate</th>\n",
       "      <th>CanceledDate</th>\n",
       "      <th>InvoiceAmountLcl</th>\n",
       "      <th>LeadID</th>\n",
       "      <th>OppCreatedDate</th>\n",
       "      <th>SpeedtoLead</th>\n",
       "      <th>InstanceID</th>\n",
       "    </tr>\n",
       "  </thead>\n",
       "  <tbody>\n",
       "    <tr>\n",
       "      <th>count</th>\n",
       "      <td>3.754600e+04</td>\n",
       "      <td>3.754600e+04</td>\n",
       "      <td>37546.000000</td>\n",
       "      <td>37546.000000</td>\n",
       "      <td>34315.000000</td>\n",
       "      <td>37546.000000</td>\n",
       "      <td>37546.000000</td>\n",
       "      <td>3.754600e+04</td>\n",
       "      <td>6.657000e+03</td>\n",
       "      <td>37546.000000</td>\n",
       "      <td>37546.000000</td>\n",
       "      <td>3.754600e+04</td>\n",
       "      <td>12643.000000</td>\n",
       "      <td>37546.000000</td>\n",
       "    </tr>\n",
       "    <tr>\n",
       "      <th>mean</th>\n",
       "      <td>2.015843e+07</td>\n",
       "      <td>2.016008e+07</td>\n",
       "      <td>6756.567277</td>\n",
       "      <td>6756.567277</td>\n",
       "      <td>24.470377</td>\n",
       "      <td>6.018218</td>\n",
       "      <td>47.380120</td>\n",
       "      <td>2.015767e+07</td>\n",
       "      <td>2.015859e+07</td>\n",
       "      <td>6542.522266</td>\n",
       "      <td>325193.736829</td>\n",
       "      <td>2.015662e+07</td>\n",
       "      <td>6.032633</td>\n",
       "      <td>19871.689954</td>\n",
       "    </tr>\n",
       "    <tr>\n",
       "      <th>std</th>\n",
       "      <td>8.479473e+03</td>\n",
       "      <td>7.995770e+03</td>\n",
       "      <td>7603.795313</td>\n",
       "      <td>7603.795313</td>\n",
       "      <td>32.811433</td>\n",
       "      <td>18.828199</td>\n",
       "      <td>80.427007</td>\n",
       "      <td>8.548846e+03</td>\n",
       "      <td>8.001790e+03</td>\n",
       "      <td>7018.317132</td>\n",
       "      <td>180553.605247</td>\n",
       "      <td>8.267848e+03</td>\n",
       "      <td>63.992772</td>\n",
       "      <td>8684.875378</td>\n",
       "    </tr>\n",
       "    <tr>\n",
       "      <th>min</th>\n",
       "      <td>2.012111e+07</td>\n",
       "      <td>2.013032e+07</td>\n",
       "      <td>750.000000</td>\n",
       "      <td>750.000000</td>\n",
       "      <td>-694.000000</td>\n",
       "      <td>0.000000</td>\n",
       "      <td>-16.000000</td>\n",
       "      <td>2.013012e+07</td>\n",
       "      <td>2.013071e+07</td>\n",
       "      <td>0.000000</td>\n",
       "      <td>30.000000</td>\n",
       "      <td>2.013012e+07</td>\n",
       "      <td>0.000000</td>\n",
       "      <td>209.000000</td>\n",
       "    </tr>\n",
       "    <tr>\n",
       "      <th>25%</th>\n",
       "      <td>2.015083e+07</td>\n",
       "      <td>2.015111e+07</td>\n",
       "      <td>3500.000000</td>\n",
       "      <td>3500.000000</td>\n",
       "      <td>6.000000</td>\n",
       "      <td>0.000000</td>\n",
       "      <td>8.000000</td>\n",
       "      <td>2.015073e+07</td>\n",
       "      <td>2.015091e+07</td>\n",
       "      <td>3500.000000</td>\n",
       "      <td>176235.500000</td>\n",
       "      <td>2.015063e+07</td>\n",
       "      <td>0.000000</td>\n",
       "      <td>12896.000000</td>\n",
       "    </tr>\n",
       "    <tr>\n",
       "      <th>50%</th>\n",
       "      <td>2.016041e+07</td>\n",
       "      <td>2.016062e+07</td>\n",
       "      <td>3950.000000</td>\n",
       "      <td>3950.000000</td>\n",
       "      <td>19.000000</td>\n",
       "      <td>0.000000</td>\n",
       "      <td>20.000000</td>\n",
       "      <td>2.016031e+07</td>\n",
       "      <td>2.016042e+07</td>\n",
       "      <td>3950.000000</td>\n",
       "      <td>321556.000000</td>\n",
       "      <td>2.016013e+07</td>\n",
       "      <td>0.600000</td>\n",
       "      <td>19126.000000</td>\n",
       "    </tr>\n",
       "    <tr>\n",
       "      <th>75%</th>\n",
       "      <td>2.016112e+07</td>\n",
       "      <td>2.017021e+07</td>\n",
       "      <td>9500.000000</td>\n",
       "      <td>9500.000000</td>\n",
       "      <td>39.000000</td>\n",
       "      <td>7.000000</td>\n",
       "      <td>49.000000</td>\n",
       "      <td>2.016103e+07</td>\n",
       "      <td>2.016111e+07</td>\n",
       "      <td>9500.000000</td>\n",
       "      <td>465454.250000</td>\n",
       "      <td>2.016091e+07</td>\n",
       "      <td>2.710000</td>\n",
       "      <td>27636.000000</td>\n",
       "    </tr>\n",
       "    <tr>\n",
       "      <th>max</th>\n",
       "      <td>2.017113e+07</td>\n",
       "      <td>2.018022e+07</td>\n",
       "      <td>130000.000000</td>\n",
       "      <td>130000.000000</td>\n",
       "      <td>270.000000</td>\n",
       "      <td>700.000000</td>\n",
       "      <td>1027.000000</td>\n",
       "      <td>2.017063e+07</td>\n",
       "      <td>2.017063e+07</td>\n",
       "      <td>130000.000000</td>\n",
       "      <td>681190.000000</td>\n",
       "      <td>2.017063e+07</td>\n",
       "      <td>2695.100000</td>\n",
       "      <td>39039.000000</td>\n",
       "    </tr>\n",
       "  </tbody>\n",
       "</table>\n",
       "</div>"
      ],
      "text/plain": [
       "          Startdate       Enddate          Price       LclPrice  \\\n",
       "count  3.754600e+04  3.754600e+04   37546.000000   37546.000000   \n",
       "mean   2.015843e+07  2.016008e+07    6756.567277    6756.567277   \n",
       "std    8.479473e+03  7.995770e+03    7603.795313    7603.795313   \n",
       "min    2.012111e+07  2.013032e+07     750.000000     750.000000   \n",
       "25%    2.015083e+07  2.015111e+07    3500.000000    3500.000000   \n",
       "50%    2.016041e+07  2.016062e+07    3950.000000    3950.000000   \n",
       "75%    2.016112e+07  2.017021e+07    9500.000000    9500.000000   \n",
       "max    2.017113e+07  2.018022e+07  130000.000000  130000.000000   \n",
       "\n",
       "       DaysEnroltoStartdate  DaysInvoicetoEnrol  DaysLeadtoEnroled  \\\n",
       "count          34315.000000        37546.000000       37546.000000   \n",
       "mean              24.470377            6.018218          47.380120   \n",
       "std               32.811433           18.828199          80.427007   \n",
       "min             -694.000000            0.000000         -16.000000   \n",
       "25%                6.000000            0.000000           8.000000   \n",
       "50%               19.000000            0.000000          20.000000   \n",
       "75%               39.000000            7.000000          49.000000   \n",
       "max              270.000000          700.000000        1027.000000   \n",
       "\n",
       "          EnrolDate  CanceledDate  InvoiceAmountLcl         LeadID  \\\n",
       "count  3.754600e+04  6.657000e+03      37546.000000   37546.000000   \n",
       "mean   2.015767e+07  2.015859e+07       6542.522266  325193.736829   \n",
       "std    8.548846e+03  8.001790e+03       7018.317132  180553.605247   \n",
       "min    2.013012e+07  2.013071e+07          0.000000      30.000000   \n",
       "25%    2.015073e+07  2.015091e+07       3500.000000  176235.500000   \n",
       "50%    2.016031e+07  2.016042e+07       3950.000000  321556.000000   \n",
       "75%    2.016103e+07  2.016111e+07       9500.000000  465454.250000   \n",
       "max    2.017063e+07  2.017063e+07     130000.000000  681190.000000   \n",
       "\n",
       "       OppCreatedDate   SpeedtoLead    InstanceID  \n",
       "count    3.754600e+04  12643.000000  37546.000000  \n",
       "mean     2.015662e+07      6.032633  19871.689954  \n",
       "std      8.267848e+03     63.992772   8684.875378  \n",
       "min      2.013012e+07      0.000000    209.000000  \n",
       "25%      2.015063e+07      0.000000  12896.000000  \n",
       "50%      2.016013e+07      0.600000  19126.000000  \n",
       "75%      2.016091e+07      2.710000  27636.000000  \n",
       "max      2.017063e+07   2695.100000  39039.000000  "
      ]
     },
     "execution_count": 3,
     "metadata": {},
     "output_type": "execute_result"
    }
   ],
   "source": [
    "enrolments.describe()"
   ]
  },
  {
   "cell_type": "code",
   "execution_count": 4,
   "metadata": {
    "collapsed": false
   },
   "outputs": [
    {
     "data": {
      "text/plain": [
       "Index(['Startdate', 'Enddate', 'Price', 'Metro', 'Course', 'Type', 'LclPrice',\n",
       "       'DaysEnroltoStartdate', 'DaysInvoicetoEnrol', 'DaysLeadtoEnroled',\n",
       "       'EnrolDate', 'CanceledDate', 'Email', 'ExpectedPayment',\n",
       "       'InvoiceAmountLcl', 'ApplicationType', 'PardotCategory', 'Status',\n",
       "       'Email.1', 'LeadID', 'OppCreatedDate', 'OppOwnerMetro', 'OppOwnerEmail',\n",
       "       'PhoneValid', 'SpeedtoLead', 'CampaignSource', 'CampaignSourceCategory',\n",
       "       'InstanceID'],\n",
       "      dtype='object')"
      ]
     },
     "execution_count": 4,
     "metadata": {},
     "output_type": "execute_result"
    }
   ],
   "source": [
    "enrolments.columns"
   ]
  },
  {
   "cell_type": "code",
   "execution_count": 5,
   "metadata": {
    "collapsed": false
   },
   "outputs": [],
   "source": [
    "enrolments.drop('Status', axis=1, inplace=True)\n",
    "enrolments.drop('CampaignSourceCategory',axis=1,inplace=True)\n",
    "enrolments.drop('CampaignSource',axis=1,inplace=True)"
   ]
  },
  {
   "cell_type": "code",
   "execution_count": 6,
   "metadata": {
    "collapsed": false
   },
   "outputs": [
    {
     "data": {
      "text/plain": [
       "Index(['Startdate', 'Enddate', 'Price', 'Metro', 'Course', 'Type', 'LclPrice',\n",
       "       'DaysEnroltoStartdate', 'DaysInvoicetoEnrol', 'DaysLeadtoEnroled',\n",
       "       'EnrolDate', 'CanceledDate', 'Email', 'ExpectedPayment',\n",
       "       'InvoiceAmountLcl', 'ApplicationType', 'PardotCategory', 'Email.1',\n",
       "       'LeadID', 'OppCreatedDate', 'OppOwnerMetro', 'OppOwnerEmail',\n",
       "       'PhoneValid', 'SpeedtoLead', 'InstanceID', 'Cancelled'],\n",
       "      dtype='object')"
      ]
     },
     "execution_count": 6,
     "metadata": {},
     "output_type": "execute_result"
    }
   ],
   "source": [
    "enrolments['Cancelled'] = enrolments.CanceledDate.isnull()\n",
    "enrolments.columns"
   ]
  },
  {
   "cell_type": "markdown",
   "metadata": {},
   "source": [
    "### Visualisation"
   ]
  },
  {
   "cell_type": "code",
   "execution_count": 7,
   "metadata": {
    "collapsed": true
   },
   "outputs": [],
   "source": [
    "from sklearn import tree\n",
    "from sklearn.model_selection import train_test_split\n",
    "from sklearn import metrics\n",
    "import matplotlib.pyplot as plt\n",
    "% matplotlib inline"
   ]
  },
  {
   "cell_type": "code",
   "execution_count": null,
   "metadata": {
    "collapsed": true
   },
   "outputs": [],
   "source": [
    "import seaborn as sns\n",
    "corr = enrolments.corr()\n",
    "corr = (corr)\n",
    "corr_cancelled = pd.DataFrame(corr['Cancelled'].drop('Cancelled'))\n",
    "corr_cancelled.sort_values(by = 'Cancelled', ascending = False)\n",
    "plt.figure(figsize = (20,20))\n",
    "sns.heatmap(corr, \n",
    "            xticklabels=corr.columns.values,\n",
    "            yticklabels=corr.columns.values)\n",
    "sns.plt.title('Heatmap of Correlation Matrix')"
   ]
  },
  {
   "cell_type": "code",
   "execution_count": null,
   "metadata": {
    "collapsed": false
   },
   "outputs": [],
   "source": [
    "plt.figure(figsize = (10,6))\n",
    "sns.barplot(x='DaysEnroltoStartdate', y = 'Cancelled', hue = 'PardotCategory', data = enrolments)"
   ]
  },
  {
   "cell_type": "markdown",
   "metadata": {},
   "source": [
    "### Tree Subset"
   ]
  },
  {
   "cell_type": "code",
   "execution_count": null,
   "metadata": {
    "collapsed": false
   },
   "outputs": [],
   "source": [
    "treesubset = enrolments[['Startdate', 'Enddate','Price','LclPrice','EnrolDate','DaysEnroltoStartdate','DaysInvoicetoEnrol','DaysLeadtoEnroled','Cancelled']]\n",
    "treesubset.head()"
   ]
  },
  {
   "cell_type": "code",
   "execution_count": null,
   "metadata": {
    "collapsed": false
   },
   "outputs": [],
   "source": [
    "treesubset['DaysEnroltoStartdate'].fillna(value=0,inplace=True)"
   ]
  },
  {
   "cell_type": "code",
   "execution_count": null,
   "metadata": {
    "collapsed": false
   },
   "outputs": [],
   "source": [
    "treesubset.describe()\n",
    "treesubset.isnull().sum()"
   ]
  },
  {
   "cell_type": "code",
   "execution_count": null,
   "metadata": {
    "collapsed": false
   },
   "outputs": [],
   "source": [
    "treesubset.Cancelled.value_counts()"
   ]
  },
  {
   "cell_type": "code",
   "execution_count": null,
   "metadata": {
    "collapsed": false
   },
   "outputs": [],
   "source": [
    "from sklearn import tree\n",
    "from sklearn.cross_validation import train_test_split\n",
    "from sklearn import metrics\n",
    "import matplotlib.pyplot as plt\n",
    "\n",
    "%matplotlib inline\n",
    "\n",
    "cancelled = treesubset['Cancelled']\n",
    "del treesubset['Cancelled']\n",
    "treesubset"
   ]
  },
  {
   "cell_type": "code",
   "execution_count": null,
   "metadata": {
    "collapsed": false
   },
   "outputs": [],
   "source": [
    "X_train, X_test, y_train, y_test = train_test_split(treesubset, cancelled, random_state=1)\n",
    "ctree = tree.DecisionTreeClassifier(random_state=1, max_depth=2)\n",
    "# Fit the decision tree classifier\n",
    "ctree.fit(X_train, y_train)\n",
    "# Create a feature vector\n",
    "features = treesubset.columns.tolist()\n",
    "features"
   ]
  },
  {
   "cell_type": "code",
   "execution_count": null,
   "metadata": {
    "collapsed": false
   },
   "outputs": [],
   "source": [
    "from io import StringIO\n",
    "out = StringIO()\n",
    "tree.export_graphviz(ctree, out_file = out)\n",
    "from sklearn.tree import export_graphviz\n",
    "export_graphviz(ctree, out_file='decisiontree.dot', feature_names=features)"
   ]
  },
  {
   "cell_type": "markdown",
   "metadata": {
    "collapsed": true
   },
   "source": [
    "#### Previously exported: \n",
    "<img src=\"decisiontree-enrolments.png\">"
   ]
  },
  {
   "cell_type": "code",
   "execution_count": null,
   "metadata": {
    "collapsed": true
   },
   "outputs": [],
   "source": []
  }
 ],
 "metadata": {
  "kernelspec": {
   "display_name": "Python 3",
   "language": "python",
   "name": "python3"
  },
  "language_info": {
   "codemirror_mode": {
    "name": "ipython",
    "version": 3
   },
   "file_extension": ".py",
   "mimetype": "text/x-python",
   "name": "python",
   "nbconvert_exporter": "python",
   "pygments_lexer": "ipython3",
   "version": "3.6.0"
  }
 },
 "nbformat": 4,
 "nbformat_minor": 2
}
