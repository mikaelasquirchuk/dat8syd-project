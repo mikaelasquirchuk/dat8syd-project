{
 "cells": [
  {
   "cell_type": "code",
   "execution_count": 1,
   "metadata": {
    "collapsed": true
   },
   "outputs": [],
   "source": [
    "import pandas as pd\n",
    "\n",
    "enrolments = pd.read_csv(\"data/courses snap_sales_funnel 2017-06-27T1636.csv\")"
   ]
  },
  {
   "cell_type": "code",
   "execution_count": 2,
   "metadata": {
    "collapsed": false
   },
   "outputs": [
    {
     "data": {
      "text/html": [
       "<div>\n",
       "<table border=\"1\" class=\"dataframe\">\n",
       "  <thead>\n",
       "    <tr style=\"text-align: right;\">\n",
       "      <th></th>\n",
       "      <th>Price</th>\n",
       "      <th>LclPrice</th>\n",
       "      <th>DaysEnroltoStartdate</th>\n",
       "      <th>DaysInvoicetoEnrol</th>\n",
       "      <th>DaysLeadtoEnroled</th>\n",
       "      <th>InvoiceAmountLcl</th>\n",
       "      <th>LeadID</th>\n",
       "      <th>SpeedtoLead</th>\n",
       "      <th>InstanceID</th>\n",
       "    </tr>\n",
       "  </thead>\n",
       "  <tbody>\n",
       "    <tr>\n",
       "      <th>count</th>\n",
       "      <td>37546.000000</td>\n",
       "      <td>37546.000000</td>\n",
       "      <td>34315.000000</td>\n",
       "      <td>37546.000000</td>\n",
       "      <td>37546.000000</td>\n",
       "      <td>37546.000000</td>\n",
       "      <td>37546.000000</td>\n",
       "      <td>12643.000000</td>\n",
       "      <td>37546.000000</td>\n",
       "    </tr>\n",
       "    <tr>\n",
       "      <th>mean</th>\n",
       "      <td>6756.567277</td>\n",
       "      <td>6756.567277</td>\n",
       "      <td>24.470377</td>\n",
       "      <td>6.018218</td>\n",
       "      <td>47.380120</td>\n",
       "      <td>6542.522266</td>\n",
       "      <td>325193.736829</td>\n",
       "      <td>6.032633</td>\n",
       "      <td>19871.689954</td>\n",
       "    </tr>\n",
       "    <tr>\n",
       "      <th>std</th>\n",
       "      <td>7603.795313</td>\n",
       "      <td>7603.795313</td>\n",
       "      <td>32.811433</td>\n",
       "      <td>18.828199</td>\n",
       "      <td>80.427007</td>\n",
       "      <td>7018.317132</td>\n",
       "      <td>180553.605247</td>\n",
       "      <td>63.992772</td>\n",
       "      <td>8684.875378</td>\n",
       "    </tr>\n",
       "    <tr>\n",
       "      <th>min</th>\n",
       "      <td>750.000000</td>\n",
       "      <td>750.000000</td>\n",
       "      <td>-694.000000</td>\n",
       "      <td>0.000000</td>\n",
       "      <td>-16.000000</td>\n",
       "      <td>0.000000</td>\n",
       "      <td>30.000000</td>\n",
       "      <td>0.000000</td>\n",
       "      <td>209.000000</td>\n",
       "    </tr>\n",
       "    <tr>\n",
       "      <th>25%</th>\n",
       "      <td>3500.000000</td>\n",
       "      <td>3500.000000</td>\n",
       "      <td>6.000000</td>\n",
       "      <td>0.000000</td>\n",
       "      <td>8.000000</td>\n",
       "      <td>3500.000000</td>\n",
       "      <td>176235.500000</td>\n",
       "      <td>0.000000</td>\n",
       "      <td>12896.000000</td>\n",
       "    </tr>\n",
       "    <tr>\n",
       "      <th>50%</th>\n",
       "      <td>3950.000000</td>\n",
       "      <td>3950.000000</td>\n",
       "      <td>19.000000</td>\n",
       "      <td>0.000000</td>\n",
       "      <td>20.000000</td>\n",
       "      <td>3950.000000</td>\n",
       "      <td>321556.000000</td>\n",
       "      <td>0.600000</td>\n",
       "      <td>19126.000000</td>\n",
       "    </tr>\n",
       "    <tr>\n",
       "      <th>75%</th>\n",
       "      <td>9500.000000</td>\n",
       "      <td>9500.000000</td>\n",
       "      <td>39.000000</td>\n",
       "      <td>7.000000</td>\n",
       "      <td>49.000000</td>\n",
       "      <td>9500.000000</td>\n",
       "      <td>465454.250000</td>\n",
       "      <td>2.710000</td>\n",
       "      <td>27636.000000</td>\n",
       "    </tr>\n",
       "    <tr>\n",
       "      <th>max</th>\n",
       "      <td>130000.000000</td>\n",
       "      <td>130000.000000</td>\n",
       "      <td>270.000000</td>\n",
       "      <td>700.000000</td>\n",
       "      <td>1027.000000</td>\n",
       "      <td>130000.000000</td>\n",
       "      <td>681190.000000</td>\n",
       "      <td>2695.100000</td>\n",
       "      <td>39039.000000</td>\n",
       "    </tr>\n",
       "  </tbody>\n",
       "</table>\n",
       "</div>"
      ],
      "text/plain": [
       "               Price       LclPrice  DaysEnroltoStartdate  DaysInvoicetoEnrol  \\\n",
       "count   37546.000000   37546.000000          34315.000000        37546.000000   \n",
       "mean     6756.567277    6756.567277             24.470377            6.018218   \n",
       "std      7603.795313    7603.795313             32.811433           18.828199   \n",
       "min       750.000000     750.000000           -694.000000            0.000000   \n",
       "25%      3500.000000    3500.000000              6.000000            0.000000   \n",
       "50%      3950.000000    3950.000000             19.000000            0.000000   \n",
       "75%      9500.000000    9500.000000             39.000000            7.000000   \n",
       "max    130000.000000  130000.000000            270.000000          700.000000   \n",
       "\n",
       "       DaysLeadtoEnroled  InvoiceAmountLcl         LeadID   SpeedtoLead  \\\n",
       "count       37546.000000      37546.000000   37546.000000  12643.000000   \n",
       "mean           47.380120       6542.522266  325193.736829      6.032633   \n",
       "std            80.427007       7018.317132  180553.605247     63.992772   \n",
       "min           -16.000000          0.000000      30.000000      0.000000   \n",
       "25%             8.000000       3500.000000  176235.500000      0.000000   \n",
       "50%            20.000000       3950.000000  321556.000000      0.600000   \n",
       "75%            49.000000       9500.000000  465454.250000      2.710000   \n",
       "max          1027.000000     130000.000000  681190.000000   2695.100000   \n",
       "\n",
       "         InstanceID  \n",
       "count  37546.000000  \n",
       "mean   19871.689954  \n",
       "std     8684.875378  \n",
       "min      209.000000  \n",
       "25%    12896.000000  \n",
       "50%    19126.000000  \n",
       "75%    27636.000000  \n",
       "max    39039.000000  "
      ]
     },
     "execution_count": 2,
     "metadata": {},
     "output_type": "execute_result"
    }
   ],
   "source": [
    "enrolments.describe()"
   ]
  },
  {
   "cell_type": "code",
   "execution_count": 4,
   "metadata": {
    "collapsed": false
   },
   "outputs": [
    {
     "data": {
      "text/plain": [
       "Index(['Startdate', 'Enddate', 'Price', 'Metro', 'Course', 'Type', 'LclPrice',\n",
       "       'DaysEnroltoStartdate', 'DaysInvoicetoEnrol', 'DaysLeadtoEnroled',\n",
       "       'EnrolDate', 'CanceledDate', 'Email', 'ExpectedPayment',\n",
       "       'InvoiceAmountLcl', 'ApplicationType', 'PardotCategory', 'Status',\n",
       "       'Email.1', 'LeadID', 'OppCreatedDate', 'OppOwnerMetro', 'OppOwnerEmail',\n",
       "       'PhoneValid', 'SpeedtoLead', 'CampaignSource', 'CampaignSourceCategory',\n",
       "       'InstanceID'],\n",
       "      dtype='object')"
      ]
     },
     "execution_count": 4,
     "metadata": {},
     "output_type": "execute_result"
    }
   ],
   "source": [
    "enrolments.columns"
   ]
  },
  {
   "cell_type": "code",
   "execution_count": 11,
   "metadata": {
    "collapsed": false
   },
   "outputs": [],
   "source": [
    "price = enrolments.LclPrice\n",
    "enroltostart = enrolments.DaysEnroltoStartdate\n",
    "metro = enrolments.Metro\n",
    "course = enrolments.Course"
   ]
  },
  {
   "cell_type": "code",
   "execution_count": null,
   "metadata": {
    "collapsed": true
   },
   "outputs": [],
   "source": []
  }
 ],
 "metadata": {
  "kernelspec": {
   "display_name": "Python 3",
   "language": "python",
   "name": "python3"
  },
  "language_info": {
   "codemirror_mode": {
    "name": "ipython",
    "version": 3
   },
   "file_extension": ".py",
   "mimetype": "text/x-python",
   "name": "python",
   "nbconvert_exporter": "python",
   "pygments_lexer": "ipython3",
   "version": "3.6.0"
  }
 },
 "nbformat": 4,
 "nbformat_minor": 2
}
