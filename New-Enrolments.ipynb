{
 "cells": [
  {
   "cell_type": "markdown",
   "metadata": {},
   "source": [
    "# Enrolments Data"
   ]
  },
  {
   "cell_type": "markdown",
   "metadata": {},
   "source": [
    "## Exploration\n",
    "### Statistical exploration"
   ]
  },
  {
   "cell_type": "markdown",
   "metadata": {},
   "source": [
    "#### Reading the data, removing useless columns and adding special columns"
   ]
  },
  {
   "cell_type": "code",
   "execution_count": 1,
   "metadata": {
    "collapsed": false
   },
   "outputs": [],
   "source": [
    "import pandas as pd\n",
    "import numpy as np\n",
    "#Read the data\n",
    "enrolments = pd.read_csv(\"data/courses snap_sales_funnel 2017-06-27T1636.csv\")"
   ]
  },
  {
   "cell_type": "code",
   "execution_count": 2,
   "metadata": {
    "collapsed": false
   },
   "outputs": [
    {
     "data": {
      "text/plain": [
       "Index(['Startdate', 'Enddate', 'Price', 'Metro', 'Course', 'Type', 'LclPrice',\n",
       "       'DaysEnroltoStartdate', 'DaysInvoicetoEnrol', 'DaysLeadtoEnroled',\n",
       "       'EnrolDate', 'CanceledDate', 'Email', 'ExpectedPayment',\n",
       "       'InvoiceAmountLcl', 'ApplicationType', 'PardotCategory', 'Status',\n",
       "       'Email.1', 'LeadID', 'OppCreatedDate', 'OppOwnerMetro', 'OppOwnerEmail',\n",
       "       'PhoneValid', 'SpeedtoLead', 'CampaignSource', 'CampaignSourceCategory',\n",
       "       'InstanceID'],\n",
       "      dtype='object')"
      ]
     },
     "execution_count": 2,
     "metadata": {},
     "output_type": "execute_result"
    }
   ],
   "source": [
    "enrolments.columns"
   ]
  },
  {
   "cell_type": "code",
   "execution_count": 3,
   "metadata": {
    "collapsed": false
   },
   "outputs": [
    {
     "data": {
      "text/plain": [
       "Index(['Startdate', 'Enddate', 'Price', 'Metro', 'Course', 'Type',\n",
       "       'DaysEnroltoStartdate', 'DaysInvoicetoEnrol', 'DaysLeadtoEnroled',\n",
       "       'EnrolDate', 'CanceledDate', 'ExpectedPayment', 'ApplicationType',\n",
       "       'PardotCategory', 'LeadID', 'PhoneValid', 'SpeedtoLead', 'InstanceID'],\n",
       "      dtype='object')"
      ]
     },
     "execution_count": 3,
     "metadata": {},
     "output_type": "execute_result"
    }
   ],
   "source": [
    "enrolments.PhoneValid.unique()\n",
    "enrolments['PhoneValid'] = enrolments.PhoneValid.map({'Yes': 1,'No': 0})\n",
    "#Remove some useless columns\n",
    "enrolments.drop('LclPrice', axis=1, inplace=True)\n",
    "enrolments.drop('Email', axis=1, inplace=True)\n",
    "enrolments.drop('Status', axis=1, inplace=True)\n",
    "enrolments.drop('CampaignSourceCategory',axis=1,inplace=True)\n",
    "enrolments.drop('CampaignSource',axis=1,inplace=True)\n",
    "enrolments.drop('OppOwnerMetro', axis=1, inplace=True)\n",
    "enrolments.drop('OppOwnerEmail', axis=1, inplace=True)\n",
    "enrolments.drop('OppCreatedDate', axis=1, inplace=True)\n",
    "enrolments.drop('InvoiceAmountLcl', axis=1, inplace=True)\n",
    "enrolments.drop('Email.1', axis=1, inplace=True)\n",
    "enrolments.columns"
   ]
  },
  {
   "cell_type": "code",
   "execution_count": 4,
   "metadata": {
    "collapsed": true
   },
   "outputs": [],
   "source": [
    "#Add cancelled column to track whether an enrolment cancelled\n",
    "enrolments['Cancelled'] = enrolments.CanceledDate.notnull()"
   ]
  },
  {
   "cell_type": "code",
   "execution_count": 5,
   "metadata": {
    "collapsed": false
   },
   "outputs": [
    {
     "data": {
      "text/plain": [
       "Index(['Startdate', 'Enddate', 'Price', 'Metro', 'Course', 'Type',\n",
       "       'DaysEnroltoStartdate', 'DaysInvoicetoEnrol', 'DaysLeadtoEnroled',\n",
       "       'EnrolDate', 'ExpectedPayment', 'ApplicationType', 'PardotCategory',\n",
       "       'LeadID', 'PhoneValid', 'SpeedtoLead', 'InstanceID', 'Cancelled'],\n",
       "      dtype='object')"
      ]
     },
     "execution_count": 5,
     "metadata": {},
     "output_type": "execute_result"
    }
   ],
   "source": [
    "enrolments.drop('CanceledDate', axis=1, inplace=True)\n",
    "enrolments.columns"
   ]
  },
  {
   "cell_type": "code",
   "execution_count": 6,
   "metadata": {
    "collapsed": false
   },
   "outputs": [
    {
     "data": {
      "text/plain": [
       "False    31547\n",
       "True      5999\n",
       "Name: APAC, dtype: int64"
      ]
     },
     "execution_count": 6,
     "metadata": {},
     "output_type": "execute_result"
    }
   ],
   "source": [
    "#Add an APAC column\n",
    "enrolments['APAC'] = enrolments['Metro'].isin(['sydney','melbourne','hong-kong','singapore','brisbane'])\n",
    "enrolments.APAC.value_counts()"
   ]
  },
  {
   "cell_type": "code",
   "execution_count": 7,
   "metadata": {
    "collapsed": true
   },
   "outputs": [],
   "source": [
    "#Limit to only post mid-2014 data\n",
    "enrolments = enrolments[enrolments.Startdate > 20140630]"
   ]
  },
  {
   "cell_type": "code",
   "execution_count": 8,
   "metadata": {
    "collapsed": false
   },
   "outputs": [
    {
     "data": {
      "text/plain": [
       "(37505, 19)"
      ]
     },
     "execution_count": 8,
     "metadata": {},
     "output_type": "execute_result"
    }
   ],
   "source": [
    "#Checkout all the numeric columns\n",
    "#enrolments.info()\n",
    "#enrolments.describe()\n",
    "enrolments.shape"
   ]
  },
  {
   "cell_type": "code",
   "execution_count": 9,
   "metadata": {
    "collapsed": false
   },
   "outputs": [
    {
     "name": "stdout",
     "output_type": "stream",
     "text": [
      "<class 'pandas.core.frame.DataFrame'>\n",
      "Int64Index: 37505 entries, 0 to 37504\n",
      "Data columns (total 19 columns):\n",
      "Startdate               37505 non-null int64\n",
      "Enddate                 37505 non-null int64\n",
      "Price                   37505 non-null int64\n",
      "Metro                   37505 non-null object\n",
      "Course                  37505 non-null object\n",
      "Type                    37505 non-null object\n",
      "DaysEnroltoStartdate    34276 non-null float64\n",
      "DaysInvoicetoEnrol      37505 non-null int64\n",
      "DaysLeadtoEnroled       37505 non-null int64\n",
      "EnrolDate               37505 non-null int64\n",
      "ExpectedPayment         35761 non-null object\n",
      "ApplicationType         37505 non-null object\n",
      "PardotCategory          36523 non-null object\n",
      "LeadID                  37505 non-null int64\n",
      "PhoneValid              37505 non-null int64\n",
      "SpeedtoLead             12643 non-null float64\n",
      "InstanceID              37505 non-null int64\n",
      "Cancelled               37505 non-null bool\n",
      "APAC                    37505 non-null bool\n",
      "dtypes: bool(2), float64(2), int64(9), object(6)\n",
      "memory usage: 5.2+ MB\n"
     ]
    }
   ],
   "source": [
    "enrolments.info()"
   ]
  },
  {
   "cell_type": "markdown",
   "metadata": {},
   "source": [
    "#### Dealing with null values"
   ]
  },
  {
   "cell_type": "code",
   "execution_count": 10,
   "metadata": {
    "collapsed": false
   },
   "outputs": [
    {
     "data": {
      "text/plain": [
       "Startdate                   0\n",
       "Enddate                     0\n",
       "Price                       0\n",
       "Metro                       0\n",
       "Course                      0\n",
       "Type                        0\n",
       "DaysEnroltoStartdate     3229\n",
       "DaysInvoicetoEnrol          0\n",
       "DaysLeadtoEnroled           0\n",
       "EnrolDate                   0\n",
       "ExpectedPayment          1744\n",
       "ApplicationType             0\n",
       "PardotCategory            982\n",
       "LeadID                      0\n",
       "PhoneValid                  0\n",
       "SpeedtoLead             24862\n",
       "InstanceID                  0\n",
       "Cancelled                   0\n",
       "APAC                        0\n",
       "dtype: int64"
      ]
     },
     "execution_count": 10,
     "metadata": {},
     "output_type": "execute_result"
    }
   ],
   "source": [
    "enrolments.isnull().sum()"
   ]
  },
  {
   "cell_type": "code",
   "execution_count": 11,
   "metadata": {
    "collapsed": false
   },
   "outputs": [
    {
     "data": {
      "text/plain": [
       "Student / Self                28253\n",
       "Employer                       3832\n",
       "Loan Partner                   2699\n",
       "Unknown                        1744\n",
       "Veterans Affairs                291\n",
       "Scholarship                     262\n",
       "Other                           143\n",
       "Family                           90\n",
       "GA Employee/Instructor           75\n",
       "Loan (Private)                   60\n",
       "Government Funding / Grant       56\n",
       "Name: ExpectedPayment, dtype: int64"
      ]
     },
     "execution_count": 11,
     "metadata": {},
     "output_type": "execute_result"
    }
   ],
   "source": [
    "enrolments['ExpectedPayment'] = enrolments.ExpectedPayment.map({\n",
    "    'Student / Self': 'Student / Self',\n",
    "    'Student (self)': 'Student / Self',\n",
    "    'Employer': 'Employer',\n",
    "    'Loan (Partner, please note)': 'Loan Partner',\n",
    "    'Veterans Affairs': 'Veterans Affairs',\n",
    "    'Employer Bulk Pre-paid': 'Employer',\n",
    "    'Scholarship (Opportunity Fund)': 'Scholarship',\n",
    "    'Loan Partner (please note)': 'Loan Partner',\n",
    "    'Family':'Family',\n",
    "    'Other (please note)':'Other',\n",
    "    'GA Employee/Instructor':'GA Employee/Instructor',\n",
    "    'Loan (Private Bank, please note)':'Loan (Private)',\n",
    "    'Government Funding / Grant':'Government Funding / Grant',\n",
    "    'Other':'Other',\n",
    "    'CourseHorse':'Other',\n",
    "    'Opportunity Fund':'Scholarship',\n",
    "    'Enterprise Credit':'Other',\n",
    "    'Scholarship (GA Partner, please note)':'Scholarship',\n",
    "    'Scholarship (Other, please note)':'Scholarship',\n",
    "})\n",
    "enrolments.ExpectedPayment.fillna(\"Unknown\", inplace=True)\n",
    "enrolments.ExpectedPayment.value_counts()"
   ]
  },
  {
   "cell_type": "code",
   "execution_count": 12,
   "metadata": {
    "collapsed": false
   },
   "outputs": [
    {
     "data": {
      "text/plain": [
       "GA Course Leads                17758\n",
       "Website                         5743\n",
       "CWE Purchase                    4557\n",
       "Facebook Acquisition            1609\n",
       "GA Dash                         1368\n",
       "Sweepstake                      1204\n",
       "Other                           1078\n",
       "Unknown                          995\n",
       "Partner Event                    466\n",
       "GA Front Row Signup              388\n",
       "GA Circuits Leads                377\n",
       "Twitter Promoted                 370\n",
       "Student Enrollment               197\n",
       "Twitter Acquisition              190\n",
       "Uncategorized                    186\n",
       "Content Partnership              150\n",
       "Livestream Purchase              117\n",
       "Scholarship                      117\n",
       "Partner Livestream               105\n",
       "CWE Walk Ins                     102\n",
       "Global Acquisition Campaign       78\n",
       "Free Front Row Trial Local        54\n",
       "GA Content                        52\n",
       "Social Organic                    39\n",
       "GA Event                          34\n",
       "LinkedIn Acquisition              32\n",
       "GA Blog                           32\n",
       "List Purchase                     22\n",
       "Tuition Credit                    14\n",
       "Local Sweepstake                  13\n",
       "GA University Leads                9\n",
       "GA Hub                             9\n",
       "AdWords Acquisition                8\n",
       "Local Content Partnership          7\n",
       "Affiliate Lead Gen                 6\n",
       "Adwords Lead Gen                   6\n",
       "Facebook Lead Gen                  5\n",
       "Free Front Row Trial Global        4\n",
       "Facebook Promoted                  4\n",
       "Name: PardotCategory, dtype: int64"
      ]
     },
     "execution_count": 12,
     "metadata": {},
     "output_type": "execute_result"
    }
   ],
   "source": [
    "enrolments.PardotCategory.fillna(\"Unknown\", inplace=True)\n",
    "enrolments.PardotCategory.value_counts()"
   ]
  },
  {
   "cell_type": "code",
   "execution_count": 13,
   "metadata": {
    "collapsed": false
   },
   "outputs": [],
   "source": [
    "#enrolments.DaysEnroltoStartdate.mean()\n",
    "enrolments.DaysEnroltoStartdate.fillna(enrolments.DaysEnroltoStartdate.mean(), inplace=True)"
   ]
  },
  {
   "cell_type": "code",
   "execution_count": 14,
   "metadata": {
    "collapsed": false
   },
   "outputs": [],
   "source": [
    "#enrolments.SpeedtoLead.value_counts()\n",
    "enrolments.SpeedtoLead.fillna(enrolments.SpeedtoLead.mean(), inplace=True)"
   ]
  },
  {
   "cell_type": "code",
   "execution_count": 15,
   "metadata": {
    "collapsed": false
   },
   "outputs": [
    {
     "data": {
      "text/plain": [
       "Startdate               0\n",
       "Enddate                 0\n",
       "Price                   0\n",
       "Metro                   0\n",
       "Course                  0\n",
       "Type                    0\n",
       "DaysEnroltoStartdate    0\n",
       "DaysInvoicetoEnrol      0\n",
       "DaysLeadtoEnroled       0\n",
       "EnrolDate               0\n",
       "ExpectedPayment         0\n",
       "ApplicationType         0\n",
       "PardotCategory          0\n",
       "LeadID                  0\n",
       "PhoneValid              0\n",
       "SpeedtoLead             0\n",
       "InstanceID              0\n",
       "Cancelled               0\n",
       "APAC                    0\n",
       "dtype: int64"
      ]
     },
     "execution_count": 15,
     "metadata": {},
     "output_type": "execute_result"
    }
   ],
   "source": [
    "enrolments.isnull().sum()"
   ]
  },
  {
   "cell_type": "markdown",
   "metadata": {},
   "source": [
    "#### Streamlining multiple categories"
   ]
  },
  {
   "cell_type": "code",
   "execution_count": null,
   "metadata": {
    "collapsed": false
   },
   "outputs": [],
   "source": [
    "#Checkout only the more common application types\n",
    "#enrolments.ApplicationType.value_counts()<100"
   ]
  },
  {
   "cell_type": "code",
   "execution_count": 16,
   "metadata": {
    "collapsed": false
   },
   "outputs": [
    {
     "data": {
      "text/plain": [
       "Index(['apply now', 'request info', 'info session', 'referral',\n",
       "       'contact_admissions', 'financing contact us', 'get notified',\n",
       "       'cwe_feedback', 'trial class', 'lander', 'open house'],\n",
       "      dtype='object')"
      ]
     },
     "execution_count": 16,
     "metadata": {},
     "output_type": "execute_result"
    }
   ],
   "source": [
    "commonapptypes = enrolments.ApplicationType.value_counts().index[enrolments.ApplicationType.value_counts()>147]\n",
    "commonapptypes"
   ]
  },
  {
   "cell_type": "code",
   "execution_count": 17,
   "metadata": {
    "collapsed": false
   },
   "outputs": [
    {
     "data": {
      "text/plain": [
       "(35957, 19)"
      ]
     },
     "execution_count": 17,
     "metadata": {},
     "output_type": "execute_result"
    }
   ],
   "source": [
    "enrolments = enrolments[enrolments.ApplicationType.isin(commonapptypes)]\n",
    "enrolments.shape"
   ]
  },
  {
   "cell_type": "code",
   "execution_count": 18,
   "metadata": {
    "collapsed": false
   },
   "outputs": [
    {
     "data": {
      "text/plain": [
       "apply now               12684\n",
       "request info            12329\n",
       "info session             7258\n",
       "referral                 1141\n",
       "contact_admissions        536\n",
       "financing contact us      506\n",
       "get notified              498\n",
       "cwe_feedback              346\n",
       "trial class               273\n",
       "lander                    206\n",
       "open house                180\n",
       "Name: ApplicationType, dtype: int64"
      ]
     },
     "execution_count": 18,
     "metadata": {},
     "output_type": "execute_result"
    }
   ],
   "source": [
    "enrolments.ApplicationType.value_counts()"
   ]
  },
  {
   "cell_type": "code",
   "execution_count": 19,
   "metadata": {
    "collapsed": false
   },
   "outputs": [
    {
     "data": {
      "text/plain": [
       "Index(['GA Course Leads', 'Website', 'CWE Purchase', 'Facebook Acquisition',\n",
       "       'GA Dash', 'Sweepstake', 'Other', 'Unknown', 'Partner Event',\n",
       "       'GA Front Row Signup', 'Twitter Promoted', 'GA Circuits Leads',\n",
       "       'Uncategorized', 'Twitter Acquisition', 'Student Enrollment',\n",
       "       'Content Partnership', 'Livestream Purchase'],\n",
       "      dtype='object')"
      ]
     },
     "execution_count": 19,
     "metadata": {},
     "output_type": "execute_result"
    }
   ],
   "source": [
    "#Checkout only the more common Pardot types\n",
    "#enrolments.PardotCategory.value_counts()>100\n",
    "commonpdtypes = enrolments.PardotCategory.value_counts().index[enrolments.PardotCategory.value_counts()>100]\n",
    "commonpdtypes"
   ]
  },
  {
   "cell_type": "code",
   "execution_count": 20,
   "metadata": {
    "collapsed": false
   },
   "outputs": [
    {
     "data": {
      "text/plain": [
       "(35282, 19)"
      ]
     },
     "execution_count": 20,
     "metadata": {},
     "output_type": "execute_result"
    }
   ],
   "source": [
    "enrolments = enrolments[enrolments.PardotCategory.isin(commonpdtypes)]\n",
    "enrolments.shape"
   ]
  },
  {
   "cell_type": "code",
   "execution_count": 21,
   "metadata": {
    "collapsed": false
   },
   "outputs": [
    {
     "data": {
      "text/plain": [
       "GA Course Leads         17319\n",
       "Website                  5514\n",
       "CWE Purchase             4307\n",
       "Facebook Acquisition     1551\n",
       "GA Dash                  1273\n",
       "Sweepstake               1149\n",
       "Other                    1011\n",
       "Unknown                   891\n",
       "Partner Event             434\n",
       "GA Front Row Signup       375\n",
       "Twitter Promoted          352\n",
       "GA Circuits Leads         318\n",
       "Uncategorized             183\n",
       "Twitter Acquisition       182\n",
       "Student Enrollment        172\n",
       "Content Partnership       139\n",
       "Livestream Purchase       112\n",
       "Name: PardotCategory, dtype: int64"
      ]
     },
     "execution_count": 21,
     "metadata": {},
     "output_type": "execute_result"
    }
   ],
   "source": [
    "enrolments.PardotCategory.value_counts()"
   ]
  },
  {
   "cell_type": "code",
   "execution_count": 22,
   "metadata": {
    "collapsed": false
   },
   "outputs": [
    {
     "name": "stdout",
     "output_type": "stream",
     "text": [
      "<class 'pandas.core.frame.DataFrame'>\n",
      "Int64Index: 35282 entries, 0 to 37504\n",
      "Data columns (total 19 columns):\n",
      "Startdate               35282 non-null int64\n",
      "Enddate                 35282 non-null int64\n",
      "Price                   35282 non-null int64\n",
      "Metro                   35282 non-null object\n",
      "Course                  35282 non-null object\n",
      "Type                    35282 non-null object\n",
      "DaysEnroltoStartdate    35282 non-null float64\n",
      "DaysInvoicetoEnrol      35282 non-null int64\n",
      "DaysLeadtoEnroled       35282 non-null int64\n",
      "EnrolDate               35282 non-null int64\n",
      "ExpectedPayment         35282 non-null object\n",
      "ApplicationType         35282 non-null object\n",
      "PardotCategory          35282 non-null object\n",
      "LeadID                  35282 non-null int64\n",
      "PhoneValid              35282 non-null int64\n",
      "SpeedtoLead             35282 non-null float64\n",
      "InstanceID              35282 non-null int64\n",
      "Cancelled               35282 non-null bool\n",
      "APAC                    35282 non-null bool\n",
      "dtypes: bool(2), float64(2), int64(9), object(6)\n",
      "memory usage: 4.9+ MB\n"
     ]
    }
   ],
   "source": [
    "enrolments.info()"
   ]
  },
  {
   "cell_type": "code",
   "execution_count": 23,
   "metadata": {
    "collapsed": false
   },
   "outputs": [
    {
     "data": {
      "text/plain": [
       "False    29019\n",
       "True      6263\n",
       "Name: Cancelled, dtype: int64"
      ]
     },
     "execution_count": 23,
     "metadata": {},
     "output_type": "execute_result"
    }
   ],
   "source": [
    "enrolments.Cancelled.value_counts()"
   ]
  },
  {
   "cell_type": "markdown",
   "metadata": {},
   "source": [
    "#### Pandas profile"
   ]
  },
  {
   "cell_type": "code",
   "execution_count": null,
   "metadata": {
    "collapsed": false
   },
   "outputs": [],
   "source": [
    "#!pip install pandas-profiling"
   ]
  },
  {
   "cell_type": "code",
   "execution_count": null,
   "metadata": {
    "collapsed": false
   },
   "outputs": [],
   "source": [
    "#import pandas_profiling\n",
    "#apandas_profiling.ProfileReport(enrolments)"
   ]
  },
  {
   "cell_type": "markdown",
   "metadata": {},
   "source": [
    "### Visualisation"
   ]
  },
  {
   "cell_type": "code",
   "execution_count": null,
   "metadata": {
    "collapsed": true
   },
   "outputs": [],
   "source": [
    "from sklearn import tree\n",
    "from sklearn.model_selection import train_test_split\n",
    "from sklearn import metrics\n",
    "import matplotlib.pyplot as plt\n",
    "import seaborn as sns\n",
    "import urllib\n",
    "import plotly\n",
    "import plotly.plotly as py\n",
    "import plotly.graph_objs as go \n",
    "import folium\n",
    "import plotly.figure_factory as ff\n",
    "\n",
    "plotly.tools.set_credentials_file(username='Msquirchuk', api_key='kTj4gydNrsbGuMDjMcNn')\n",
    "\n",
    "%matplotlib inline\n",
    "sns.set(color_codes=True)"
   ]
  },
  {
   "cell_type": "code",
   "execution_count": null,
   "metadata": {
    "collapsed": false
   },
   "outputs": [],
   "source": [
    "enrolments['DaysInvoicetoEnrol'].hist()"
   ]
  },
  {
   "cell_type": "code",
   "execution_count": null,
   "metadata": {
    "collapsed": false
   },
   "outputs": [],
   "source": [
    "enrolments['DaysEnroltoStartdate'].hist()"
   ]
  },
  {
   "cell_type": "code",
   "execution_count": null,
   "metadata": {
    "collapsed": false
   },
   "outputs": [],
   "source": [
    "plt.figure(figsize = (15,6))\n",
    "sns.barplot(x='Metro', y = 'Cancelled', data = enrolments)"
   ]
  },
  {
   "cell_type": "code",
   "execution_count": null,
   "metadata": {
    "collapsed": false
   },
   "outputs": [],
   "source": [
    "plt.figure(figsize = (20,10))\n",
    "sns.barplot(x='Course', y = 'Cancelled', data = enrolments)"
   ]
  },
  {
   "cell_type": "code",
   "execution_count": null,
   "metadata": {
    "collapsed": false
   },
   "outputs": [],
   "source": [
    "sns.jointplot(x='DaysEnroltoStartdate', y=\"DaysInvoicetoEnrol\", data=enrolments)"
   ]
  },
  {
   "cell_type": "code",
   "execution_count": null,
   "metadata": {
    "collapsed": false
   },
   "outputs": [],
   "source": [
    "corr = enrolments.corr()\n",
    "corr = (corr)\n",
    "plt.figure(figsize = (20,20))\n",
    "sns.heatmap(corr, \n",
    "            xticklabels=corr.columns.values,\n",
    "            yticklabels=corr.columns.values)\n",
    "sns.plt.title('Heatmap of Correlation Matrix')"
   ]
  },
  {
   "cell_type": "markdown",
   "metadata": {},
   "source": [
    "## Running dummy data\n",
    "- These columns have text outputs:\n",
    " - Metro: 35282 non-null object\n",
    " - Course: 35282 non-null object\n",
    " - Type: 35282 non-null object\n",
    " - ExpectedPayment: 35282 non-null object\n",
    " - ApplicationType: 35282 non-null object\n",
    " - PardotCategory: 35282 non-null object"
   ]
  },
  {
   "cell_type": "code",
   "execution_count": 24,
   "metadata": {
    "collapsed": false
   },
   "outputs": [],
   "source": [
    "dummydata = pd.get_dummies(data=enrolments, columns = ['Metro','Course','Type','ExpectedPayment','ApplicationType','PardotCategory'], prefix = ['Metro','Course','Type','ExpectedPayment','ApplicationType','PardotCategory'] )"
   ]
  },
  {
   "cell_type": "code",
   "execution_count": 25,
   "metadata": {
    "collapsed": false
   },
   "outputs": [
    {
     "data": {
      "text/plain": [
       "Index(['Startdate', 'Enddate', 'Price', 'DaysEnroltoStartdate',\n",
       "       'DaysInvoicetoEnrol', 'DaysLeadtoEnroled', 'EnrolDate', 'LeadID',\n",
       "       'PhoneValid', 'SpeedtoLead',\n",
       "       ...\n",
       "       'PardotCategory_Livestream Purchase', 'PardotCategory_Other',\n",
       "       'PardotCategory_Partner Event', 'PardotCategory_Student Enrollment',\n",
       "       'PardotCategory_Sweepstake', 'PardotCategory_Twitter Acquisition',\n",
       "       'PardotCategory_Twitter Promoted', 'PardotCategory_Uncategorized',\n",
       "       'PardotCategory_Unknown', 'PardotCategory_Website'],\n",
       "      dtype='object', length=101)"
      ]
     },
     "execution_count": 25,
     "metadata": {},
     "output_type": "execute_result"
    }
   ],
   "source": [
    "dummydata.columns"
   ]
  },
  {
   "cell_type": "code",
   "execution_count": 26,
   "metadata": {
    "collapsed": false
   },
   "outputs": [
    {
     "data": {
      "text/plain": [
       "Index(['Startdate', 'Enddate', 'Price', 'Metro', 'Course', 'Type',\n",
       "       'DaysEnroltoStartdate', 'DaysInvoicetoEnrol', 'DaysLeadtoEnroled',\n",
       "       'EnrolDate', 'ExpectedPayment', 'ApplicationType', 'PardotCategory',\n",
       "       'LeadID', 'PhoneValid', 'SpeedtoLead', 'InstanceID', 'Cancelled',\n",
       "       'APAC'],\n",
       "      dtype='object')"
      ]
     },
     "execution_count": 26,
     "metadata": {},
     "output_type": "execute_result"
    }
   ],
   "source": [
    "enrolments.columns"
   ]
  },
  {
   "cell_type": "markdown",
   "metadata": {},
   "source": [
    "## Let's try some algorithms!"
   ]
  },
  {
   "cell_type": "markdown",
   "metadata": {},
   "source": [
    "### Decision Tree"
   ]
  },
  {
   "cell_type": "code",
   "execution_count": null,
   "metadata": {
    "collapsed": false
   },
   "outputs": [],
   "source": [
    "dummydata.Cancelled.value_counts()"
   ]
  },
  {
   "cell_type": "code",
   "execution_count": null,
   "metadata": {
    "collapsed": false
   },
   "outputs": [],
   "source": [
    "treesubset = dummydata"
   ]
  },
  {
   "cell_type": "code",
   "execution_count": null,
   "metadata": {
    "collapsed": false
   },
   "outputs": [],
   "source": [
    "from sklearn import tree\n",
    "from sklearn.cross_validation import train_test_split\n",
    "from sklearn import metrics\n",
    "import matplotlib.pyplot as plt\n",
    "\n",
    "%matplotlib inline\n",
    "\n",
    "cancelled = treesubset['Cancelled']\n",
    "del treesubset['Cancelled']\n",
    "treesubset"
   ]
  },
  {
   "cell_type": "code",
   "execution_count": null,
   "metadata": {
    "collapsed": false
   },
   "outputs": [],
   "source": [
    "X_train, X_test, y_train, y_test = train_test_split(treesubset, cancelled, random_state=1)\n",
    "ctree = tree.DecisionTreeClassifier(random_state=1, max_depth=2)\n",
    "# Fit the decision tree classifier\n",
    "ctree.fit(X_train, y_train)\n",
    "# Create a feature vector\n",
    "features = treesubset.columns.tolist()\n",
    "features"
   ]
  },
  {
   "cell_type": "code",
   "execution_count": null,
   "metadata": {
    "collapsed": false
   },
   "outputs": [],
   "source": [
    "from io import StringIO\n",
    "out = StringIO()\n",
    "tree.export_graphviz(ctree, out_file = out)\n",
    "from sklearn.tree import export_graphviz\n",
    "export_graphviz(ctree, out_file='decisiontree.dot', feature_names=features)"
   ]
  },
  {
   "cell_type": "markdown",
   "metadata": {
    "collapsed": true
   },
   "source": [
    "#### Previously exported: \n",
    "<img src=\"decisiontree-enrolments.png\">"
   ]
  },
  {
   "cell_type": "markdown",
   "metadata": {
    "collapsed": true
   },
   "source": [
    "### Logistic Regression"
   ]
  },
  {
   "cell_type": "code",
   "execution_count": 56,
   "metadata": {
    "collapsed": false
   },
   "outputs": [],
   "source": [
    "import pandas as pd\n",
    "# data = dummydata\n",
    "all_ftcolumns = dummydata.columns.tolist()\n",
    "all_ftcolumns.remove('Cancelled')"
   ]
  },
  {
   "cell_type": "code",
   "execution_count": 57,
   "metadata": {
    "collapsed": false
   },
   "outputs": [],
   "source": [
    "X = dummydata[all_ftcolumns]\n",
    "y = dummydata.Cancelled"
   ]
  },
  {
   "cell_type": "code",
   "execution_count": 58,
   "metadata": {
    "collapsed": false
   },
   "outputs": [
    {
     "name": "stdout",
     "output_type": "stream",
     "text": [
      "LogisticRegression(C=1.0, class_weight=None, dual=False, fit_intercept=True,\n",
      "          intercept_scaling=1, max_iter=100, multi_class='ovr', n_jobs=1,\n",
      "          penalty='l2', random_state=None, solver='liblinear', tol=0.0001,\n",
      "          verbose=0, warm_start=False)\n"
     ]
    }
   ],
   "source": [
    "#split the data\n",
    "from sklearn.cross_validation import train_test_split\n",
    "from sklearn.cross_validation import cross_val_score\n",
    "\n",
    "X_train, X_test, y_train, y_test = train_test_split(X, y, random_state=1)\n",
    "#fit the logreg model and print the coefficients\n",
    "from sklearn.linear_model import LogisticRegression\n",
    "logreg = LogisticRegression()\n",
    "logreg.fit(X_train, y_train)\n",
    "zip(feature_cols, logreg.coef_[0])\n",
    "print(logreg.fit(X_train, y_train))"
   ]
  },
  {
   "cell_type": "code",
   "execution_count": 59,
   "metadata": {
    "collapsed": false
   },
   "outputs": [
    {
     "name": "stdout",
     "output_type": "stream",
     "text": [
      "0.822582473642\n"
     ]
    }
   ],
   "source": [
    "#test accuracy\n",
    "y_pred_class = logreg.predict(X_test)\n",
    "from sklearn import metrics\n",
    "print(metrics.accuracy_score(y_test,y_pred_class))"
   ]
  },
  {
   "cell_type": "code",
   "execution_count": 60,
   "metadata": {
    "collapsed": false
   },
   "outputs": [
    {
     "name": "stdout",
     "output_type": "stream",
     "text": [
      "0.822582473642\n"
     ]
    }
   ],
   "source": [
    "from sklearn.dummy import DummyClassifier\n",
    "dumb = DummyClassifier(strategy='most_frequent')\n",
    "dumb.fit(X_train, y_train)\n",
    "y_dumb_class = dumb.predict(X_test)\n",
    "print (metrics.accuracy_score(y_test, y_dumb_class))"
   ]
  },
  {
   "cell_type": "code",
   "execution_count": 61,
   "metadata": {
    "collapsed": false
   },
   "outputs": [
    {
     "name": "stdout",
     "output_type": "stream",
     "text": [
      "[ 0.82232927  0.82232927  0.82232927  0.82256236  0.82256236  0.82256236\n",
      "  0.82256236  0.82256236  0.82256236  0.82251205]\n"
     ]
    }
   ],
   "source": [
    "scores = cross_val_score(LogisticRegression(), X, y, scoring='accuracy', cv=10)\n",
    "print(scores)"
   ]
  },
  {
   "cell_type": "code",
   "execution_count": 62,
   "metadata": {
    "collapsed": false
   },
   "outputs": [
    {
     "name": "stdout",
     "output_type": "stream",
     "text": [
      "0.822487401481\n"
     ]
    }
   ],
   "source": [
    "print(scores.mean())"
   ]
  },
  {
   "cell_type": "code",
   "execution_count": 63,
   "metadata": {
    "collapsed": false
   },
   "outputs": [
    {
     "name": "stdout",
     "output_type": "stream",
     "text": [
      "[[7256    0]\n",
      " [1565    0]]\n"
     ]
    }
   ],
   "source": [
    "#print the confusion matrix\n",
    "from sklearn import metrics\n",
    "prds = logreg.predict(X)\n",
    "print(metrics.confusion_matrix(y_test, y_pred_class))"
   ]
  },
  {
   "cell_type": "code",
   "execution_count": 64,
   "metadata": {
    "collapsed": false
   },
   "outputs": [
    {
     "data": {
      "image/png": "[encoded data removed]",
      "text/plain": [
       "<matplotlib.figure.Figure at 0x1172fdcf8>"
      ]
     },
     "metadata": {},
     "output_type": "display_data"
    }
   ],
   "source": [
    "#generate the ROC curve\n",
    "import matplotlib.pyplot as plt\n",
    "# Generate the prediction values for each of the test observations using predict_proba() function rather than just predict\n",
    "preds = logreg.predict_proba(X_test)[:,1]\n",
    "# Store the false positive rate(fpr), true positive rate (tpr) in vectors for use in the graph\n",
    "fpr, tpr, _ = metrics.roc_curve(y_test, preds)\n",
    "# Store the Area Under the Curve (AUC) so we can annotate our graph with this metric\n",
    "roc_auc = metrics.auc(fpr,tpr)\n",
    "# Plot the ROC Curve\n",
    "plt.figure()\n",
    "lw = 2\n",
    "plt.plot(fpr, tpr, color='darkorange',\n",
    "         lw=lw, label='ROC curve (area = %0.2f)' % roc_auc)\n",
    "plt.plot([0, 1], [0, 1], color='navy', lw=lw, linestyle='--')\n",
    "plt.xlim([0.0, 1.0])\n",
    "plt.ylim([0.0, 1.05])\n",
    "plt.xlabel('False Positive Rate')\n",
    "plt.ylabel('True Positive Rate')\n",
    "plt.title('Receiver operating characteristic example')\n",
    "plt.legend(loc=\"lower right\")\n",
    "plt.show()\n",
    "# Our aim when modelling is to maximise the area under the curve, the closer to one the better the model."
   ]
  },
  {
   "cell_type": "markdown",
   "metadata": {},
   "source": [
    "### Regression "
   ]
  },
  {
   "cell_type": "code",
   "execution_count": 65,
   "metadata": {
    "collapsed": false
   },
   "outputs": [
    {
     "name": "stdout",
     "output_type": "stream",
     "text": [
      "RMSE (No reg.) = 0.421209599081\n"
     ]
    },
    {
     "name": "stderr",
     "output_type": "stream",
     "text": [
      "/anaconda/lib/python3.6/site-packages/sklearn/metrics/regression.py:232: DeprecationWarning: numpy boolean subtract, the `-` operator, is deprecated, use the bitwise_xor, the `^` operator, or the logical_xor function instead.\n",
      "  output_errors = np.average((y_true - y_pred) ** 2, axis=0,\n"
     ]
    }
   ],
   "source": [
    "print('RMSE (No reg.) =', np.sqrt(metrics.mean_squared_error(y_test,y_pred_class)))"
   ]
  },
  {
   "cell_type": "code",
   "execution_count": 66,
   "metadata": {
    "collapsed": false
   },
   "outputs": [
    {
     "name": "stdout",
     "output_type": "stream",
     "text": [
      "Optimal Alpha Value:  0.001\n",
      "RMSE (Ridge CV reg.) = 0.377489495641\n"
     ]
    }
   ],
   "source": [
    "from sklearn.linear_model import RidgeCV\n",
    "alpha_range = 10.**np.arange(-5, 5)\n",
    "rregcv = RidgeCV(normalize=True, scoring='neg_mean_squared_error', alphas=alpha_range)\n",
    "rregcv.fit(X_train, y_train)\n",
    "# Print the optimal value of Alpha for Ridge Regression\n",
    "print('Optimal Alpha Value: ', rregcv.alpha_)\n",
    "# Print the RMSE for the ridge regression model\n",
    "preds = rregcv.predict(X_test)\n",
    "print ('RMSE (Ridge CV reg.) =', np.sqrt(metrics.mean_squared_error(y_test, preds)))"
   ]
  },
  {
   "cell_type": "code",
   "execution_count": 67,
   "metadata": {
    "collapsed": false
   },
   "outputs": [
    {
     "name": "stdout",
     "output_type": "stream",
     "text": [
      "Optimal Alpha Value:  0.0001\n",
      "RMSE (Lasso CV reg.) = 0.381145066437\n"
     ]
    }
   ],
   "source": [
    "from sklearn.linear_model import LassoCV\n",
    "alpha_range = 10.**np.arange(-4, 4)\n",
    "lascv = LassoCV(normalize=True, alphas=alpha_range)\n",
    "lascv.fit(X_train, y_train)\n",
    "print('Optimal Alpha Value: ',lascv.alpha_)\n",
    "lascv.coef_\n",
    "preds = lascv.predict(X_test)\n",
    "print('RMSE (Lasso CV reg.) =', np.sqrt(metrics.mean_squared_error(y_test, preds)))"
   ]
  },
  {
   "cell_type": "code",
   "execution_count": 68,
   "metadata": {
    "collapsed": false
   },
   "outputs": [
    {
     "name": "stdout",
     "output_type": "stream",
     "text": [
      "Optimal Alpha Value:  100.0\n",
      "RMSE (ENET CV reg.) 0.382021679716\n"
     ]
    }
   ],
   "source": [
    "from sklearn.linear_model import ElasticNetCV\n",
    "alpha_range = 10.**np.arange(-3, 3)\n",
    "enetCV = ElasticNetCV(normalize=True, alphas=alpha_range)\n",
    "enetCV.fit(X_train, y_train)\n",
    "print('Optimal Alpha Value: ',enetCV.alpha_)\n",
    "enetCV.coef_\n",
    "preds = enetCV.predict(X_test)\n",
    "print('RMSE (ENET CV reg.)', np.sqrt(metrics.mean_squared_error(y_test, preds)))"
   ]
  },
  {
   "cell_type": "markdown",
   "metadata": {},
   "source": [
    "### KNN Classifier"
   ]
  },
  {
   "cell_type": "code",
   "execution_count": 69,
   "metadata": {
    "collapsed": false
   },
   "outputs": [
    {
     "name": "stdout",
     "output_type": "stream",
     "text": [
      "0.797641990704\n"
     ]
    }
   ],
   "source": [
    "from sklearn.neighbors import KNeighborsClassifier\n",
    "KNN_model = KNeighborsClassifier(5)\n",
    "KNN_model.fit(X_train, y_train)\n",
    "y_pred_class = KNN_model.predict(X_test)\n",
    "# Print the new accuracy rate\n",
    "print(metrics.accuracy_score(y_test, y_pred_class))"
   ]
  },
  {
   "cell_type": "markdown",
   "metadata": {},
   "source": [
    "### Random Forrest"
   ]
  },
  {
   "cell_type": "code",
   "execution_count": 72,
   "metadata": {
    "collapsed": false
   },
   "outputs": [],
   "source": [
    "#all_ftcolumns"
   ]
  },
  {
   "cell_type": "code",
   "execution_count": 75,
   "metadata": {
    "collapsed": false
   },
   "outputs": [
    {
     "data": {
      "text/plain": [
       "0.84397143019103227"
      ]
     },
     "execution_count": 75,
     "metadata": {},
     "output_type": "execute_result"
    }
   ],
   "source": [
    "from sklearn.ensemble import RandomForestClassifier\n",
    "rfclf = RandomForestClassifier(n_estimators=400, max_features=2, oob_score=True, random_state=1)\n",
    "rfclf.fit(dummydata[all_ftcolumns], dummydata.Cancelled)\n",
    "rfclf.oob_score_"
   ]
  },
  {
   "cell_type": "code",
   "execution_count": 74,
   "metadata": {
    "collapsed": false
   },
   "outputs": [
    {
     "data": {
      "text/html": [
       "<div>\n",
       "<table border=\"1\" class=\"dataframe\">\n",
       "  <thead>\n",
       "    <tr style=\"text-align: right;\">\n",
       "      <th></th>\n",
       "      <th>feature</th>\n",
       "      <th>importance</th>\n",
       "    </tr>\n",
       "  </thead>\n",
       "  <tbody>\n",
       "    <tr>\n",
       "      <th>0</th>\n",
       "      <td>Startdate</td>\n",
       "      <td>0.066676</td>\n",
       "    </tr>\n",
       "    <tr>\n",
       "      <th>1</th>\n",
       "      <td>Enddate</td>\n",
       "      <td>0.067371</td>\n",
       "    </tr>\n",
       "    <tr>\n",
       "      <th>2</th>\n",
       "      <td>Price</td>\n",
       "      <td>0.024936</td>\n",
       "    </tr>\n",
       "    <tr>\n",
       "      <th>3</th>\n",
       "      <td>DaysEnroltoStartdate</td>\n",
       "      <td>0.178228</td>\n",
       "    </tr>\n",
       "    <tr>\n",
       "      <th>4</th>\n",
       "      <td>DaysInvoicetoEnrol</td>\n",
       "      <td>0.031645</td>\n",
       "    </tr>\n",
       "    <tr>\n",
       "      <th>5</th>\n",
       "      <td>DaysLeadtoEnroled</td>\n",
       "      <td>0.090088</td>\n",
       "    </tr>\n",
       "    <tr>\n",
       "      <th>6</th>\n",
       "      <td>EnrolDate</td>\n",
       "      <td>0.091128</td>\n",
       "    </tr>\n",
       "    <tr>\n",
       "      <th>7</th>\n",
       "      <td>LeadID</td>\n",
       "      <td>0.094869</td>\n",
       "    </tr>\n",
       "    <tr>\n",
       "      <th>8</th>\n",
       "      <td>PhoneValid</td>\n",
       "      <td>0.008769</td>\n",
       "    </tr>\n",
       "    <tr>\n",
       "      <th>9</th>\n",
       "      <td>SpeedtoLead</td>\n",
       "      <td>0.037246</td>\n",
       "    </tr>\n",
       "    <tr>\n",
       "      <th>10</th>\n",
       "      <td>InstanceID</td>\n",
       "      <td>0.069295</td>\n",
       "    </tr>\n",
       "    <tr>\n",
       "      <th>11</th>\n",
       "      <td>APAC</td>\n",
       "      <td>0.003809</td>\n",
       "    </tr>\n",
       "    <tr>\n",
       "      <th>12</th>\n",
       "      <td>Metro_atlanta</td>\n",
       "      <td>0.003734</td>\n",
       "    </tr>\n",
       "    <tr>\n",
       "      <th>13</th>\n",
       "      <td>Metro_austin</td>\n",
       "      <td>0.002746</td>\n",
       "    </tr>\n",
       "    <tr>\n",
       "      <th>14</th>\n",
       "      <td>Metro_boston</td>\n",
       "      <td>0.004217</td>\n",
       "    </tr>\n",
       "    <tr>\n",
       "      <th>15</th>\n",
       "      <td>Metro_brisbane</td>\n",
       "      <td>0.000046</td>\n",
       "    </tr>\n",
       "    <tr>\n",
       "      <th>16</th>\n",
       "      <td>Metro_chicago</td>\n",
       "      <td>0.003302</td>\n",
       "    </tr>\n",
       "    <tr>\n",
       "      <th>17</th>\n",
       "      <td>Metro_denver</td>\n",
       "      <td>0.001031</td>\n",
       "    </tr>\n",
       "    <tr>\n",
       "      <th>18</th>\n",
       "      <td>Metro_hong-kong</td>\n",
       "      <td>0.001136</td>\n",
       "    </tr>\n",
       "    <tr>\n",
       "      <th>19</th>\n",
       "      <td>Metro_london</td>\n",
       "      <td>0.003886</td>\n",
       "    </tr>\n",
       "    <tr>\n",
       "      <th>20</th>\n",
       "      <td>Metro_los-angeles</td>\n",
       "      <td>0.006544</td>\n",
       "    </tr>\n",
       "    <tr>\n",
       "      <th>21</th>\n",
       "      <td>Metro_melbourne</td>\n",
       "      <td>0.002078</td>\n",
       "    </tr>\n",
       "    <tr>\n",
       "      <th>22</th>\n",
       "      <td>Metro_new-york-city</td>\n",
       "      <td>0.007893</td>\n",
       "    </tr>\n",
       "    <tr>\n",
       "      <th>23</th>\n",
       "      <td>Metro_online</td>\n",
       "      <td>0.000767</td>\n",
       "    </tr>\n",
       "    <tr>\n",
       "      <th>24</th>\n",
       "      <td>Metro_san-francisco</td>\n",
       "      <td>0.007068</td>\n",
       "    </tr>\n",
       "    <tr>\n",
       "      <th>25</th>\n",
       "      <td>Metro_seattle</td>\n",
       "      <td>0.003336</td>\n",
       "    </tr>\n",
       "    <tr>\n",
       "      <th>26</th>\n",
       "      <td>Metro_singapore</td>\n",
       "      <td>0.001348</td>\n",
       "    </tr>\n",
       "    <tr>\n",
       "      <th>27</th>\n",
       "      <td>Metro_sydney</td>\n",
       "      <td>0.002605</td>\n",
       "    </tr>\n",
       "    <tr>\n",
       "      <th>28</th>\n",
       "      <td>Metro_washington-dc</td>\n",
       "      <td>0.005154</td>\n",
       "    </tr>\n",
       "    <tr>\n",
       "      <th>29</th>\n",
       "      <td>Course_ADI</td>\n",
       "      <td>0.000565</td>\n",
       "    </tr>\n",
       "    <tr>\n",
       "      <th>...</th>\n",
       "      <td>...</td>\n",
       "      <td>...</td>\n",
       "    </tr>\n",
       "    <tr>\n",
       "      <th>70</th>\n",
       "      <td>ExpectedPayment_Unknown</td>\n",
       "      <td>0.001838</td>\n",
       "    </tr>\n",
       "    <tr>\n",
       "      <th>71</th>\n",
       "      <td>ExpectedPayment_Veterans Affairs</td>\n",
       "      <td>0.000463</td>\n",
       "    </tr>\n",
       "    <tr>\n",
       "      <th>72</th>\n",
       "      <td>ApplicationType_apply now</td>\n",
       "      <td>0.011274</td>\n",
       "    </tr>\n",
       "    <tr>\n",
       "      <th>73</th>\n",
       "      <td>ApplicationType_contact_admissions</td>\n",
       "      <td>0.002059</td>\n",
       "    </tr>\n",
       "    <tr>\n",
       "      <th>74</th>\n",
       "      <td>ApplicationType_cwe_feedback</td>\n",
       "      <td>0.001306</td>\n",
       "    </tr>\n",
       "    <tr>\n",
       "      <th>75</th>\n",
       "      <td>ApplicationType_financing contact us</td>\n",
       "      <td>0.002585</td>\n",
       "    </tr>\n",
       "    <tr>\n",
       "      <th>76</th>\n",
       "      <td>ApplicationType_get notified</td>\n",
       "      <td>0.002042</td>\n",
       "    </tr>\n",
       "    <tr>\n",
       "      <th>77</th>\n",
       "      <td>ApplicationType_info session</td>\n",
       "      <td>0.008940</td>\n",
       "    </tr>\n",
       "    <tr>\n",
       "      <th>78</th>\n",
       "      <td>ApplicationType_lander</td>\n",
       "      <td>0.001204</td>\n",
       "    </tr>\n",
       "    <tr>\n",
       "      <th>79</th>\n",
       "      <td>ApplicationType_open house</td>\n",
       "      <td>0.000924</td>\n",
       "    </tr>\n",
       "    <tr>\n",
       "      <th>80</th>\n",
       "      <td>ApplicationType_referral</td>\n",
       "      <td>0.002399</td>\n",
       "    </tr>\n",
       "    <tr>\n",
       "      <th>81</th>\n",
       "      <td>ApplicationType_request info</td>\n",
       "      <td>0.010881</td>\n",
       "    </tr>\n",
       "    <tr>\n",
       "      <th>82</th>\n",
       "      <td>ApplicationType_trial class</td>\n",
       "      <td>0.001212</td>\n",
       "    </tr>\n",
       "    <tr>\n",
       "      <th>83</th>\n",
       "      <td>PardotCategory_CWE Purchase</td>\n",
       "      <td>0.008091</td>\n",
       "    </tr>\n",
       "    <tr>\n",
       "      <th>84</th>\n",
       "      <td>PardotCategory_Content Partnership</td>\n",
       "      <td>0.000839</td>\n",
       "    </tr>\n",
       "    <tr>\n",
       "      <th>85</th>\n",
       "      <td>PardotCategory_Facebook Acquisition</td>\n",
       "      <td>0.004922</td>\n",
       "    </tr>\n",
       "    <tr>\n",
       "      <th>86</th>\n",
       "      <td>PardotCategory_GA Circuits Leads</td>\n",
       "      <td>0.001651</td>\n",
       "    </tr>\n",
       "    <tr>\n",
       "      <th>87</th>\n",
       "      <td>PardotCategory_GA Course Leads</td>\n",
       "      <td>0.012675</td>\n",
       "    </tr>\n",
       "    <tr>\n",
       "      <th>88</th>\n",
       "      <td>PardotCategory_GA Dash</td>\n",
       "      <td>0.003611</td>\n",
       "    </tr>\n",
       "    <tr>\n",
       "      <th>89</th>\n",
       "      <td>PardotCategory_GA Front Row Signup</td>\n",
       "      <td>0.002285</td>\n",
       "    </tr>\n",
       "    <tr>\n",
       "      <th>90</th>\n",
       "      <td>PardotCategory_Livestream Purchase</td>\n",
       "      <td>0.000745</td>\n",
       "    </tr>\n",
       "    <tr>\n",
       "      <th>91</th>\n",
       "      <td>PardotCategory_Other</td>\n",
       "      <td>0.003350</td>\n",
       "    </tr>\n",
       "    <tr>\n",
       "      <th>92</th>\n",
       "      <td>PardotCategory_Partner Event</td>\n",
       "      <td>0.001977</td>\n",
       "    </tr>\n",
       "    <tr>\n",
       "      <th>93</th>\n",
       "      <td>PardotCategory_Student Enrollment</td>\n",
       "      <td>0.000456</td>\n",
       "    </tr>\n",
       "    <tr>\n",
       "      <th>94</th>\n",
       "      <td>PardotCategory_Sweepstake</td>\n",
       "      <td>0.003536</td>\n",
       "    </tr>\n",
       "    <tr>\n",
       "      <th>95</th>\n",
       "      <td>PardotCategory_Twitter Acquisition</td>\n",
       "      <td>0.001019</td>\n",
       "    </tr>\n",
       "    <tr>\n",
       "      <th>96</th>\n",
       "      <td>PardotCategory_Twitter Promoted</td>\n",
       "      <td>0.001717</td>\n",
       "    </tr>\n",
       "    <tr>\n",
       "      <th>97</th>\n",
       "      <td>PardotCategory_Uncategorized</td>\n",
       "      <td>0.001067</td>\n",
       "    </tr>\n",
       "    <tr>\n",
       "      <th>98</th>\n",
       "      <td>PardotCategory_Unknown</td>\n",
       "      <td>0.002211</td>\n",
       "    </tr>\n",
       "    <tr>\n",
       "      <th>99</th>\n",
       "      <td>PardotCategory_Website</td>\n",
       "      <td>0.009093</td>\n",
       "    </tr>\n",
       "  </tbody>\n",
       "</table>\n",
       "<p>100 rows × 2 columns</p>\n",
       "</div>"
      ],
      "text/plain": [
       "                                 feature  importance\n",
       "0                              Startdate    0.066676\n",
       "1                                Enddate    0.067371\n",
       "2                                  Price    0.024936\n",
       "3                   DaysEnroltoStartdate    0.178228\n",
       "4                     DaysInvoicetoEnrol    0.031645\n",
       "5                      DaysLeadtoEnroled    0.090088\n",
       "6                              EnrolDate    0.091128\n",
       "7                                 LeadID    0.094869\n",
       "8                             PhoneValid    0.008769\n",
       "9                            SpeedtoLead    0.037246\n",
       "10                            InstanceID    0.069295\n",
       "11                                  APAC    0.003809\n",
       "12                         Metro_atlanta    0.003734\n",
       "13                          Metro_austin    0.002746\n",
       "14                          Metro_boston    0.004217\n",
       "15                        Metro_brisbane    0.000046\n",
       "16                         Metro_chicago    0.003302\n",
       "17                          Metro_denver    0.001031\n",
       "18                       Metro_hong-kong    0.001136\n",
       "19                          Metro_london    0.003886\n",
       "20                     Metro_los-angeles    0.006544\n",
       "21                       Metro_melbourne    0.002078\n",
       "22                   Metro_new-york-city    0.007893\n",
       "23                          Metro_online    0.000767\n",
       "24                   Metro_san-francisco    0.007068\n",
       "25                         Metro_seattle    0.003336\n",
       "26                       Metro_singapore    0.001348\n",
       "27                          Metro_sydney    0.002605\n",
       "28                   Metro_washington-dc    0.005154\n",
       "29                            Course_ADI    0.000565\n",
       "..                                   ...         ...\n",
       "70               ExpectedPayment_Unknown    0.001838\n",
       "71      ExpectedPayment_Veterans Affairs    0.000463\n",
       "72             ApplicationType_apply now    0.011274\n",
       "73    ApplicationType_contact_admissions    0.002059\n",
       "74          ApplicationType_cwe_feedback    0.001306\n",
       "75  ApplicationType_financing contact us    0.002585\n",
       "76          ApplicationType_get notified    0.002042\n",
       "77          ApplicationType_info session    0.008940\n",
       "78                ApplicationType_lander    0.001204\n",
       "79            ApplicationType_open house    0.000924\n",
       "80              ApplicationType_referral    0.002399\n",
       "81          ApplicationType_request info    0.010881\n",
       "82           ApplicationType_trial class    0.001212\n",
       "83           PardotCategory_CWE Purchase    0.008091\n",
       "84    PardotCategory_Content Partnership    0.000839\n",
       "85   PardotCategory_Facebook Acquisition    0.004922\n",
       "86      PardotCategory_GA Circuits Leads    0.001651\n",
       "87        PardotCategory_GA Course Leads    0.012675\n",
       "88                PardotCategory_GA Dash    0.003611\n",
       "89    PardotCategory_GA Front Row Signup    0.002285\n",
       "90    PardotCategory_Livestream Purchase    0.000745\n",
       "91                  PardotCategory_Other    0.003350\n",
       "92          PardotCategory_Partner Event    0.001977\n",
       "93     PardotCategory_Student Enrollment    0.000456\n",
       "94             PardotCategory_Sweepstake    0.003536\n",
       "95    PardotCategory_Twitter Acquisition    0.001019\n",
       "96       PardotCategory_Twitter Promoted    0.001717\n",
       "97          PardotCategory_Uncategorized    0.001067\n",
       "98                PardotCategory_Unknown    0.002211\n",
       "99                PardotCategory_Website    0.009093\n",
       "\n",
       "[100 rows x 2 columns]"
      ]
     },
     "execution_count": 74,
     "metadata": {},
     "output_type": "execute_result"
    }
   ],
   "source": [
    "pd.DataFrame({'feature':all_ftcolumns, 'importance':rfclf.feature_importances_})"
   ]
  },
  {
   "cell_type": "markdown",
   "metadata": {},
   "source": [
    "## Parameter tuning?"
   ]
  },
  {
   "cell_type": "code",
   "execution_count": null,
   "metadata": {
    "collapsed": true
   },
   "outputs": [],
   "source": []
  },
  {
   "cell_type": "code",
   "execution_count": null,
   "metadata": {
    "collapsed": true
   },
   "outputs": [],
   "source": []
  }
 ],
 "metadata": {
  "kernelspec": {
   "display_name": "Python 3",
   "language": "python",
   "name": "python3"
  },
  "language_info": {
   "codemirror_mode": {
    "name": "ipython",
    "version": 3
   },
   "file_extension": ".py",
   "mimetype": "text/x-python",
   "name": "python",
   "nbconvert_exporter": "python",
   "pygments_lexer": "ipython3",
   "version": "3.6.0"
  }
 },
 "nbformat": 4,
 "nbformat_minor": 2
}
