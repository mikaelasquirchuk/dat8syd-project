{
 "cells": [
  {
   "cell_type": "markdown",
   "metadata": {},
   "source": [
    "# Enrolments Data"
   ]
  },
  {
   "cell_type": "markdown",
   "metadata": {},
   "source": [
    "## Exploration\n",
    "### Statistical exploration"
   ]
  },
  {
   "cell_type": "markdown",
   "metadata": {},
   "source": [
    "#### Reading the data, removing useless columns and adding special columns"
   ]
  },
  {
   "cell_type": "code",
   "execution_count": 1,
   "metadata": {
    "collapsed": false
   },
   "outputs": [],
   "source": [
    "import pandas as pd\n",
    "import numpy as np\n",
    "#Read the data\n",
    "enrolments = pd.read_csv(\"data/courses snap_sales_funnel 2017-07-05T1254.csv\",low_memory=False)"
   ]
  },
  {
   "cell_type": "code",
   "execution_count": 2,
   "metadata": {
    "collapsed": false
   },
   "outputs": [
    {
     "data": {
      "text/plain": [
       "Index(['Startdate', 'Enddate', 'Metro', 'Course', 'PhoneValid', 'Price',\n",
       "       'Type', 'DaysEnroltoStart', 'DaysInvoicetoEnrol', 'DaysLeadtoEnroled',\n",
       "       'EnrolDate', 'EnrolDay', 'EnrolHour', 'Month', 'EnrolWeek', 'Year',\n",
       "       'CanceledDate', 'CanceledMonth', 'ExpectedPayment', 'PardotCategory',\n",
       "       'ApplicationType', 'LeadID', 'Status', 'OppCreatedDate',\n",
       "       'OppOwnerMetro', 'SpeedtoLead', 'CampaignSource',\n",
       "       'CampaignSourceCategory'],\n",
       "      dtype='object')"
      ]
     },
     "execution_count": 2,
     "metadata": {},
     "output_type": "execute_result"
    }
   ],
   "source": [
    "enrolments.columns"
   ]
  },
  {
   "cell_type": "markdown",
   "metadata": {},
   "source": [
    "##### Columns\n",
    "- 'Startdate' = Enrolment course start date\n",
    "- 'Enddate'= Enrolment course end date\n",
    "- 'Metro' = Enrolment course location\n",
    "- 'Course' = Enrolment course (WDi, DAT, etc.)\n",
    "- 'PhoneValid' = Whether enrolment has valid phone number\n",
    "- 'Price' = Enrolment course price\n",
    "- 'Type' = Enrolment course type (immersive, part-time, remote)\n",
    "- 'DaysEnroltoStart' = Days between enrolment and course start date\n",
    "- 'DaysInvoicetoEnrol'= Days between invoice and enrolment\n",
    "- 'DaysLeadtoEnroled' = Days between lead entry (e.g. website visit) to enrolment\n",
    "- 'EnrolDate' = Date of enrolment\n",
    "- 'EnrolDay' = Day (of the week) of enrolment\n",
    "- 'EnrolHour' = Hour of enrolment\n",
    "- 'Month' = Month of enrolment\n",
    "- 'EnrolWeek' = Week of enrolment\n",
    "- 'Year' = Year of enrolment\n",
    "- 'CanceledDate' = Date cancelled\n",
    "- 'CanceledMonth' = Month cancelled\n",
    "- 'ExpectedPayment' = Method of expected payment (e.g. employer paid, personal loan, etc.)\n",
    "- 'PardotCategory' = Category of lead - how did they enter our system?\n",
    "- 'ApplicationType' = Type of application\n",
    "- 'LeadID' = ID of lead\n",
    "- 'Status'= Status of lead\n",
    "- 'OppCreatedDate' = Date lead creation\n",
    "- 'OppOwnerMetro' = Metro of lead creation\n",
    "- 'SpeedtoLead' = Time taken to contact lead\n",
    "- 'CampaignSource' = Source of campaign\n",
    "- 'CampaignSourceCategory' = Category of source of campaign"
   ]
  },
  {
   "cell_type": "code",
   "execution_count": 3,
   "metadata": {
    "collapsed": false
   },
   "outputs": [
    {
     "name": "stdout",
     "output_type": "stream",
     "text": [
      "<class 'pandas.core.frame.DataFrame'>\n",
      "RangeIndex: 50407 entries, 0 to 50406\n",
      "Data columns (total 28 columns):\n",
      "Startdate                 50407 non-null int64\n",
      "Enddate                   50407 non-null int64\n",
      "Metro                     50407 non-null object\n",
      "Course                    50407 non-null object\n",
      "PhoneValid                50407 non-null object\n",
      "Price                     50406 non-null float64\n",
      "Type                      50407 non-null object\n",
      "DaysEnroltoStart          46003 non-null float64\n",
      "DaysInvoicetoEnrol        50407 non-null int64\n",
      "DaysLeadtoEnroled         50407 non-null int64\n",
      "EnrolDate                 50407 non-null int64\n",
      "EnrolDay                  50407 non-null object\n",
      "EnrolHour                 50407 non-null int64\n",
      "Month                     50407 non-null int64\n",
      "EnrolWeek                 50407 non-null int64\n",
      "Year                      50407 non-null int64\n",
      "CanceledDate              9327 non-null float64\n",
      "CanceledMonth             9327 non-null float64\n",
      "ExpectedPayment           38772 non-null object\n",
      "PardotCategory            49407 non-null object\n",
      "ApplicationType           50407 non-null object\n",
      "LeadID                    50407 non-null int64\n",
      "Status                    39337 non-null object\n",
      "OppCreatedDate            50407 non-null int64\n",
      "OppOwnerMetro             35864 non-null object\n",
      "SpeedtoLead               13118 non-null float64\n",
      "CampaignSource            42503 non-null object\n",
      "CampaignSourceCategory    50407 non-null object\n",
      "dtypes: float64(5), int64(11), object(12)\n",
      "memory usage: 10.8+ MB\n"
     ]
    }
   ],
   "source": [
    "enrolments.info()"
   ]
  },
  {
   "cell_type": "code",
   "execution_count": 4,
   "metadata": {
    "collapsed": false
   },
   "outputs": [
    {
     "data": {
      "text/plain": [
       "Index(['Startdate', 'Enddate', 'Metro', 'Course', 'PhoneValid', 'Price',\n",
       "       'Type', 'DaysEnroltoStart', 'DaysInvoicetoEnrol', 'DaysLeadtoEnroled',\n",
       "       'EnrolDate', 'EnrolDay', 'EnrolHour', 'Month', 'EnrolWeek', 'Year',\n",
       "       'CanceledDate', 'CanceledMonth', 'ExpectedPayment', 'PardotCategory',\n",
       "       'ApplicationType', 'SpeedtoLead'],\n",
       "      dtype='object')"
      ]
     },
     "execution_count": 4,
     "metadata": {},
     "output_type": "execute_result"
    }
   ],
   "source": [
    "#Remove some useless columns\n",
    "enrolments.drop('Status', axis=1, inplace=True)\n",
    "enrolments.drop('CampaignSourceCategory',axis=1,inplace=True)\n",
    "enrolments.drop('CampaignSource',axis=1,inplace=True)\n",
    "enrolments.drop('OppOwnerMetro', axis=1, inplace=True)\n",
    "enrolments.drop('OppCreatedDate', axis=1, inplace=True)\n",
    "enrolments.drop('LeadID', axis=1, inplace=True)\n",
    "enrolments.columns"
   ]
  },
  {
   "cell_type": "code",
   "execution_count": 5,
   "metadata": {
    "collapsed": false
   },
   "outputs": [],
   "source": [
    "#Add cancelled column to track whether an enrolment cancelled\n",
    "enrolments['Cancelled'] = enrolments.CanceledDate.notnull()"
   ]
  },
  {
   "cell_type": "code",
   "execution_count": 6,
   "metadata": {
    "collapsed": true
   },
   "outputs": [],
   "source": [
    "enrolments.drop('CanceledDate', axis=1, inplace=True)"
   ]
  },
  {
   "cell_type": "code",
   "execution_count": 7,
   "metadata": {
    "collapsed": false
   },
   "outputs": [
    {
     "data": {
      "text/plain": [
       "Index(['Startdate', 'Enddate', 'Metro', 'Course', 'PhoneValid', 'Price',\n",
       "       'Type', 'DaysEnroltoStart', 'DaysInvoicetoEnrol', 'DaysLeadtoEnroled',\n",
       "       'EnrolDate', 'EnrolDay', 'EnrolHour', 'Month', 'EnrolWeek', 'Year',\n",
       "       'CanceledMonth', 'ExpectedPayment', 'PardotCategory', 'ApplicationType',\n",
       "       'SpeedtoLead', 'Cancelled'],\n",
       "      dtype='object')"
      ]
     },
     "execution_count": 7,
     "metadata": {},
     "output_type": "execute_result"
    }
   ],
   "source": [
    "enrolments.columns"
   ]
  },
  {
   "cell_type": "code",
   "execution_count": 8,
   "metadata": {
    "collapsed": true
   },
   "outputs": [],
   "source": [
    "#Add an APAC column\n",
    "enrolments['APAC'] = enrolments['Metro'].isin(['sydney','melbourne','hong-kong','singapore','brisbane'])"
   ]
  },
  {
   "cell_type": "code",
   "execution_count": 9,
   "metadata": {
    "collapsed": false
   },
   "outputs": [
    {
     "data": {
      "text/plain": [
       "False    42530\n",
       "True      7877\n",
       "Name: APAC, dtype: int64"
      ]
     },
     "execution_count": 9,
     "metadata": {},
     "output_type": "execute_result"
    }
   ],
   "source": [
    "enrolments.APAC.value_counts()"
   ]
  },
  {
   "cell_type": "code",
   "execution_count": 10,
   "metadata": {
    "collapsed": true
   },
   "outputs": [],
   "source": [
    "#Limit to only post mid-2014 data and pre mid-2017 data\n",
    "enrolments = enrolments[enrolments.EnrolDate > 20140630]\n",
    "enrolments = enrolments[enrolments.Startdate < 20170630]"
   ]
  },
  {
   "cell_type": "code",
   "execution_count": 11,
   "metadata": {
    "collapsed": false
   },
   "outputs": [],
   "source": [
    "#Cancellations are enroled before their course starts, so daysenroltostart must be positive\n",
    "enrolments = enrolments[enrolments.DaysEnroltoStart > 0]"
   ]
  },
  {
   "cell_type": "code",
   "execution_count": 12,
   "metadata": {
    "collapsed": false
   },
   "outputs": [
    {
     "data": {
      "text/plain": [
       "(33436, 23)"
      ]
     },
     "execution_count": 12,
     "metadata": {},
     "output_type": "execute_result"
    }
   ],
   "source": [
    "#Checkout all the numeric columns\n",
    "#enrolments.info()\n",
    "#enrolments.describe()\n",
    "enrolments.shape"
   ]
  },
  {
   "cell_type": "markdown",
   "metadata": {},
   "source": [
    "#### Dealing with null values"
   ]
  },
  {
   "cell_type": "code",
   "execution_count": 13,
   "metadata": {
    "collapsed": false
   },
   "outputs": [
    {
     "data": {
      "text/plain": [
       "Startdate                 0\n",
       "Enddate                   0\n",
       "Metro                     0\n",
       "Course                    0\n",
       "PhoneValid                0\n",
       "Price                     0\n",
       "Type                      0\n",
       "DaysEnroltoStart          0\n",
       "DaysInvoicetoEnrol        0\n",
       "DaysLeadtoEnroled         0\n",
       "EnrolDate                 0\n",
       "EnrolDay                  0\n",
       "EnrolHour                 0\n",
       "Month                     0\n",
       "EnrolWeek                 0\n",
       "Year                      0\n",
       "CanceledMonth         29861\n",
       "ExpectedPayment        3139\n",
       "PardotCategory          667\n",
       "ApplicationType           0\n",
       "SpeedtoLead           23255\n",
       "Cancelled                 0\n",
       "APAC                      0\n",
       "dtype: int64"
      ]
     },
     "execution_count": 13,
     "metadata": {},
     "output_type": "execute_result"
    }
   ],
   "source": [
    "enrolments.isnull().sum()"
   ]
  },
  {
   "cell_type": "code",
   "execution_count": 14,
   "metadata": {
    "collapsed": false
   },
   "outputs": [],
   "source": [
    "enrolments.CanceledMonth.fillna(\"None\", inplace=True)\n",
    "enrolments.Price.fillna(0, inplace=True)"
   ]
  },
  {
   "cell_type": "code",
   "execution_count": 15,
   "metadata": {
    "collapsed": false
   },
   "outputs": [
    {
     "data": {
      "text/plain": [
       "GA Course Leads                15701\n",
       "Website                         5051\n",
       "CWE Purchase                    4066\n",
       "Facebook Acquisition            1400\n",
       "Other                           1239\n",
       "GA Dash                         1226\n",
       "Sweepstake                      1107\n",
       "Unknown                          677\n",
       "GA Front Row Signup              474\n",
       "Partner Event                    410\n",
       "Twitter Promoted                 376\n",
       "GA Circuits Leads                313\n",
       "Twitter Acquisition              202\n",
       "Uncategorized                    183\n",
       "Student Enrollment               140\n",
       "Content Partnership              127\n",
       "Livestream Purchase              124\n",
       "Scholarship                       92\n",
       "CWE Walk Ins                      81\n",
       "Partner Livestream                81\n",
       "Global Acquisition Campaign       73\n",
       "Free Front Row Trial Local        53\n",
       "GA Content                        42\n",
       "GA Event                          29\n",
       "Social Organic                    29\n",
       "GA Blog                           25\n",
       "LinkedIn Acquisition              24\n",
       "List Purchase                     18\n",
       "Tuition Credit                    12\n",
       "Local Sweepstake                  11\n",
       "GA University Leads                8\n",
       "GA Hub                             8\n",
       "Facebook Lead Gen                  7\n",
       "AdWords Acquisition                6\n",
       "Local Content Partnership          6\n",
       "Free Front Row Trial Global        5\n",
       "Adwords Lead Gen                   4\n",
       "Affiliate Lead Gen                 4\n",
       "Facebook Promoted                  2\n",
       "Name: PardotCategory, dtype: int64"
      ]
     },
     "execution_count": 15,
     "metadata": {},
     "output_type": "execute_result"
    }
   ],
   "source": [
    "enrolments.PardotCategory.fillna(\"Unknown\", inplace=True)\n",
    "enrolments.PardotCategory.value_counts()"
   ]
  },
  {
   "cell_type": "code",
   "execution_count": 16,
   "metadata": {
    "collapsed": false
   },
   "outputs": [],
   "source": [
    "#enrolments.DaysEnroltoStart.mean()\n",
    "enrolments.DaysEnroltoStart.fillna(enrolments.DaysEnroltoStart.mean(), inplace=True)"
   ]
  },
  {
   "cell_type": "code",
   "execution_count": 17,
   "metadata": {
    "collapsed": false
   },
   "outputs": [],
   "source": [
    "#enrolments.SpeedtoLead.value_counts()\n",
    "enrolments.SpeedtoLead.fillna(enrolments.SpeedtoLead.mean(), inplace=True)"
   ]
  },
  {
   "cell_type": "code",
   "execution_count": 18,
   "metadata": {
    "collapsed": false
   },
   "outputs": [
    {
     "data": {
      "text/plain": [
       "Student / Self                24799\n",
       "Employer                       3268\n",
       "Unknown                        3139\n",
       "Loan Partner                   1609\n",
       "Veterans Affairs                176\n",
       "Scholarship                     142\n",
       "Family                           88\n",
       "Other                            77\n",
       "Loan (Private)                   50\n",
       "Government Funding / Grant       48\n",
       "GA Employee/Instructor           40\n",
       "Name: ExpectedPayment, dtype: int64"
      ]
     },
     "execution_count": 18,
     "metadata": {},
     "output_type": "execute_result"
    }
   ],
   "source": [
    "enrolments['ExpectedPayment'] = enrolments.ExpectedPayment.map({\n",
    "    'Student / Self': 'Student / Self',\n",
    "    'Student (self)': 'Student / Self',\n",
    "    'Employer': 'Employer',\n",
    "    'Loan (Partner, please note)': 'Loan Partner',\n",
    "    'Veterans Affairs': 'Veterans Affairs',\n",
    "    'Employer Bulk Pre-paid': 'Employer',\n",
    "    'Scholarship (Opportunity Fund)': 'Scholarship',\n",
    "    'Loan Partner (please note)': 'Loan Partner',\n",
    "    'Family':'Family',\n",
    "    'Other (please note)':'Other',\n",
    "    'GA Employee/Instructor':'GA Employee/Instructor',\n",
    "    'Loan (Private Bank, please note)':'Loan (Private)',\n",
    "    'Government Funding / Grant':'Government Funding / Grant',\n",
    "    'Other':'Other',\n",
    "    'CourseHorse':'Other',\n",
    "    'Opportunity Fund':'Scholarship',\n",
    "    'Enterprise Credit':'Other',\n",
    "    'Scholarship (GA Partner, please note)':'Scholarship',\n",
    "    'Scholarship (Other, please note)':'Scholarship',\n",
    "})\n",
    "enrolments.ExpectedPayment.fillna(\"Unknown\", inplace=True)\n",
    "enrolments.ExpectedPayment.value_counts()"
   ]
  },
  {
   "cell_type": "code",
   "execution_count": 19,
   "metadata": {
    "collapsed": false
   },
   "outputs": [
    {
     "data": {
      "text/plain": [
       "Startdate             0\n",
       "Enddate               0\n",
       "Metro                 0\n",
       "Course                0\n",
       "PhoneValid            0\n",
       "Price                 0\n",
       "Type                  0\n",
       "DaysEnroltoStart      0\n",
       "DaysInvoicetoEnrol    0\n",
       "DaysLeadtoEnroled     0\n",
       "EnrolDate             0\n",
       "EnrolDay              0\n",
       "EnrolHour             0\n",
       "Month                 0\n",
       "EnrolWeek             0\n",
       "Year                  0\n",
       "CanceledMonth         0\n",
       "ExpectedPayment       0\n",
       "PardotCategory        0\n",
       "ApplicationType       0\n",
       "SpeedtoLead           0\n",
       "Cancelled             0\n",
       "APAC                  0\n",
       "dtype: int64"
      ]
     },
     "execution_count": 19,
     "metadata": {},
     "output_type": "execute_result"
    }
   ],
   "source": [
    "enrolments.isnull().sum()"
   ]
  },
  {
   "cell_type": "markdown",
   "metadata": {},
   "source": [
    "#### Streamlining multiple categories"
   ]
  },
  {
   "cell_type": "code",
   "execution_count": 20,
   "metadata": {
    "collapsed": false
   },
   "outputs": [],
   "source": [
    "#Checkout only the more common application types\n",
    "#enrolments.ApplicationType.value_counts()<100"
   ]
  },
  {
   "cell_type": "code",
   "execution_count": 21,
   "metadata": {
    "collapsed": false
   },
   "outputs": [
    {
     "data": {
      "text/plain": [
       "Index(['apply now', 'request info', 'info session', 'referral', 'invoice',\n",
       "       'contact_admissions', 'get notified', 'financing contact us',\n",
       "       'cwe_feedback', 'trial class', 'lander', 'open house'],\n",
       "      dtype='object')"
      ]
     },
     "execution_count": 21,
     "metadata": {},
     "output_type": "execute_result"
    }
   ],
   "source": [
    "commonapptypes = enrolments.ApplicationType.value_counts().index[enrolments.ApplicationType.value_counts()>147]\n",
    "commonapptypes"
   ]
  },
  {
   "cell_type": "code",
   "execution_count": 22,
   "metadata": {
    "collapsed": false
   },
   "outputs": [
    {
     "data": {
      "text/plain": [
       "(32221, 23)"
      ]
     },
     "execution_count": 22,
     "metadata": {},
     "output_type": "execute_result"
    }
   ],
   "source": [
    "enrolments = enrolments[enrolments.ApplicationType.isin(commonapptypes)]\n",
    "enrolments.shape"
   ]
  },
  {
   "cell_type": "code",
   "execution_count": 23,
   "metadata": {
    "collapsed": false
   },
   "outputs": [
    {
     "data": {
      "text/plain": [
       "apply now               11139\n",
       "request info            10815\n",
       "info session             6824\n",
       "referral                  780\n",
       "invoice                   494\n",
       "contact_admissions        446\n",
       "get notified              424\n",
       "financing contact us      372\n",
       "cwe_feedback              369\n",
       "trial class               245\n",
       "lander                    165\n",
       "open house                148\n",
       "Name: ApplicationType, dtype: int64"
      ]
     },
     "execution_count": 23,
     "metadata": {},
     "output_type": "execute_result"
    }
   ],
   "source": [
    "enrolments.ApplicationType.value_counts()"
   ]
  },
  {
   "cell_type": "code",
   "execution_count": 24,
   "metadata": {
    "collapsed": false
   },
   "outputs": [
    {
     "data": {
      "text/plain": [
       "Index(['GA Course Leads', 'Website', 'CWE Purchase', 'Facebook Acquisition',\n",
       "       'Other', 'GA Dash', 'Sweepstake', 'Unknown', 'GA Front Row Signup',\n",
       "       'Partner Event', 'Twitter Promoted', 'GA Circuits Leads',\n",
       "       'Twitter Acquisition', 'Uncategorized', 'Student Enrollment',\n",
       "       'Livestream Purchase', 'Content Partnership'],\n",
       "      dtype='object')"
      ]
     },
     "execution_count": 24,
     "metadata": {},
     "output_type": "execute_result"
    }
   ],
   "source": [
    "#Checkout only the more common Pardot types\n",
    "#enrolments.PardotCategory.value_counts()>100\n",
    "commonpdtypes = enrolments.PardotCategory.value_counts().index[enrolments.PardotCategory.value_counts()>100]\n",
    "commonpdtypes"
   ]
  },
  {
   "cell_type": "code",
   "execution_count": 25,
   "metadata": {
    "collapsed": false
   },
   "outputs": [
    {
     "data": {
      "text/plain": [
       "(31654, 23)"
      ]
     },
     "execution_count": 25,
     "metadata": {},
     "output_type": "execute_result"
    }
   ],
   "source": [
    "enrolments = enrolments[enrolments.PardotCategory.isin(commonpdtypes)]\n",
    "enrolments.shape"
   ]
  },
  {
   "cell_type": "code",
   "execution_count": 26,
   "metadata": {
    "collapsed": false
   },
   "outputs": [
    {
     "data": {
      "text/plain": [
       "GA Course Leads         15358\n",
       "Website                  4858\n",
       "CWE Purchase             3863\n",
       "Facebook Acquisition     1356\n",
       "Other                    1183\n",
       "GA Dash                  1162\n",
       "Sweepstake               1062\n",
       "Unknown                   605\n",
       "GA Front Row Signup       460\n",
       "Partner Event             392\n",
       "Twitter Promoted          359\n",
       "GA Circuits Leads         259\n",
       "Twitter Acquisition       196\n",
       "Uncategorized             181\n",
       "Student Enrollment        122\n",
       "Content Partnership       119\n",
       "Livestream Purchase       119\n",
       "Name: PardotCategory, dtype: int64"
      ]
     },
     "execution_count": 26,
     "metadata": {},
     "output_type": "execute_result"
    }
   ],
   "source": [
    "enrolments.PardotCategory.value_counts()"
   ]
  },
  {
   "cell_type": "code",
   "execution_count": 27,
   "metadata": {
    "collapsed": false
   },
   "outputs": [
    {
     "data": {
      "text/plain": [
       "(31545, 23)"
      ]
     },
     "execution_count": 27,
     "metadata": {},
     "output_type": "execute_result"
    }
   ],
   "source": [
    "commoncourses = enrolments.Course.value_counts().index[enrolments.Course.value_counts()>100]\n",
    "commoncourses\n",
    "enrolments = enrolments[enrolments.Course.isin(commoncourses)]\n",
    "enrolments.shape"
   ]
  },
  {
   "cell_type": "code",
   "execution_count": 28,
   "metadata": {
    "collapsed": true
   },
   "outputs": [],
   "source": [
    "enrolments.PhoneValid.unique()\n",
    "enrolments['PhoneValid'] = enrolments.PhoneValid.map({'Yes': 1,'No': 0})"
   ]
  },
  {
   "cell_type": "code",
   "execution_count": 29,
   "metadata": {
    "collapsed": false
   },
   "outputs": [
    {
     "name": "stdout",
     "output_type": "stream",
     "text": [
      "<class 'pandas.core.frame.DataFrame'>\n",
      "Int64Index: 31545 entries, 758 to 42687\n",
      "Data columns (total 23 columns):\n",
      "Startdate             31545 non-null int64\n",
      "Enddate               31545 non-null int64\n",
      "Metro                 31545 non-null object\n",
      "Course                31545 non-null object\n",
      "PhoneValid            31545 non-null int64\n",
      "Price                 31545 non-null float64\n",
      "Type                  31545 non-null object\n",
      "DaysEnroltoStart      31545 non-null float64\n",
      "DaysInvoicetoEnrol    31545 non-null int64\n",
      "DaysLeadtoEnroled     31545 non-null int64\n",
      "EnrolDate             31545 non-null int64\n",
      "EnrolDay              31545 non-null object\n",
      "EnrolHour             31545 non-null int64\n",
      "Month                 31545 non-null int64\n",
      "EnrolWeek             31545 non-null int64\n",
      "Year                  31545 non-null int64\n",
      "CanceledMonth         31545 non-null object\n",
      "ExpectedPayment       31545 non-null object\n",
      "PardotCategory        31545 non-null object\n",
      "ApplicationType       31545 non-null object\n",
      "SpeedtoLead           31545 non-null float64\n",
      "Cancelled             31545 non-null bool\n",
      "APAC                  31545 non-null bool\n",
      "dtypes: bool(2), float64(3), int64(10), object(8)\n",
      "memory usage: 5.4+ MB\n"
     ]
    }
   ],
   "source": [
    "enrolments.info()"
   ]
  },
  {
   "cell_type": "code",
   "execution_count": 34,
   "metadata": {
    "collapsed": false
   },
   "outputs": [
    {
     "data": {
      "text/plain": [
       "0.17822200148994288"
      ]
     },
     "execution_count": 34,
     "metadata": {},
     "output_type": "execute_result"
    }
   ],
   "source": [
    "#Percentage of enrolments that cancel:\n",
    "enrolments.Cancelled.value_counts()\n",
    "7177/(7717+32553)"
   ]
  },
  {
   "cell_type": "markdown",
   "metadata": {},
   "source": [
    "#### Pandas profile"
   ]
  },
  {
   "cell_type": "code",
   "execution_count": 35,
   "metadata": {
    "collapsed": false
   },
   "outputs": [],
   "source": [
    "#!pip install pandas-profiling"
   ]
  },
  {
   "cell_type": "code",
   "execution_count": 36,
   "metadata": {
    "collapsed": false
   },
   "outputs": [],
   "source": [
    "#import pandas_profiling\n",
    "#apandas_profiling.ProfileReport(enrolments)"
   ]
  },
  {
   "cell_type": "markdown",
   "metadata": {},
   "source": [
    "### Visualisation"
   ]
  },
  {
   "cell_type": "code",
   "execution_count": 37,
   "metadata": {
    "collapsed": true
   },
   "outputs": [],
   "source": [
    "from sklearn import tree\n",
    "from sklearn.model_selection import train_test_split\n",
    "from sklearn import metrics\n",
    "import matplotlib.pyplot as plt\n",
    "import seaborn as sns\n",
    "import urllib\n",
    "import plotly\n",
    "plotly.__version__\n",
    "\n",
    "%matplotlib inline\n",
    "sns.set(color_codes=True)"
   ]
  },
  {
   "cell_type": "code",
   "execution_count": 38,
   "metadata": {
    "collapsed": false
   },
   "outputs": [
    {
     "name": "stderr",
     "output_type": "stream",
     "text": [
      "/anaconda/lib/python3.6/site-packages/statsmodels/nonparametric/kdetools.py:20: VisibleDeprecationWarning:\n",
      "\n",
      "using a non-integer number instead of an integer will result in an error in the future\n",
      "\n"
     ]
    },
    {
     "data": {
      "text/plain": [
       "<matplotlib.axes._subplots.AxesSubplot at 0x111395e48>"
      ]
     },
     "execution_count": 38,
     "metadata": {},
     "output_type": "execute_result"
    },
    {
     "data": {
      "image/png": "[encoded data removed]",
      "text/plain": [
       "<matplotlib.figure.Figure at 0x115821780>"
      ]
     },
     "metadata": {},
     "output_type": "display_data"
    }
   ],
   "source": [
    "plt.figure(figsize = (15,6))\n",
    "sns.distplot(enrolments.DaysInvoicetoEnrol, bins=10)"
   ]
  },
  {
   "cell_type": "code",
   "execution_count": 39,
   "metadata": {
    "collapsed": false
   },
   "outputs": [
    {
     "name": "stderr",
     "output_type": "stream",
     "text": [
      "/anaconda/lib/python3.6/site-packages/statsmodels/nonparametric/kdetools.py:20: VisibleDeprecationWarning:\n",
      "\n",
      "using a non-integer number instead of an integer will result in an error in the future\n",
      "\n"
     ]
    },
    {
     "data": {
      "text/plain": [
       "<matplotlib.axes._subplots.AxesSubplot at 0x11132cdd8>"
      ]
     },
     "execution_count": 39,
     "metadata": {},
     "output_type": "execute_result"
    },
    {
     "data": {
      "image/png": "[encoded data removed]",
      "text/plain": [
       "<matplotlib.figure.Figure at 0x11987db00>"
      ]
     },
     "metadata": {},
     "output_type": "display_data"
    }
   ],
   "source": [
    "sns.distplot(enrolments.DaysEnroltoStart, bins=10)"
   ]
  },
  {
   "cell_type": "code",
   "execution_count": 40,
   "metadata": {
    "collapsed": false
   },
   "outputs": [
    {
     "data": {
      "text/plain": [
       "<matplotlib.axes._subplots.AxesSubplot at 0x1116ab390>"
      ]
     },
     "execution_count": 40,
     "metadata": {},
     "output_type": "execute_result"
    },
    {
     "data": {
      "image/png": "[encoded data removed]",
      "text/plain": [
       "<matplotlib.figure.Figure at 0x1116ab3c8>"
      ]
     },
     "metadata": {},
     "output_type": "display_data"
    }
   ],
   "source": [
    "plt.figure(figsize = (15,6))\n",
    "sns.barplot(x='Metro', y = 'Cancelled', data = enrolments)"
   ]
  },
  {
   "cell_type": "code",
   "execution_count": 41,
   "metadata": {
    "collapsed": false
   },
   "outputs": [
    {
     "data": {
      "text/plain": [
       "<matplotlib.axes._subplots.AxesSubplot at 0x112c846a0>"
      ]
     },
     "execution_count": 41,
     "metadata": {},
     "output_type": "execute_result"
    },
    {
     "data": {
      "image/png": "[encoded data removed]",
      "text/plain": [
       "<matplotlib.figure.Figure at 0x11171c3c8>"
      ]
     },
     "metadata": {},
     "output_type": "display_data"
    }
   ],
   "source": [
    "plt.figure(figsize = (20,10))\n",
    "sns.barplot(x='ExpectedPayment', y = 'Cancelled', data = enrolments)"
   ]
  },
  {
   "cell_type": "code",
   "execution_count": 42,
   "metadata": {
    "collapsed": false
   },
   "outputs": [
    {
     "data": {
      "text/plain": [
       "<matplotlib.axes._subplots.AxesSubplot at 0x112ce0d30>"
      ]
     },
     "execution_count": 42,
     "metadata": {},
     "output_type": "execute_result"
    },
    {
     "data": {
      "image/png": "[encoded data removed]",
      "text/plain": [
       "<matplotlib.figure.Figure at 0x112cdc898>"
      ]
     },
     "metadata": {},
     "output_type": "display_data"
    }
   ],
   "source": [
    "plt.figure(figsize=(20,10))\n",
    "plt.title(\"Enrolments v Cancelations\")\n",
    "sns.countplot(x='Month', hue='Cancelled', data = enrolments)"
   ]
  },
  {
   "cell_type": "code",
   "execution_count": 43,
   "metadata": {
    "collapsed": false
   },
   "outputs": [
    {
     "data": {
      "text/plain": [
       "<seaborn.axisgrid.JointGrid at 0x119f88e80>"
      ]
     },
     "execution_count": 43,
     "metadata": {},
     "output_type": "execute_result"
    },
    {
     "data": {
      "image/png": "[encoded data removed]",
      "text/plain": [
       "<matplotlib.figure.Figure at 0x119fe2b70>"
      ]
     },
     "metadata": {},
     "output_type": "display_data"
    }
   ],
   "source": [
    "sns.jointplot(x='DaysEnroltoStart', y=\"DaysInvoicetoEnrol\", data=enrolments)"
   ]
  },
  {
   "cell_type": "code",
   "execution_count": 44,
   "metadata": {
    "collapsed": false
   },
   "outputs": [
    {
     "data": {
      "text/plain": [
       "<matplotlib.text.Text at 0x11a8f5390>"
      ]
     },
     "execution_count": 44,
     "metadata": {},
     "output_type": "execute_result"
    },
    {
     "data": {
      "image/png": "[encoded data removed]",
      "text/plain": [
       "<matplotlib.figure.Figure at 0x11a3bf160>"
      ]
     },
     "metadata": {},
     "output_type": "display_data"
    }
   ],
   "source": [
    "corr = enrolments.corr()\n",
    "corr = (corr)\n",
    "plt.figure(figsize = (20,20))\n",
    "sns.heatmap(corr, \n",
    "            xticklabels=corr.columns.values,\n",
    "            yticklabels=corr.columns.values)\n",
    "sns.plt.title('Heatmap of Correlation Matrix')"
   ]
  },
  {
   "cell_type": "markdown",
   "metadata": {},
   "source": [
    "## Running dummy data\n",
    "- These columns have text outputs:\n",
    " - Metro: object\n",
    " - Course: object\n",
    " - Type: object\n",
    " - EnrolDay: object\n",
    " - ExpectedPayment: object\n",
    " - ApplicationType: object\n",
    " - PardotCategory: object"
   ]
  },
  {
   "cell_type": "code",
   "execution_count": 45,
   "metadata": {
    "collapsed": false
   },
   "outputs": [
    {
     "name": "stdout",
     "output_type": "stream",
     "text": [
      "<class 'pandas.core.frame.DataFrame'>\n",
      "Int64Index: 31545 entries, 758 to 42687\n",
      "Data columns (total 22 columns):\n",
      "Startdate             31545 non-null int64\n",
      "Enddate               31545 non-null int64\n",
      "Metro                 31545 non-null object\n",
      "Course                31545 non-null object\n",
      "PhoneValid            31545 non-null int64\n",
      "Price                 31545 non-null float64\n",
      "Type                  31545 non-null object\n",
      "DaysEnroltoStart      31545 non-null float64\n",
      "DaysInvoicetoEnrol    31545 non-null int64\n",
      "DaysLeadtoEnroled     31545 non-null int64\n",
      "EnrolDate             31545 non-null int64\n",
      "EnrolDay              31545 non-null object\n",
      "EnrolHour             31545 non-null int64\n",
      "Month                 31545 non-null int64\n",
      "EnrolWeek             31545 non-null int64\n",
      "Year                  31545 non-null int64\n",
      "ExpectedPayment       31545 non-null object\n",
      "PardotCategory        31545 non-null object\n",
      "ApplicationType       31545 non-null object\n",
      "SpeedtoLead           31545 non-null float64\n",
      "Cancelled             31545 non-null bool\n",
      "APAC                  31545 non-null bool\n",
      "dtypes: bool(2), float64(3), int64(10), object(7)\n",
      "memory usage: 5.1+ MB\n"
     ]
    }
   ],
   "source": [
    "enrolments.drop('CanceledMonth', axis=1, inplace=True)\n",
    "enrolments.info()"
   ]
  },
  {
   "cell_type": "code",
   "execution_count": 46,
   "metadata": {
    "collapsed": false
   },
   "outputs": [],
   "source": [
    "dummydata = pd.get_dummies(data=enrolments, columns = ['Metro','Course','Type','ExpectedPayment','ApplicationType','PardotCategory','EnrolDay'], prefix = ['Metro','Course','Type','ExpectedPayment','ApplicationType','PardotCategory','EnrolDay'] )"
   ]
  },
  {
   "cell_type": "code",
   "execution_count": 47,
   "metadata": {
    "collapsed": false
   },
   "outputs": [
    {
     "data": {
      "text/plain": [
       "(31545, 99)"
      ]
     },
     "execution_count": 47,
     "metadata": {},
     "output_type": "execute_result"
    }
   ],
   "source": [
    "dummydata.shape"
   ]
  },
  {
   "cell_type": "code",
   "execution_count": 48,
   "metadata": {
    "collapsed": false
   },
   "outputs": [
    {
     "data": {
      "text/plain": [
       "Index(['Startdate', 'Enddate', 'PhoneValid', 'Price', 'DaysEnroltoStart',\n",
       "       'DaysInvoicetoEnrol', 'DaysLeadtoEnroled', 'EnrolDate', 'EnrolHour',\n",
       "       'Month', 'EnrolWeek', 'Year', 'SpeedtoLead', 'Cancelled', 'APAC',\n",
       "       'Metro_atlanta', 'Metro_austin', 'Metro_boston', 'Metro_brisbane',\n",
       "       'Metro_chicago', 'Metro_denver', 'Metro_hong-kong', 'Metro_london',\n",
       "       'Metro_los-angeles', 'Metro_melbourne', 'Metro_new-york-city',\n",
       "       'Metro_online', 'Metro_san-francisco', 'Metro_seattle',\n",
       "       'Metro_singapore', 'Metro_sydney', 'Metro_washington-dc',\n",
       "       'Course_android-development-immersive',\n",
       "       'Course_back-end-web-development',\n",
       "       'Course_business-fundamentals-tactics', 'Course_data-analytics',\n",
       "       'Course_data-science', 'Course_data-science-immersive',\n",
       "       'Course_digital-marketing', 'Course_front-end-web-development',\n",
       "       'Course_ios-development', 'Course_javascript-development',\n",
       "       'Course_product-management', 'Course_product-management-immersive',\n",
       "       'Course_user-experience-design',\n",
       "       'Course_user-experience-design-immersive', 'Course_visual-design',\n",
       "       'Course_web-development-immersive',\n",
       "       'Course_web-development-immersive-remote', 'Type_course',\n",
       "       'Type_immersive', 'Type_remote', 'ExpectedPayment_Employer',\n",
       "       'ExpectedPayment_Family', 'ExpectedPayment_GA Employee/Instructor',\n",
       "       'ExpectedPayment_Government Funding / Grant',\n",
       "       'ExpectedPayment_Loan (Private)', 'ExpectedPayment_Loan Partner',\n",
       "       'ExpectedPayment_Other', 'ExpectedPayment_Scholarship',\n",
       "       'ExpectedPayment_Student / Self', 'ExpectedPayment_Unknown',\n",
       "       'ExpectedPayment_Veterans Affairs', 'ApplicationType_apply now',\n",
       "       'ApplicationType_contact_admissions', 'ApplicationType_cwe_feedback',\n",
       "       'ApplicationType_financing contact us', 'ApplicationType_get notified',\n",
       "       'ApplicationType_info session', 'ApplicationType_invoice',\n",
       "       'ApplicationType_lander', 'ApplicationType_open house',\n",
       "       'ApplicationType_referral', 'ApplicationType_request info',\n",
       "       'ApplicationType_trial class', 'PardotCategory_CWE Purchase',\n",
       "       'PardotCategory_Content Partnership',\n",
       "       'PardotCategory_Facebook Acquisition',\n",
       "       'PardotCategory_GA Circuits Leads', 'PardotCategory_GA Course Leads',\n",
       "       'PardotCategory_GA Dash', 'PardotCategory_GA Front Row Signup',\n",
       "       'PardotCategory_Livestream Purchase', 'PardotCategory_Other',\n",
       "       'PardotCategory_Partner Event', 'PardotCategory_Student Enrollment',\n",
       "       'PardotCategory_Sweepstake', 'PardotCategory_Twitter Acquisition',\n",
       "       'PardotCategory_Twitter Promoted', 'PardotCategory_Uncategorized',\n",
       "       'PardotCategory_Unknown', 'PardotCategory_Website', 'EnrolDay_Friday',\n",
       "       'EnrolDay_Monday', 'EnrolDay_Saturday', 'EnrolDay_Sunday',\n",
       "       'EnrolDay_Thursday', 'EnrolDay_Tuesday', 'EnrolDay_Wednesday'],\n",
       "      dtype='object')"
      ]
     },
     "execution_count": 48,
     "metadata": {},
     "output_type": "execute_result"
    }
   ],
   "source": [
    "dummydata.columns"
   ]
  },
  {
   "cell_type": "markdown",
   "metadata": {},
   "source": [
    "## Let's try some algorithms!"
   ]
  },
  {
   "cell_type": "markdown",
   "metadata": {},
   "source": [
    "### Decision Tree"
   ]
  },
  {
   "cell_type": "code",
   "execution_count": null,
   "metadata": {
    "collapsed": false
   },
   "outputs": [],
   "source": [
    "#dummydata.Cancelled.value_counts()"
   ]
  },
  {
   "cell_type": "code",
   "execution_count": null,
   "metadata": {
    "collapsed": false
   },
   "outputs": [],
   "source": [
    "#treesubset = dummydata"
   ]
  },
  {
   "cell_type": "code",
   "execution_count": 49,
   "metadata": {
    "collapsed": false
   },
   "outputs": [],
   "source": [
    "#from sklearn import tree\n",
    "#from sklearn.cross_validation import train_test_split\n",
    "#from sklearn import metrics\n",
    "#import matplotlib.pyplot as plt\n",
    "\n",
    "%matplotlib inline\n",
    "\n",
    "#cancelled = treesubset['Cancelled']\n",
    "#del treesubset['Cancelled']\n",
    "#treesubset"
   ]
  },
  {
   "cell_type": "code",
   "execution_count": null,
   "metadata": {
    "collapsed": false
   },
   "outputs": [],
   "source": [
    "#X_train, X_test, y_train, y_test = train_test_split(treesubset, cancelled, random_state=1)\n",
    "#ctree = tree.DecisionTreeClassifier(random_state=1, max_depth=2)\n",
    "# Fit the decision tree classifier\n",
    "#ctree.fit(X_train, y_train)\n",
    "# Create a feature vector\n",
    "#features = treesubset.columns.tolist()\n",
    "#features"
   ]
  },
  {
   "cell_type": "code",
   "execution_count": null,
   "metadata": {
    "collapsed": false
   },
   "outputs": [],
   "source": [
    "#from io import StringIO\n",
    "#out = StringIO()\n",
    "#tree.export_graphviz(ctree, out_file = out)\n",
    "#from sklearn.tree import export_graphviz\n",
    "#export_graphviz(ctree, out_file='decisiontree.dot', feature_names=features)"
   ]
  },
  {
   "cell_type": "markdown",
   "metadata": {
    "collapsed": true
   },
   "source": [
    "#### Previously exported: \n",
    "<img src=\"assets/img/decisiontree-enrolments.png\">"
   ]
  },
  {
   "cell_type": "markdown",
   "metadata": {
    "collapsed": true
   },
   "source": [
    "### Logistic Regression\n",
    "##### Plain ol' logistic regression:"
   ]
  },
  {
   "cell_type": "code",
   "execution_count": 50,
   "metadata": {
    "collapsed": false
   },
   "outputs": [],
   "source": [
    "import pandas as pd\n",
    "# data = dummydata\n",
    "all_ftcolumns = dummydata.columns.tolist()\n",
    "all_ftcolumns.remove('Cancelled')"
   ]
  },
  {
   "cell_type": "code",
   "execution_count": 51,
   "metadata": {
    "collapsed": false
   },
   "outputs": [],
   "source": [
    "X = dummydata[all_ftcolumns]\n",
    "y = dummydata.Cancelled"
   ]
  },
  {
   "cell_type": "code",
   "execution_count": 52,
   "metadata": {
    "collapsed": false
   },
   "outputs": [
    {
     "name": "stderr",
     "output_type": "stream",
     "text": [
      "/anaconda/lib/python3.6/site-packages/sklearn/cross_validation.py:44: DeprecationWarning:\n",
      "\n",
      "This module was deprecated in version 0.18 in favor of the model_selection module into which all the refactored classes and functions are moved. Also note that the interface of the new CV iterators are different from that of this module. This module will be removed in 0.20.\n",
      "\n"
     ]
    },
    {
     "name": "stdout",
     "output_type": "stream",
     "text": [
      "LogisticRegression(C=1.0, class_weight=None, dual=False, fit_intercept=True,\n",
      "          intercept_scaling=1, max_iter=100, multi_class='ovr', n_jobs=1,\n",
      "          penalty='l2', random_state=None, solver='liblinear', tol=0.0001,\n",
      "          verbose=0, warm_start=False)\n"
     ]
    }
   ],
   "source": [
    "#split the data\n",
    "from sklearn.cross_validation import train_test_split\n",
    "from sklearn.cross_validation import cross_val_score\n",
    "\n",
    "X_train, X_test, y_train, y_test = train_test_split(X, y, random_state=1)\n",
    "#fit the logreg model and print the coefficients\n",
    "from sklearn.linear_model import LogisticRegression\n",
    "logreg = LogisticRegression()\n",
    "logreg.fit(X_train, y_train)\n",
    "zip(all_ftcolumns, logreg.coef_[0])\n",
    "print(logreg.fit(X_train, y_train))"
   ]
  },
  {
   "cell_type": "code",
   "execution_count": 53,
   "metadata": {
    "collapsed": false
   },
   "outputs": [
    {
     "name": "stdout",
     "output_type": "stream",
     "text": [
      "0.892354507417\n"
     ]
    }
   ],
   "source": [
    "#test accuracy\n",
    "y_pred_class = logreg.predict(X_test)\n",
    "from sklearn import metrics\n",
    "print(metrics.accuracy_score(y_test,y_pred_class))"
   ]
  },
  {
   "cell_type": "code",
   "execution_count": 54,
   "metadata": {
    "collapsed": false
   },
   "outputs": [
    {
     "name": "stdout",
     "output_type": "stream",
     "text": [
      "0.892354507417\n"
     ]
    }
   ],
   "source": [
    "from sklearn.dummy import DummyClassifier\n",
    "dumb = DummyClassifier(strategy='most_frequent')\n",
    "dumb.fit(X_train, y_train)\n",
    "y_dumb_class = dumb.predict(X_test)\n",
    "print (metrics.accuracy_score(y_test, y_dumb_class))"
   ]
  },
  {
   "cell_type": "markdown",
   "metadata": {},
   "source": [
    "* Logistic regression is as good as picking the most frequent class for all of them.\n",
    "\n",
    "\n",
    "##### Cross-validation doesn't help us much more:"
   ]
  },
  {
   "cell_type": "code",
   "execution_count": 56,
   "metadata": {
    "collapsed": false
   },
   "outputs": [
    {
     "name": "stdout",
     "output_type": "stream",
     "text": [
      "[ 0.89258555  0.89258555  0.89255151  0.8928345   0.8928345   0.8928345\n",
      "  0.8928345   0.8928345   0.8928345   0.8928345 ]\n"
     ]
    }
   ],
   "source": [
    "scores = cross_val_score(LogisticRegression(), X, y, scoring='accuracy', cv=10)\n",
    "print(scores)"
   ]
  },
  {
   "cell_type": "code",
   "execution_count": 57,
   "metadata": {
    "collapsed": false
   },
   "outputs": [
    {
     "name": "stdout",
     "output_type": "stream",
     "text": [
      "0.892756407936\n"
     ]
    }
   ],
   "source": [
    "print(scores.mean())"
   ]
  },
  {
   "cell_type": "code",
   "execution_count": 58,
   "metadata": {
    "collapsed": false
   },
   "outputs": [
    {
     "name": "stdout",
     "output_type": "stream",
     "text": [
      "[[7038    0]\n",
      " [ 849    0]]\n"
     ]
    }
   ],
   "source": [
    "#print the confusion matrix\n",
    "from sklearn import metrics\n",
    "prds = logreg.predict(X)\n",
    "print(metrics.confusion_matrix(y_test, y_pred_class))"
   ]
  },
  {
   "cell_type": "code",
   "execution_count": 59,
   "metadata": {
    "collapsed": false
   },
   "outputs": [
    {
     "data": {
      "image/png": "[encoded data removed]",
      "text/plain": [
       "<matplotlib.figure.Figure at 0x113358898>"
      ]
     },
     "metadata": {},
     "output_type": "display_data"
    }
   ],
   "source": [
    "#generate the ROC curve\n",
    "import matplotlib.pyplot as plt\n",
    "# Generate the prediction values for each of the test observations using predict_proba() function rather than just predict\n",
    "preds = logreg.predict_proba(X_test)[:,1]\n",
    "# Store the false positive rate(fpr), true positive rate (tpr) in vectors for use in the graph\n",
    "fpr, tpr, _ = metrics.roc_curve(y_test, preds)\n",
    "# Store the Area Under the Curve (AUC) so we can annotate our graph with this metric\n",
    "roc_auc = metrics.auc(fpr,tpr)\n",
    "# Plot the ROC Curve\n",
    "plt.figure()\n",
    "lw = 2\n",
    "plt.plot(fpr, tpr, color='darkorange',\n",
    "         lw=lw, label='ROC curve (area = %0.2f)' % roc_auc)\n",
    "plt.plot([0, 1], [0, 1], color='navy', lw=lw, linestyle='--')\n",
    "plt.xlim([0.0, 1.0])\n",
    "plt.ylim([0.0, 1.05])\n",
    "plt.xlabel('False Positive Rate')\n",
    "plt.ylabel('True Positive Rate')\n",
    "plt.title('Receiver operating characteristic example')\n",
    "plt.legend(loc=\"lower right\")\n",
    "plt.show()\n",
    "# Our aim when modelling is to maximise the area under the curve, the closer to one the better the model."
   ]
  },
  {
   "cell_type": "markdown",
   "metadata": {},
   "source": [
    "### Regression "
   ]
  },
  {
   "cell_type": "code",
   "execution_count": 60,
   "metadata": {
    "collapsed": false
   },
   "outputs": [
    {
     "name": "stdout",
     "output_type": "stream",
     "text": [
      "RMSE (No reg.) = 0.328093725302\n"
     ]
    },
    {
     "name": "stderr",
     "output_type": "stream",
     "text": [
      "/anaconda/lib/python3.6/site-packages/sklearn/metrics/regression.py:232: DeprecationWarning:\n",
      "\n",
      "numpy boolean subtract, the `-` operator, is deprecated, use the bitwise_xor, the `^` operator, or the logical_xor function instead.\n",
      "\n"
     ]
    }
   ],
   "source": [
    "print('RMSE (No reg.) =', np.sqrt(metrics.mean_squared_error(y_test,y_pred_class)))"
   ]
  },
  {
   "cell_type": "code",
   "execution_count": 61,
   "metadata": {
    "collapsed": false
   },
   "outputs": [
    {
     "name": "stdout",
     "output_type": "stream",
     "text": [
      "Optimal Alpha Value:  0.1\n",
      "RMSE (Ridge CV reg.) = 0.306581707395\n"
     ]
    }
   ],
   "source": [
    "from sklearn.linear_model import RidgeCV\n",
    "alpha_range = 10.**np.arange(-5, 5)\n",
    "rregcv = RidgeCV(normalize=True, scoring='neg_mean_squared_error', alphas=alpha_range)\n",
    "rregcv.fit(X_train, y_train)\n",
    "# Print the optimal value of Alpha for Ridge Regression\n",
    "print('Optimal Alpha Value: ', rregcv.alpha_)\n",
    "# Print the RMSE for the ridge regression model\n",
    "preds = rregcv.predict(X_test)\n",
    "print ('RMSE (Ridge CV reg.) =', np.sqrt(metrics.mean_squared_error(y_test, preds)))"
   ]
  },
  {
   "cell_type": "code",
   "execution_count": 62,
   "metadata": {
    "collapsed": false
   },
   "outputs": [
    {
     "name": "stdout",
     "output_type": "stream",
     "text": [
      "Optimal Alpha Value:  0.0001\n",
      "RMSE (Lasso CV reg.) = 0.309485016185\n"
     ]
    }
   ],
   "source": [
    "from sklearn.linear_model import LassoCV\n",
    "alpha_range = 10.**np.arange(-4, 4)\n",
    "lascv = LassoCV(normalize=True, alphas=alpha_range)\n",
    "lascv.fit(X_train, y_train)\n",
    "print('Optimal Alpha Value: ',lascv.alpha_)\n",
    "lascv.coef_\n",
    "preds = lascv.predict(X_test)\n",
    "print('RMSE (Lasso CV reg.) =', np.sqrt(metrics.mean_squared_error(y_test, preds)))"
   ]
  },
  {
   "cell_type": "code",
   "execution_count": 63,
   "metadata": {
    "collapsed": false
   },
   "outputs": [
    {
     "name": "stdout",
     "output_type": "stream",
     "text": [
      "Optimal Alpha Value:  100.0\n",
      "RMSE (ENET CV reg.) 0.309932617905\n"
     ]
    }
   ],
   "source": [
    "from sklearn.linear_model import ElasticNetCV\n",
    "alpha_range = 10.**np.arange(-3, 3)\n",
    "enetCV = ElasticNetCV(normalize=True, alphas=alpha_range)\n",
    "enetCV.fit(X_train, y_train)\n",
    "print('Optimal Alpha Value: ',enetCV.alpha_)\n",
    "enetCV.coef_\n",
    "preds = enetCV.predict(X_test)\n",
    "print('RMSE (ENET CV reg.)', np.sqrt(metrics.mean_squared_error(y_test, preds)))"
   ]
  },
  {
   "cell_type": "markdown",
   "metadata": {},
   "source": [
    "### KNN Classifier"
   ]
  },
  {
   "cell_type": "code",
   "execution_count": 64,
   "metadata": {
    "collapsed": false
   },
   "outputs": [
    {
     "name": "stdout",
     "output_type": "stream",
     "text": [
      "0.882084442754\n"
     ]
    }
   ],
   "source": [
    "from sklearn.neighbors import KNeighborsClassifier\n",
    "KNN_model = KNeighborsClassifier(5)\n",
    "KNN_model.fit(X_train, y_train)\n",
    "y_pred_class = KNN_model.predict(X_test)\n",
    "# Print the new accuracy rate\n",
    "print(metrics.accuracy_score(y_test, y_pred_class))"
   ]
  },
  {
   "cell_type": "markdown",
   "metadata": {},
   "source": [
    "https://svds.com/learning-imbalanced-classes/"
   ]
  },
  {
   "cell_type": "markdown",
   "metadata": {},
   "source": [
    "### Random Forrest"
   ]
  },
  {
   "cell_type": "code",
   "execution_count": 65,
   "metadata": {
    "collapsed": false
   },
   "outputs": [],
   "source": [
    "#all_ftcolumns"
   ]
  },
  {
   "cell_type": "code",
   "execution_count": 66,
   "metadata": {
    "collapsed": false
   },
   "outputs": [
    {
     "data": {
      "text/plain": [
       "0.89253447456015211"
      ]
     },
     "execution_count": 66,
     "metadata": {},
     "output_type": "execute_result"
    }
   ],
   "source": [
    "from sklearn.ensemble import RandomForestClassifier\n",
    "rfclf = RandomForestClassifier(n_estimators=400, max_features=2, oob_score=True, random_state=1,class_weight='balanced')\n",
    "rfclf.fit(dummydata[all_ftcolumns], dummydata.Cancelled)\n",
    "rfclf.oob_score_"
   ]
  },
  {
   "cell_type": "code",
   "execution_count": 72,
   "metadata": {
    "collapsed": false
   },
   "outputs": [
    {
     "data": {
      "text/html": [
       "<div>\n",
       "<table border=\"1\" class=\"dataframe\">\n",
       "  <thead>\n",
       "    <tr style=\"text-align: right;\">\n",
       "      <th></th>\n",
       "      <th>feature</th>\n",
       "      <th>importance</th>\n",
       "    </tr>\n",
       "  </thead>\n",
       "  <tbody>\n",
       "    <tr>\n",
       "      <th>0</th>\n",
       "      <td>Startdate</td>\n",
       "      <td>0.062096</td>\n",
       "    </tr>\n",
       "    <tr>\n",
       "      <th>1</th>\n",
       "      <td>Enddate</td>\n",
       "      <td>0.062498</td>\n",
       "    </tr>\n",
       "    <tr>\n",
       "      <th>2</th>\n",
       "      <td>PhoneValid</td>\n",
       "      <td>0.010055</td>\n",
       "    </tr>\n",
       "    <tr>\n",
       "      <th>3</th>\n",
       "      <td>Price</td>\n",
       "      <td>0.031871</td>\n",
       "    </tr>\n",
       "    <tr>\n",
       "      <th>4</th>\n",
       "      <td>DaysEnroltoStart</td>\n",
       "      <td>0.066910</td>\n",
       "    </tr>\n",
       "    <tr>\n",
       "      <th>5</th>\n",
       "      <td>DaysInvoicetoEnrol</td>\n",
       "      <td>0.023118</td>\n",
       "    </tr>\n",
       "    <tr>\n",
       "      <th>6</th>\n",
       "      <td>DaysLeadtoEnroled</td>\n",
       "      <td>0.068354</td>\n",
       "    </tr>\n",
       "    <tr>\n",
       "      <th>7</th>\n",
       "      <td>EnrolDate</td>\n",
       "      <td>0.067374</td>\n",
       "    </tr>\n",
       "    <tr>\n",
       "      <th>8</th>\n",
       "      <td>EnrolHour</td>\n",
       "      <td>0.061440</td>\n",
       "    </tr>\n",
       "    <tr>\n",
       "      <th>9</th>\n",
       "      <td>Month</td>\n",
       "      <td>0.053731</td>\n",
       "    </tr>\n",
       "    <tr>\n",
       "      <th>10</th>\n",
       "      <td>EnrolWeek</td>\n",
       "      <td>0.062722</td>\n",
       "    </tr>\n",
       "    <tr>\n",
       "      <th>11</th>\n",
       "      <td>Year</td>\n",
       "      <td>0.017985</td>\n",
       "    </tr>\n",
       "    <tr>\n",
       "      <th>12</th>\n",
       "      <td>SpeedtoLead</td>\n",
       "      <td>0.028097</td>\n",
       "    </tr>\n",
       "    <tr>\n",
       "      <th>13</th>\n",
       "      <td>APAC</td>\n",
       "      <td>0.006468</td>\n",
       "    </tr>\n",
       "    <tr>\n",
       "      <th>14</th>\n",
       "      <td>Metro_atlanta</td>\n",
       "      <td>0.003858</td>\n",
       "    </tr>\n",
       "    <tr>\n",
       "      <th>15</th>\n",
       "      <td>Metro_austin</td>\n",
       "      <td>0.003348</td>\n",
       "    </tr>\n",
       "    <tr>\n",
       "      <th>16</th>\n",
       "      <td>Metro_boston</td>\n",
       "      <td>0.005140</td>\n",
       "    </tr>\n",
       "    <tr>\n",
       "      <th>17</th>\n",
       "      <td>Metro_brisbane</td>\n",
       "      <td>0.000036</td>\n",
       "    </tr>\n",
       "    <tr>\n",
       "      <th>18</th>\n",
       "      <td>Metro_chicago</td>\n",
       "      <td>0.003812</td>\n",
       "    </tr>\n",
       "    <tr>\n",
       "      <th>19</th>\n",
       "      <td>Metro_denver</td>\n",
       "      <td>0.001058</td>\n",
       "    </tr>\n",
       "    <tr>\n",
       "      <th>20</th>\n",
       "      <td>Metro_hong-kong</td>\n",
       "      <td>0.002027</td>\n",
       "    </tr>\n",
       "    <tr>\n",
       "      <th>21</th>\n",
       "      <td>Metro_london</td>\n",
       "      <td>0.005660</td>\n",
       "    </tr>\n",
       "    <tr>\n",
       "      <th>22</th>\n",
       "      <td>Metro_los-angeles</td>\n",
       "      <td>0.009928</td>\n",
       "    </tr>\n",
       "    <tr>\n",
       "      <th>23</th>\n",
       "      <td>Metro_melbourne</td>\n",
       "      <td>0.003433</td>\n",
       "    </tr>\n",
       "    <tr>\n",
       "      <th>24</th>\n",
       "      <td>Metro_new-york-city</td>\n",
       "      <td>0.011632</td>\n",
       "    </tr>\n",
       "    <tr>\n",
       "      <th>25</th>\n",
       "      <td>Metro_online</td>\n",
       "      <td>0.001043</td>\n",
       "    </tr>\n",
       "    <tr>\n",
       "      <th>26</th>\n",
       "      <td>Metro_san-francisco</td>\n",
       "      <td>0.009752</td>\n",
       "    </tr>\n",
       "    <tr>\n",
       "      <th>27</th>\n",
       "      <td>Metro_seattle</td>\n",
       "      <td>0.004259</td>\n",
       "    </tr>\n",
       "    <tr>\n",
       "      <th>28</th>\n",
       "      <td>Metro_singapore</td>\n",
       "      <td>0.001606</td>\n",
       "    </tr>\n",
       "    <tr>\n",
       "      <th>29</th>\n",
       "      <td>Metro_sydney</td>\n",
       "      <td>0.004831</td>\n",
       "    </tr>\n",
       "    <tr>\n",
       "      <th>...</th>\n",
       "      <td>...</td>\n",
       "      <td>...</td>\n",
       "    </tr>\n",
       "    <tr>\n",
       "      <th>68</th>\n",
       "      <td>ApplicationType_invoice</td>\n",
       "      <td>0.001808</td>\n",
       "    </tr>\n",
       "    <tr>\n",
       "      <th>69</th>\n",
       "      <td>ApplicationType_lander</td>\n",
       "      <td>0.001094</td>\n",
       "    </tr>\n",
       "    <tr>\n",
       "      <th>70</th>\n",
       "      <td>ApplicationType_open house</td>\n",
       "      <td>0.000903</td>\n",
       "    </tr>\n",
       "    <tr>\n",
       "      <th>71</th>\n",
       "      <td>ApplicationType_referral</td>\n",
       "      <td>0.002611</td>\n",
       "    </tr>\n",
       "    <tr>\n",
       "      <th>72</th>\n",
       "      <td>ApplicationType_request info</td>\n",
       "      <td>0.013101</td>\n",
       "    </tr>\n",
       "    <tr>\n",
       "      <th>73</th>\n",
       "      <td>ApplicationType_trial class</td>\n",
       "      <td>0.001306</td>\n",
       "    </tr>\n",
       "    <tr>\n",
       "      <th>74</th>\n",
       "      <td>PardotCategory_CWE Purchase</td>\n",
       "      <td>0.009421</td>\n",
       "    </tr>\n",
       "    <tr>\n",
       "      <th>75</th>\n",
       "      <td>PardotCategory_Content Partnership</td>\n",
       "      <td>0.000704</td>\n",
       "    </tr>\n",
       "    <tr>\n",
       "      <th>76</th>\n",
       "      <td>PardotCategory_Facebook Acquisition</td>\n",
       "      <td>0.005480</td>\n",
       "    </tr>\n",
       "    <tr>\n",
       "      <th>77</th>\n",
       "      <td>PardotCategory_GA Circuits Leads</td>\n",
       "      <td>0.001607</td>\n",
       "    </tr>\n",
       "    <tr>\n",
       "      <th>78</th>\n",
       "      <td>PardotCategory_GA Course Leads</td>\n",
       "      <td>0.014973</td>\n",
       "    </tr>\n",
       "    <tr>\n",
       "      <th>79</th>\n",
       "      <td>PardotCategory_GA Dash</td>\n",
       "      <td>0.004407</td>\n",
       "    </tr>\n",
       "    <tr>\n",
       "      <th>80</th>\n",
       "      <td>PardotCategory_GA Front Row Signup</td>\n",
       "      <td>0.002941</td>\n",
       "    </tr>\n",
       "    <tr>\n",
       "      <th>81</th>\n",
       "      <td>PardotCategory_Livestream Purchase</td>\n",
       "      <td>0.000997</td>\n",
       "    </tr>\n",
       "    <tr>\n",
       "      <th>82</th>\n",
       "      <td>PardotCategory_Other</td>\n",
       "      <td>0.004293</td>\n",
       "    </tr>\n",
       "    <tr>\n",
       "      <th>83</th>\n",
       "      <td>PardotCategory_Partner Event</td>\n",
       "      <td>0.002221</td>\n",
       "    </tr>\n",
       "    <tr>\n",
       "      <th>84</th>\n",
       "      <td>PardotCategory_Student Enrollment</td>\n",
       "      <td>0.000435</td>\n",
       "    </tr>\n",
       "    <tr>\n",
       "      <th>85</th>\n",
       "      <td>PardotCategory_Sweepstake</td>\n",
       "      <td>0.004070</td>\n",
       "    </tr>\n",
       "    <tr>\n",
       "      <th>86</th>\n",
       "      <td>PardotCategory_Twitter Acquisition</td>\n",
       "      <td>0.001254</td>\n",
       "    </tr>\n",
       "    <tr>\n",
       "      <th>87</th>\n",
       "      <td>PardotCategory_Twitter Promoted</td>\n",
       "      <td>0.001950</td>\n",
       "    </tr>\n",
       "    <tr>\n",
       "      <th>88</th>\n",
       "      <td>PardotCategory_Uncategorized</td>\n",
       "      <td>0.001247</td>\n",
       "    </tr>\n",
       "    <tr>\n",
       "      <th>89</th>\n",
       "      <td>PardotCategory_Unknown</td>\n",
       "      <td>0.002092</td>\n",
       "    </tr>\n",
       "    <tr>\n",
       "      <th>90</th>\n",
       "      <td>PardotCategory_Website</td>\n",
       "      <td>0.010551</td>\n",
       "    </tr>\n",
       "    <tr>\n",
       "      <th>91</th>\n",
       "      <td>EnrolDay_Friday</td>\n",
       "      <td>0.011917</td>\n",
       "    </tr>\n",
       "    <tr>\n",
       "      <th>92</th>\n",
       "      <td>EnrolDay_Monday</td>\n",
       "      <td>0.010434</td>\n",
       "    </tr>\n",
       "    <tr>\n",
       "      <th>93</th>\n",
       "      <td>EnrolDay_Saturday</td>\n",
       "      <td>0.006983</td>\n",
       "    </tr>\n",
       "    <tr>\n",
       "      <th>94</th>\n",
       "      <td>EnrolDay_Sunday</td>\n",
       "      <td>0.005455</td>\n",
       "    </tr>\n",
       "    <tr>\n",
       "      <th>95</th>\n",
       "      <td>EnrolDay_Thursday</td>\n",
       "      <td>0.011006</td>\n",
       "    </tr>\n",
       "    <tr>\n",
       "      <th>96</th>\n",
       "      <td>EnrolDay_Tuesday</td>\n",
       "      <td>0.010900</td>\n",
       "    </tr>\n",
       "    <tr>\n",
       "      <th>97</th>\n",
       "      <td>EnrolDay_Wednesday</td>\n",
       "      <td>0.011431</td>\n",
       "    </tr>\n",
       "  </tbody>\n",
       "</table>\n",
       "<p>98 rows × 2 columns</p>\n",
       "</div>"
      ],
      "text/plain": [
       "                                feature  importance\n",
       "0                             Startdate    0.062096\n",
       "1                               Enddate    0.062498\n",
       "2                            PhoneValid    0.010055\n",
       "3                                 Price    0.031871\n",
       "4                      DaysEnroltoStart    0.066910\n",
       "5                    DaysInvoicetoEnrol    0.023118\n",
       "6                     DaysLeadtoEnroled    0.068354\n",
       "7                             EnrolDate    0.067374\n",
       "8                             EnrolHour    0.061440\n",
       "9                                 Month    0.053731\n",
       "10                            EnrolWeek    0.062722\n",
       "11                                 Year    0.017985\n",
       "12                          SpeedtoLead    0.028097\n",
       "13                                 APAC    0.006468\n",
       "14                        Metro_atlanta    0.003858\n",
       "15                         Metro_austin    0.003348\n",
       "16                         Metro_boston    0.005140\n",
       "17                       Metro_brisbane    0.000036\n",
       "18                        Metro_chicago    0.003812\n",
       "19                         Metro_denver    0.001058\n",
       "20                      Metro_hong-kong    0.002027\n",
       "21                         Metro_london    0.005660\n",
       "22                    Metro_los-angeles    0.009928\n",
       "23                      Metro_melbourne    0.003433\n",
       "24                  Metro_new-york-city    0.011632\n",
       "25                         Metro_online    0.001043\n",
       "26                  Metro_san-francisco    0.009752\n",
       "27                        Metro_seattle    0.004259\n",
       "28                      Metro_singapore    0.001606\n",
       "29                         Metro_sydney    0.004831\n",
       "..                                  ...         ...\n",
       "68              ApplicationType_invoice    0.001808\n",
       "69               ApplicationType_lander    0.001094\n",
       "70           ApplicationType_open house    0.000903\n",
       "71             ApplicationType_referral    0.002611\n",
       "72         ApplicationType_request info    0.013101\n",
       "73          ApplicationType_trial class    0.001306\n",
       "74          PardotCategory_CWE Purchase    0.009421\n",
       "75   PardotCategory_Content Partnership    0.000704\n",
       "76  PardotCategory_Facebook Acquisition    0.005480\n",
       "77     PardotCategory_GA Circuits Leads    0.001607\n",
       "78       PardotCategory_GA Course Leads    0.014973\n",
       "79               PardotCategory_GA Dash    0.004407\n",
       "80   PardotCategory_GA Front Row Signup    0.002941\n",
       "81   PardotCategory_Livestream Purchase    0.000997\n",
       "82                 PardotCategory_Other    0.004293\n",
       "83         PardotCategory_Partner Event    0.002221\n",
       "84    PardotCategory_Student Enrollment    0.000435\n",
       "85            PardotCategory_Sweepstake    0.004070\n",
       "86   PardotCategory_Twitter Acquisition    0.001254\n",
       "87      PardotCategory_Twitter Promoted    0.001950\n",
       "88         PardotCategory_Uncategorized    0.001247\n",
       "89               PardotCategory_Unknown    0.002092\n",
       "90               PardotCategory_Website    0.010551\n",
       "91                      EnrolDay_Friday    0.011917\n",
       "92                      EnrolDay_Monday    0.010434\n",
       "93                    EnrolDay_Saturday    0.006983\n",
       "94                      EnrolDay_Sunday    0.005455\n",
       "95                    EnrolDay_Thursday    0.011006\n",
       "96                     EnrolDay_Tuesday    0.010900\n",
       "97                   EnrolDay_Wednesday    0.011431\n",
       "\n",
       "[98 rows x 2 columns]"
      ]
     },
     "execution_count": 72,
     "metadata": {},
     "output_type": "execute_result"
    }
   ],
   "source": [
    "pd.DataFrame({'feature':all_ftcolumns, 'importance':rfclf.feature_importances_})"
   ]
  },
  {
   "cell_type": "code",
   "execution_count": 73,
   "metadata": {
    "collapsed": false
   },
   "outputs": [
    {
     "name": "stdout",
     "output_type": "stream",
     "text": [
      "RMSE (no regularization) = 0.113607932168\n"
     ]
    }
   ],
   "source": [
    "preds = rfclf.predict_proba(X_test)[:,1]\n",
    "print('RMSE (no regularization) =', np.sqrt(metrics.mean_squared_error(y_test, preds)))"
   ]
  },
  {
   "cell_type": "markdown",
   "metadata": {},
   "source": [
    "## Parameter tuning?"
   ]
  },
  {
   "cell_type": "code",
   "execution_count": null,
   "metadata": {
    "collapsed": true
   },
   "outputs": [],
   "source": []
  },
  {
   "cell_type": "code",
   "execution_count": null,
   "metadata": {
    "collapsed": true
   },
   "outputs": [],
   "source": []
  }
 ],
 "metadata": {
  "kernelspec": {
   "display_name": "Python 3",
   "language": "python",
   "name": "python3"
  },
  "language_info": {
   "codemirror_mode": {
    "name": "ipython",
    "version": 3
   },
   "file_extension": ".py",
   "mimetype": "text/x-python",
   "name": "python",
   "nbconvert_exporter": "python",
   "pygments_lexer": "ipython3",
   "version": "3.6.0"
  }
 },
 "nbformat": 4,
 "nbformat_minor": 2
}
