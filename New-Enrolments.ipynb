{
 "cells": [
  {
   "cell_type": "markdown",
   "metadata": {},
   "source": [
    "# Enrolments Data"
   ]
  },
  {
   "cell_type": "markdown",
   "metadata": {},
   "source": [
    "## Exploration\n",
    "### Statistical exploration"
   ]
  },
  {
   "cell_type": "markdown",
   "metadata": {},
   "source": [
    "#### Reading the data, removing useless columns and adding special columns"
   ]
  },
  {
   "cell_type": "code",
   "execution_count": 1,
   "metadata": {
    "collapsed": false
   },
   "outputs": [],
   "source": [
    "import pandas as pd\n",
    "import numpy as np\n",
    "#Read the data\n",
    "enrolments = pd.read_csv(\"data/courses snap_sales_funnel 2017-07-05T1254.csv\",low_memory=False)"
   ]
  },
  {
   "cell_type": "code",
   "execution_count": 2,
   "metadata": {
    "collapsed": false
   },
   "outputs": [
    {
     "data": {
      "text/plain": [
       "Index(['Startdate', 'Enddate', 'Metro', 'Course', 'PhoneValid', 'Price',\n",
       "       'Type', 'DaysEnroltoStart', 'DaysInvoicetoEnrol', 'DaysLeadtoEnroled',\n",
       "       'EnrolDate', 'EnrolDay', 'EnrolHour', 'Month', 'EnrolWeek', 'Year',\n",
       "       'CanceledDate', 'CanceledMonth', 'ExpectedPayment', 'PardotCategory',\n",
       "       'ApplicationType', 'LeadID', 'Status', 'OppCreatedDate',\n",
       "       'OppOwnerMetro', 'SpeedtoLead', 'CampaignSource',\n",
       "       'CampaignSourceCategory'],\n",
       "      dtype='object')"
      ]
     },
     "execution_count": 2,
     "metadata": {},
     "output_type": "execute_result"
    }
   ],
   "source": [
    "enrolments.columns"
   ]
  },
  {
   "cell_type": "markdown",
   "metadata": {},
   "source": [
    "##### Columns\n",
    "- 'Startdate' = Enrolment course start date\n",
    "- 'Enddate'= Enrolment course end date\n",
    "- 'Metro' = Enrolment course location\n",
    "- 'Course' = Enrolment course (WDi, DAT, etc.)\n",
    "- 'PhoneValid' = Whether enrolment has valid phone number\n",
    "- 'Price' = Enrolment course price\n",
    "- 'Type' = Enrolment course type (immersive, part-time, remote)\n",
    "- 'DaysEnroltoStart' = Days between enrolment and course start date\n",
    "- 'DaysInvoicetoEnrol'= Days between invoice and enrolment\n",
    "- 'DaysLeadtoEnroled' = Days between lead entry (e.g. website visit) to enrolment\n",
    "- 'EnrolDate' = Date of enrolment\n",
    "- 'EnrolDay' = Day (of the week) of enrolment\n",
    "- 'EnrolHour' = Hour of enrolment\n",
    "- 'Month' = Month of enrolment\n",
    "- 'EnrolWeek' = Week of enrolment\n",
    "- 'Year' = Year of enrolment\n",
    "- 'CanceledDate' = Date cancelled\n",
    "- 'CanceledMonth' = Month cancelled\n",
    "- 'ExpectedPayment' = Method of expected payment (e.g. employer paid, personal loan, etc.)\n",
    "- 'PardotCategory' = Category of lead - how did they enter our system?\n",
    "- 'ApplicationType' = Type of application\n",
    "- 'LeadID' = ID of lead\n",
    "- 'Status'= Status of lead\n",
    "- 'OppCreatedDate' = Date lead creation\n",
    "- 'OppOwnerMetro' = Metro of lead creation\n",
    "- 'SpeedtoLead' = Time taken to contact lead\n",
    "- 'CampaignSource' = Source of campaign\n",
    "- 'CampaignSourceCategory' = Category of source of campaign"
   ]
  },
  {
   "cell_type": "code",
   "execution_count": 3,
   "metadata": {
    "collapsed": false
   },
   "outputs": [
    {
     "name": "stdout",
     "output_type": "stream",
     "text": [
      "<class 'pandas.core.frame.DataFrame'>\n",
      "RangeIndex: 50407 entries, 0 to 50406\n",
      "Data columns (total 28 columns):\n",
      "Startdate                 50407 non-null int64\n",
      "Enddate                   50407 non-null int64\n",
      "Metro                     50407 non-null object\n",
      "Course                    50407 non-null object\n",
      "PhoneValid                50407 non-null object\n",
      "Price                     50406 non-null float64\n",
      "Type                      50407 non-null object\n",
      "DaysEnroltoStart          46003 non-null float64\n",
      "DaysInvoicetoEnrol        50407 non-null int64\n",
      "DaysLeadtoEnroled         50407 non-null int64\n",
      "EnrolDate                 50407 non-null int64\n",
      "EnrolDay                  50407 non-null object\n",
      "EnrolHour                 50407 non-null int64\n",
      "Month                     50407 non-null int64\n",
      "EnrolWeek                 50407 non-null int64\n",
      "Year                      50407 non-null int64\n",
      "CanceledDate              9327 non-null float64\n",
      "CanceledMonth             9327 non-null float64\n",
      "ExpectedPayment           38772 non-null object\n",
      "PardotCategory            49407 non-null object\n",
      "ApplicationType           50407 non-null object\n",
      "LeadID                    50407 non-null int64\n",
      "Status                    39337 non-null object\n",
      "OppCreatedDate            50407 non-null int64\n",
      "OppOwnerMetro             35864 non-null object\n",
      "SpeedtoLead               13118 non-null float64\n",
      "CampaignSource            42503 non-null object\n",
      "CampaignSourceCategory    50407 non-null object\n",
      "dtypes: float64(5), int64(11), object(12)\n",
      "memory usage: 10.8+ MB\n"
     ]
    }
   ],
   "source": [
    "enrolments.info()"
   ]
  },
  {
   "cell_type": "markdown",
   "metadata": {},
   "source": [
    "##### Remove some useless columns or unused columns (with majority null value)"
   ]
  },
  {
   "cell_type": "code",
   "execution_count": 4,
   "metadata": {
    "collapsed": false
   },
   "outputs": [
    {
     "data": {
      "text/plain": [
       "Index(['Startdate', 'Enddate', 'Metro', 'Course', 'PhoneValid', 'Price',\n",
       "       'Type', 'DaysEnroltoStart', 'DaysInvoicetoEnrol', 'DaysLeadtoEnroled',\n",
       "       'EnrolDate', 'EnrolDay', 'EnrolHour', 'Month', 'EnrolWeek', 'Year',\n",
       "       'CanceledDate', 'CanceledMonth', 'ExpectedPayment', 'PardotCategory',\n",
       "       'ApplicationType'],\n",
       "      dtype='object')"
      ]
     },
     "execution_count": 4,
     "metadata": {},
     "output_type": "execute_result"
    }
   ],
   "source": [
    "enrolments.drop('Status', axis=1, inplace=True)\n",
    "enrolments.drop('CampaignSourceCategory',axis=1,inplace=True)\n",
    "enrolments.drop('CampaignSource',axis=1,inplace=True)\n",
    "enrolments.drop('OppOwnerMetro', axis=1, inplace=True)\n",
    "enrolments.drop('OppCreatedDate', axis=1, inplace=True)\n",
    "enrolments.drop('LeadID', axis=1, inplace=True)\n",
    "enrolments.drop('SpeedtoLead', axis=1, inplace=True)\n",
    "enrolments.columns"
   ]
  },
  {
   "cell_type": "code",
   "execution_count": 5,
   "metadata": {
    "collapsed": false
   },
   "outputs": [],
   "source": [
    "#Add cancelled column to track whether an enrolment cancelled\n",
    "enrolments['Cancelled'] = enrolments.CanceledDate.notnull()\n",
    "enrolments.drop('CanceledDate', axis=1, inplace=True)\n",
    "enrolments.drop('CanceledMonth', axis=1, inplace=True)"
   ]
  },
  {
   "cell_type": "code",
   "execution_count": 6,
   "metadata": {
    "collapsed": false
   },
   "outputs": [
    {
     "data": {
      "text/plain": [
       "False    42530\n",
       "True      7877\n",
       "Name: APAC, dtype: int64"
      ]
     },
     "execution_count": 6,
     "metadata": {},
     "output_type": "execute_result"
    }
   ],
   "source": [
    "#Add an APAC column\n",
    "enrolments['APAC'] = enrolments['Metro'].isin(['sydney','melbourne','hong-kong','singapore','brisbane'])\n",
    "enrolments.APAC.value_counts()"
   ]
  },
  {
   "cell_type": "code",
   "execution_count": 7,
   "metadata": {
    "collapsed": false
   },
   "outputs": [],
   "source": [
    "#Limit to only post mid-2014 data and pre mid-2017 data\n",
    "enrolments = enrolments[enrolments.EnrolDate > 20140630]\n",
    "enrolments = enrolments[enrolments.Startdate < 20170630]"
   ]
  },
  {
   "cell_type": "code",
   "execution_count": 8,
   "metadata": {
    "collapsed": true
   },
   "outputs": [],
   "source": [
    "#Cancellations are enroled before their course starts, so daysenroltostart must be positive\n",
    "enrolments = enrolments[enrolments.DaysEnroltoStart > 0]"
   ]
  },
  {
   "cell_type": "code",
   "execution_count": 9,
   "metadata": {
    "collapsed": false
   },
   "outputs": [],
   "source": [
    "#Some anomalies in the price data - restrictions!\n",
    "enrolments = enrolments[enrolments.Price < 20000]"
   ]
  },
  {
   "cell_type": "code",
   "execution_count": 10,
   "metadata": {
    "collapsed": false
   },
   "outputs": [
    {
     "data": {
      "text/plain": [
       "(32699, 21)"
      ]
     },
     "execution_count": 10,
     "metadata": {},
     "output_type": "execute_result"
    }
   ],
   "source": [
    "#enrolments.info()\n",
    "#enrolments.describe()\n",
    "enrolments.shape\n",
    "#enrolments.columns"
   ]
  },
  {
   "cell_type": "markdown",
   "metadata": {},
   "source": [
    "#### Dealing with null values"
   ]
  },
  {
   "cell_type": "code",
   "execution_count": 11,
   "metadata": {
    "collapsed": false
   },
   "outputs": [
    {
     "data": {
      "text/plain": [
       "Startdate                0\n",
       "Enddate                  0\n",
       "Metro                    0\n",
       "Course                   0\n",
       "PhoneValid               0\n",
       "Price                    0\n",
       "Type                     0\n",
       "DaysEnroltoStart         0\n",
       "DaysInvoicetoEnrol       0\n",
       "DaysLeadtoEnroled        0\n",
       "EnrolDate                0\n",
       "EnrolDay                 0\n",
       "EnrolHour                0\n",
       "Month                    0\n",
       "EnrolWeek                0\n",
       "Year                     0\n",
       "ExpectedPayment       3035\n",
       "PardotCategory         665\n",
       "ApplicationType          0\n",
       "Cancelled                0\n",
       "APAC                     0\n",
       "dtype: int64"
      ]
     },
     "execution_count": 11,
     "metadata": {},
     "output_type": "execute_result"
    }
   ],
   "source": [
    "enrolments.isnull().sum()"
   ]
  },
  {
   "cell_type": "code",
   "execution_count": 12,
   "metadata": {
    "collapsed": false
   },
   "outputs": [],
   "source": [
    "#enrolments.Price.fillna(0, inplace=True)"
   ]
  },
  {
   "cell_type": "code",
   "execution_count": 13,
   "metadata": {
    "collapsed": false
   },
   "outputs": [
    {
     "data": {
      "text/plain": [
       "Student / Self                24192\n",
       "Employer                       3249\n",
       "Unknown                        3035\n",
       "Loan Partner                   1603\n",
       "Veterans Affairs                176\n",
       "Scholarship                     142\n",
       "Family                           88\n",
       "Other                            76\n",
       "Loan (Private)                   50\n",
       "Government Funding / Grant       48\n",
       "GA Employee/Instructor           40\n",
       "Name: ExpectedPayment, dtype: int64"
      ]
     },
     "execution_count": 13,
     "metadata": {},
     "output_type": "execute_result"
    }
   ],
   "source": [
    "enrolments['ExpectedPayment'] = enrolments.ExpectedPayment.map({\n",
    "    'Student / Self': 'Student / Self',\n",
    "    'Student (self)': 'Student / Self',\n",
    "    'Employer': 'Employer',\n",
    "    'Loan (Partner, please note)': 'Loan Partner',\n",
    "    'Veterans Affairs': 'Veterans Affairs',\n",
    "    'Employer Bulk Pre-paid': 'Employer',\n",
    "    'Scholarship (Opportunity Fund)': 'Scholarship',\n",
    "    'Loan Partner (please note)': 'Loan Partner',\n",
    "    'Family':'Family',\n",
    "    'Other (please note)':'Other',\n",
    "    'GA Employee/Instructor':'GA Employee/Instructor',\n",
    "    'Loan (Private Bank, please note)':'Loan (Private)',\n",
    "    'Government Funding / Grant':'Government Funding / Grant',\n",
    "    'Other':'Other',\n",
    "    'CourseHorse':'Other',\n",
    "    'Opportunity Fund':'Scholarship',\n",
    "    'Enterprise Credit':'Other',\n",
    "    'Scholarship (GA Partner, please note)':'Scholarship',\n",
    "    'Scholarship (Other, please note)':'Scholarship',\n",
    "})\n",
    "enrolments.ExpectedPayment.fillna(\"Unknown\", inplace=True)\n",
    "enrolments.ExpectedPayment.value_counts()"
   ]
  },
  {
   "cell_type": "code",
   "execution_count": 14,
   "metadata": {
    "collapsed": false
   },
   "outputs": [
    {
     "data": {
      "text/plain": [
       "GA Course Leads                15387\n",
       "Website                         4918\n",
       "CWE Purchase                    3922\n",
       "Facebook Acquisition            1363\n",
       "Other                           1212\n",
       "GA Dash                         1198\n",
       "Sweepstake                      1102\n",
       "Unknown                          675\n",
       "GA Front Row Signup              468\n",
       "Partner Event                    406\n",
       "Twitter Promoted                 364\n",
       "GA Circuits Leads                308\n",
       "Twitter Acquisition              200\n",
       "Uncategorized                    182\n",
       "Student Enrollment               137\n",
       "Content Partnership              127\n",
       "Livestream Purchase              120\n",
       "Scholarship                       90\n",
       "Partner Livestream                81\n",
       "CWE Walk Ins                      75\n",
       "Global Acquisition Campaign       73\n",
       "Free Front Row Trial Local        53\n",
       "GA Content                        42\n",
       "GA Event                          29\n",
       "Social Organic                    29\n",
       "GA Blog                           25\n",
       "LinkedIn Acquisition              22\n",
       "List Purchase                     18\n",
       "Tuition Credit                    12\n",
       "Local Sweepstake                  11\n",
       "GA University Leads                8\n",
       "GA Hub                             8\n",
       "Facebook Lead Gen                  7\n",
       "AdWords Acquisition                6\n",
       "Local Content Partnership          6\n",
       "Free Front Row Trial Global        5\n",
       "Adwords Lead Gen                   4\n",
       "Affiliate Lead Gen                 4\n",
       "Facebook Promoted                  2\n",
       "Name: PardotCategory, dtype: int64"
      ]
     },
     "execution_count": 14,
     "metadata": {},
     "output_type": "execute_result"
    }
   ],
   "source": [
    "enrolments.PardotCategory.fillna(\"Unknown\", inplace=True)\n",
    "enrolments.PardotCategory.value_counts()"
   ]
  },
  {
   "cell_type": "code",
   "execution_count": 15,
   "metadata": {
    "collapsed": false
   },
   "outputs": [],
   "source": [
    "#enrolments.SpeedtoLead.value_counts()\n",
    "#enrolments.SpeedtoLead.fillna(enrolments.SpeedtoLead.mean(), inplace=True)"
   ]
  },
  {
   "cell_type": "code",
   "execution_count": 16,
   "metadata": {
    "collapsed": false
   },
   "outputs": [
    {
     "data": {
      "text/plain": [
       "Startdate             0\n",
       "Enddate               0\n",
       "Metro                 0\n",
       "Course                0\n",
       "PhoneValid            0\n",
       "Price                 0\n",
       "Type                  0\n",
       "DaysEnroltoStart      0\n",
       "DaysInvoicetoEnrol    0\n",
       "DaysLeadtoEnroled     0\n",
       "EnrolDate             0\n",
       "EnrolDay              0\n",
       "EnrolHour             0\n",
       "Month                 0\n",
       "EnrolWeek             0\n",
       "Year                  0\n",
       "ExpectedPayment       0\n",
       "PardotCategory        0\n",
       "ApplicationType       0\n",
       "Cancelled             0\n",
       "APAC                  0\n",
       "dtype: int64"
      ]
     },
     "execution_count": 16,
     "metadata": {},
     "output_type": "execute_result"
    }
   ],
   "source": [
    "enrolments.isnull().sum()"
   ]
  },
  {
   "cell_type": "markdown",
   "metadata": {},
   "source": [
    "#### Streamlining multiple categories\n",
    "##### Most common application types"
   ]
  },
  {
   "cell_type": "code",
   "execution_count": 17,
   "metadata": {
    "collapsed": false
   },
   "outputs": [
    {
     "data": {
      "text/plain": [
       "(31377, 21)"
      ]
     },
     "execution_count": 17,
     "metadata": {},
     "output_type": "execute_result"
    }
   ],
   "source": [
    "#Checkout and include only the more common application types\n",
    "commonapptypes = enrolments.ApplicationType.value_counts().index[enrolments.ApplicationType.value_counts()>147]\n",
    "enrolments = enrolments[enrolments.ApplicationType.isin(commonapptypes)]\n",
    "enrolments.shape"
   ]
  },
  {
   "cell_type": "code",
   "execution_count": 18,
   "metadata": {
    "collapsed": false
   },
   "outputs": [
    {
     "data": {
      "text/plain": [
       "apply now               10942\n",
       "request info            10544\n",
       "info session             6721\n",
       "referral                  763\n",
       "invoice                   473\n",
       "contact_admissions        437\n",
       "get notified              411\n",
       "financing contact us      370\n",
       "cwe_feedback              362\n",
       "trial class               193\n",
       "lander                    161\n",
       "Name: ApplicationType, dtype: int64"
      ]
     },
     "execution_count": 18,
     "metadata": {},
     "output_type": "execute_result"
    }
   ],
   "source": [
    "enrolments.ApplicationType.value_counts()"
   ]
  },
  {
   "cell_type": "markdown",
   "metadata": {},
   "source": [
    "##### Most common Pardot types"
   ]
  },
  {
   "cell_type": "code",
   "execution_count": 19,
   "metadata": {
    "collapsed": false
   },
   "outputs": [
    {
     "data": {
      "text/plain": [
       "(30824, 21)"
      ]
     },
     "execution_count": 19,
     "metadata": {},
     "output_type": "execute_result"
    }
   ],
   "source": [
    "#Checkout only and include the more common Pardot types\n",
    "commonpdtypes = enrolments.PardotCategory.value_counts().index[enrolments.PardotCategory.value_counts()>100]\n",
    "enrolments = enrolments[enrolments.PardotCategory.isin(commonpdtypes)]\n",
    "enrolments.shape"
   ]
  },
  {
   "cell_type": "code",
   "execution_count": 20,
   "metadata": {
    "collapsed": false
   },
   "outputs": [
    {
     "data": {
      "text/plain": [
       "GA Course Leads         15020\n",
       "Website                  4696\n",
       "CWE Purchase             3705\n",
       "Facebook Acquisition     1304\n",
       "Other                    1141\n",
       "GA Dash                  1137\n",
       "Sweepstake               1049\n",
       "Unknown                   603\n",
       "GA Front Row Signup       454\n",
       "Partner Event             387\n",
       "Twitter Promoted          347\n",
       "GA Circuits Leads         255\n",
       "Twitter Acquisition       194\n",
       "Uncategorized             180\n",
       "Student Enrollment        120\n",
       "Content Partnership       117\n",
       "Livestream Purchase       115\n",
       "Name: PardotCategory, dtype: int64"
      ]
     },
     "execution_count": 20,
     "metadata": {},
     "output_type": "execute_result"
    }
   ],
   "source": [
    "enrolments.PardotCategory.value_counts()"
   ]
  },
  {
   "cell_type": "markdown",
   "metadata": {},
   "source": [
    "##### Most common courses"
   ]
  },
  {
   "cell_type": "code",
   "execution_count": 21,
   "metadata": {
    "collapsed": false
   },
   "outputs": [
    {
     "data": {
      "text/plain": [
       "(30622, 21)"
      ]
     },
     "execution_count": 21,
     "metadata": {},
     "output_type": "execute_result"
    }
   ],
   "source": [
    "commoncourses = enrolments.Course.value_counts().index[enrolments.Course.value_counts()>100]\n",
    "enrolments = enrolments[enrolments.Course.isin(commoncourses)]\n",
    "enrolments.shape"
   ]
  },
  {
   "cell_type": "markdown",
   "metadata": {},
   "source": [
    "##### Mapping PhoneValid field to yes and no"
   ]
  },
  {
   "cell_type": "code",
   "execution_count": 22,
   "metadata": {
    "collapsed": true
   },
   "outputs": [],
   "source": [
    "enrolments.PhoneValid.unique()\n",
    "enrolments['PhoneValid'] = enrolments.PhoneValid.map({'Yes': 1,'No': 0})"
   ]
  },
  {
   "cell_type": "code",
   "execution_count": 23,
   "metadata": {
    "collapsed": false
   },
   "outputs": [
    {
     "name": "stdout",
     "output_type": "stream",
     "text": [
      "<class 'pandas.core.frame.DataFrame'>\n",
      "Int64Index: 30622 entries, 758 to 42687\n",
      "Data columns (total 21 columns):\n",
      "Startdate             30622 non-null int64\n",
      "Enddate               30622 non-null int64\n",
      "Metro                 30622 non-null object\n",
      "Course                30622 non-null object\n",
      "PhoneValid            30622 non-null int64\n",
      "Price                 30622 non-null float64\n",
      "Type                  30622 non-null object\n",
      "DaysEnroltoStart      30622 non-null float64\n",
      "DaysInvoicetoEnrol    30622 non-null int64\n",
      "DaysLeadtoEnroled     30622 non-null int64\n",
      "EnrolDate             30622 non-null int64\n",
      "EnrolDay              30622 non-null object\n",
      "EnrolHour             30622 non-null int64\n",
      "Month                 30622 non-null int64\n",
      "EnrolWeek             30622 non-null int64\n",
      "Year                  30622 non-null int64\n",
      "ExpectedPayment       30622 non-null object\n",
      "PardotCategory        30622 non-null object\n",
      "ApplicationType       30622 non-null object\n",
      "Cancelled             30622 non-null bool\n",
      "APAC                  30622 non-null bool\n",
      "dtypes: bool(2), float64(2), int64(10), object(7)\n",
      "memory usage: 4.7+ MB\n"
     ]
    }
   ],
   "source": [
    "enrolments.info()"
   ]
  },
  {
   "cell_type": "markdown",
   "metadata": {},
   "source": [
    "### Visualisation\n",
    "#### Exploring the data visually"
   ]
  },
  {
   "cell_type": "code",
   "execution_count": 24,
   "metadata": {
    "collapsed": true
   },
   "outputs": [],
   "source": [
    "from sklearn import tree\n",
    "from sklearn.model_selection import train_test_split\n",
    "from sklearn import metrics\n",
    "import matplotlib.pyplot as plt\n",
    "import seaborn as sns\n",
    "import urllib\n",
    "\n",
    "%matplotlib inline\n",
    "sns.set(color_codes=True)"
   ]
  },
  {
   "cell_type": "code",
   "execution_count": 25,
   "metadata": {
    "collapsed": false
   },
   "outputs": [
    {
     "name": "stderr",
     "output_type": "stream",
     "text": [
      "/anaconda/lib/python3.6/site-packages/statsmodels/nonparametric/kdetools.py:20: VisibleDeprecationWarning: using a non-integer number instead of an integer will result in an error in the future\n",
      "  y = X[:m/2+1] + np.r_[0,X[m/2+1:],0]*1j\n"
     ]
    },
    {
     "data": {
      "text/plain": [
       "<matplotlib.axes._subplots.AxesSubplot at 0x11371d048>"
      ]
     },
     "execution_count": 25,
     "metadata": {},
     "output_type": "execute_result"
    },
    {
     "data": {
      "image/png": "[encoded data removed]",
      "text/plain": [
       "<matplotlib.figure.Figure at 0x11371d080>"
      ]
     },
     "metadata": {},
     "output_type": "display_data"
    }
   ],
   "source": [
    "plt.figure(figsize = (15,6))\n",
    "sns.distplot(enrolments.DaysInvoicetoEnrol, bins=10)"
   ]
  },
  {
   "cell_type": "code",
   "execution_count": 26,
   "metadata": {
    "collapsed": false
   },
   "outputs": [
    {
     "name": "stderr",
     "output_type": "stream",
     "text": [
      "/anaconda/lib/python3.6/site-packages/statsmodels/nonparametric/kdetools.py:20: VisibleDeprecationWarning: using a non-integer number instead of an integer will result in an error in the future\n",
      "  y = X[:m/2+1] + np.r_[0,X[m/2+1:],0]*1j\n"
     ]
    },
    {
     "data": {
      "text/plain": [
       "<matplotlib.axes._subplots.AxesSubplot at 0x1137d0e80>"
      ]
     },
     "execution_count": 26,
     "metadata": {},
     "output_type": "execute_result"
    },
    {
     "data": {
      "image/png": "[encoded data removed]",
      "text/plain": [
       "<matplotlib.figure.Figure at 0x1136ca390>"
      ]
     },
     "metadata": {},
     "output_type": "display_data"
    }
   ],
   "source": [
    "sns.distplot(enrolments.DaysEnroltoStart, bins=10)"
   ]
  },
  {
   "cell_type": "code",
   "execution_count": 27,
   "metadata": {
    "collapsed": false
   },
   "outputs": [
    {
     "data": {
      "text/plain": [
       "<matplotlib.axes._subplots.AxesSubplot at 0x113d05c88>"
      ]
     },
     "execution_count": 27,
     "metadata": {},
     "output_type": "execute_result"
    },
    {
     "data": {
      "image/png": "[encoded data removed]",
      "text/plain": [
       "<matplotlib.figure.Figure at 0x113d1e550>"
      ]
     },
     "metadata": {},
     "output_type": "display_data"
    }
   ],
   "source": [
    "plt.figure(figsize = (15,6))\n",
    "sns.barplot(x='Metro', y = 'Cancelled', data = enrolments)"
   ]
  },
  {
   "cell_type": "code",
   "execution_count": 56,
   "metadata": {
    "collapsed": false
   },
   "outputs": [
    {
     "data": {
      "text/plain": [
       "<matplotlib.axes._subplots.AxesSubplot at 0x11c5df4e0>"
      ]
     },
     "execution_count": 56,
     "metadata": {},
     "output_type": "execute_result"
    },
    {
     "data": {
      "image/png": "[encoded data removed]",
      "text/plain": [
       "<matplotlib.figure.Figure at 0x11c644e48>"
      ]
     },
     "metadata": {},
     "output_type": "display_data"
    }
   ],
   "source": [
    "plt.figure(figsize = (20,10))\n",
    "sns.barplot(x='PardotCategory', y = 'Cancelled', data = enrolments)"
   ]
  },
  {
   "cell_type": "code",
   "execution_count": 64,
   "metadata": {
    "collapsed": false
   },
   "outputs": [
    {
     "data": {
      "text/plain": [
       "<matplotlib.axes._subplots.AxesSubplot at 0x11d16d710>"
      ]
     },
     "execution_count": 64,
     "metadata": {},
     "output_type": "execute_result"
    },
    {
     "data": {
      "image/png": "[encoded data removed]",
      "text/plain": [
       "<matplotlib.figure.Figure at 0x11f603668>"
      ]
     },
     "metadata": {},
     "output_type": "display_data"
    }
   ],
   "source": [
    "\n",
    "sns.countplot(x= enrolments.PardotCategory, data = enrolments)"
   ]
  },
  {
   "cell_type": "code",
   "execution_count": 55,
   "metadata": {
    "collapsed": false
   },
   "outputs": [
    {
     "data": {
      "text/plain": [
       "<matplotlib.axes._subplots.AxesSubplot at 0x11c5fccf8>"
      ]
     },
     "execution_count": 55,
     "metadata": {},
     "output_type": "execute_result"
    },
    {
     "data": {
      "image/png": "[encoded data removed]",
      "text/plain": [
       "<matplotlib.figure.Figure at 0x11c5fcd68>"
      ]
     },
     "metadata": {},
     "output_type": "display_data"
    }
   ],
   "source": [
    "plt.figure(figsize = (20,10))\n",
    "sns.barplot(x='ExpectedPayment', y = 'Cancelled', data = enrolments)"
   ]
  },
  {
   "cell_type": "code",
   "execution_count": 29,
   "metadata": {
    "collapsed": false
   },
   "outputs": [
    {
     "data": {
      "text/plain": [
       "<matplotlib.axes._subplots.AxesSubplot at 0x115c0aac8>"
      ]
     },
     "execution_count": 29,
     "metadata": {},
     "output_type": "execute_result"
    },
    {
     "data": {
      "image/png": "[encoded data removed]",
      "text/plain": [
       "<matplotlib.figure.Figure at 0x115c0aa58>"
      ]
     },
     "metadata": {},
     "output_type": "display_data"
    }
   ],
   "source": [
    "plt.figure(figsize=(20,10))\n",
    "plt.title(\"Enrolments v Cancelations\")\n",
    "sns.countplot(x='Year', hue='Cancelled', data = enrolments)"
   ]
  },
  {
   "cell_type": "code",
   "execution_count": 30,
   "metadata": {
    "collapsed": false
   },
   "outputs": [
    {
     "data": {
      "text/plain": [
       "<seaborn.axisgrid.JointGrid at 0x117a17cc0>"
      ]
     },
     "execution_count": 30,
     "metadata": {},
     "output_type": "execute_result"
    },
    {
     "data": {
      "image/png": "[encoded data removed]",
      "text/plain": [
       "<matplotlib.figure.Figure at 0x117a17f98>"
      ]
     },
     "metadata": {},
     "output_type": "display_data"
    }
   ],
   "source": [
    "sns.jointplot(x='DaysEnroltoStart', y=\"Price\", data=enrolments)"
   ]
  },
  {
   "cell_type": "code",
   "execution_count": 31,
   "metadata": {
    "collapsed": false
   },
   "outputs": [
    {
     "data": {
      "text/plain": [
       "<seaborn.axisgrid.JointGrid at 0x117c06978>"
      ]
     },
     "execution_count": 31,
     "metadata": {},
     "output_type": "execute_result"
    },
    {
     "data": {
      "image/png": "[encoded data removed]",
      "text/plain": [
       "<matplotlib.figure.Figure at 0x117c24e80>"
      ]
     },
     "metadata": {},
     "output_type": "display_data"
    }
   ],
   "source": [
    "sns.jointplot(x='DaysEnroltoStart', y=\"DaysInvoicetoEnrol\", data=enrolments)"
   ]
  },
  {
   "cell_type": "code",
   "execution_count": 32,
   "metadata": {
    "collapsed": false
   },
   "outputs": [
    {
     "data": {
      "text/plain": [
       "<matplotlib.text.Text at 0x117fbd160>"
      ]
     },
     "execution_count": 32,
     "metadata": {},
     "output_type": "execute_result"
    },
    {
     "data": {
      "image/png": "[encoded data removed]",
      "text/plain": [
       "<matplotlib.figure.Figure at 0x11bedc940>"
      ]
     },
     "metadata": {},
     "output_type": "display_data"
    }
   ],
   "source": [
    "corr = enrolments.corr()\n",
    "corr = (corr)\n",
    "plt.figure(figsize = (20,20))\n",
    "sns.heatmap(corr, \n",
    "            xticklabels=corr.columns.values,\n",
    "            yticklabels=corr.columns.values)\n",
    "sns.plt.title('Heatmap of Correlation Matrix')"
   ]
  },
  {
   "cell_type": "markdown",
   "metadata": {},
   "source": [
    "## Running dummy data\n",
    "- These columns have text outputs:\n",
    " - Metro: object\n",
    " - Course: object\n",
    " - Type: object\n",
    " - EnrolDay: object\n",
    " - ExpectedPayment: object\n",
    " - ApplicationType: object\n",
    " - PardotCategory: object"
   ]
  },
  {
   "cell_type": "code",
   "execution_count": 33,
   "metadata": {
    "collapsed": false
   },
   "outputs": [
    {
     "name": "stdout",
     "output_type": "stream",
     "text": [
      "<class 'pandas.core.frame.DataFrame'>\n",
      "Int64Index: 30622 entries, 758 to 42687\n",
      "Data columns (total 21 columns):\n",
      "Startdate             30622 non-null int64\n",
      "Enddate               30622 non-null int64\n",
      "Metro                 30622 non-null object\n",
      "Course                30622 non-null object\n",
      "PhoneValid            30622 non-null int64\n",
      "Price                 30622 non-null float64\n",
      "Type                  30622 non-null object\n",
      "DaysEnroltoStart      30622 non-null float64\n",
      "DaysInvoicetoEnrol    30622 non-null int64\n",
      "DaysLeadtoEnroled     30622 non-null int64\n",
      "EnrolDate             30622 non-null int64\n",
      "EnrolDay              30622 non-null object\n",
      "EnrolHour             30622 non-null int64\n",
      "Month                 30622 non-null int64\n",
      "EnrolWeek             30622 non-null int64\n",
      "Year                  30622 non-null int64\n",
      "ExpectedPayment       30622 non-null object\n",
      "PardotCategory        30622 non-null object\n",
      "ApplicationType       30622 non-null object\n",
      "Cancelled             30622 non-null bool\n",
      "APAC                  30622 non-null bool\n",
      "dtypes: bool(2), float64(2), int64(10), object(7)\n",
      "memory usage: 4.7+ MB\n"
     ]
    }
   ],
   "source": [
    "enrolments.info()"
   ]
  },
  {
   "cell_type": "code",
   "execution_count": 34,
   "metadata": {
    "collapsed": false
   },
   "outputs": [],
   "source": [
    "dummydata = pd.get_dummies(data=enrolments, columns = ['Metro','Course','Type','ExpectedPayment','ApplicationType','PardotCategory','EnrolDay'], prefix = ['Metro','Course','Type','ExpectedPayment','ApplicationType','PardotCategory','EnrolDay'] )"
   ]
  },
  {
   "cell_type": "code",
   "execution_count": 35,
   "metadata": {
    "collapsed": false
   },
   "outputs": [
    {
     "data": {
      "text/plain": [
       "(30622, 95)"
      ]
     },
     "execution_count": 35,
     "metadata": {},
     "output_type": "execute_result"
    }
   ],
   "source": [
    "dummydata.shape"
   ]
  },
  {
   "cell_type": "code",
   "execution_count": 36,
   "metadata": {
    "collapsed": false
   },
   "outputs": [
    {
     "data": {
      "text/plain": [
       "Index(['Startdate', 'Enddate', 'PhoneValid', 'Price', 'DaysEnroltoStart',\n",
       "       'DaysInvoicetoEnrol', 'DaysLeadtoEnroled', 'EnrolDate', 'EnrolHour',\n",
       "       'Month', 'EnrolWeek', 'Year', 'Cancelled', 'APAC', 'Metro_atlanta',\n",
       "       'Metro_austin', 'Metro_boston', 'Metro_brisbane', 'Metro_chicago',\n",
       "       'Metro_denver', 'Metro_london', 'Metro_los-angeles', 'Metro_melbourne',\n",
       "       'Metro_new-york-city', 'Metro_online', 'Metro_san-francisco',\n",
       "       'Metro_seattle', 'Metro_singapore', 'Metro_sydney',\n",
       "       'Metro_washington-dc', 'Course_android-development-immersive',\n",
       "       'Course_back-end-web-development', 'Course_data-analytics',\n",
       "       'Course_data-science', 'Course_data-science-immersive',\n",
       "       'Course_digital-marketing', 'Course_front-end-web-development',\n",
       "       'Course_ios-development', 'Course_javascript-development',\n",
       "       'Course_product-management', 'Course_product-management-immersive',\n",
       "       'Course_user-experience-design',\n",
       "       'Course_user-experience-design-immersive', 'Course_visual-design',\n",
       "       'Course_web-development-immersive',\n",
       "       'Course_web-development-immersive-remote', 'Type_course',\n",
       "       'Type_immersive', 'Type_remote', 'ExpectedPayment_Employer',\n",
       "       'ExpectedPayment_Family', 'ExpectedPayment_GA Employee/Instructor',\n",
       "       'ExpectedPayment_Government Funding / Grant',\n",
       "       'ExpectedPayment_Loan (Private)', 'ExpectedPayment_Loan Partner',\n",
       "       'ExpectedPayment_Other', 'ExpectedPayment_Scholarship',\n",
       "       'ExpectedPayment_Student / Self', 'ExpectedPayment_Unknown',\n",
       "       'ExpectedPayment_Veterans Affairs', 'ApplicationType_apply now',\n",
       "       'ApplicationType_contact_admissions', 'ApplicationType_cwe_feedback',\n",
       "       'ApplicationType_financing contact us', 'ApplicationType_get notified',\n",
       "       'ApplicationType_info session', 'ApplicationType_invoice',\n",
       "       'ApplicationType_lander', 'ApplicationType_referral',\n",
       "       'ApplicationType_request info', 'ApplicationType_trial class',\n",
       "       'PardotCategory_CWE Purchase', 'PardotCategory_Content Partnership',\n",
       "       'PardotCategory_Facebook Acquisition',\n",
       "       'PardotCategory_GA Circuits Leads', 'PardotCategory_GA Course Leads',\n",
       "       'PardotCategory_GA Dash', 'PardotCategory_GA Front Row Signup',\n",
       "       'PardotCategory_Livestream Purchase', 'PardotCategory_Other',\n",
       "       'PardotCategory_Partner Event', 'PardotCategory_Student Enrollment',\n",
       "       'PardotCategory_Sweepstake', 'PardotCategory_Twitter Acquisition',\n",
       "       'PardotCategory_Twitter Promoted', 'PardotCategory_Uncategorized',\n",
       "       'PardotCategory_Unknown', 'PardotCategory_Website', 'EnrolDay_Friday',\n",
       "       'EnrolDay_Monday', 'EnrolDay_Saturday', 'EnrolDay_Sunday',\n",
       "       'EnrolDay_Thursday', 'EnrolDay_Tuesday', 'EnrolDay_Wednesday'],\n",
       "      dtype='object')"
      ]
     },
     "execution_count": 36,
     "metadata": {},
     "output_type": "execute_result"
    }
   ],
   "source": [
    "dummydata.columns"
   ]
  },
  {
   "cell_type": "markdown",
   "metadata": {},
   "source": [
    "# Next step:\n",
    "## Let's try some modeling!"
   ]
  },
  {
   "cell_type": "markdown",
   "metadata": {},
   "source": [
    "#### What's our baseline?\n",
    "\n",
    "It's important to have some baseline to compare it to, so let's look at what the chance of picking a student at random and picking a cancellation:"
   ]
  },
  {
   "cell_type": "code",
   "execution_count": 37,
   "metadata": {
    "collapsed": false
   },
   "outputs": [],
   "source": [
    "cancels = dummydata.Cancelled.value_counts()"
   ]
  },
  {
   "cell_type": "code",
   "execution_count": 38,
   "metadata": {
    "collapsed": false
   },
   "outputs": [
    {
     "data": {
      "text/plain": [
       "0.10691659591143621"
      ]
     },
     "execution_count": 38,
     "metadata": {},
     "output_type": "execute_result"
    }
   ],
   "source": [
    "#Percentage of enrolments that cancel:\n",
    "Percent = (1-cancels[0]/(cancels[0]+cancels[1]))\n",
    "Percent"
   ]
  },
  {
   "cell_type": "code",
   "execution_count": 39,
   "metadata": {
    "collapsed": false
   },
   "outputs": [],
   "source": [
    "all_ftcolumns = dummydata.columns.tolist()\n",
    "all_ftcolumns.remove('Cancelled')\n",
    "all_ftcolumns\n",
    "\n",
    "\n",
    "X = dummydata[all_ftcolumns]\n",
    "y = dummydata.Cancelled"
   ]
  },
  {
   "cell_type": "code",
   "execution_count": 40,
   "metadata": {
    "collapsed": false
   },
   "outputs": [
    {
     "name": "stderr",
     "output_type": "stream",
     "text": [
      "/anaconda/lib/python3.6/site-packages/sklearn/cross_validation.py:44: DeprecationWarning: This module was deprecated in version 0.18 in favor of the model_selection module into which all the refactored classes and functions are moved. Also note that the interface of the new CV iterators are different from that of this module. This module will be removed in 0.20.\n",
      "  \"This module will be removed in 0.20.\", DeprecationWarning)\n"
     ]
    }
   ],
   "source": [
    "from sklearn.cross_validation import train_test_split\n",
    "X_train, X_test, y_train, y_test = train_test_split(X, y, random_state=1)"
   ]
  },
  {
   "cell_type": "code",
   "execution_count": 41,
   "metadata": {
    "collapsed": false
   },
   "outputs": [],
   "source": [
    "from sklearn.dummy import DummyClassifier\n",
    "dumb = DummyClassifier(strategy='most_frequent')\n",
    "dumb.fit(X_train, y_train)\n",
    "y_dumb_class = dumb.predict(X_test)"
   ]
  },
  {
   "cell_type": "markdown",
   "metadata": {},
   "source": [
    "- Because we're looking at predicting cancellation (predicting \"1\" for the \"Cancelled\" attribute), a confusion matrix, sensitivity and specificity are good mechanisms for testing the accuracy of a model!\n",
    "- Sensitivity is the number of true positives as a percentage of all predicted positives.\n",
    "- Specificity is the number of true negatives as a percentage of all predicted negatives.\n",
    "\n",
    "- We want HIGH SPECIFICITY!\n",
    "\n",
    "https://www.analyticsvidhya.com/blog/2016/02/7-important-model-evaluation-error-metrics/"
   ]
  },
  {
   "cell_type": "raw",
   "metadata": {},
   "source": [
    "     P      N\n",
    "\n",
    "P [[TP     FP]\n",
    "\n",
    "N  [FN     TN]]\n",
    "\n",
    "TP = confusion_matrix[0,0]\n",
    "\n",
    "FP = confusion_matrix[0,1]\n",
    "\n",
    "FN = confusion_matrix[1,0]\n",
    "\n",
    "TN = confusion_matrix[1,1]"
   ]
  },
  {
   "cell_type": "code",
   "execution_count": 42,
   "metadata": {
    "collapsed": false
   },
   "outputs": [
    {
     "name": "stdout",
     "output_type": "stream",
     "text": [
      "Accuracy Score: 0.890151515152\n",
      "Confusion Matrix: [[6815    0]\n",
      " [ 841    0]]\n"
     ]
    },
    {
     "ename": "NameError",
     "evalue": "name 'confusion_matrix' is not defined",
     "output_type": "error",
     "traceback": [
      "\u001b[0;31m---------------------------------------------------------------------------\u001b[0m",
      "\u001b[0;31mNameError\u001b[0m                                 Traceback (most recent call last)",
      "\u001b[0;32m<ipython-input-42-b4b79f7a407c>\u001b[0m in \u001b[0;36m<module>\u001b[0;34m()\u001b[0m\n\u001b[1;32m      1\u001b[0m \u001b[0mprint\u001b[0m \u001b[0;34m(\u001b[0m\u001b[0;34m'Accuracy Score:'\u001b[0m\u001b[0;34m,\u001b[0m\u001b[0mmetrics\u001b[0m\u001b[0;34m.\u001b[0m\u001b[0maccuracy_score\u001b[0m\u001b[0;34m(\u001b[0m\u001b[0my_test\u001b[0m\u001b[0;34m,\u001b[0m \u001b[0my_dumb_class\u001b[0m\u001b[0;34m)\u001b[0m\u001b[0;34m)\u001b[0m\u001b[0;34m\u001b[0m\u001b[0m\n\u001b[1;32m      2\u001b[0m \u001b[0mprint\u001b[0m\u001b[0;34m(\u001b[0m\u001b[0;34m'Confusion Matrix:'\u001b[0m\u001b[0;34m,\u001b[0m\u001b[0mmetrics\u001b[0m\u001b[0;34m.\u001b[0m\u001b[0mconfusion_matrix\u001b[0m\u001b[0;34m(\u001b[0m\u001b[0my_test\u001b[0m\u001b[0;34m,\u001b[0m \u001b[0my_dumb_class\u001b[0m\u001b[0;34m)\u001b[0m\u001b[0;34m)\u001b[0m\u001b[0;34m\u001b[0m\u001b[0m\n\u001b[0;32m----> 3\u001b[0;31m \u001b[0mprint\u001b[0m\u001b[0;34m(\u001b[0m\u001b[0;34m'Sensitivity:'\u001b[0m\u001b[0;34m,\u001b[0m\u001b[0;34m(\u001b[0m\u001b[0mconfusion_matrix\u001b[0m\u001b[0;34m[\u001b[0m\u001b[0;36m0\u001b[0m\u001b[0;34m,\u001b[0m\u001b[0;36m0\u001b[0m\u001b[0;34m]\u001b[0m\u001b[0;34m/\u001b[0m\u001b[0;34m(\u001b[0m\u001b[0mconfusion_matrix\u001b[0m\u001b[0;34m[\u001b[0m\u001b[0;36m0\u001b[0m\u001b[0;34m,\u001b[0m\u001b[0;36m1\u001b[0m\u001b[0;34m]\u001b[0m\u001b[0;34m+\u001b[0m \u001b[0mconfusion_matrix\u001b[0m\u001b[0;34m[\u001b[0m\u001b[0;36m0\u001b[0m\u001b[0;34m,\u001b[0m\u001b[0;36m0\u001b[0m\u001b[0;34m]\u001b[0m\u001b[0;34m)\u001b[0m\u001b[0;34m)\u001b[0m\u001b[0;34m)\u001b[0m\u001b[0;34m\u001b[0m\u001b[0m\n\u001b[0m\u001b[1;32m      4\u001b[0m \u001b[0mprint\u001b[0m\u001b[0;34m(\u001b[0m\u001b[0;34m'Specificity:'\u001b[0m\u001b[0;34m,\u001b[0m\u001b[0;34m(\u001b[0m\u001b[0mconfusion_matrix\u001b[0m\u001b[0;34m[\u001b[0m\u001b[0;36m1\u001b[0m\u001b[0;34m,\u001b[0m\u001b[0;36m1\u001b[0m\u001b[0;34m]\u001b[0m\u001b[0;34m/\u001b[0m\u001b[0;34m(\u001b[0m\u001b[0mconfusion_matrix\u001b[0m\u001b[0;34m[\u001b[0m\u001b[0;36m1\u001b[0m\u001b[0;34m,\u001b[0m\u001b[0;36m1\u001b[0m\u001b[0;34m]\u001b[0m\u001b[0;34m+\u001b[0m \u001b[0mconfusion_matrix\u001b[0m\u001b[0;34m[\u001b[0m\u001b[0;36m1\u001b[0m\u001b[0;34m,\u001b[0m\u001b[0;36m0\u001b[0m\u001b[0;34m]\u001b[0m\u001b[0;34m)\u001b[0m\u001b[0;34m)\u001b[0m\u001b[0;34m)\u001b[0m\u001b[0;34m\u001b[0m\u001b[0m\n",
      "\u001b[0;31mNameError\u001b[0m: name 'confusion_matrix' is not defined"
     ]
    }
   ],
   "source": [
    "print ('Accuracy Score:',metrics.accuracy_score(y_test, y_dumb_class))\n",
    "print('Confusion Matrix:',metrics.confusion_matrix(y_test, y_dumb_class))\n",
    "print('Sensitivity:',(confusion_matrix[0,0]/(confusion_matrix[0,1]+ confusion_matrix[0,0])))\n",
    "print('Specificity:',(confusion_matrix[1,1]/(confusion_matrix[1,1]+ confusion_matrix[1,0])))"
   ]
  },
  {
   "cell_type": "code",
   "execution_count": null,
   "metadata": {
    "collapsed": false
   },
   "outputs": [],
   "source": [
    "import matplotlib.pyplot as plt\n",
    "preds = dumb.predict_proba(X_test)[:,1]\n",
    "fpr, tpr, _ = metrics.roc_curve(y_test, preds)\n",
    "roc_auc = metrics.auc(fpr,tpr)\n",
    "plt.figure()\n",
    "lw = 2\n",
    "plt.plot(fpr, tpr, color='red',\n",
    "         lw=lw, label='ROC curve (area = %0.2f)' % roc_auc)\n",
    "plt.plot([0, 1], [0, 1], color='navy', lw=lw, linestyle='--')\n",
    "plt.xlim([0.0, 1.0])\n",
    "plt.ylim([0.0, 1.05])\n",
    "plt.xlabel('False Positive Rate')\n",
    "plt.ylabel('True Positive Rate')\n",
    "plt.title('Receiver operating characteristic example')\n",
    "plt.legend(loc=\"lower right\")\n",
    "plt.show()"
   ]
  },
  {
   "cell_type": "markdown",
   "metadata": {},
   "source": [
    "### Decision Tree"
   ]
  },
  {
   "cell_type": "code",
   "execution_count": null,
   "metadata": {
    "collapsed": false
   },
   "outputs": [],
   "source": [
    "from sklearn import tree\n",
    "treesubset = dummydata"
   ]
  },
  {
   "cell_type": "code",
   "execution_count": null,
   "metadata": {
    "collapsed": false
   },
   "outputs": [],
   "source": [
    "ctree = tree.DecisionTreeClassifier(random_state=1, max_depth=3)\n",
    "# Fit the decision tree classifier\n",
    "ctree.fit(X_train, y_train)\n",
    "# Create a feature vector\n",
    "features = treesubset.columns.tolist()"
   ]
  },
  {
   "cell_type": "code",
   "execution_count": null,
   "metadata": {
    "collapsed": false
   },
   "outputs": [],
   "source": [
    "from io import StringIO\n",
    "out = StringIO()\n",
    "tree.export_graphviz(ctree, out_file = out)\n",
    "from sklearn.tree import export_graphviz\n",
    "export_graphviz(ctree, out_file='decisiontree.dot', feature_names=features)"
   ]
  },
  {
   "cell_type": "code",
   "execution_count": null,
   "metadata": {
    "collapsed": false
   },
   "outputs": [],
   "source": [
    "y_pred_class = ctree.predict(X_test)\n",
    "print('Accuracy Score:', metrics.accuracy_score(y_test, y_pred_class))\n",
    "print('Confusion Matrix:', metrics.confusion_matrix(y_test, y_pred_class))\n",
    "print('Sensitivity:',(confusion_matrix[0,0]/(confusion_matrix[0,1]+ confusion_matrix[0,0])))\n",
    "print('Specificity:',(confusion_matrix[1,1]/(confusion_matrix[1,1]+ confusion_matrix[1,0])))"
   ]
  },
  {
   "cell_type": "code",
   "execution_count": null,
   "metadata": {
    "collapsed": false
   },
   "outputs": [],
   "source": [
    "import matplotlib.pyplot as plt\n",
    "preds = ctree.predict_proba(X_test)[:,1]\n",
    "fpr, tpr, _ = metrics.roc_curve(y_test, preds)\n",
    "roc_auc = metrics.auc(fpr,tpr)\n",
    "plt.figure()\n",
    "lw = 2\n",
    "plt.plot(fpr, tpr, color='darkorange',\n",
    "         lw=lw, label='ROC curve (area = %0.2f)' % roc_auc)\n",
    "plt.plot([0, 1], [0, 1], color='navy', lw=lw, linestyle='--')\n",
    "plt.xlim([0.0, 1.0])\n",
    "plt.ylim([0.0, 1.05])\n",
    "plt.xlabel('False Positive Rate')\n",
    "plt.ylabel('True Positive Rate')\n",
    "plt.title('Receiver operating characteristic example')\n",
    "plt.legend(loc=\"lower right\")\n",
    "plt.show()"
   ]
  },
  {
   "cell_type": "markdown",
   "metadata": {
    "collapsed": true
   },
   "source": [
    "#### Previously exported: \n",
    "<img src=\"assets/img/decisiontree-enrolments.png\">"
   ]
  },
  {
   "cell_type": "markdown",
   "metadata": {
    "collapsed": true
   },
   "source": [
    "### Logistic Regression\n",
    "##### Plain ol' logistic regression:"
   ]
  },
  {
   "cell_type": "code",
   "execution_count": null,
   "metadata": {
    "collapsed": true
   },
   "outputs": [],
   "source": [
    "from sklearn.cross_validation import cross_val_score\n",
    "from sklearn import metrics\n",
    "from sklearn.linear_model import LogisticRegression"
   ]
  },
  {
   "cell_type": "code",
   "execution_count": null,
   "metadata": {
    "collapsed": false
   },
   "outputs": [],
   "source": [
    "#fit the logreg model and print the coefficients\n",
    "logreg = LogisticRegression()\n",
    "logreg.fit(X_train, y_train)\n",
    "zip(all_ftcolumns, logreg.coef_[0])\n",
    "print(logreg.fit(X_train, y_train))\n",
    "y_pred_class = logreg.predict(X_test)\n",
    "print('Accuracy Score:', metrics.accuracy_score(y_test,y_pred_class))\n",
    "confusion_matrix = metrics.confusion_matrix(y_test, y_pred_class)\n",
    "print('Confusion Matrix:', confusion_matrix)\n",
    "print('Sensitivity:',(confusion_matrix[0,0]/(confusion_matrix[0,1]+ confusion_matrix[0,0])))\n",
    "print('Specificity:',(confusion_matrix[1,1]/(confusion_matrix[1,1]+ confusion_matrix[1,0])))"
   ]
  },
  {
   "cell_type": "code",
   "execution_count": null,
   "metadata": {
    "collapsed": false
   },
   "outputs": [],
   "source": [
    "import matplotlib.pyplot as plt\n",
    "preds = logreg.predict_proba(X_test)[:,1]\n",
    "fpr, tpr, _ = metrics.roc_curve(y_test, preds)\n",
    "roc_auc = metrics.auc(fpr,tpr)\n",
    "plt.figure()\n",
    "lw = 2\n",
    "plt.plot(fpr, tpr, color='darkorange',\n",
    "         lw=lw, label='ROC curve (area = %0.2f)' % roc_auc)\n",
    "plt.plot([0, 1], [0, 1], color='navy', lw=lw, linestyle='--')\n",
    "plt.xlim([0.0, 1.0])\n",
    "plt.ylim([0.0, 1.05])\n",
    "plt.xlabel('False Positive Rate')\n",
    "plt.ylabel('True Positive Rate')\n",
    "plt.title('Receiver operating characteristic example')\n",
    "plt.legend(loc=\"lower right\")\n",
    "plt.show()"
   ]
  },
  {
   "cell_type": "markdown",
   "metadata": {},
   "source": [
    "* Logistic regression is as good as picking the most frequent class for all of them.\n",
    "* Really that's all that this is doing right now."
   ]
  },
  {
   "cell_type": "markdown",
   "metadata": {},
   "source": [
    "##### Cross-validation doesn't help us much more:"
   ]
  },
  {
   "cell_type": "code",
   "execution_count": null,
   "metadata": {
    "collapsed": false
   },
   "outputs": [],
   "source": [
    "scores = cross_val_score(LogisticRegression(), X, y, scoring='accuracy', cv=10)\n",
    "print(scores)\n",
    "print(scores.mean())"
   ]
  },
  {
   "cell_type": "code",
   "execution_count": null,
   "metadata": {
    "collapsed": false
   },
   "outputs": [],
   "source": [
    "print('RMSE (No reg.) =', np.sqrt(metrics.mean_squared_error(y_test,y_pred_class)))"
   ]
  },
  {
   "cell_type": "markdown",
   "metadata": {},
   "source": [
    "#### Adding regularisation"
   ]
  },
  {
   "cell_type": "code",
   "execution_count": null,
   "metadata": {
    "collapsed": false
   },
   "outputs": [],
   "source": [
    "from sklearn.linear_model import RidgeCV\n",
    "alpha_range = 10.**np.arange(-5, 5)\n",
    "rregcv = RidgeCV(normalize=True, scoring='neg_mean_squared_error', alphas=alpha_range)\n",
    "rregcv.fit(X_train, y_train)\n",
    "\n",
    "print('Optimal Alpha Value: ', rregcv.alpha_)\n",
    "\n",
    "preds = rregcv.predict(X_test)\n",
    "print ('RMSE (Ridge CV reg.) =', np.sqrt(metrics.mean_squared_error(y_test, preds)))"
   ]
  },
  {
   "cell_type": "code",
   "execution_count": 72,
   "metadata": {
    "collapsed": false
   },
   "outputs": [
    {
     "name": "stdout",
     "output_type": "stream",
     "text": [
      "Optimal Alpha Value:  0.0001\n",
      "RMSE (Lasso CV reg.) = 0.312205598514\n"
     ]
    }
   ],
   "source": [
    "from sklearn.linear_model import LassoCV\n",
    "alpha_range = 10.**np.arange(-4, 4)\n",
    "lascv = LassoCV(normalize=True, alphas=alpha_range)\n",
    "lascv.fit(X_train, y_train)\n",
    "print('Optimal Alpha Value: ',lascv.alpha_)\n",
    "lascv.coef_\n",
    "preds = lascv.predict(X_test)\n",
    "print('RMSE (Lasso CV reg.) =', np.sqrt(metrics.mean_squared_error(y_test, preds)))#generate the ROC curve"
   ]
  },
  {
   "cell_type": "code",
   "execution_count": 73,
   "metadata": {
    "collapsed": false
   },
   "outputs": [
    {
     "name": "stdout",
     "output_type": "stream",
     "text": [
      "Optimal Alpha Value:  100.0\n",
      "RMSE (ENET CV reg.) 0.312725243016\n"
     ]
    }
   ],
   "source": [
    "from sklearn.linear_model import ElasticNetCV\n",
    "alpha_range = 10.**np.arange(-3, 3)\n",
    "enetCV = ElasticNetCV(normalize=True, alphas=alpha_range)\n",
    "enetCV.fit(X_train, y_train)\n",
    "print('Optimal Alpha Value: ',enetCV.alpha_)\n",
    "\n",
    "enetCV.coef_\n",
    "preds = enetCV.predict(X_test)\n",
    "print('RMSE (ENET CV reg.)', np.sqrt(metrics.mean_squared_error(y_test, preds)))"
   ]
  },
  {
   "cell_type": "markdown",
   "metadata": {},
   "source": [
    "### KNN Classifier"
   ]
  },
  {
   "cell_type": "code",
   "execution_count": 74,
   "metadata": {
    "collapsed": false
   },
   "outputs": [
    {
     "name": "stdout",
     "output_type": "stream",
     "text": [
      "Accuracy Score: 0.879440961338\n",
      "Confusion Matrix: [[6719   96]\n",
      " [ 827   14]]\n",
      "Sensitivity: 0.985913426266\n",
      "Specificity: 0.0166468489893\n"
     ]
    }
   ],
   "source": [
    "from sklearn.neighbors import KNeighborsClassifier\n",
    "KNN_model = KNeighborsClassifier(5)\n",
    "KNN_model.fit(X_train, y_train)\n",
    "y_pred_class = KNN_model.predict(X_test)\n",
    "print('Accuracy Score:', metrics.accuracy_score(y_test,y_pred_class))\n",
    "confusion_matrix = metrics.confusion_matrix(y_test, y_pred_class)\n",
    "print('Confusion Matrix:', confusion_matrix)\n",
    "print('Sensitivity:',(confusion_matrix[0,0]/(confusion_matrix[0,1]+ confusion_matrix[0,0])))\n",
    "print('Specificity:',(confusion_matrix[1,1]/(confusion_matrix[1,1]+ confusion_matrix[1,0])))"
   ]
  },
  {
   "cell_type": "code",
   "execution_count": 75,
   "metadata": {
    "collapsed": false
   },
   "outputs": [
    {
     "data": {
      "image/png": "[encoded data removed]",
      "text/plain": [
       "<matplotlib.figure.Figure at 0x10f4664e0>"
      ]
     },
     "metadata": {},
     "output_type": "display_data"
    }
   ],
   "source": [
    "import matplotlib.pyplot as plt\n",
    "preds = KNN_model.predict_proba(X_test)[:,1]\n",
    "fpr, tpr, _ = metrics.roc_curve(y_test, preds)\n",
    "roc_auc = metrics.auc(fpr,tpr)\n",
    "plt.figure()\n",
    "lw = 2\n",
    "plt.plot(fpr, tpr, color='darkorange',\n",
    "         lw=lw, label='ROC curve (area = %0.2f)' % roc_auc)\n",
    "plt.plot([0, 1], [0, 1], color='navy', lw=lw, linestyle='--')\n",
    "plt.xlim([0.0, 1.0])\n",
    "plt.ylim([0.0, 1.05])\n",
    "plt.xlabel('False Positive Rate')\n",
    "plt.ylabel('True Positive Rate')\n",
    "plt.title('Receiver operating characteristic example')\n",
    "plt.legend(loc=\"lower right\")\n",
    "plt.show()"
   ]
  },
  {
   "cell_type": "markdown",
   "metadata": {},
   "source": [
    "## Is there a better model?\n",
    "- Decision tree is the best so far, but it's still not very good!\n",
    "- Why are we running into so many issues?\n",
    "- The issue is that the classes are imbalanced. So many models assume an equal number in class A as are in class B, but here there are many more enrolments that become students than become cancellations.\n",
    "\n",
    "https://svds.com/learning-imbalanced-classes/"
   ]
  },
  {
   "cell_type": "markdown",
   "metadata": {},
   "source": [
    "### Random Forest"
   ]
  },
  {
   "cell_type": "code",
   "execution_count": 76,
   "metadata": {
    "collapsed": false
   },
   "outputs": [
    {
     "data": {
      "text/plain": [
       "0.89305074782835869"
      ]
     },
     "execution_count": 76,
     "metadata": {},
     "output_type": "execute_result"
    }
   ],
   "source": [
    "from sklearn.ensemble import RandomForestClassifier\n",
    "rfclf = RandomForestClassifier(n_estimators=400, max_features=2, oob_score=True, random_state=1,class_weight='balanced')\n",
    "rfclf.fit(dummydata[all_ftcolumns], dummydata.Cancelled)\n",
    "rfclf.oob_score_"
   ]
  },
  {
   "cell_type": "code",
   "execution_count": 77,
   "metadata": {
    "collapsed": false
   },
   "outputs": [
    {
     "name": "stdout",
     "output_type": "stream",
     "text": [
      "Accuracy Score: 1.0\n",
      "Confusion Matrix: [[6815    0]\n",
      " [   0  841]]\n",
      "Sensitivity: 1.0\n",
      "Specificity: 1.0\n"
     ]
    }
   ],
   "source": [
    "from sklearn import metrics\n",
    "\n",
    "y_pred_class = rfclf.predict(X_test)\n",
    "print('Accuracy Score:', metrics.accuracy_score(y_test,y_pred_class))\n",
    "confusion_matrix = metrics.confusion_matrix(y_test, y_pred_class)\n",
    "print('Confusion Matrix:',confusion_matrix)\n",
    "print('Sensitivity:',(confusion_matrix[0,0]/(confusion_matrix[0,1]+ confusion_matrix[0,0])))\n",
    "print('Specificity:',(confusion_matrix[1,1]/(confusion_matrix[1,1]+ confusion_matrix[1,0])))"
   ]
  },
  {
   "cell_type": "code",
   "execution_count": 78,
   "metadata": {
    "collapsed": false
   },
   "outputs": [
    {
     "data": {
      "image/png": "[encoded data removed]",
      "text/plain": [
       "<matplotlib.figure.Figure at 0x121c3cb00>"
      ]
     },
     "metadata": {},
     "output_type": "display_data"
    }
   ],
   "source": [
    "import matplotlib.pyplot as plt\n",
    "preds = rfclf.predict_proba(X_test)[:,1]\n",
    "fpr, tpr, _ = metrics.roc_curve(y_test, preds)\n",
    "roc_auc = metrics.auc(fpr,tpr)\n",
    "plt.figure()\n",
    "lw = 2\n",
    "plt.plot(fpr, tpr, color='red',\n",
    "         lw=lw, label='ROC curve (area = %0.5f)' % roc_auc)\n",
    "plt.plot([0, 1], [0, 1], color='purple', lw=lw, linestyle='--')\n",
    "plt.xlim([0.0, 1.0])\n",
    "plt.ylim([0.0, 1.05])\n",
    "plt.xlabel('False Positive Rate')\n",
    "plt.ylabel('True Positive Rate')\n",
    "plt.title('Receiver operating characteristic example')\n",
    "plt.legend(loc=\"lower right\")\n",
    "plt.show()"
   ]
  },
  {
   "cell_type": "code",
   "execution_count": 79,
   "metadata": {
    "collapsed": false,
    "scrolled": false
   },
   "outputs": [
    {
     "name": "stderr",
     "output_type": "stream",
     "text": [
      "/anaconda/lib/python3.6/site-packages/ipykernel/__main__.py:2: FutureWarning: sort(columns=....) is deprecated, use sort_values(by=.....)\n",
      "  from ipykernel import kernelapp as app\n"
     ]
    },
    {
     "data": {
      "text/html": [
       "<div>\n",
       "<table border=\"1\" class=\"dataframe\">\n",
       "  <thead>\n",
       "    <tr style=\"text-align: right;\">\n",
       "      <th></th>\n",
       "      <th>feature</th>\n",
       "      <th>importance</th>\n",
       "    </tr>\n",
       "  </thead>\n",
       "  <tbody>\n",
       "    <tr>\n",
       "      <th>6</th>\n",
       "      <td>DaysLeadtoEnroled</td>\n",
       "      <td>0.071610</td>\n",
       "    </tr>\n",
       "    <tr>\n",
       "      <th>7</th>\n",
       "      <td>EnrolDate</td>\n",
       "      <td>0.069455</td>\n",
       "    </tr>\n",
       "    <tr>\n",
       "      <th>4</th>\n",
       "      <td>DaysEnroltoStart</td>\n",
       "      <td>0.069159</td>\n",
       "    </tr>\n",
       "    <tr>\n",
       "      <th>1</th>\n",
       "      <td>Enddate</td>\n",
       "      <td>0.065344</td>\n",
       "    </tr>\n",
       "    <tr>\n",
       "      <th>8</th>\n",
       "      <td>EnrolHour</td>\n",
       "      <td>0.064781</td>\n",
       "    </tr>\n",
       "    <tr>\n",
       "      <th>10</th>\n",
       "      <td>EnrolWeek</td>\n",
       "      <td>0.064633</td>\n",
       "    </tr>\n",
       "    <tr>\n",
       "      <th>0</th>\n",
       "      <td>Startdate</td>\n",
       "      <td>0.064517</td>\n",
       "    </tr>\n",
       "    <tr>\n",
       "      <th>9</th>\n",
       "      <td>Month</td>\n",
       "      <td>0.055121</td>\n",
       "    </tr>\n",
       "    <tr>\n",
       "      <th>3</th>\n",
       "      <td>Price</td>\n",
       "      <td>0.031983</td>\n",
       "    </tr>\n",
       "    <tr>\n",
       "      <th>5</th>\n",
       "      <td>DaysInvoicetoEnrol</td>\n",
       "      <td>0.023683</td>\n",
       "    </tr>\n",
       "    <tr>\n",
       "      <th>11</th>\n",
       "      <td>Year</td>\n",
       "      <td>0.018721</td>\n",
       "    </tr>\n",
       "    <tr>\n",
       "      <th>74</th>\n",
       "      <td>PardotCategory_GA Course Leads</td>\n",
       "      <td>0.015363</td>\n",
       "    </tr>\n",
       "    <tr>\n",
       "      <th>59</th>\n",
       "      <td>ApplicationType_apply now</td>\n",
       "      <td>0.014174</td>\n",
       "    </tr>\n",
       "    <tr>\n",
       "      <th>68</th>\n",
       "      <td>ApplicationType_request info</td>\n",
       "      <td>0.013687</td>\n",
       "    </tr>\n",
       "    <tr>\n",
       "      <th>22</th>\n",
       "      <td>Metro_new-york-city</td>\n",
       "      <td>0.012303</td>\n",
       "    </tr>\n",
       "    <tr>\n",
       "      <th>87</th>\n",
       "      <td>EnrolDay_Friday</td>\n",
       "      <td>0.012069</td>\n",
       "    </tr>\n",
       "    <tr>\n",
       "      <th>93</th>\n",
       "      <td>EnrolDay_Wednesday</td>\n",
       "      <td>0.011925</td>\n",
       "    </tr>\n",
       "    <tr>\n",
       "      <th>64</th>\n",
       "      <td>ApplicationType_info session</td>\n",
       "      <td>0.011646</td>\n",
       "    </tr>\n",
       "    <tr>\n",
       "      <th>91</th>\n",
       "      <td>EnrolDay_Thursday</td>\n",
       "      <td>0.011313</td>\n",
       "    </tr>\n",
       "    <tr>\n",
       "      <th>92</th>\n",
       "      <td>EnrolDay_Tuesday</td>\n",
       "      <td>0.011124</td>\n",
       "    </tr>\n",
       "    <tr>\n",
       "      <th>86</th>\n",
       "      <td>PardotCategory_Website</td>\n",
       "      <td>0.010509</td>\n",
       "    </tr>\n",
       "    <tr>\n",
       "      <th>2</th>\n",
       "      <td>PhoneValid</td>\n",
       "      <td>0.010329</td>\n",
       "    </tr>\n",
       "    <tr>\n",
       "      <th>24</th>\n",
       "      <td>Metro_san-francisco</td>\n",
       "      <td>0.010326</td>\n",
       "    </tr>\n",
       "    <tr>\n",
       "      <th>88</th>\n",
       "      <td>EnrolDay_Monday</td>\n",
       "      <td>0.010295</td>\n",
       "    </tr>\n",
       "    <tr>\n",
       "      <th>20</th>\n",
       "      <td>Metro_los-angeles</td>\n",
       "      <td>0.010242</td>\n",
       "    </tr>\n",
       "    <tr>\n",
       "      <th>56</th>\n",
       "      <td>ExpectedPayment_Student / Self</td>\n",
       "      <td>0.010135</td>\n",
       "    </tr>\n",
       "    <tr>\n",
       "      <th>70</th>\n",
       "      <td>PardotCategory_CWE Purchase</td>\n",
       "      <td>0.009617</td>\n",
       "    </tr>\n",
       "    <tr>\n",
       "      <th>40</th>\n",
       "      <td>Course_user-experience-design</td>\n",
       "      <td>0.008706</td>\n",
       "    </tr>\n",
       "    <tr>\n",
       "      <th>35</th>\n",
       "      <td>Course_front-end-web-development</td>\n",
       "      <td>0.008504</td>\n",
       "    </tr>\n",
       "    <tr>\n",
       "      <th>34</th>\n",
       "      <td>Course_digital-marketing</td>\n",
       "      <td>0.008008</td>\n",
       "    </tr>\n",
       "    <tr>\n",
       "      <th>...</th>\n",
       "      <td>...</td>\n",
       "      <td>...</td>\n",
       "    </tr>\n",
       "    <tr>\n",
       "      <th>60</th>\n",
       "      <td>ApplicationType_contact_admissions</td>\n",
       "      <td>0.002128</td>\n",
       "    </tr>\n",
       "    <tr>\n",
       "      <th>63</th>\n",
       "      <td>ApplicationType_get notified</td>\n",
       "      <td>0.002113</td>\n",
       "    </tr>\n",
       "    <tr>\n",
       "      <th>85</th>\n",
       "      <td>PardotCategory_Unknown</td>\n",
       "      <td>0.002108</td>\n",
       "    </tr>\n",
       "    <tr>\n",
       "      <th>83</th>\n",
       "      <td>PardotCategory_Twitter Promoted</td>\n",
       "      <td>0.002039</td>\n",
       "    </tr>\n",
       "    <tr>\n",
       "      <th>65</th>\n",
       "      <td>ApplicationType_invoice</td>\n",
       "      <td>0.001781</td>\n",
       "    </tr>\n",
       "    <tr>\n",
       "      <th>61</th>\n",
       "      <td>ApplicationType_cwe_feedback</td>\n",
       "      <td>0.001775</td>\n",
       "    </tr>\n",
       "    <tr>\n",
       "      <th>73</th>\n",
       "      <td>PardotCategory_GA Circuits Leads</td>\n",
       "      <td>0.001735</td>\n",
       "    </tr>\n",
       "    <tr>\n",
       "      <th>26</th>\n",
       "      <td>Metro_singapore</td>\n",
       "      <td>0.001717</td>\n",
       "    </tr>\n",
       "    <tr>\n",
       "      <th>33</th>\n",
       "      <td>Course_data-science-immersive</td>\n",
       "      <td>0.001679</td>\n",
       "    </tr>\n",
       "    <tr>\n",
       "      <th>69</th>\n",
       "      <td>ApplicationType_trial class</td>\n",
       "      <td>0.001302</td>\n",
       "    </tr>\n",
       "    <tr>\n",
       "      <th>84</th>\n",
       "      <td>PardotCategory_Uncategorized</td>\n",
       "      <td>0.001264</td>\n",
       "    </tr>\n",
       "    <tr>\n",
       "      <th>82</th>\n",
       "      <td>PardotCategory_Twitter Acquisition</td>\n",
       "      <td>0.001256</td>\n",
       "    </tr>\n",
       "    <tr>\n",
       "      <th>18</th>\n",
       "      <td>Metro_denver</td>\n",
       "      <td>0.001150</td>\n",
       "    </tr>\n",
       "    <tr>\n",
       "      <th>66</th>\n",
       "      <td>ApplicationType_lander</td>\n",
       "      <td>0.001080</td>\n",
       "    </tr>\n",
       "    <tr>\n",
       "      <th>23</th>\n",
       "      <td>Metro_online</td>\n",
       "      <td>0.001025</td>\n",
       "    </tr>\n",
       "    <tr>\n",
       "      <th>77</th>\n",
       "      <td>PardotCategory_Livestream Purchase</td>\n",
       "      <td>0.000971</td>\n",
       "    </tr>\n",
       "    <tr>\n",
       "      <th>71</th>\n",
       "      <td>PardotCategory_Content Partnership</td>\n",
       "      <td>0.000809</td>\n",
       "    </tr>\n",
       "    <tr>\n",
       "      <th>29</th>\n",
       "      <td>Course_android-development-immersive</td>\n",
       "      <td>0.000733</td>\n",
       "    </tr>\n",
       "    <tr>\n",
       "      <th>39</th>\n",
       "      <td>Course_product-management-immersive</td>\n",
       "      <td>0.000611</td>\n",
       "    </tr>\n",
       "    <tr>\n",
       "      <th>55</th>\n",
       "      <td>ExpectedPayment_Scholarship</td>\n",
       "      <td>0.000549</td>\n",
       "    </tr>\n",
       "    <tr>\n",
       "      <th>49</th>\n",
       "      <td>ExpectedPayment_Family</td>\n",
       "      <td>0.000477</td>\n",
       "    </tr>\n",
       "    <tr>\n",
       "      <th>54</th>\n",
       "      <td>ExpectedPayment_Other</td>\n",
       "      <td>0.000469</td>\n",
       "    </tr>\n",
       "    <tr>\n",
       "      <th>58</th>\n",
       "      <td>ExpectedPayment_Veterans Affairs</td>\n",
       "      <td>0.000444</td>\n",
       "    </tr>\n",
       "    <tr>\n",
       "      <th>80</th>\n",
       "      <td>PardotCategory_Student Enrollment</td>\n",
       "      <td>0.000405</td>\n",
       "    </tr>\n",
       "    <tr>\n",
       "      <th>52</th>\n",
       "      <td>ExpectedPayment_Loan (Private)</td>\n",
       "      <td>0.000356</td>\n",
       "    </tr>\n",
       "    <tr>\n",
       "      <th>47</th>\n",
       "      <td>Type_remote</td>\n",
       "      <td>0.000350</td>\n",
       "    </tr>\n",
       "    <tr>\n",
       "      <th>44</th>\n",
       "      <td>Course_web-development-immersive-remote</td>\n",
       "      <td>0.000326</td>\n",
       "    </tr>\n",
       "    <tr>\n",
       "      <th>50</th>\n",
       "      <td>ExpectedPayment_GA Employee/Instructor</td>\n",
       "      <td>0.000185</td>\n",
       "    </tr>\n",
       "    <tr>\n",
       "      <th>51</th>\n",
       "      <td>ExpectedPayment_Government Funding / Grant</td>\n",
       "      <td>0.000176</td>\n",
       "    </tr>\n",
       "    <tr>\n",
       "      <th>16</th>\n",
       "      <td>Metro_brisbane</td>\n",
       "      <td>0.000036</td>\n",
       "    </tr>\n",
       "  </tbody>\n",
       "</table>\n",
       "<p>94 rows × 2 columns</p>\n",
       "</div>"
      ],
      "text/plain": [
       "                                       feature  importance\n",
       "6                            DaysLeadtoEnroled    0.071610\n",
       "7                                    EnrolDate    0.069455\n",
       "4                             DaysEnroltoStart    0.069159\n",
       "1                                      Enddate    0.065344\n",
       "8                                    EnrolHour    0.064781\n",
       "10                                   EnrolWeek    0.064633\n",
       "0                                    Startdate    0.064517\n",
       "9                                        Month    0.055121\n",
       "3                                        Price    0.031983\n",
       "5                           DaysInvoicetoEnrol    0.023683\n",
       "11                                        Year    0.018721\n",
       "74              PardotCategory_GA Course Leads    0.015363\n",
       "59                   ApplicationType_apply now    0.014174\n",
       "68                ApplicationType_request info    0.013687\n",
       "22                         Metro_new-york-city    0.012303\n",
       "87                             EnrolDay_Friday    0.012069\n",
       "93                          EnrolDay_Wednesday    0.011925\n",
       "64                ApplicationType_info session    0.011646\n",
       "91                           EnrolDay_Thursday    0.011313\n",
       "92                            EnrolDay_Tuesday    0.011124\n",
       "86                      PardotCategory_Website    0.010509\n",
       "2                                   PhoneValid    0.010329\n",
       "24                         Metro_san-francisco    0.010326\n",
       "88                             EnrolDay_Monday    0.010295\n",
       "20                           Metro_los-angeles    0.010242\n",
       "56              ExpectedPayment_Student / Self    0.010135\n",
       "70                 PardotCategory_CWE Purchase    0.009617\n",
       "40               Course_user-experience-design    0.008706\n",
       "35            Course_front-end-web-development    0.008504\n",
       "34                    Course_digital-marketing    0.008008\n",
       "..                                         ...         ...\n",
       "60          ApplicationType_contact_admissions    0.002128\n",
       "63                ApplicationType_get notified    0.002113\n",
       "85                      PardotCategory_Unknown    0.002108\n",
       "83             PardotCategory_Twitter Promoted    0.002039\n",
       "65                     ApplicationType_invoice    0.001781\n",
       "61                ApplicationType_cwe_feedback    0.001775\n",
       "73            PardotCategory_GA Circuits Leads    0.001735\n",
       "26                             Metro_singapore    0.001717\n",
       "33               Course_data-science-immersive    0.001679\n",
       "69                 ApplicationType_trial class    0.001302\n",
       "84                PardotCategory_Uncategorized    0.001264\n",
       "82          PardotCategory_Twitter Acquisition    0.001256\n",
       "18                                Metro_denver    0.001150\n",
       "66                      ApplicationType_lander    0.001080\n",
       "23                                Metro_online    0.001025\n",
       "77          PardotCategory_Livestream Purchase    0.000971\n",
       "71          PardotCategory_Content Partnership    0.000809\n",
       "29        Course_android-development-immersive    0.000733\n",
       "39         Course_product-management-immersive    0.000611\n",
       "55                 ExpectedPayment_Scholarship    0.000549\n",
       "49                      ExpectedPayment_Family    0.000477\n",
       "54                       ExpectedPayment_Other    0.000469\n",
       "58            ExpectedPayment_Veterans Affairs    0.000444\n",
       "80           PardotCategory_Student Enrollment    0.000405\n",
       "52              ExpectedPayment_Loan (Private)    0.000356\n",
       "47                                 Type_remote    0.000350\n",
       "44     Course_web-development-immersive-remote    0.000326\n",
       "50      ExpectedPayment_GA Employee/Instructor    0.000185\n",
       "51  ExpectedPayment_Government Funding / Grant    0.000176\n",
       "16                              Metro_brisbane    0.000036\n",
       "\n",
       "[94 rows x 2 columns]"
      ]
     },
     "execution_count": 79,
     "metadata": {},
     "output_type": "execute_result"
    }
   ],
   "source": [
    "feature_importance = pd.DataFrame({'feature':all_ftcolumns, 'importance':rfclf.feature_importances_})\n",
    "feature_importance.sort('importance',ascending=False)"
   ]
  },
  {
   "cell_type": "raw",
   "metadata": {},
   "source": [
    "categories: [\n",
    "# Date course starts: YYYYMMDD\n",
    "                  'Startdate', \n",
    "# Date course ends: YYYYMMDD\n",
    "                  'Enddate', \n",
    "# Is the phone valid? Yes or no\n",
    "                  'PhoneValid',\n",
    "# Price of course: numerical\n",
    "                  'Price', \n",
    "# Days enrolled to start of course: numerical\n",
    "                  'DaysEnroltoStart',\n",
    "# Days invoiced to enrolled: numerical\n",
    "                  'DaysInvoicetoEnrol', \n",
    "# Days lead to enrolled: numerical\n",
    "                  'DaysLeadtoEnroled', \n",
    "# Date enrolled: YYYYMMDD\n",
    "                  'EnrolDate', \n",
    "# Hour enrolled: HH (<=24)\n",
    "                  'EnrolHour',\n",
    "# Month enrolled: YYYYMM\n",
    "                  'Month', \n",
    "# Week enrolled: ## (<=52)\n",
    "                  'EnrolWeek', \n",
    "# Year enrolled: YYYY (>=2014)\n",
    "                  'Year', \n",
    "# Speed to lead: #\n",
    "                  'SpeedtoLead', \n",
    "# APAC or not: Boolean\n",
    "                  'APAC',\n",
    "# Metro: 17 options\n",
    "                  'Metro_atlanta', 'Metro_austin', 'Metro_boston', 'Metro_brisbane','Metro_chicago', 'Metro_denver', 'Metro_hong-kong', 'Metro_london','Metro_los-angeles', 'Metro_melbourne', 'Metro_new-york-city','Metro_online', 'Metro_san-francisco', 'Metro_seattle','Metro_singapore', 'Metro_sydney', 'Metro_washington-dc',\n",
    "# Course: 17 options\n",
    "                  'Course_android-development-immersive','Course_back-end-web-development','Course_business-fundamentals-tactics', 'Course_data-analytics','Course_data-science', 'Course_data-science-immersive','Course_digital-marketing', 'Course_front-end-web-development','Course_ios-development', 'Course_javascript-development','Course_product-management', 'Course_product-management-immersive','Course_user-experience-design','Course_user-experience-design-immersive', 'Course_visual-design','Course_web-development-immersive','Course_web-development-immersive-remote',\n",
    "# Type of course: 3 options\n",
    "                  'Type_course','Type_immersive', 'Type_remote', \n",
    "# Expected payemnt method: 11 options\n",
    "                  'ExpectedPayment_Employer','ExpectedPayment_Family', 'ExpectedPayment_GA Employee/Instructor','ExpectedPayment_Government Funding / Grant','ExpectedPayment_Loan (Private)', 'ExpectedPayment_Loan Partner','ExpectedPayment_Other', 'ExpectedPayment_Scholarship','ExpectedPayment_Student / Self', 'ExpectedPayment_Unknown','ExpectedPayment_Veterans Affairs', \n",
    "# Application types: 12 options\n",
    "                  'ApplicationType_apply now','ApplicationType_contact_admissions', 'ApplicationType_cwe_feedback','ApplicationType_financing contact us', 'ApplicationType_get notified','ApplicationType_info session', 'ApplicationType_invoice','ApplicationType_lander', 'ApplicationType_open house','ApplicationType_referral', 'ApplicationType_request info','ApplicationType_trial class',\n",
    "# Pardot category: 17 options\n",
    "                  'PardotCategory_CWE Purchase','PardotCategory_Content Partnership','PardotCategory_Facebook Acquisition','PardotCategory_GA Circuits Leads', 'PardotCategory_GA Course Leads','PardotCategory_GA Dash', 'PardotCategory_GA Front Row Signup','PardotCategory_Livestream Purchase', 'PardotCategory_Other','PardotCategory_Partner Event', 'PardotCategory_Student Enrollment', 'PardotCategory_Sweepstake', 'PardotCategory_Twitter Acquisition','PardotCategory_Twitter Promoted', 'PardotCategory_Uncategorized','PardotCategory_Unknown', 'PardotCategory_Website', \n",
    "# Days of the week: 7 Options\n",
    "                  'EnrolDay_Friday','EnrolDay_Monday', 'EnrolDay_Saturday', 'EnrolDay_Sunday','EnrolDay_Thursday', 'EnrolDay_Tuesday', 'EnrolDay_Wednesday']"
   ]
  },
  {
   "cell_type": "markdown",
   "metadata": {},
   "source": [
    "# PLAYING AROUND"
   ]
  },
  {
   "cell_type": "code",
   "execution_count": null,
   "metadata": {
    "collapsed": false
   },
   "outputs": [],
   "source": [
    "import pandas as pd\n",
    "import numpy as np\n",
    "from sklearn.cross_validation import train_test_split"
   ]
  },
  {
   "cell_type": "code",
   "execution_count": null,
   "metadata": {
    "collapsed": true
   },
   "outputs": [],
   "source": [
    "enrolments = pd.read_csv(\"data/courses snap_sales_funnel 2017-07-05T1254.csv\",low_memory=False)"
   ]
  },
  {
   "cell_type": "code",
   "execution_count": null,
   "metadata": {
    "collapsed": true
   },
   "outputs": [],
   "source": [
    "enrolments.drop('Status', axis=1, inplace=True)\n",
    "enrolments.drop('CampaignSourceCategory',axis=1,inplace=True)\n",
    "enrolments.drop('CampaignSource',axis=1,inplace=True)\n",
    "enrolments.drop('OppOwnerMetro', axis=1, inplace=True)\n",
    "enrolments.drop('OppCreatedDate', axis=1, inplace=True)\n",
    "enrolments.drop('LeadID', axis=1, inplace=True)\n",
    "enrolments.drop('SpeedtoLead', axis=1, inplace=True)\n",
    "enrolments.drop('Year', axis=1, inplace=True)"
   ]
  },
  {
   "cell_type": "code",
   "execution_count": null,
   "metadata": {
    "collapsed": false
   },
   "outputs": [],
   "source": [
    "enrolments['Cancelled'] = enrolments.CanceledDate.notnull()\n",
    "enrolments.drop('CanceledDate', axis=1, inplace=True)\n",
    "enrolments.drop('CanceledMonth', axis=1, inplace=True)\n",
    "enrolments['APAC'] = enrolments['Metro'].isin(['sydney','melbourne','hong-kong','singapore','brisbane'])\n",
    "enrolments = enrolments[enrolments.EnrolDate > 20140630]\n",
    "enrolments = enrolments[enrolments.Startdate < 20170630]\n",
    "enrolments = enrolments[enrolments.DaysEnroltoStart > 0]\n",
    "enrolments['ExpectedPayment'] = enrolments.ExpectedPayment.map({\n",
    "    'Student / Self': 'Student / Self',\n",
    "    'Student (self)': 'Student / Self',\n",
    "    'Employer': 'Employer',\n",
    "    'Loan (Partner, please note)': 'Loan Partner',\n",
    "    'Veterans Affairs': 'Veterans Affairs',\n",
    "    'Employer Bulk Pre-paid': 'Employer',\n",
    "    'Scholarship (Opportunity Fund)': 'Scholarship',\n",
    "    'Loan Partner (please note)': 'Loan Partner',\n",
    "    'Family':'Family',\n",
    "    'Other (please note)':'Other',\n",
    "    'GA Employee/Instructor':'GA Employee/Instructor',\n",
    "    'Loan (Private Bank, please note)':'Loan (Private)',\n",
    "    'Government Funding / Grant':'Government Funding / Grant',\n",
    "    'Other':'Other',\n",
    "    'CourseHorse':'Other',\n",
    "    'Opportunity Fund':'Scholarship',\n",
    "    'Enterprise Credit':'Other',\n",
    "    'Scholarship (GA Partner, please note)':'Scholarship',\n",
    "    'Scholarship (Other, please note)':'Scholarship',\n",
    "})\n",
    "enrolments.ExpectedPayment.fillna(\"Unknown\", inplace=True)\n",
    "enrolments.PardotCategory.fillna(\"Unknown\", inplace=True)\n",
    "enrolments = enrolments[enrolments.ApplicationType.isin(enrolments.ApplicationType.value_counts().index[enrolments.ApplicationType.value_counts()>147])]\n",
    "enrolments = enrolments[enrolments.PardotCategory.isin(enrolments.PardotCategory.value_counts().index[enrolments.PardotCategory.value_counts()>100])]\n",
    "enrolments = enrolments[enrolments.Course.isin(enrolments.Course.value_counts().index[enrolments.Course.value_counts()>100])]\n",
    "enrolments['PhoneValid'] = enrolments.PhoneValid.map({'Yes': 1,'No': 0})\n",
    "dummydata = pd.get_dummies(data=enrolments, columns = ['Metro','Course','Type','ExpectedPayment','ApplicationType','PardotCategory','EnrolDay'], prefix = ['Metro','Course','Type','ExpectedPayment','ApplicationType','PardotCategory','EnrolDay'] )"
   ]
  },
  {
   "cell_type": "code",
   "execution_count": 80,
   "metadata": {
    "collapsed": false
   },
   "outputs": [],
   "source": [
    "all_ftcolumns = dummydata.columns.tolist()\n",
    "all_ftcolumns.remove('Cancelled')\n",
    "all_ftcolumns.remove('EnrolDate')\n",
    "all_ftcolumns.remove('DaysLeadtoEnroled')\n",
    "all_ftcolumns.remove('DaysEnroltoStart')\n",
    "all_ftcolumns.remove('DaysInvoicetoEnrol')\n",
    "all_ftcolumns.remove('EnrolWeek')\n",
    "all_ftcolumns.remove('EnrolHour')\n",
    "all_ftcolumns.remove('Startdate')\n",
    "all_ftcolumns.remove('Enddate')\n",
    "all_ftcolumns.remove('Month')\n",
    "all_ftcolumns.remove('Year')\n",
    "all_ftcolumns.remove('Price')\n",
    "all_ftcolumns.remove('APAC')"
   ]
  },
  {
   "cell_type": "code",
   "execution_count": 81,
   "metadata": {
    "collapsed": false
   },
   "outputs": [],
   "source": [
    "X = dummydata[all_ftcolumns]\n",
    "y = dummydata.Cancelled\n",
    "X_train, X_test, y_train, y_test = train_test_split(X, y, random_state=1)"
   ]
  },
  {
   "cell_type": "code",
   "execution_count": null,
   "metadata": {
    "collapsed": false
   },
   "outputs": [],
   "source": [
    "import matplotlib.pyplot as plt\n",
    "import seaborn as sns\n",
    "\n",
    "%matplotlib inline\n",
    "sns.set(color_codes=True)\n",
    "\n",
    "corr = dummydata.corr()\n",
    "corr = (corr)\n",
    "plt.figure(figsize = (20,20))\n",
    "sns.heatmap(corr, \n",
    "            xticklabels=corr.columns.values,\n",
    "            yticklabels=corr.columns.values)\n",
    "sns.plt.title('Heatmap of Correlation Matrix')"
   ]
  },
  {
   "cell_type": "code",
   "execution_count": 82,
   "metadata": {
    "collapsed": false
   },
   "outputs": [
    {
     "data": {
      "text/plain": [
       "0.81526353601985502"
      ]
     },
     "execution_count": 82,
     "metadata": {},
     "output_type": "execute_result"
    }
   ],
   "source": [
    "from sklearn.ensemble import RandomForestClassifier\n",
    "rfclf = RandomForestClassifier(n_estimators=400, max_features=2, oob_score=True, random_state=1,class_weight='balanced')\n",
    "rfclf.fit(dummydata[all_ftcolumns], dummydata.Cancelled)\n",
    "rfclf.oob_score_"
   ]
  },
  {
   "cell_type": "code",
   "execution_count": 99,
   "metadata": {
    "collapsed": false
   },
   "outputs": [
    {
     "name": "stdout",
     "output_type": "stream",
     "text": [
      "Accuracy Score: 0.908307210031\n",
      "Confusion Matrix: [[6191  624]\n",
      " [  78  763]]\n",
      "Sensitivity: 0.908437270726\n",
      "Specificity: 0.907253269917\n"
     ]
    }
   ],
   "source": [
    "y_pred_class = rfclf.predict(X_test)\n",
    "print('Accuracy Score:', metrics.accuracy_score(y_test,y_pred_class))\n",
    "print('Confusion Matrix:',metrics.confusion_matrix(y_test, y_pred_class))\n",
    "print('Sensitivity:',(confusion_matrix[0,0]/(confusion_matrix[0,1]+ confusion_matrix[0,0])))\n",
    "print('Specificity:',(confusion_matrix[1,1]/(confusion_matrix[1,1]+ confusion_matrix[1,0])))"
   ]
  },
  {
   "cell_type": "code",
   "execution_count": 100,
   "metadata": {
    "collapsed": false
   },
   "outputs": [
    {
     "data": {
      "image/png": "[encoded data removed]",
      "text/plain": [
       "<matplotlib.figure.Figure at 0x11c3176a0>"
      ]
     },
     "metadata": {},
     "output_type": "display_data"
    }
   ],
   "source": [
    "import matplotlib.pyplot as plt\n",
    "preds = rfclf.predict_proba(X_test)[:,1]\n",
    "fpr, tpr, _ = metrics.roc_curve(y_test, preds)\n",
    "roc_auc = metrics.auc(fpr,tpr)\n",
    "plt.figure()\n",
    "lw = 2\n",
    "plt.plot(fpr, tpr, color='red',\n",
    "         lw=lw, label='ROC curve (area = %0.5f)' % roc_auc)\n",
    "plt.plot([0, 1], [0, 1], color='purple', lw=lw, linestyle='--')\n",
    "plt.xlim([0.0, 1.0])\n",
    "plt.ylim([0.0, 1.05])\n",
    "plt.xlabel('False Positive Rate')\n",
    "plt.ylabel('True Positive Rate')\n",
    "plt.title('Receiver operating characteristic example')\n",
    "plt.legend(loc=\"lower right\")\n",
    "plt.show()"
   ]
  },
  {
   "cell_type": "code",
   "execution_count": 85,
   "metadata": {
    "collapsed": false,
    "scrolled": false
   },
   "outputs": [
    {
     "name": "stderr",
     "output_type": "stream",
     "text": [
      "/anaconda/lib/python3.6/site-packages/ipykernel/__main__.py:2: FutureWarning: sort(columns=....) is deprecated, use sort_values(by=.....)\n",
      "  from ipykernel import kernelapp as app\n"
     ]
    },
    {
     "data": {
      "text/html": [
       "<div>\n",
       "<table border=\"1\" class=\"dataframe\">\n",
       "  <thead>\n",
       "    <tr style=\"text-align: right;\">\n",
       "      <th></th>\n",
       "      <th>feature</th>\n",
       "      <th>importance</th>\n",
       "    </tr>\n",
       "  </thead>\n",
       "  <tbody>\n",
       "    <tr>\n",
       "      <th>62</th>\n",
       "      <td>PardotCategory_GA Course Leads</td>\n",
       "      <td>0.038066</td>\n",
       "    </tr>\n",
       "    <tr>\n",
       "      <th>0</th>\n",
       "      <td>PhoneValid</td>\n",
       "      <td>0.035071</td>\n",
       "    </tr>\n",
       "    <tr>\n",
       "      <th>47</th>\n",
       "      <td>ApplicationType_apply now</td>\n",
       "      <td>0.032398</td>\n",
       "    </tr>\n",
       "    <tr>\n",
       "      <th>56</th>\n",
       "      <td>ApplicationType_request info</td>\n",
       "      <td>0.031467</td>\n",
       "    </tr>\n",
       "    <tr>\n",
       "      <th>81</th>\n",
       "      <td>EnrolDay_Wednesday</td>\n",
       "      <td>0.030821</td>\n",
       "    </tr>\n",
       "    <tr>\n",
       "      <th>75</th>\n",
       "      <td>EnrolDay_Friday</td>\n",
       "      <td>0.030658</td>\n",
       "    </tr>\n",
       "    <tr>\n",
       "      <th>10</th>\n",
       "      <td>Metro_new-york-city</td>\n",
       "      <td>0.030398</td>\n",
       "    </tr>\n",
       "    <tr>\n",
       "      <th>80</th>\n",
       "      <td>EnrolDay_Tuesday</td>\n",
       "      <td>0.028471</td>\n",
       "    </tr>\n",
       "    <tr>\n",
       "      <th>76</th>\n",
       "      <td>EnrolDay_Monday</td>\n",
       "      <td>0.028309</td>\n",
       "    </tr>\n",
       "    <tr>\n",
       "      <th>79</th>\n",
       "      <td>EnrolDay_Thursday</td>\n",
       "      <td>0.028233</td>\n",
       "    </tr>\n",
       "    <tr>\n",
       "      <th>74</th>\n",
       "      <td>PardotCategory_Website</td>\n",
       "      <td>0.027473</td>\n",
       "    </tr>\n",
       "    <tr>\n",
       "      <th>52</th>\n",
       "      <td>ApplicationType_info session</td>\n",
       "      <td>0.027154</td>\n",
       "    </tr>\n",
       "    <tr>\n",
       "      <th>12</th>\n",
       "      <td>Metro_san-francisco</td>\n",
       "      <td>0.025792</td>\n",
       "    </tr>\n",
       "    <tr>\n",
       "      <th>58</th>\n",
       "      <td>PardotCategory_CWE Purchase</td>\n",
       "      <td>0.025045</td>\n",
       "    </tr>\n",
       "    <tr>\n",
       "      <th>8</th>\n",
       "      <td>Metro_los-angeles</td>\n",
       "      <td>0.024754</td>\n",
       "    </tr>\n",
       "    <tr>\n",
       "      <th>44</th>\n",
       "      <td>ExpectedPayment_Student / Self</td>\n",
       "      <td>0.023953</td>\n",
       "    </tr>\n",
       "    <tr>\n",
       "      <th>28</th>\n",
       "      <td>Course_user-experience-design</td>\n",
       "      <td>0.020903</td>\n",
       "    </tr>\n",
       "    <tr>\n",
       "      <th>23</th>\n",
       "      <td>Course_front-end-web-development</td>\n",
       "      <td>0.020501</td>\n",
       "    </tr>\n",
       "    <tr>\n",
       "      <th>22</th>\n",
       "      <td>Course_digital-marketing</td>\n",
       "      <td>0.019975</td>\n",
       "    </tr>\n",
       "    <tr>\n",
       "      <th>7</th>\n",
       "      <td>Metro_london</td>\n",
       "      <td>0.018880</td>\n",
       "    </tr>\n",
       "    <tr>\n",
       "      <th>77</th>\n",
       "      <td>EnrolDay_Saturday</td>\n",
       "      <td>0.018584</td>\n",
       "    </tr>\n",
       "    <tr>\n",
       "      <th>16</th>\n",
       "      <td>Metro_washington-dc</td>\n",
       "      <td>0.018239</td>\n",
       "    </tr>\n",
       "    <tr>\n",
       "      <th>26</th>\n",
       "      <td>Course_product-management</td>\n",
       "      <td>0.017704</td>\n",
       "    </tr>\n",
       "    <tr>\n",
       "      <th>20</th>\n",
       "      <td>Course_data-science</td>\n",
       "      <td>0.016886</td>\n",
       "    </tr>\n",
       "    <tr>\n",
       "      <th>15</th>\n",
       "      <td>Metro_sydney</td>\n",
       "      <td>0.016617</td>\n",
       "    </tr>\n",
       "    <tr>\n",
       "      <th>19</th>\n",
       "      <td>Course_data-analytics</td>\n",
       "      <td>0.015859</td>\n",
       "    </tr>\n",
       "    <tr>\n",
       "      <th>36</th>\n",
       "      <td>ExpectedPayment_Employer</td>\n",
       "      <td>0.015319</td>\n",
       "    </tr>\n",
       "    <tr>\n",
       "      <th>45</th>\n",
       "      <td>ExpectedPayment_Unknown</td>\n",
       "      <td>0.015301</td>\n",
       "    </tr>\n",
       "    <tr>\n",
       "      <th>3</th>\n",
       "      <td>Metro_boston</td>\n",
       "      <td>0.014367</td>\n",
       "    </tr>\n",
       "    <tr>\n",
       "      <th>29</th>\n",
       "      <td>Course_user-experience-design-immersive</td>\n",
       "      <td>0.014337</td>\n",
       "    </tr>\n",
       "    <tr>\n",
       "      <th>...</th>\n",
       "      <td>...</td>\n",
       "      <td>...</td>\n",
       "    </tr>\n",
       "    <tr>\n",
       "      <th>14</th>\n",
       "      <td>Metro_singapore</td>\n",
       "      <td>0.005616</td>\n",
       "    </tr>\n",
       "    <tr>\n",
       "      <th>50</th>\n",
       "      <td>ApplicationType_financing contact us</td>\n",
       "      <td>0.005376</td>\n",
       "    </tr>\n",
       "    <tr>\n",
       "      <th>48</th>\n",
       "      <td>ApplicationType_contact_admissions</td>\n",
       "      <td>0.005211</td>\n",
       "    </tr>\n",
       "    <tr>\n",
       "      <th>71</th>\n",
       "      <td>PardotCategory_Twitter Promoted</td>\n",
       "      <td>0.005210</td>\n",
       "    </tr>\n",
       "    <tr>\n",
       "      <th>51</th>\n",
       "      <td>ApplicationType_get notified</td>\n",
       "      <td>0.005035</td>\n",
       "    </tr>\n",
       "    <tr>\n",
       "      <th>21</th>\n",
       "      <td>Course_data-science-immersive</td>\n",
       "      <td>0.004707</td>\n",
       "    </tr>\n",
       "    <tr>\n",
       "      <th>49</th>\n",
       "      <td>ApplicationType_cwe_feedback</td>\n",
       "      <td>0.004158</td>\n",
       "    </tr>\n",
       "    <tr>\n",
       "      <th>61</th>\n",
       "      <td>PardotCategory_GA Circuits Leads</td>\n",
       "      <td>0.004067</td>\n",
       "    </tr>\n",
       "    <tr>\n",
       "      <th>53</th>\n",
       "      <td>ApplicationType_invoice</td>\n",
       "      <td>0.003972</td>\n",
       "    </tr>\n",
       "    <tr>\n",
       "      <th>6</th>\n",
       "      <td>Metro_denver</td>\n",
       "      <td>0.003256</td>\n",
       "    </tr>\n",
       "    <tr>\n",
       "      <th>57</th>\n",
       "      <td>ApplicationType_trial class</td>\n",
       "      <td>0.003074</td>\n",
       "    </tr>\n",
       "    <tr>\n",
       "      <th>70</th>\n",
       "      <td>PardotCategory_Twitter Acquisition</td>\n",
       "      <td>0.002991</td>\n",
       "    </tr>\n",
       "    <tr>\n",
       "      <th>72</th>\n",
       "      <td>PardotCategory_Uncategorized</td>\n",
       "      <td>0.002912</td>\n",
       "    </tr>\n",
       "    <tr>\n",
       "      <th>11</th>\n",
       "      <td>Metro_online</td>\n",
       "      <td>0.002737</td>\n",
       "    </tr>\n",
       "    <tr>\n",
       "      <th>54</th>\n",
       "      <td>ApplicationType_lander</td>\n",
       "      <td>0.002628</td>\n",
       "    </tr>\n",
       "    <tr>\n",
       "      <th>65</th>\n",
       "      <td>PardotCategory_Livestream Purchase</td>\n",
       "      <td>0.002346</td>\n",
       "    </tr>\n",
       "    <tr>\n",
       "      <th>59</th>\n",
       "      <td>PardotCategory_Content Partnership</td>\n",
       "      <td>0.001974</td>\n",
       "    </tr>\n",
       "    <tr>\n",
       "      <th>17</th>\n",
       "      <td>Course_android-development-immersive</td>\n",
       "      <td>0.001804</td>\n",
       "    </tr>\n",
       "    <tr>\n",
       "      <th>27</th>\n",
       "      <td>Course_product-management-immersive</td>\n",
       "      <td>0.001569</td>\n",
       "    </tr>\n",
       "    <tr>\n",
       "      <th>68</th>\n",
       "      <td>PardotCategory_Student Enrollment</td>\n",
       "      <td>0.001499</td>\n",
       "    </tr>\n",
       "    <tr>\n",
       "      <th>43</th>\n",
       "      <td>ExpectedPayment_Scholarship</td>\n",
       "      <td>0.001229</td>\n",
       "    </tr>\n",
       "    <tr>\n",
       "      <th>37</th>\n",
       "      <td>ExpectedPayment_Family</td>\n",
       "      <td>0.001106</td>\n",
       "    </tr>\n",
       "    <tr>\n",
       "      <th>42</th>\n",
       "      <td>ExpectedPayment_Other</td>\n",
       "      <td>0.001103</td>\n",
       "    </tr>\n",
       "    <tr>\n",
       "      <th>46</th>\n",
       "      <td>ExpectedPayment_Veterans Affairs</td>\n",
       "      <td>0.000931</td>\n",
       "    </tr>\n",
       "    <tr>\n",
       "      <th>40</th>\n",
       "      <td>ExpectedPayment_Loan (Private)</td>\n",
       "      <td>0.000801</td>\n",
       "    </tr>\n",
       "    <tr>\n",
       "      <th>39</th>\n",
       "      <td>ExpectedPayment_Government Funding / Grant</td>\n",
       "      <td>0.000513</td>\n",
       "    </tr>\n",
       "    <tr>\n",
       "      <th>35</th>\n",
       "      <td>Type_remote</td>\n",
       "      <td>0.000469</td>\n",
       "    </tr>\n",
       "    <tr>\n",
       "      <th>32</th>\n",
       "      <td>Course_web-development-immersive-remote</td>\n",
       "      <td>0.000433</td>\n",
       "    </tr>\n",
       "    <tr>\n",
       "      <th>38</th>\n",
       "      <td>ExpectedPayment_GA Employee/Instructor</td>\n",
       "      <td>0.000356</td>\n",
       "    </tr>\n",
       "    <tr>\n",
       "      <th>4</th>\n",
       "      <td>Metro_brisbane</td>\n",
       "      <td>0.000130</td>\n",
       "    </tr>\n",
       "  </tbody>\n",
       "</table>\n",
       "<p>82 rows × 2 columns</p>\n",
       "</div>"
      ],
      "text/plain": [
       "                                       feature  importance\n",
       "62              PardotCategory_GA Course Leads    0.038066\n",
       "0                                   PhoneValid    0.035071\n",
       "47                   ApplicationType_apply now    0.032398\n",
       "56                ApplicationType_request info    0.031467\n",
       "81                          EnrolDay_Wednesday    0.030821\n",
       "75                             EnrolDay_Friday    0.030658\n",
       "10                         Metro_new-york-city    0.030398\n",
       "80                            EnrolDay_Tuesday    0.028471\n",
       "76                             EnrolDay_Monday    0.028309\n",
       "79                           EnrolDay_Thursday    0.028233\n",
       "74                      PardotCategory_Website    0.027473\n",
       "52                ApplicationType_info session    0.027154\n",
       "12                         Metro_san-francisco    0.025792\n",
       "58                 PardotCategory_CWE Purchase    0.025045\n",
       "8                            Metro_los-angeles    0.024754\n",
       "44              ExpectedPayment_Student / Self    0.023953\n",
       "28               Course_user-experience-design    0.020903\n",
       "23            Course_front-end-web-development    0.020501\n",
       "22                    Course_digital-marketing    0.019975\n",
       "7                                 Metro_london    0.018880\n",
       "77                           EnrolDay_Saturday    0.018584\n",
       "16                         Metro_washington-dc    0.018239\n",
       "26                   Course_product-management    0.017704\n",
       "20                         Course_data-science    0.016886\n",
       "15                                Metro_sydney    0.016617\n",
       "19                       Course_data-analytics    0.015859\n",
       "36                    ExpectedPayment_Employer    0.015319\n",
       "45                     ExpectedPayment_Unknown    0.015301\n",
       "3                                 Metro_boston    0.014367\n",
       "29     Course_user-experience-design-immersive    0.014337\n",
       "..                                         ...         ...\n",
       "14                             Metro_singapore    0.005616\n",
       "50        ApplicationType_financing contact us    0.005376\n",
       "48          ApplicationType_contact_admissions    0.005211\n",
       "71             PardotCategory_Twitter Promoted    0.005210\n",
       "51                ApplicationType_get notified    0.005035\n",
       "21               Course_data-science-immersive    0.004707\n",
       "49                ApplicationType_cwe_feedback    0.004158\n",
       "61            PardotCategory_GA Circuits Leads    0.004067\n",
       "53                     ApplicationType_invoice    0.003972\n",
       "6                                 Metro_denver    0.003256\n",
       "57                 ApplicationType_trial class    0.003074\n",
       "70          PardotCategory_Twitter Acquisition    0.002991\n",
       "72                PardotCategory_Uncategorized    0.002912\n",
       "11                                Metro_online    0.002737\n",
       "54                      ApplicationType_lander    0.002628\n",
       "65          PardotCategory_Livestream Purchase    0.002346\n",
       "59          PardotCategory_Content Partnership    0.001974\n",
       "17        Course_android-development-immersive    0.001804\n",
       "27         Course_product-management-immersive    0.001569\n",
       "68           PardotCategory_Student Enrollment    0.001499\n",
       "43                 ExpectedPayment_Scholarship    0.001229\n",
       "37                      ExpectedPayment_Family    0.001106\n",
       "42                       ExpectedPayment_Other    0.001103\n",
       "46            ExpectedPayment_Veterans Affairs    0.000931\n",
       "40              ExpectedPayment_Loan (Private)    0.000801\n",
       "39  ExpectedPayment_Government Funding / Grant    0.000513\n",
       "35                                 Type_remote    0.000469\n",
       "32     Course_web-development-immersive-remote    0.000433\n",
       "38      ExpectedPayment_GA Employee/Instructor    0.000356\n",
       "4                               Metro_brisbane    0.000130\n",
       "\n",
       "[82 rows x 2 columns]"
      ]
     },
     "execution_count": 85,
     "metadata": {},
     "output_type": "execute_result"
    }
   ],
   "source": [
    "feature_importance = pd.DataFrame({'feature':all_ftcolumns, 'importance':rfclf.feature_importances_})\n",
    "feature_importance.sort('importance',ascending=False)"
   ]
  },
  {
   "cell_type": "code",
   "execution_count": null,
   "metadata": {
    "collapsed": true
   },
   "outputs": [],
   "source": []
  },
  {
   "cell_type": "code",
   "execution_count": null,
   "metadata": {
    "collapsed": true
   },
   "outputs": [],
   "source": []
  },
  {
   "cell_type": "code",
   "execution_count": null,
   "metadata": {
    "collapsed": true
   },
   "outputs": [],
   "source": []
  },
  {
   "cell_type": "code",
   "execution_count": null,
   "metadata": {
    "collapsed": true
   },
   "outputs": [],
   "source": []
  }
 ],
 "metadata": {
  "kernelspec": {
   "display_name": "Python 3",
   "language": "python",
   "name": "python3"
  },
  "language_info": {
   "codemirror_mode": {
    "name": "ipython",
    "version": 3
   },
   "file_extension": ".py",
   "mimetype": "text/x-python",
   "name": "python",
   "nbconvert_exporter": "python",
   "pygments_lexer": "ipython3",
   "version": "3.6.0"
  }
 },
 "nbformat": 4,
 "nbformat_minor": 2
}
