{
 "cells": [
  {
   "cell_type": "markdown",
   "metadata": {},
   "source": [
    "# Enrolments Data"
   ]
  },
  {
   "cell_type": "markdown",
   "metadata": {},
   "source": [
    "## Exploration\n",
    "### Statistical exploration"
   ]
  },
  {
   "cell_type": "markdown",
   "metadata": {},
   "source": [
    "#### Reading the data, removing useless columns and adding special columns"
   ]
  },
  {
   "cell_type": "code",
   "execution_count": 53,
   "metadata": {
    "collapsed": false
   },
   "outputs": [],
   "source": [
    "import pandas as pd\n",
    "import numpy as np\n",
    "#Read the data\n",
    "enrolments = pd.read_csv(\"data/courses snap_sales_funnel 2017-07-05T1254.csv\",low_memory=False)"
   ]
  },
  {
   "cell_type": "code",
   "execution_count": 54,
   "metadata": {
    "collapsed": false
   },
   "outputs": [
    {
     "data": {
      "text/plain": [
       "Index(['Startdate', 'Enddate', 'Metro', 'Course', 'PhoneValid', 'Price',\n",
       "       'Type', 'DaysEnroltoStart', 'DaysInvoicetoEnrol', 'DaysLeadtoEnroled',\n",
       "       'EnrolDate', 'EnrolDay', 'EnrolHour', 'Month', 'EnrolWeek', 'Year',\n",
       "       'CanceledDate', 'CanceledMonth', 'ExpectedPayment', 'PardotCategory',\n",
       "       'ApplicationType', 'LeadID', 'Status', 'OppCreatedDate',\n",
       "       'OppOwnerMetro', 'SpeedtoLead', 'CampaignSource',\n",
       "       'CampaignSourceCategory'],\n",
       "      dtype='object')"
      ]
     },
     "execution_count": 54,
     "metadata": {},
     "output_type": "execute_result"
    }
   ],
   "source": [
    "enrolments.columns"
   ]
  },
  {
   "cell_type": "code",
   "execution_count": 55,
   "metadata": {
    "collapsed": false
   },
   "outputs": [
    {
     "name": "stdout",
     "output_type": "stream",
     "text": [
      "<class 'pandas.core.frame.DataFrame'>\n",
      "RangeIndex: 50407 entries, 0 to 50406\n",
      "Data columns (total 28 columns):\n",
      "Startdate                 50407 non-null int64\n",
      "Enddate                   50407 non-null int64\n",
      "Metro                     50407 non-null object\n",
      "Course                    50407 non-null object\n",
      "PhoneValid                50407 non-null object\n",
      "Price                     50406 non-null float64\n",
      "Type                      50407 non-null object\n",
      "DaysEnroltoStart          46003 non-null float64\n",
      "DaysInvoicetoEnrol        50407 non-null int64\n",
      "DaysLeadtoEnroled         50407 non-null int64\n",
      "EnrolDate                 50407 non-null int64\n",
      "EnrolDay                  50407 non-null object\n",
      "EnrolHour                 50407 non-null int64\n",
      "Month                     50407 non-null int64\n",
      "EnrolWeek                 50407 non-null int64\n",
      "Year                      50407 non-null int64\n",
      "CanceledDate              9327 non-null float64\n",
      "CanceledMonth             9327 non-null float64\n",
      "ExpectedPayment           38772 non-null object\n",
      "PardotCategory            49407 non-null object\n",
      "ApplicationType           50407 non-null object\n",
      "LeadID                    50407 non-null int64\n",
      "Status                    39337 non-null object\n",
      "OppCreatedDate            50407 non-null int64\n",
      "OppOwnerMetro             35864 non-null object\n",
      "SpeedtoLead               13118 non-null float64\n",
      "CampaignSource            42503 non-null object\n",
      "CampaignSourceCategory    50407 non-null object\n",
      "dtypes: float64(5), int64(11), object(12)\n",
      "memory usage: 10.8+ MB\n"
     ]
    }
   ],
   "source": [
    "enrolments.info()"
   ]
  },
  {
   "cell_type": "code",
   "execution_count": 56,
   "metadata": {
    "collapsed": false
   },
   "outputs": [
    {
     "data": {
      "text/plain": [
       "Index(['Startdate', 'Enddate', 'Metro', 'Course', 'PhoneValid', 'Price',\n",
       "       'Type', 'DaysEnroltoStart', 'DaysInvoicetoEnrol', 'DaysLeadtoEnroled',\n",
       "       'EnrolDate', 'EnrolDay', 'EnrolHour', 'Month', 'EnrolWeek', 'Year',\n",
       "       'CanceledDate', 'CanceledMonth', 'ExpectedPayment', 'PardotCategory',\n",
       "       'ApplicationType', 'LeadID', 'SpeedtoLead'],\n",
       "      dtype='object')"
      ]
     },
     "execution_count": 56,
     "metadata": {},
     "output_type": "execute_result"
    }
   ],
   "source": [
    "#Remove some useless columns\n",
    "enrolments.drop('Status', axis=1, inplace=True)\n",
    "enrolments.drop('CampaignSourceCategory',axis=1,inplace=True)\n",
    "enrolments.drop('CampaignSource',axis=1,inplace=True)\n",
    "enrolments.drop('OppOwnerMetro', axis=1, inplace=True)\n",
    "enrolments.drop('OppCreatedDate', axis=1, inplace=True)\n",
    "enrolments.columns"
   ]
  },
  {
   "cell_type": "code",
   "execution_count": 57,
   "metadata": {
    "collapsed": false
   },
   "outputs": [],
   "source": [
    "#Add cancelled column to track whether an enrolment cancelled\n",
    "enrolments['Cancelled'] = enrolments.CanceledDate.notnull()"
   ]
  },
  {
   "cell_type": "code",
   "execution_count": 58,
   "metadata": {
    "collapsed": true
   },
   "outputs": [],
   "source": [
    "enrolments.drop('CanceledDate', axis=1, inplace=True)"
   ]
  },
  {
   "cell_type": "code",
   "execution_count": 59,
   "metadata": {
    "collapsed": false
   },
   "outputs": [
    {
     "data": {
      "text/plain": [
       "Index(['Startdate', 'Enddate', 'Metro', 'Course', 'PhoneValid', 'Price',\n",
       "       'Type', 'DaysEnroltoStart', 'DaysInvoicetoEnrol', 'DaysLeadtoEnroled',\n",
       "       'EnrolDate', 'EnrolDay', 'EnrolHour', 'Month', 'EnrolWeek', 'Year',\n",
       "       'CanceledMonth', 'ExpectedPayment', 'PardotCategory', 'ApplicationType',\n",
       "       'LeadID', 'SpeedtoLead', 'Cancelled'],\n",
       "      dtype='object')"
      ]
     },
     "execution_count": 59,
     "metadata": {},
     "output_type": "execute_result"
    }
   ],
   "source": [
    "enrolments.columns"
   ]
  },
  {
   "cell_type": "code",
   "execution_count": 60,
   "metadata": {
    "collapsed": true
   },
   "outputs": [],
   "source": [
    "#Add an APAC column\n",
    "enrolments['APAC'] = enrolments['Metro'].isin(['sydney','melbourne','hong-kong','singapore','brisbane'])"
   ]
  },
  {
   "cell_type": "code",
   "execution_count": 61,
   "metadata": {
    "collapsed": false
   },
   "outputs": [
    {
     "data": {
      "text/plain": [
       "False    42530\n",
       "True      7877\n",
       "Name: APAC, dtype: int64"
      ]
     },
     "execution_count": 61,
     "metadata": {},
     "output_type": "execute_result"
    }
   ],
   "source": [
    "enrolments.APAC.value_counts()"
   ]
  },
  {
   "cell_type": "code",
   "execution_count": 62,
   "metadata": {
    "collapsed": true
   },
   "outputs": [],
   "source": [
    "#Limit to only post mid-2014 data and pre mid-2017 data\n",
    "enrolments = enrolments[enrolments.EnrolDate > 20140630]\n",
    "enrolments = enrolments[enrolments.Startdate < 20170630]"
   ]
  },
  {
   "cell_type": "code",
   "execution_count": 63,
   "metadata": {
    "collapsed": false
   },
   "outputs": [],
   "source": [
    "#Cancellations are enroled before their course starts, so daysenroltostart must be positive\n",
    "enrolments = enrolments[enrolments.DaysEnroltoStart > 0]"
   ]
  },
  {
   "cell_type": "code",
   "execution_count": 64,
   "metadata": {
    "collapsed": false
   },
   "outputs": [
    {
     "data": {
      "text/plain": [
       "(33436, 24)"
      ]
     },
     "execution_count": 64,
     "metadata": {},
     "output_type": "execute_result"
    }
   ],
   "source": [
    "#Checkout all the numeric columns\n",
    "#enrolments.info()\n",
    "#enrolments.describe()\n",
    "enrolments.shape"
   ]
  },
  {
   "cell_type": "markdown",
   "metadata": {},
   "source": [
    "#### Dealing with null values"
   ]
  },
  {
   "cell_type": "code",
   "execution_count": 65,
   "metadata": {
    "collapsed": false
   },
   "outputs": [
    {
     "data": {
      "text/plain": [
       "Startdate                 0\n",
       "Enddate                   0\n",
       "Metro                     0\n",
       "Course                    0\n",
       "PhoneValid                0\n",
       "Price                     0\n",
       "Type                      0\n",
       "DaysEnroltoStart          0\n",
       "DaysInvoicetoEnrol        0\n",
       "DaysLeadtoEnroled         0\n",
       "EnrolDate                 0\n",
       "EnrolDay                  0\n",
       "EnrolHour                 0\n",
       "Month                     0\n",
       "EnrolWeek                 0\n",
       "Year                      0\n",
       "CanceledMonth         29861\n",
       "ExpectedPayment        3139\n",
       "PardotCategory          667\n",
       "ApplicationType           0\n",
       "LeadID                    0\n",
       "SpeedtoLead           23255\n",
       "Cancelled                 0\n",
       "APAC                      0\n",
       "dtype: int64"
      ]
     },
     "execution_count": 65,
     "metadata": {},
     "output_type": "execute_result"
    }
   ],
   "source": [
    "enrolments.isnull().sum()"
   ]
  },
  {
   "cell_type": "code",
   "execution_count": 66,
   "metadata": {
    "collapsed": false
   },
   "outputs": [],
   "source": [
    "enrolments.CanceledMonth.fillna(\"None\", inplace=True)\n",
    "enrolments.Price.fillna(0, inplace=True)"
   ]
  },
  {
   "cell_type": "code",
   "execution_count": 67,
   "metadata": {
    "collapsed": false
   },
   "outputs": [
    {
     "data": {
      "text/plain": [
       "GA Course Leads                15701\n",
       "Website                         5051\n",
       "CWE Purchase                    4066\n",
       "Facebook Acquisition            1400\n",
       "Other                           1239\n",
       "GA Dash                         1226\n",
       "Sweepstake                      1107\n",
       "Unknown                          677\n",
       "GA Front Row Signup              474\n",
       "Partner Event                    410\n",
       "Twitter Promoted                 376\n",
       "GA Circuits Leads                313\n",
       "Twitter Acquisition              202\n",
       "Uncategorized                    183\n",
       "Student Enrollment               140\n",
       "Content Partnership              127\n",
       "Livestream Purchase              124\n",
       "Scholarship                       92\n",
       "Partner Livestream                81\n",
       "CWE Walk Ins                      81\n",
       "Global Acquisition Campaign       73\n",
       "Free Front Row Trial Local        53\n",
       "GA Content                        42\n",
       "GA Event                          29\n",
       "Social Organic                    29\n",
       "GA Blog                           25\n",
       "LinkedIn Acquisition              24\n",
       "List Purchase                     18\n",
       "Tuition Credit                    12\n",
       "Local Sweepstake                  11\n",
       "GA Hub                             8\n",
       "GA University Leads                8\n",
       "Facebook Lead Gen                  7\n",
       "AdWords Acquisition                6\n",
       "Local Content Partnership          6\n",
       "Free Front Row Trial Global        5\n",
       "Adwords Lead Gen                   4\n",
       "Affiliate Lead Gen                 4\n",
       "Facebook Promoted                  2\n",
       "Name: PardotCategory, dtype: int64"
      ]
     },
     "execution_count": 67,
     "metadata": {},
     "output_type": "execute_result"
    }
   ],
   "source": [
    "enrolments.PardotCategory.fillna(\"Unknown\", inplace=True)\n",
    "enrolments.PardotCategory.value_counts()"
   ]
  },
  {
   "cell_type": "code",
   "execution_count": 68,
   "metadata": {
    "collapsed": false
   },
   "outputs": [],
   "source": [
    "#enrolments.DaysEnroltoStart.mean()\n",
    "enrolments.DaysEnroltoStart.fillna(enrolments.DaysEnroltoStart.mean(), inplace=True)"
   ]
  },
  {
   "cell_type": "code",
   "execution_count": 69,
   "metadata": {
    "collapsed": false
   },
   "outputs": [],
   "source": [
    "#enrolments.SpeedtoLead.value_counts()\n",
    "enrolments.SpeedtoLead.fillna(enrolments.SpeedtoLead.mean(), inplace=True)"
   ]
  },
  {
   "cell_type": "code",
   "execution_count": 70,
   "metadata": {
    "collapsed": false
   },
   "outputs": [
    {
     "data": {
      "text/plain": [
       "Student / Self                24799\n",
       "Employer                       3268\n",
       "Unknown                        3139\n",
       "Loan Partner                   1609\n",
       "Veterans Affairs                176\n",
       "Scholarship                     142\n",
       "Family                           88\n",
       "Other                            77\n",
       "Loan (Private)                   50\n",
       "Government Funding / Grant       48\n",
       "GA Employee/Instructor           40\n",
       "Name: ExpectedPayment, dtype: int64"
      ]
     },
     "execution_count": 70,
     "metadata": {},
     "output_type": "execute_result"
    }
   ],
   "source": [
    "enrolments['ExpectedPayment'] = enrolments.ExpectedPayment.map({\n",
    "    'Student / Self': 'Student / Self',\n",
    "    'Student (self)': 'Student / Self',\n",
    "    'Employer': 'Employer',\n",
    "    'Loan (Partner, please note)': 'Loan Partner',\n",
    "    'Veterans Affairs': 'Veterans Affairs',\n",
    "    'Employer Bulk Pre-paid': 'Employer',\n",
    "    'Scholarship (Opportunity Fund)': 'Scholarship',\n",
    "    'Loan Partner (please note)': 'Loan Partner',\n",
    "    'Family':'Family',\n",
    "    'Other (please note)':'Other',\n",
    "    'GA Employee/Instructor':'GA Employee/Instructor',\n",
    "    'Loan (Private Bank, please note)':'Loan (Private)',\n",
    "    'Government Funding / Grant':'Government Funding / Grant',\n",
    "    'Other':'Other',\n",
    "    'CourseHorse':'Other',\n",
    "    'Opportunity Fund':'Scholarship',\n",
    "    'Enterprise Credit':'Other',\n",
    "    'Scholarship (GA Partner, please note)':'Scholarship',\n",
    "    'Scholarship (Other, please note)':'Scholarship',\n",
    "})\n",
    "enrolments.ExpectedPayment.fillna(\"Unknown\", inplace=True)\n",
    "enrolments.ExpectedPayment.value_counts()"
   ]
  },
  {
   "cell_type": "code",
   "execution_count": 71,
   "metadata": {
    "collapsed": false
   },
   "outputs": [
    {
     "data": {
      "text/plain": [
       "Startdate             0\n",
       "Enddate               0\n",
       "Metro                 0\n",
       "Course                0\n",
       "PhoneValid            0\n",
       "Price                 0\n",
       "Type                  0\n",
       "DaysEnroltoStart      0\n",
       "DaysInvoicetoEnrol    0\n",
       "DaysLeadtoEnroled     0\n",
       "EnrolDate             0\n",
       "EnrolDay              0\n",
       "EnrolHour             0\n",
       "Month                 0\n",
       "EnrolWeek             0\n",
       "Year                  0\n",
       "CanceledMonth         0\n",
       "ExpectedPayment       0\n",
       "PardotCategory        0\n",
       "ApplicationType       0\n",
       "LeadID                0\n",
       "SpeedtoLead           0\n",
       "Cancelled             0\n",
       "APAC                  0\n",
       "dtype: int64"
      ]
     },
     "execution_count": 71,
     "metadata": {},
     "output_type": "execute_result"
    }
   ],
   "source": [
    "enrolments.isnull().sum()"
   ]
  },
  {
   "cell_type": "markdown",
   "metadata": {},
   "source": [
    "#### Streamlining multiple categories"
   ]
  },
  {
   "cell_type": "code",
   "execution_count": 72,
   "metadata": {
    "collapsed": false
   },
   "outputs": [],
   "source": [
    "#Checkout only the more common application types\n",
    "#enrolments.ApplicationType.value_counts()<100"
   ]
  },
  {
   "cell_type": "code",
   "execution_count": 73,
   "metadata": {
    "collapsed": false
   },
   "outputs": [
    {
     "data": {
      "text/plain": [
       "Index(['apply now', 'request info', 'info session', 'referral', 'invoice',\n",
       "       'contact_admissions', 'get notified', 'financing contact us',\n",
       "       'cwe_feedback', 'trial class', 'lander', 'open house'],\n",
       "      dtype='object')"
      ]
     },
     "execution_count": 73,
     "metadata": {},
     "output_type": "execute_result"
    }
   ],
   "source": [
    "commonapptypes = enrolments.ApplicationType.value_counts().index[enrolments.ApplicationType.value_counts()>147]\n",
    "commonapptypes"
   ]
  },
  {
   "cell_type": "code",
   "execution_count": 74,
   "metadata": {
    "collapsed": false
   },
   "outputs": [
    {
     "data": {
      "text/plain": [
       "(32221, 24)"
      ]
     },
     "execution_count": 74,
     "metadata": {},
     "output_type": "execute_result"
    }
   ],
   "source": [
    "enrolments = enrolments[enrolments.ApplicationType.isin(commonapptypes)]\n",
    "enrolments.shape"
   ]
  },
  {
   "cell_type": "code",
   "execution_count": 75,
   "metadata": {
    "collapsed": false
   },
   "outputs": [
    {
     "data": {
      "text/plain": [
       "apply now               11139\n",
       "request info            10815\n",
       "info session             6824\n",
       "referral                  780\n",
       "invoice                   494\n",
       "contact_admissions        446\n",
       "get notified              424\n",
       "financing contact us      372\n",
       "cwe_feedback              369\n",
       "trial class               245\n",
       "lander                    165\n",
       "open house                148\n",
       "Name: ApplicationType, dtype: int64"
      ]
     },
     "execution_count": 75,
     "metadata": {},
     "output_type": "execute_result"
    }
   ],
   "source": [
    "enrolments.ApplicationType.value_counts()"
   ]
  },
  {
   "cell_type": "code",
   "execution_count": 76,
   "metadata": {
    "collapsed": false
   },
   "outputs": [
    {
     "data": {
      "text/plain": [
       "Index(['GA Course Leads', 'Website', 'CWE Purchase', 'Facebook Acquisition',\n",
       "       'Other', 'GA Dash', 'Sweepstake', 'Unknown', 'GA Front Row Signup',\n",
       "       'Partner Event', 'Twitter Promoted', 'GA Circuits Leads',\n",
       "       'Twitter Acquisition', 'Uncategorized', 'Student Enrollment',\n",
       "       'Livestream Purchase', 'Content Partnership'],\n",
       "      dtype='object')"
      ]
     },
     "execution_count": 76,
     "metadata": {},
     "output_type": "execute_result"
    }
   ],
   "source": [
    "#Checkout only the more common Pardot types\n",
    "#enrolments.PardotCategory.value_counts()>100\n",
    "commonpdtypes = enrolments.PardotCategory.value_counts().index[enrolments.PardotCategory.value_counts()>100]\n",
    "commonpdtypes"
   ]
  },
  {
   "cell_type": "code",
   "execution_count": 77,
   "metadata": {
    "collapsed": false
   },
   "outputs": [
    {
     "data": {
      "text/plain": [
       "(31654, 24)"
      ]
     },
     "execution_count": 77,
     "metadata": {},
     "output_type": "execute_result"
    }
   ],
   "source": [
    "enrolments = enrolments[enrolments.PardotCategory.isin(commonpdtypes)]\n",
    "enrolments.shape"
   ]
  },
  {
   "cell_type": "code",
   "execution_count": 78,
   "metadata": {
    "collapsed": false
   },
   "outputs": [
    {
     "data": {
      "text/plain": [
       "GA Course Leads         15358\n",
       "Website                  4858\n",
       "CWE Purchase             3863\n",
       "Facebook Acquisition     1356\n",
       "Other                    1183\n",
       "GA Dash                  1162\n",
       "Sweepstake               1062\n",
       "Unknown                   605\n",
       "GA Front Row Signup       460\n",
       "Partner Event             392\n",
       "Twitter Promoted          359\n",
       "GA Circuits Leads         259\n",
       "Twitter Acquisition       196\n",
       "Uncategorized             181\n",
       "Student Enrollment        122\n",
       "Content Partnership       119\n",
       "Livestream Purchase       119\n",
       "Name: PardotCategory, dtype: int64"
      ]
     },
     "execution_count": 78,
     "metadata": {},
     "output_type": "execute_result"
    }
   ],
   "source": [
    "enrolments.PardotCategory.value_counts()"
   ]
  },
  {
   "cell_type": "code",
   "execution_count": 79,
   "metadata": {
    "collapsed": false
   },
   "outputs": [
    {
     "data": {
      "text/plain": [
       "(31545, 24)"
      ]
     },
     "execution_count": 79,
     "metadata": {},
     "output_type": "execute_result"
    }
   ],
   "source": [
    "commoncourses = enrolments.Course.value_counts().index[enrolments.Course.value_counts()>100]\n",
    "commoncourses\n",
    "enrolments = enrolments[enrolments.Course.isin(commoncourses)]\n",
    "enrolments.shape"
   ]
  },
  {
   "cell_type": "code",
   "execution_count": 80,
   "metadata": {
    "collapsed": true
   },
   "outputs": [],
   "source": [
    "enrolments.PhoneValid.unique()\n",
    "enrolments['PhoneValid'] = enrolments.PhoneValid.map({'Yes': 1,'No': 0})"
   ]
  },
  {
   "cell_type": "code",
   "execution_count": 81,
   "metadata": {
    "collapsed": false
   },
   "outputs": [
    {
     "name": "stdout",
     "output_type": "stream",
     "text": [
      "<class 'pandas.core.frame.DataFrame'>\n",
      "Int64Index: 31545 entries, 758 to 42687\n",
      "Data columns (total 24 columns):\n",
      "Startdate             31545 non-null int64\n",
      "Enddate               31545 non-null int64\n",
      "Metro                 31545 non-null object\n",
      "Course                31545 non-null object\n",
      "PhoneValid            31545 non-null int64\n",
      "Price                 31545 non-null float64\n",
      "Type                  31545 non-null object\n",
      "DaysEnroltoStart      31545 non-null float64\n",
      "DaysInvoicetoEnrol    31545 non-null int64\n",
      "DaysLeadtoEnroled     31545 non-null int64\n",
      "EnrolDate             31545 non-null int64\n",
      "EnrolDay              31545 non-null object\n",
      "EnrolHour             31545 non-null int64\n",
      "Month                 31545 non-null int64\n",
      "EnrolWeek             31545 non-null int64\n",
      "Year                  31545 non-null int64\n",
      "CanceledMonth         31545 non-null object\n",
      "ExpectedPayment       31545 non-null object\n",
      "PardotCategory        31545 non-null object\n",
      "ApplicationType       31545 non-null object\n",
      "LeadID                31545 non-null int64\n",
      "SpeedtoLead           31545 non-null float64\n",
      "Cancelled             31545 non-null bool\n",
      "APAC                  31545 non-null bool\n",
      "dtypes: bool(2), float64(3), int64(11), object(8)\n",
      "memory usage: 5.6+ MB\n"
     ]
    }
   ],
   "source": [
    "enrolments.info()"
   ]
  },
  {
   "cell_type": "code",
   "execution_count": 82,
   "metadata": {
    "collapsed": false
   },
   "outputs": [
    {
     "data": {
      "text/plain": [
       "0.17822200148994288"
      ]
     },
     "execution_count": 82,
     "metadata": {},
     "output_type": "execute_result"
    }
   ],
   "source": [
    "enrolments.Cancelled.value_counts()\n",
    "7177/(7717+32553)"
   ]
  },
  {
   "cell_type": "markdown",
   "metadata": {},
   "source": [
    "#### Pandas profile"
   ]
  },
  {
   "cell_type": "code",
   "execution_count": 83,
   "metadata": {
    "collapsed": false
   },
   "outputs": [],
   "source": [
    "#!pip install pandas-profiling"
   ]
  },
  {
   "cell_type": "code",
   "execution_count": 84,
   "metadata": {
    "collapsed": false
   },
   "outputs": [],
   "source": [
    "#import pandas_profiling\n",
    "#apandas_profiling.ProfileReport(enrolments)"
   ]
  },
  {
   "cell_type": "markdown",
   "metadata": {},
   "source": [
    "### Visualisation"
   ]
  },
  {
   "cell_type": "code",
   "execution_count": 85,
   "metadata": {
    "collapsed": true
   },
   "outputs": [],
   "source": [
    "from sklearn import tree\n",
    "from sklearn.model_selection import train_test_split\n",
    "from sklearn import metrics\n",
    "import matplotlib.pyplot as plt\n",
    "import seaborn as sns\n",
    "import urllib\n",
    "import plotly\n",
    "import plotly.plotly as py\n",
    "import plotly.graph_objs as go \n",
    "import folium\n",
    "import plotly.figure_factory as ff\n",
    "\n",
    "plotly.tools.set_credentials_file(username='Msquirchuk', api_key='kTj4gydNrsbGuMDjMcNn')\n",
    "\n",
    "%matplotlib inline\n",
    "sns.set(color_codes=True)"
   ]
  },
  {
   "cell_type": "code",
   "execution_count": 34,
   "metadata": {
    "collapsed": false
   },
   "outputs": [
    {
     "name": "stderr",
     "output_type": "stream",
     "text": [
      "/anaconda/lib/python3.6/site-packages/statsmodels/nonparametric/kdetools.py:20: VisibleDeprecationWarning:\n",
      "\n",
      "using a non-integer number instead of an integer will result in an error in the future\n",
      "\n"
     ]
    },
    {
     "data": {
      "text/plain": [
       "<matplotlib.axes._subplots.AxesSubplot at 0x103b4e128>"
      ]
     },
     "execution_count": 34,
     "metadata": {},
     "output_type": "execute_result"
    },
    {
     "data": {
      "image/png": "[encoded data removed]",
      "text/plain": [
       "<matplotlib.figure.Figure at 0x103b4eb38>"
      ]
     },
     "metadata": {},
     "output_type": "display_data"
    }
   ],
   "source": [
    "plt.figure(figsize = (15,6))\n",
    "sns.distplot(enrolments.DaysInvoicetoEnrol, bins=10)"
   ]
  },
  {
   "cell_type": "code",
   "execution_count": 35,
   "metadata": {
    "collapsed": false
   },
   "outputs": [
    {
     "name": "stderr",
     "output_type": "stream",
     "text": [
      "/anaconda/lib/python3.6/site-packages/statsmodels/nonparametric/kdetools.py:20: VisibleDeprecationWarning:\n",
      "\n",
      "using a non-integer number instead of an integer will result in an error in the future\n",
      "\n"
     ]
    },
    {
     "data": {
      "text/plain": [
       "<matplotlib.axes._subplots.AxesSubplot at 0x109c38a58>"
      ]
     },
     "execution_count": 35,
     "metadata": {},
     "output_type": "execute_result"
    },
    {
     "data": {
      "image/png": "[encoded data removed]",
      "text/plain": [
       "<matplotlib.figure.Figure at 0x102204278>"
      ]
     },
     "metadata": {},
     "output_type": "display_data"
    }
   ],
   "source": [
    "sns.distplot(enrolments.DaysEnroltoStart, bins=10)"
   ]
  },
  {
   "cell_type": "code",
   "execution_count": 36,
   "metadata": {
    "collapsed": false
   },
   "outputs": [
    {
     "data": {
      "text/plain": [
       "<matplotlib.axes._subplots.AxesSubplot at 0x10bc09320>"
      ]
     },
     "execution_count": 36,
     "metadata": {},
     "output_type": "execute_result"
    },
    {
     "data": {
      "image/png": "[encoded data removed]",
      "text/plain": [
       "<matplotlib.figure.Figure at 0x10a006438>"
      ]
     },
     "metadata": {},
     "output_type": "display_data"
    }
   ],
   "source": [
    "plt.figure(figsize = (15,6))\n",
    "sns.barplot(x='Metro', y = 'Cancelled', data = enrolments)"
   ]
  },
  {
   "cell_type": "code",
   "execution_count": 37,
   "metadata": {
    "collapsed": false
   },
   "outputs": [
    {
     "data": {
      "text/plain": [
       "<matplotlib.axes._subplots.AxesSubplot at 0x10b1cb278>"
      ]
     },
     "execution_count": 37,
     "metadata": {},
     "output_type": "execute_result"
    },
    {
     "data": {
      "image/png": "[encoded data removed]",
      "text/plain": [
       "<matplotlib.figure.Figure at 0x10b1cb198>"
      ]
     },
     "metadata": {},
     "output_type": "display_data"
    }
   ],
   "source": [
    "plt.figure(figsize = (20,10))\n",
    "sns.barplot(x='ExpectedPayment', y = 'Cancelled', data = enrolments)"
   ]
  },
  {
   "cell_type": "code",
   "execution_count": 38,
   "metadata": {
    "collapsed": false
   },
   "outputs": [
    {
     "data": {
      "text/plain": [
       "<matplotlib.axes._subplots.AxesSubplot at 0x10b263da0>"
      ]
     },
     "execution_count": 38,
     "metadata": {},
     "output_type": "execute_result"
    },
    {
     "data": {
      "image/png": "[encoded data removed]",
      "text/plain": [
       "<matplotlib.figure.Figure at 0x10b263748>"
      ]
     },
     "metadata": {},
     "output_type": "display_data"
    }
   ],
   "source": [
    "plt.figure(figsize=(20,10))\n",
    "plt.title(\"Enrolments v Cancelations\")\n",
    "sns.countplot(x='Month', hue='Cancelled', data = enrolments)"
   ]
  },
  {
   "cell_type": "code",
   "execution_count": 39,
   "metadata": {
    "collapsed": false
   },
   "outputs": [
    {
     "data": {
      "text/plain": [
       "<seaborn.axisgrid.JointGrid at 0x10b1cbcf8>"
      ]
     },
     "execution_count": 39,
     "metadata": {},
     "output_type": "execute_result"
    },
    {
     "data": {
      "image/png": "[encoded data removed]",
      "text/plain": [
       "<matplotlib.figure.Figure at 0x10b4c1e48>"
      ]
     },
     "metadata": {},
     "output_type": "display_data"
    }
   ],
   "source": [
    "sns.jointplot(x='DaysEnroltoStart', y=\"DaysInvoicetoEnrol\", data=enrolments)"
   ]
  },
  {
   "cell_type": "code",
   "execution_count": 40,
   "metadata": {
    "collapsed": false
   },
   "outputs": [
    {
     "data": {
      "text/plain": [
       "<matplotlib.text.Text at 0x1134aca20>"
      ]
     },
     "execution_count": 40,
     "metadata": {},
     "output_type": "execute_result"
    },
    {
     "data": {
      "image/png": "[encoded data removed]",
      "text/plain": [
       "<matplotlib.figure.Figure at 0x1132d9780>"
      ]
     },
     "metadata": {},
     "output_type": "display_data"
    }
   ],
   "source": [
    "corr = enrolments.corr()\n",
    "corr = (corr)\n",
    "plt.figure(figsize = (20,20))\n",
    "sns.heatmap(corr, \n",
    "            xticklabels=corr.columns.values,\n",
    "            yticklabels=corr.columns.values)\n",
    "sns.plt.title('Heatmap of Correlation Matrix')"
   ]
  },
  {
   "cell_type": "markdown",
   "metadata": {},
   "source": [
    "## Running dummy data\n",
    "- These columns have text outputs:\n",
    " - Metro: object\n",
    " - Course: object\n",
    " - Type: object\n",
    " - EnrolDay: object\n",
    " - ExpectedPayment: object\n",
    " - ApplicationType: object\n",
    " - PardotCategory: object"
   ]
  },
  {
   "cell_type": "code",
   "execution_count": 86,
   "metadata": {
    "collapsed": false
   },
   "outputs": [
    {
     "name": "stdout",
     "output_type": "stream",
     "text": [
      "<class 'pandas.core.frame.DataFrame'>\n",
      "Int64Index: 31545 entries, 758 to 42687\n",
      "Data columns (total 23 columns):\n",
      "Startdate             31545 non-null int64\n",
      "Enddate               31545 non-null int64\n",
      "Metro                 31545 non-null object\n",
      "Course                31545 non-null object\n",
      "PhoneValid            31545 non-null int64\n",
      "Price                 31545 non-null float64\n",
      "Type                  31545 non-null object\n",
      "DaysEnroltoStart      31545 non-null float64\n",
      "DaysInvoicetoEnrol    31545 non-null int64\n",
      "DaysLeadtoEnroled     31545 non-null int64\n",
      "EnrolDate             31545 non-null int64\n",
      "EnrolDay              31545 non-null object\n",
      "EnrolHour             31545 non-null int64\n",
      "Month                 31545 non-null int64\n",
      "EnrolWeek             31545 non-null int64\n",
      "Year                  31545 non-null int64\n",
      "ExpectedPayment       31545 non-null object\n",
      "PardotCategory        31545 non-null object\n",
      "ApplicationType       31545 non-null object\n",
      "LeadID                31545 non-null int64\n",
      "SpeedtoLead           31545 non-null float64\n",
      "Cancelled             31545 non-null bool\n",
      "APAC                  31545 non-null bool\n",
      "dtypes: bool(2), float64(3), int64(11), object(7)\n",
      "memory usage: 5.4+ MB\n"
     ]
    }
   ],
   "source": [
    "enrolments.drop('CanceledMonth', axis=1, inplace=True)\n",
    "enrolments.info()"
   ]
  },
  {
   "cell_type": "code",
   "execution_count": 87,
   "metadata": {
    "collapsed": false
   },
   "outputs": [],
   "source": [
    "dummydata = pd.get_dummies(data=enrolments, columns = ['Metro','Course','Type','ExpectedPayment','ApplicationType','PardotCategory','EnrolDay'], prefix = ['Metro','Course','Type','ExpectedPayment','ApplicationType','PardotCategory','EnrolDay'] )"
   ]
  },
  {
   "cell_type": "code",
   "execution_count": 88,
   "metadata": {
    "collapsed": false
   },
   "outputs": [
    {
     "data": {
      "text/plain": [
       "(31545, 100)"
      ]
     },
     "execution_count": 88,
     "metadata": {},
     "output_type": "execute_result"
    }
   ],
   "source": [
    "dummydata.shape"
   ]
  },
  {
   "cell_type": "code",
   "execution_count": 89,
   "metadata": {
    "collapsed": false
   },
   "outputs": [
    {
     "data": {
      "text/plain": [
       "Index(['Startdate', 'Enddate', 'PhoneValid', 'Price', 'DaysEnroltoStart',\n",
       "       'DaysInvoicetoEnrol', 'DaysLeadtoEnroled', 'EnrolDate', 'EnrolHour',\n",
       "       'Month', 'EnrolWeek', 'Year', 'LeadID', 'SpeedtoLead', 'Cancelled',\n",
       "       'APAC', 'Metro_atlanta', 'Metro_austin', 'Metro_boston',\n",
       "       'Metro_brisbane', 'Metro_chicago', 'Metro_denver', 'Metro_hong-kong',\n",
       "       'Metro_london', 'Metro_los-angeles', 'Metro_melbourne',\n",
       "       'Metro_new-york-city', 'Metro_online', 'Metro_san-francisco',\n",
       "       'Metro_seattle', 'Metro_singapore', 'Metro_sydney',\n",
       "       'Metro_washington-dc', 'Course_android-development-immersive',\n",
       "       'Course_back-end-web-development',\n",
       "       'Course_business-fundamentals-tactics', 'Course_data-analytics',\n",
       "       'Course_data-science', 'Course_data-science-immersive',\n",
       "       'Course_digital-marketing', 'Course_front-end-web-development',\n",
       "       'Course_ios-development', 'Course_javascript-development',\n",
       "       'Course_product-management', 'Course_product-management-immersive',\n",
       "       'Course_user-experience-design',\n",
       "       'Course_user-experience-design-immersive', 'Course_visual-design',\n",
       "       'Course_web-development-immersive',\n",
       "       'Course_web-development-immersive-remote', 'Type_course',\n",
       "       'Type_immersive', 'Type_remote', 'ExpectedPayment_Employer',\n",
       "       'ExpectedPayment_Family', 'ExpectedPayment_GA Employee/Instructor',\n",
       "       'ExpectedPayment_Government Funding / Grant',\n",
       "       'ExpectedPayment_Loan (Private)', 'ExpectedPayment_Loan Partner',\n",
       "       'ExpectedPayment_Other', 'ExpectedPayment_Scholarship',\n",
       "       'ExpectedPayment_Student / Self', 'ExpectedPayment_Unknown',\n",
       "       'ExpectedPayment_Veterans Affairs', 'ApplicationType_apply now',\n",
       "       'ApplicationType_contact_admissions', 'ApplicationType_cwe_feedback',\n",
       "       'ApplicationType_financing contact us', 'ApplicationType_get notified',\n",
       "       'ApplicationType_info session', 'ApplicationType_invoice',\n",
       "       'ApplicationType_lander', 'ApplicationType_open house',\n",
       "       'ApplicationType_referral', 'ApplicationType_request info',\n",
       "       'ApplicationType_trial class', 'PardotCategory_CWE Purchase',\n",
       "       'PardotCategory_Content Partnership',\n",
       "       'PardotCategory_Facebook Acquisition',\n",
       "       'PardotCategory_GA Circuits Leads', 'PardotCategory_GA Course Leads',\n",
       "       'PardotCategory_GA Dash', 'PardotCategory_GA Front Row Signup',\n",
       "       'PardotCategory_Livestream Purchase', 'PardotCategory_Other',\n",
       "       'PardotCategory_Partner Event', 'PardotCategory_Student Enrollment',\n",
       "       'PardotCategory_Sweepstake', 'PardotCategory_Twitter Acquisition',\n",
       "       'PardotCategory_Twitter Promoted', 'PardotCategory_Uncategorized',\n",
       "       'PardotCategory_Unknown', 'PardotCategory_Website', 'EnrolDay_Friday',\n",
       "       'EnrolDay_Monday', 'EnrolDay_Saturday', 'EnrolDay_Sunday',\n",
       "       'EnrolDay_Thursday', 'EnrolDay_Tuesday', 'EnrolDay_Wednesday'],\n",
       "      dtype='object')"
      ]
     },
     "execution_count": 89,
     "metadata": {},
     "output_type": "execute_result"
    }
   ],
   "source": [
    "dummydata.columns"
   ]
  },
  {
   "cell_type": "markdown",
   "metadata": {},
   "source": [
    "## Let's try some algorithms!"
   ]
  },
  {
   "cell_type": "markdown",
   "metadata": {},
   "source": [
    "### Decision Tree"
   ]
  },
  {
   "cell_type": "code",
   "execution_count": 90,
   "metadata": {
    "collapsed": false
   },
   "outputs": [
    {
     "data": {
      "text/plain": [
       "False    28162\n",
       "True      3383\n",
       "Name: Cancelled, dtype: int64"
      ]
     },
     "execution_count": 90,
     "metadata": {},
     "output_type": "execute_result"
    }
   ],
   "source": [
    "dummydata.Cancelled.value_counts()"
   ]
  },
  {
   "cell_type": "code",
   "execution_count": 91,
   "metadata": {
    "collapsed": false
   },
   "outputs": [],
   "source": [
    "treesubset = dummydata"
   ]
  },
  {
   "cell_type": "code",
   "execution_count": 47,
   "metadata": {
    "collapsed": false
   },
   "outputs": [
    {
     "name": "stderr",
     "output_type": "stream",
     "text": [
      "/anaconda/lib/python3.6/site-packages/sklearn/cross_validation.py:44: DeprecationWarning:\n",
      "\n",
      "This module was deprecated in version 0.18 in favor of the model_selection module into which all the refactored classes and functions are moved. Also note that the interface of the new CV iterators are different from that of this module. This module will be removed in 0.20.\n",
      "\n"
     ]
    },
    {
     "data": {
      "text/html": [
       "<div>\n",
       "<table border=\"1\" class=\"dataframe\">\n",
       "  <thead>\n",
       "    <tr style=\"text-align: right;\">\n",
       "      <th></th>\n",
       "      <th>Startdate</th>\n",
       "      <th>Enddate</th>\n",
       "      <th>PhoneValid</th>\n",
       "      <th>Price</th>\n",
       "      <th>DaysEnroltoStart</th>\n",
       "      <th>DaysInvoicetoEnrol</th>\n",
       "      <th>DaysLeadtoEnroled</th>\n",
       "      <th>EnrolDate</th>\n",
       "      <th>EnrolHour</th>\n",
       "      <th>Month</th>\n",
       "      <th>...</th>\n",
       "      <th>PardotCategory_Uncategorized</th>\n",
       "      <th>PardotCategory_Unknown</th>\n",
       "      <th>PardotCategory_Website</th>\n",
       "      <th>EnrolDay_Friday</th>\n",
       "      <th>EnrolDay_Monday</th>\n",
       "      <th>EnrolDay_Saturday</th>\n",
       "      <th>EnrolDay_Sunday</th>\n",
       "      <th>EnrolDay_Thursday</th>\n",
       "      <th>EnrolDay_Tuesday</th>\n",
       "      <th>EnrolDay_Wednesday</th>\n",
       "    </tr>\n",
       "  </thead>\n",
       "  <tbody>\n",
       "    <tr>\n",
       "      <th>758</th>\n",
       "      <td>20170628</td>\n",
       "      <td>20170918</td>\n",
       "      <td>1</td>\n",
       "      <td>3950.0</td>\n",
       "      <td>96.0</td>\n",
       "      <td>0</td>\n",
       "      <td>93</td>\n",
       "      <td>20170324</td>\n",
       "      <td>15</td>\n",
       "      <td>201703</td>\n",
       "      <td>...</td>\n",
       "      <td>0</td>\n",
       "      <td>0</td>\n",
       "      <td>0</td>\n",
       "      <td>1</td>\n",
       "      <td>0</td>\n",
       "      <td>0</td>\n",
       "      <td>0</td>\n",
       "      <td>0</td>\n",
       "      <td>0</td>\n",
       "      <td>0</td>\n",
       "    </tr>\n",
       "    <tr>\n",
       "      <th>759</th>\n",
       "      <td>20170628</td>\n",
       "      <td>20170918</td>\n",
       "      <td>1</td>\n",
       "      <td>3950.0</td>\n",
       "      <td>8.0</td>\n",
       "      <td>0</td>\n",
       "      <td>1</td>\n",
       "      <td>20170620</td>\n",
       "      <td>17</td>\n",
       "      <td>201706</td>\n",
       "      <td>...</td>\n",
       "      <td>0</td>\n",
       "      <td>0</td>\n",
       "      <td>0</td>\n",
       "      <td>0</td>\n",
       "      <td>0</td>\n",
       "      <td>0</td>\n",
       "      <td>0</td>\n",
       "      <td>0</td>\n",
       "      <td>1</td>\n",
       "      <td>0</td>\n",
       "    </tr>\n",
       "    <tr>\n",
       "      <th>760</th>\n",
       "      <td>20170628</td>\n",
       "      <td>20170918</td>\n",
       "      <td>1</td>\n",
       "      <td>3950.0</td>\n",
       "      <td>6.0</td>\n",
       "      <td>0</td>\n",
       "      <td>134</td>\n",
       "      <td>20170622</td>\n",
       "      <td>23</td>\n",
       "      <td>201706</td>\n",
       "      <td>...</td>\n",
       "      <td>0</td>\n",
       "      <td>0</td>\n",
       "      <td>0</td>\n",
       "      <td>0</td>\n",
       "      <td>0</td>\n",
       "      <td>0</td>\n",
       "      <td>0</td>\n",
       "      <td>1</td>\n",
       "      <td>0</td>\n",
       "      <td>0</td>\n",
       "    </tr>\n",
       "    <tr>\n",
       "      <th>761</th>\n",
       "      <td>20170628</td>\n",
       "      <td>20170918</td>\n",
       "      <td>1</td>\n",
       "      <td>3950.0</td>\n",
       "      <td>40.0</td>\n",
       "      <td>7</td>\n",
       "      <td>16</td>\n",
       "      <td>20170519</td>\n",
       "      <td>23</td>\n",
       "      <td>201705</td>\n",
       "      <td>...</td>\n",
       "      <td>0</td>\n",
       "      <td>0</td>\n",
       "      <td>0</td>\n",
       "      <td>1</td>\n",
       "      <td>0</td>\n",
       "      <td>0</td>\n",
       "      <td>0</td>\n",
       "      <td>0</td>\n",
       "      <td>0</td>\n",
       "      <td>0</td>\n",
       "    </tr>\n",
       "    <tr>\n",
       "      <th>762</th>\n",
       "      <td>20170628</td>\n",
       "      <td>20170918</td>\n",
       "      <td>1</td>\n",
       "      <td>3950.0</td>\n",
       "      <td>44.0</td>\n",
       "      <td>7</td>\n",
       "      <td>48</td>\n",
       "      <td>20170515</td>\n",
       "      <td>18</td>\n",
       "      <td>201705</td>\n",
       "      <td>...</td>\n",
       "      <td>0</td>\n",
       "      <td>1</td>\n",
       "      <td>0</td>\n",
       "      <td>0</td>\n",
       "      <td>1</td>\n",
       "      <td>0</td>\n",
       "      <td>0</td>\n",
       "      <td>0</td>\n",
       "      <td>0</td>\n",
       "      <td>0</td>\n",
       "    </tr>\n",
       "    <tr>\n",
       "      <th>764</th>\n",
       "      <td>20170628</td>\n",
       "      <td>20170918</td>\n",
       "      <td>1</td>\n",
       "      <td>3950.0</td>\n",
       "      <td>20.0</td>\n",
       "      <td>7</td>\n",
       "      <td>31</td>\n",
       "      <td>20170608</td>\n",
       "      <td>0</td>\n",
       "      <td>201706</td>\n",
       "      <td>...</td>\n",
       "      <td>0</td>\n",
       "      <td>0</td>\n",
       "      <td>0</td>\n",
       "      <td>0</td>\n",
       "      <td>0</td>\n",
       "      <td>0</td>\n",
       "      <td>0</td>\n",
       "      <td>1</td>\n",
       "      <td>0</td>\n",
       "      <td>0</td>\n",
       "    </tr>\n",
       "    <tr>\n",
       "      <th>765</th>\n",
       "      <td>20170628</td>\n",
       "      <td>20170918</td>\n",
       "      <td>1</td>\n",
       "      <td>3950.0</td>\n",
       "      <td>18.0</td>\n",
       "      <td>0</td>\n",
       "      <td>78</td>\n",
       "      <td>20170610</td>\n",
       "      <td>16</td>\n",
       "      <td>201706</td>\n",
       "      <td>...</td>\n",
       "      <td>0</td>\n",
       "      <td>0</td>\n",
       "      <td>0</td>\n",
       "      <td>0</td>\n",
       "      <td>0</td>\n",
       "      <td>1</td>\n",
       "      <td>0</td>\n",
       "      <td>0</td>\n",
       "      <td>0</td>\n",
       "      <td>0</td>\n",
       "    </tr>\n",
       "    <tr>\n",
       "      <th>766</th>\n",
       "      <td>20170628</td>\n",
       "      <td>20170918</td>\n",
       "      <td>1</td>\n",
       "      <td>3950.0</td>\n",
       "      <td>61.0</td>\n",
       "      <td>0</td>\n",
       "      <td>2</td>\n",
       "      <td>20170428</td>\n",
       "      <td>17</td>\n",
       "      <td>201704</td>\n",
       "      <td>...</td>\n",
       "      <td>0</td>\n",
       "      <td>0</td>\n",
       "      <td>0</td>\n",
       "      <td>1</td>\n",
       "      <td>0</td>\n",
       "      <td>0</td>\n",
       "      <td>0</td>\n",
       "      <td>0</td>\n",
       "      <td>0</td>\n",
       "      <td>0</td>\n",
       "    </tr>\n",
       "    <tr>\n",
       "      <th>768</th>\n",
       "      <td>20170627</td>\n",
       "      <td>20170905</td>\n",
       "      <td>1</td>\n",
       "      <td>3950.0</td>\n",
       "      <td>90.0</td>\n",
       "      <td>0</td>\n",
       "      <td>113</td>\n",
       "      <td>20170329</td>\n",
       "      <td>4</td>\n",
       "      <td>201703</td>\n",
       "      <td>...</td>\n",
       "      <td>0</td>\n",
       "      <td>0</td>\n",
       "      <td>1</td>\n",
       "      <td>0</td>\n",
       "      <td>0</td>\n",
       "      <td>0</td>\n",
       "      <td>0</td>\n",
       "      <td>0</td>\n",
       "      <td>0</td>\n",
       "      <td>1</td>\n",
       "    </tr>\n",
       "    <tr>\n",
       "      <th>771</th>\n",
       "      <td>20170627</td>\n",
       "      <td>20170831</td>\n",
       "      <td>1</td>\n",
       "      <td>3000.0</td>\n",
       "      <td>61.0</td>\n",
       "      <td>0</td>\n",
       "      <td>85</td>\n",
       "      <td>20170427</td>\n",
       "      <td>15</td>\n",
       "      <td>201704</td>\n",
       "      <td>...</td>\n",
       "      <td>0</td>\n",
       "      <td>0</td>\n",
       "      <td>0</td>\n",
       "      <td>0</td>\n",
       "      <td>0</td>\n",
       "      <td>0</td>\n",
       "      <td>0</td>\n",
       "      <td>1</td>\n",
       "      <td>0</td>\n",
       "      <td>0</td>\n",
       "    </tr>\n",
       "    <tr>\n",
       "      <th>772</th>\n",
       "      <td>20170627</td>\n",
       "      <td>20170905</td>\n",
       "      <td>1</td>\n",
       "      <td>3950.0</td>\n",
       "      <td>19.0</td>\n",
       "      <td>0</td>\n",
       "      <td>3</td>\n",
       "      <td>20170609</td>\n",
       "      <td>20</td>\n",
       "      <td>201706</td>\n",
       "      <td>...</td>\n",
       "      <td>0</td>\n",
       "      <td>0</td>\n",
       "      <td>1</td>\n",
       "      <td>1</td>\n",
       "      <td>0</td>\n",
       "      <td>0</td>\n",
       "      <td>0</td>\n",
       "      <td>0</td>\n",
       "      <td>0</td>\n",
       "      <td>0</td>\n",
       "    </tr>\n",
       "    <tr>\n",
       "      <th>773</th>\n",
       "      <td>20170627</td>\n",
       "      <td>20170831</td>\n",
       "      <td>1</td>\n",
       "      <td>3000.0</td>\n",
       "      <td>61.0</td>\n",
       "      <td>0</td>\n",
       "      <td>56</td>\n",
       "      <td>20170427</td>\n",
       "      <td>17</td>\n",
       "      <td>201704</td>\n",
       "      <td>...</td>\n",
       "      <td>0</td>\n",
       "      <td>0</td>\n",
       "      <td>0</td>\n",
       "      <td>0</td>\n",
       "      <td>0</td>\n",
       "      <td>0</td>\n",
       "      <td>0</td>\n",
       "      <td>1</td>\n",
       "      <td>0</td>\n",
       "      <td>0</td>\n",
       "    </tr>\n",
       "    <tr>\n",
       "      <th>774</th>\n",
       "      <td>20170627</td>\n",
       "      <td>20170905</td>\n",
       "      <td>1</td>\n",
       "      <td>3950.0</td>\n",
       "      <td>12.0</td>\n",
       "      <td>0</td>\n",
       "      <td>0</td>\n",
       "      <td>20170616</td>\n",
       "      <td>21</td>\n",
       "      <td>201706</td>\n",
       "      <td>...</td>\n",
       "      <td>0</td>\n",
       "      <td>0</td>\n",
       "      <td>0</td>\n",
       "      <td>1</td>\n",
       "      <td>0</td>\n",
       "      <td>0</td>\n",
       "      <td>0</td>\n",
       "      <td>0</td>\n",
       "      <td>0</td>\n",
       "      <td>0</td>\n",
       "    </tr>\n",
       "    <tr>\n",
       "      <th>775</th>\n",
       "      <td>20170627</td>\n",
       "      <td>20170905</td>\n",
       "      <td>1</td>\n",
       "      <td>3950.0</td>\n",
       "      <td>8.0</td>\n",
       "      <td>0</td>\n",
       "      <td>6</td>\n",
       "      <td>20170620</td>\n",
       "      <td>8</td>\n",
       "      <td>201706</td>\n",
       "      <td>...</td>\n",
       "      <td>0</td>\n",
       "      <td>0</td>\n",
       "      <td>0</td>\n",
       "      <td>0</td>\n",
       "      <td>0</td>\n",
       "      <td>0</td>\n",
       "      <td>0</td>\n",
       "      <td>0</td>\n",
       "      <td>1</td>\n",
       "      <td>0</td>\n",
       "    </tr>\n",
       "    <tr>\n",
       "      <th>776</th>\n",
       "      <td>20170627</td>\n",
       "      <td>20170905</td>\n",
       "      <td>1</td>\n",
       "      <td>3950.0</td>\n",
       "      <td>20.0</td>\n",
       "      <td>0</td>\n",
       "      <td>20</td>\n",
       "      <td>20170607</td>\n",
       "      <td>21</td>\n",
       "      <td>201706</td>\n",
       "      <td>...</td>\n",
       "      <td>0</td>\n",
       "      <td>0</td>\n",
       "      <td>1</td>\n",
       "      <td>0</td>\n",
       "      <td>0</td>\n",
       "      <td>0</td>\n",
       "      <td>0</td>\n",
       "      <td>0</td>\n",
       "      <td>0</td>\n",
       "      <td>1</td>\n",
       "    </tr>\n",
       "    <tr>\n",
       "      <th>777</th>\n",
       "      <td>20170627</td>\n",
       "      <td>20170905</td>\n",
       "      <td>1</td>\n",
       "      <td>3950.0</td>\n",
       "      <td>14.0</td>\n",
       "      <td>0</td>\n",
       "      <td>12</td>\n",
       "      <td>20170614</td>\n",
       "      <td>20</td>\n",
       "      <td>201706</td>\n",
       "      <td>...</td>\n",
       "      <td>0</td>\n",
       "      <td>0</td>\n",
       "      <td>0</td>\n",
       "      <td>0</td>\n",
       "      <td>0</td>\n",
       "      <td>0</td>\n",
       "      <td>0</td>\n",
       "      <td>0</td>\n",
       "      <td>0</td>\n",
       "      <td>1</td>\n",
       "    </tr>\n",
       "    <tr>\n",
       "      <th>779</th>\n",
       "      <td>20170627</td>\n",
       "      <td>20170905</td>\n",
       "      <td>1</td>\n",
       "      <td>3950.0</td>\n",
       "      <td>46.0</td>\n",
       "      <td>0</td>\n",
       "      <td>7</td>\n",
       "      <td>20170512</td>\n",
       "      <td>22</td>\n",
       "      <td>201705</td>\n",
       "      <td>...</td>\n",
       "      <td>0</td>\n",
       "      <td>0</td>\n",
       "      <td>0</td>\n",
       "      <td>1</td>\n",
       "      <td>0</td>\n",
       "      <td>0</td>\n",
       "      <td>0</td>\n",
       "      <td>0</td>\n",
       "      <td>0</td>\n",
       "      <td>0</td>\n",
       "    </tr>\n",
       "    <tr>\n",
       "      <th>781</th>\n",
       "      <td>20170627</td>\n",
       "      <td>20170905</td>\n",
       "      <td>1</td>\n",
       "      <td>3950.0</td>\n",
       "      <td>21.0</td>\n",
       "      <td>0</td>\n",
       "      <td>19</td>\n",
       "      <td>20170606</td>\n",
       "      <td>22</td>\n",
       "      <td>201706</td>\n",
       "      <td>...</td>\n",
       "      <td>0</td>\n",
       "      <td>0</td>\n",
       "      <td>0</td>\n",
       "      <td>0</td>\n",
       "      <td>0</td>\n",
       "      <td>0</td>\n",
       "      <td>0</td>\n",
       "      <td>0</td>\n",
       "      <td>1</td>\n",
       "      <td>0</td>\n",
       "    </tr>\n",
       "    <tr>\n",
       "      <th>782</th>\n",
       "      <td>20170627</td>\n",
       "      <td>20170905</td>\n",
       "      <td>0</td>\n",
       "      <td>3950.0</td>\n",
       "      <td>61.0</td>\n",
       "      <td>0</td>\n",
       "      <td>162</td>\n",
       "      <td>20170427</td>\n",
       "      <td>3</td>\n",
       "      <td>201704</td>\n",
       "      <td>...</td>\n",
       "      <td>0</td>\n",
       "      <td>0</td>\n",
       "      <td>0</td>\n",
       "      <td>0</td>\n",
       "      <td>0</td>\n",
       "      <td>0</td>\n",
       "      <td>0</td>\n",
       "      <td>1</td>\n",
       "      <td>0</td>\n",
       "      <td>0</td>\n",
       "    </tr>\n",
       "    <tr>\n",
       "      <th>783</th>\n",
       "      <td>20170627</td>\n",
       "      <td>20170905</td>\n",
       "      <td>1</td>\n",
       "      <td>3950.0</td>\n",
       "      <td>47.0</td>\n",
       "      <td>7</td>\n",
       "      <td>11</td>\n",
       "      <td>20170511</td>\n",
       "      <td>0</td>\n",
       "      <td>201705</td>\n",
       "      <td>...</td>\n",
       "      <td>0</td>\n",
       "      <td>0</td>\n",
       "      <td>0</td>\n",
       "      <td>0</td>\n",
       "      <td>0</td>\n",
       "      <td>0</td>\n",
       "      <td>0</td>\n",
       "      <td>1</td>\n",
       "      <td>0</td>\n",
       "      <td>0</td>\n",
       "    </tr>\n",
       "    <tr>\n",
       "      <th>784</th>\n",
       "      <td>20170627</td>\n",
       "      <td>20170905</td>\n",
       "      <td>0</td>\n",
       "      <td>3950.0</td>\n",
       "      <td>7.0</td>\n",
       "      <td>0</td>\n",
       "      <td>40</td>\n",
       "      <td>20170621</td>\n",
       "      <td>2</td>\n",
       "      <td>201706</td>\n",
       "      <td>...</td>\n",
       "      <td>0</td>\n",
       "      <td>0</td>\n",
       "      <td>0</td>\n",
       "      <td>0</td>\n",
       "      <td>0</td>\n",
       "      <td>0</td>\n",
       "      <td>0</td>\n",
       "      <td>0</td>\n",
       "      <td>0</td>\n",
       "      <td>1</td>\n",
       "    </tr>\n",
       "    <tr>\n",
       "      <th>786</th>\n",
       "      <td>20170627</td>\n",
       "      <td>20170905</td>\n",
       "      <td>1</td>\n",
       "      <td>3950.0</td>\n",
       "      <td>41.0</td>\n",
       "      <td>0</td>\n",
       "      <td>7</td>\n",
       "      <td>20170517</td>\n",
       "      <td>15</td>\n",
       "      <td>201705</td>\n",
       "      <td>...</td>\n",
       "      <td>0</td>\n",
       "      <td>0</td>\n",
       "      <td>0</td>\n",
       "      <td>0</td>\n",
       "      <td>0</td>\n",
       "      <td>0</td>\n",
       "      <td>0</td>\n",
       "      <td>0</td>\n",
       "      <td>0</td>\n",
       "      <td>1</td>\n",
       "    </tr>\n",
       "    <tr>\n",
       "      <th>787</th>\n",
       "      <td>20170627</td>\n",
       "      <td>20170905</td>\n",
       "      <td>1</td>\n",
       "      <td>3950.0</td>\n",
       "      <td>19.0</td>\n",
       "      <td>7</td>\n",
       "      <td>6</td>\n",
       "      <td>20170608</td>\n",
       "      <td>16</td>\n",
       "      <td>201706</td>\n",
       "      <td>...</td>\n",
       "      <td>0</td>\n",
       "      <td>0</td>\n",
       "      <td>0</td>\n",
       "      <td>0</td>\n",
       "      <td>0</td>\n",
       "      <td>0</td>\n",
       "      <td>0</td>\n",
       "      <td>1</td>\n",
       "      <td>0</td>\n",
       "      <td>0</td>\n",
       "    </tr>\n",
       "    <tr>\n",
       "      <th>789</th>\n",
       "      <td>20170627</td>\n",
       "      <td>20170831</td>\n",
       "      <td>1</td>\n",
       "      <td>3000.0</td>\n",
       "      <td>17.0</td>\n",
       "      <td>70</td>\n",
       "      <td>95</td>\n",
       "      <td>20170610</td>\n",
       "      <td>15</td>\n",
       "      <td>201706</td>\n",
       "      <td>...</td>\n",
       "      <td>0</td>\n",
       "      <td>0</td>\n",
       "      <td>0</td>\n",
       "      <td>0</td>\n",
       "      <td>0</td>\n",
       "      <td>1</td>\n",
       "      <td>0</td>\n",
       "      <td>0</td>\n",
       "      <td>0</td>\n",
       "      <td>0</td>\n",
       "    </tr>\n",
       "    <tr>\n",
       "      <th>790</th>\n",
       "      <td>20170627</td>\n",
       "      <td>20170907</td>\n",
       "      <td>1</td>\n",
       "      <td>3950.0</td>\n",
       "      <td>46.0</td>\n",
       "      <td>0</td>\n",
       "      <td>240</td>\n",
       "      <td>20170513</td>\n",
       "      <td>22</td>\n",
       "      <td>201705</td>\n",
       "      <td>...</td>\n",
       "      <td>0</td>\n",
       "      <td>0</td>\n",
       "      <td>0</td>\n",
       "      <td>0</td>\n",
       "      <td>0</td>\n",
       "      <td>1</td>\n",
       "      <td>0</td>\n",
       "      <td>0</td>\n",
       "      <td>0</td>\n",
       "      <td>0</td>\n",
       "    </tr>\n",
       "    <tr>\n",
       "      <th>793</th>\n",
       "      <td>20170627</td>\n",
       "      <td>20170831</td>\n",
       "      <td>1</td>\n",
       "      <td>4500.0</td>\n",
       "      <td>7.0</td>\n",
       "      <td>0</td>\n",
       "      <td>0</td>\n",
       "      <td>20170620</td>\n",
       "      <td>10</td>\n",
       "      <td>201706</td>\n",
       "      <td>...</td>\n",
       "      <td>0</td>\n",
       "      <td>0</td>\n",
       "      <td>0</td>\n",
       "      <td>0</td>\n",
       "      <td>0</td>\n",
       "      <td>0</td>\n",
       "      <td>0</td>\n",
       "      <td>0</td>\n",
       "      <td>1</td>\n",
       "      <td>0</td>\n",
       "    </tr>\n",
       "    <tr>\n",
       "      <th>794</th>\n",
       "      <td>20170627</td>\n",
       "      <td>20170831</td>\n",
       "      <td>1</td>\n",
       "      <td>3000.0</td>\n",
       "      <td>4.0</td>\n",
       "      <td>0</td>\n",
       "      <td>151</td>\n",
       "      <td>20170623</td>\n",
       "      <td>10</td>\n",
       "      <td>201706</td>\n",
       "      <td>...</td>\n",
       "      <td>0</td>\n",
       "      <td>0</td>\n",
       "      <td>1</td>\n",
       "      <td>1</td>\n",
       "      <td>0</td>\n",
       "      <td>0</td>\n",
       "      <td>0</td>\n",
       "      <td>0</td>\n",
       "      <td>0</td>\n",
       "      <td>0</td>\n",
       "    </tr>\n",
       "    <tr>\n",
       "      <th>795</th>\n",
       "      <td>20170627</td>\n",
       "      <td>20170831</td>\n",
       "      <td>1</td>\n",
       "      <td>4500.0</td>\n",
       "      <td>4.0</td>\n",
       "      <td>49</td>\n",
       "      <td>240</td>\n",
       "      <td>20170623</td>\n",
       "      <td>0</td>\n",
       "      <td>201706</td>\n",
       "      <td>...</td>\n",
       "      <td>0</td>\n",
       "      <td>0</td>\n",
       "      <td>0</td>\n",
       "      <td>1</td>\n",
       "      <td>0</td>\n",
       "      <td>0</td>\n",
       "      <td>0</td>\n",
       "      <td>0</td>\n",
       "      <td>0</td>\n",
       "      <td>0</td>\n",
       "    </tr>\n",
       "    <tr>\n",
       "      <th>796</th>\n",
       "      <td>20170627</td>\n",
       "      <td>20170905</td>\n",
       "      <td>1</td>\n",
       "      <td>3950.0</td>\n",
       "      <td>13.0</td>\n",
       "      <td>0</td>\n",
       "      <td>21</td>\n",
       "      <td>20170615</td>\n",
       "      <td>19</td>\n",
       "      <td>201706</td>\n",
       "      <td>...</td>\n",
       "      <td>0</td>\n",
       "      <td>0</td>\n",
       "      <td>1</td>\n",
       "      <td>0</td>\n",
       "      <td>0</td>\n",
       "      <td>0</td>\n",
       "      <td>0</td>\n",
       "      <td>1</td>\n",
       "      <td>0</td>\n",
       "      <td>0</td>\n",
       "    </tr>\n",
       "    <tr>\n",
       "      <th>800</th>\n",
       "      <td>20170627</td>\n",
       "      <td>20170905</td>\n",
       "      <td>1</td>\n",
       "      <td>3950.0</td>\n",
       "      <td>14.0</td>\n",
       "      <td>0</td>\n",
       "      <td>110</td>\n",
       "      <td>20170613</td>\n",
       "      <td>18</td>\n",
       "      <td>201706</td>\n",
       "      <td>...</td>\n",
       "      <td>0</td>\n",
       "      <td>0</td>\n",
       "      <td>0</td>\n",
       "      <td>0</td>\n",
       "      <td>0</td>\n",
       "      <td>0</td>\n",
       "      <td>0</td>\n",
       "      <td>0</td>\n",
       "      <td>1</td>\n",
       "      <td>0</td>\n",
       "    </tr>\n",
       "    <tr>\n",
       "      <th>...</th>\n",
       "      <td>...</td>\n",
       "      <td>...</td>\n",
       "      <td>...</td>\n",
       "      <td>...</td>\n",
       "      <td>...</td>\n",
       "      <td>...</td>\n",
       "      <td>...</td>\n",
       "      <td>...</td>\n",
       "      <td>...</td>\n",
       "      <td>...</td>\n",
       "      <td>...</td>\n",
       "      <td>...</td>\n",
       "      <td>...</td>\n",
       "      <td>...</td>\n",
       "      <td>...</td>\n",
       "      <td>...</td>\n",
       "      <td>...</td>\n",
       "      <td>...</td>\n",
       "      <td>...</td>\n",
       "      <td>...</td>\n",
       "      <td>...</td>\n",
       "    </tr>\n",
       "    <tr>\n",
       "      <th>42577</th>\n",
       "      <td>20140717</td>\n",
       "      <td>20140925</td>\n",
       "      <td>1</td>\n",
       "      <td>3250.0</td>\n",
       "      <td>3.0</td>\n",
       "      <td>0</td>\n",
       "      <td>3</td>\n",
       "      <td>20140714</td>\n",
       "      <td>21</td>\n",
       "      <td>201407</td>\n",
       "      <td>...</td>\n",
       "      <td>0</td>\n",
       "      <td>0</td>\n",
       "      <td>0</td>\n",
       "      <td>0</td>\n",
       "      <td>1</td>\n",
       "      <td>0</td>\n",
       "      <td>0</td>\n",
       "      <td>0</td>\n",
       "      <td>0</td>\n",
       "      <td>0</td>\n",
       "    </tr>\n",
       "    <tr>\n",
       "      <th>42578</th>\n",
       "      <td>20140717</td>\n",
       "      <td>20140925</td>\n",
       "      <td>0</td>\n",
       "      <td>3250.0</td>\n",
       "      <td>4.0</td>\n",
       "      <td>0</td>\n",
       "      <td>2</td>\n",
       "      <td>20140713</td>\n",
       "      <td>15</td>\n",
       "      <td>201407</td>\n",
       "      <td>...</td>\n",
       "      <td>0</td>\n",
       "      <td>0</td>\n",
       "      <td>0</td>\n",
       "      <td>0</td>\n",
       "      <td>0</td>\n",
       "      <td>0</td>\n",
       "      <td>1</td>\n",
       "      <td>0</td>\n",
       "      <td>0</td>\n",
       "      <td>0</td>\n",
       "    </tr>\n",
       "    <tr>\n",
       "      <th>42579</th>\n",
       "      <td>20140717</td>\n",
       "      <td>20140925</td>\n",
       "      <td>1</td>\n",
       "      <td>3250.0</td>\n",
       "      <td>10.0</td>\n",
       "      <td>7</td>\n",
       "      <td>13</td>\n",
       "      <td>20140707</td>\n",
       "      <td>2</td>\n",
       "      <td>201407</td>\n",
       "      <td>...</td>\n",
       "      <td>1</td>\n",
       "      <td>0</td>\n",
       "      <td>0</td>\n",
       "      <td>0</td>\n",
       "      <td>1</td>\n",
       "      <td>0</td>\n",
       "      <td>0</td>\n",
       "      <td>0</td>\n",
       "      <td>0</td>\n",
       "      <td>0</td>\n",
       "    </tr>\n",
       "    <tr>\n",
       "      <th>42580</th>\n",
       "      <td>20140717</td>\n",
       "      <td>20140925</td>\n",
       "      <td>1</td>\n",
       "      <td>3250.0</td>\n",
       "      <td>2.0</td>\n",
       "      <td>7</td>\n",
       "      <td>14</td>\n",
       "      <td>20140715</td>\n",
       "      <td>2</td>\n",
       "      <td>201407</td>\n",
       "      <td>...</td>\n",
       "      <td>1</td>\n",
       "      <td>0</td>\n",
       "      <td>0</td>\n",
       "      <td>0</td>\n",
       "      <td>0</td>\n",
       "      <td>0</td>\n",
       "      <td>0</td>\n",
       "      <td>0</td>\n",
       "      <td>1</td>\n",
       "      <td>0</td>\n",
       "    </tr>\n",
       "    <tr>\n",
       "      <th>42582</th>\n",
       "      <td>20140717</td>\n",
       "      <td>20140925</td>\n",
       "      <td>1</td>\n",
       "      <td>3250.0</td>\n",
       "      <td>5.0</td>\n",
       "      <td>0</td>\n",
       "      <td>4</td>\n",
       "      <td>20140712</td>\n",
       "      <td>14</td>\n",
       "      <td>201407</td>\n",
       "      <td>...</td>\n",
       "      <td>0</td>\n",
       "      <td>0</td>\n",
       "      <td>1</td>\n",
       "      <td>0</td>\n",
       "      <td>0</td>\n",
       "      <td>1</td>\n",
       "      <td>0</td>\n",
       "      <td>0</td>\n",
       "      <td>0</td>\n",
       "      <td>0</td>\n",
       "    </tr>\n",
       "    <tr>\n",
       "      <th>42583</th>\n",
       "      <td>20140717</td>\n",
       "      <td>20140925</td>\n",
       "      <td>1</td>\n",
       "      <td>3250.0</td>\n",
       "      <td>10.0</td>\n",
       "      <td>21</td>\n",
       "      <td>27</td>\n",
       "      <td>20140707</td>\n",
       "      <td>20</td>\n",
       "      <td>201407</td>\n",
       "      <td>...</td>\n",
       "      <td>0</td>\n",
       "      <td>0</td>\n",
       "      <td>0</td>\n",
       "      <td>0</td>\n",
       "      <td>1</td>\n",
       "      <td>0</td>\n",
       "      <td>0</td>\n",
       "      <td>0</td>\n",
       "      <td>0</td>\n",
       "      <td>0</td>\n",
       "    </tr>\n",
       "    <tr>\n",
       "      <th>42584</th>\n",
       "      <td>20140717</td>\n",
       "      <td>20140925</td>\n",
       "      <td>1</td>\n",
       "      <td>3250.0</td>\n",
       "      <td>10.0</td>\n",
       "      <td>21</td>\n",
       "      <td>21</td>\n",
       "      <td>20140707</td>\n",
       "      <td>20</td>\n",
       "      <td>201407</td>\n",
       "      <td>...</td>\n",
       "      <td>0</td>\n",
       "      <td>0</td>\n",
       "      <td>1</td>\n",
       "      <td>0</td>\n",
       "      <td>1</td>\n",
       "      <td>0</td>\n",
       "      <td>0</td>\n",
       "      <td>0</td>\n",
       "      <td>0</td>\n",
       "      <td>0</td>\n",
       "    </tr>\n",
       "    <tr>\n",
       "      <th>42586</th>\n",
       "      <td>20140717</td>\n",
       "      <td>20140925</td>\n",
       "      <td>0</td>\n",
       "      <td>3250.0</td>\n",
       "      <td>2.0</td>\n",
       "      <td>0</td>\n",
       "      <td>0</td>\n",
       "      <td>20140715</td>\n",
       "      <td>16</td>\n",
       "      <td>201407</td>\n",
       "      <td>...</td>\n",
       "      <td>0</td>\n",
       "      <td>0</td>\n",
       "      <td>0</td>\n",
       "      <td>0</td>\n",
       "      <td>0</td>\n",
       "      <td>0</td>\n",
       "      <td>0</td>\n",
       "      <td>0</td>\n",
       "      <td>1</td>\n",
       "      <td>0</td>\n",
       "    </tr>\n",
       "    <tr>\n",
       "      <th>42588</th>\n",
       "      <td>20140717</td>\n",
       "      <td>20140925</td>\n",
       "      <td>1</td>\n",
       "      <td>3250.0</td>\n",
       "      <td>7.0</td>\n",
       "      <td>0</td>\n",
       "      <td>16</td>\n",
       "      <td>20140710</td>\n",
       "      <td>14</td>\n",
       "      <td>201407</td>\n",
       "      <td>...</td>\n",
       "      <td>0</td>\n",
       "      <td>0</td>\n",
       "      <td>0</td>\n",
       "      <td>0</td>\n",
       "      <td>0</td>\n",
       "      <td>0</td>\n",
       "      <td>0</td>\n",
       "      <td>1</td>\n",
       "      <td>0</td>\n",
       "      <td>0</td>\n",
       "    </tr>\n",
       "    <tr>\n",
       "      <th>42589</th>\n",
       "      <td>20140717</td>\n",
       "      <td>20140925</td>\n",
       "      <td>1</td>\n",
       "      <td>3250.0</td>\n",
       "      <td>4.0</td>\n",
       "      <td>0</td>\n",
       "      <td>25</td>\n",
       "      <td>20140713</td>\n",
       "      <td>16</td>\n",
       "      <td>201407</td>\n",
       "      <td>...</td>\n",
       "      <td>0</td>\n",
       "      <td>0</td>\n",
       "      <td>0</td>\n",
       "      <td>0</td>\n",
       "      <td>0</td>\n",
       "      <td>0</td>\n",
       "      <td>1</td>\n",
       "      <td>0</td>\n",
       "      <td>0</td>\n",
       "      <td>0</td>\n",
       "    </tr>\n",
       "    <tr>\n",
       "      <th>42590</th>\n",
       "      <td>20140717</td>\n",
       "      <td>20140925</td>\n",
       "      <td>1</td>\n",
       "      <td>3250.0</td>\n",
       "      <td>3.0</td>\n",
       "      <td>7</td>\n",
       "      <td>19</td>\n",
       "      <td>20140714</td>\n",
       "      <td>15</td>\n",
       "      <td>201407</td>\n",
       "      <td>...</td>\n",
       "      <td>0</td>\n",
       "      <td>0</td>\n",
       "      <td>0</td>\n",
       "      <td>0</td>\n",
       "      <td>1</td>\n",
       "      <td>0</td>\n",
       "      <td>0</td>\n",
       "      <td>0</td>\n",
       "      <td>0</td>\n",
       "      <td>0</td>\n",
       "    </tr>\n",
       "    <tr>\n",
       "      <th>42603</th>\n",
       "      <td>20140715</td>\n",
       "      <td>20140918</td>\n",
       "      <td>1</td>\n",
       "      <td>3250.0</td>\n",
       "      <td>5.0</td>\n",
       "      <td>0</td>\n",
       "      <td>1</td>\n",
       "      <td>20140710</td>\n",
       "      <td>20</td>\n",
       "      <td>201407</td>\n",
       "      <td>...</td>\n",
       "      <td>0</td>\n",
       "      <td>0</td>\n",
       "      <td>0</td>\n",
       "      <td>0</td>\n",
       "      <td>0</td>\n",
       "      <td>0</td>\n",
       "      <td>0</td>\n",
       "      <td>1</td>\n",
       "      <td>0</td>\n",
       "      <td>0</td>\n",
       "    </tr>\n",
       "    <tr>\n",
       "      <th>42616</th>\n",
       "      <td>20140715</td>\n",
       "      <td>20140918</td>\n",
       "      <td>1</td>\n",
       "      <td>3500.0</td>\n",
       "      <td>12.0</td>\n",
       "      <td>0</td>\n",
       "      <td>7</td>\n",
       "      <td>20140703</td>\n",
       "      <td>1</td>\n",
       "      <td>201407</td>\n",
       "      <td>...</td>\n",
       "      <td>0</td>\n",
       "      <td>0</td>\n",
       "      <td>0</td>\n",
       "      <td>0</td>\n",
       "      <td>0</td>\n",
       "      <td>0</td>\n",
       "      <td>0</td>\n",
       "      <td>1</td>\n",
       "      <td>0</td>\n",
       "      <td>0</td>\n",
       "    </tr>\n",
       "    <tr>\n",
       "      <th>42619</th>\n",
       "      <td>20140715</td>\n",
       "      <td>20140918</td>\n",
       "      <td>1</td>\n",
       "      <td>3500.0</td>\n",
       "      <td>3.0</td>\n",
       "      <td>0</td>\n",
       "      <td>27</td>\n",
       "      <td>20140712</td>\n",
       "      <td>14</td>\n",
       "      <td>201407</td>\n",
       "      <td>...</td>\n",
       "      <td>0</td>\n",
       "      <td>0</td>\n",
       "      <td>1</td>\n",
       "      <td>0</td>\n",
       "      <td>0</td>\n",
       "      <td>1</td>\n",
       "      <td>0</td>\n",
       "      <td>0</td>\n",
       "      <td>0</td>\n",
       "      <td>0</td>\n",
       "    </tr>\n",
       "    <tr>\n",
       "      <th>42623</th>\n",
       "      <td>20140714</td>\n",
       "      <td>20140917</td>\n",
       "      <td>1</td>\n",
       "      <td>4000.0</td>\n",
       "      <td>1.0</td>\n",
       "      <td>7</td>\n",
       "      <td>9</td>\n",
       "      <td>20140713</td>\n",
       "      <td>21</td>\n",
       "      <td>201407</td>\n",
       "      <td>...</td>\n",
       "      <td>0</td>\n",
       "      <td>0</td>\n",
       "      <td>0</td>\n",
       "      <td>0</td>\n",
       "      <td>0</td>\n",
       "      <td>0</td>\n",
       "      <td>1</td>\n",
       "      <td>0</td>\n",
       "      <td>0</td>\n",
       "      <td>0</td>\n",
       "    </tr>\n",
       "    <tr>\n",
       "      <th>42624</th>\n",
       "      <td>20140714</td>\n",
       "      <td>20140917</td>\n",
       "      <td>1</td>\n",
       "      <td>4000.0</td>\n",
       "      <td>3.0</td>\n",
       "      <td>0</td>\n",
       "      <td>1</td>\n",
       "      <td>20140711</td>\n",
       "      <td>4</td>\n",
       "      <td>201407</td>\n",
       "      <td>...</td>\n",
       "      <td>0</td>\n",
       "      <td>0</td>\n",
       "      <td>0</td>\n",
       "      <td>1</td>\n",
       "      <td>0</td>\n",
       "      <td>0</td>\n",
       "      <td>0</td>\n",
       "      <td>0</td>\n",
       "      <td>0</td>\n",
       "      <td>0</td>\n",
       "    </tr>\n",
       "    <tr>\n",
       "      <th>42632</th>\n",
       "      <td>20140714</td>\n",
       "      <td>20140917</td>\n",
       "      <td>1</td>\n",
       "      <td>4000.0</td>\n",
       "      <td>5.0</td>\n",
       "      <td>0</td>\n",
       "      <td>8</td>\n",
       "      <td>20140709</td>\n",
       "      <td>3</td>\n",
       "      <td>201407</td>\n",
       "      <td>...</td>\n",
       "      <td>0</td>\n",
       "      <td>0</td>\n",
       "      <td>0</td>\n",
       "      <td>0</td>\n",
       "      <td>0</td>\n",
       "      <td>0</td>\n",
       "      <td>0</td>\n",
       "      <td>0</td>\n",
       "      <td>0</td>\n",
       "      <td>1</td>\n",
       "    </tr>\n",
       "    <tr>\n",
       "      <th>42636</th>\n",
       "      <td>20140714</td>\n",
       "      <td>20140917</td>\n",
       "      <td>1</td>\n",
       "      <td>4000.0</td>\n",
       "      <td>13.0</td>\n",
       "      <td>0</td>\n",
       "      <td>2</td>\n",
       "      <td>20140701</td>\n",
       "      <td>0</td>\n",
       "      <td>201407</td>\n",
       "      <td>...</td>\n",
       "      <td>0</td>\n",
       "      <td>0</td>\n",
       "      <td>0</td>\n",
       "      <td>0</td>\n",
       "      <td>0</td>\n",
       "      <td>0</td>\n",
       "      <td>0</td>\n",
       "      <td>0</td>\n",
       "      <td>1</td>\n",
       "      <td>0</td>\n",
       "    </tr>\n",
       "    <tr>\n",
       "      <th>42637</th>\n",
       "      <td>20140714</td>\n",
       "      <td>20140917</td>\n",
       "      <td>1</td>\n",
       "      <td>4000.0</td>\n",
       "      <td>13.0</td>\n",
       "      <td>7</td>\n",
       "      <td>17</td>\n",
       "      <td>20140701</td>\n",
       "      <td>1</td>\n",
       "      <td>201407</td>\n",
       "      <td>...</td>\n",
       "      <td>0</td>\n",
       "      <td>0</td>\n",
       "      <td>1</td>\n",
       "      <td>0</td>\n",
       "      <td>0</td>\n",
       "      <td>0</td>\n",
       "      <td>0</td>\n",
       "      <td>0</td>\n",
       "      <td>1</td>\n",
       "      <td>0</td>\n",
       "    </tr>\n",
       "    <tr>\n",
       "      <th>42647</th>\n",
       "      <td>20140709</td>\n",
       "      <td>20140917</td>\n",
       "      <td>1</td>\n",
       "      <td>3500.0</td>\n",
       "      <td>8.0</td>\n",
       "      <td>7</td>\n",
       "      <td>13</td>\n",
       "      <td>20140702</td>\n",
       "      <td>4</td>\n",
       "      <td>201407</td>\n",
       "      <td>...</td>\n",
       "      <td>0</td>\n",
       "      <td>0</td>\n",
       "      <td>0</td>\n",
       "      <td>0</td>\n",
       "      <td>0</td>\n",
       "      <td>0</td>\n",
       "      <td>0</td>\n",
       "      <td>0</td>\n",
       "      <td>0</td>\n",
       "      <td>1</td>\n",
       "    </tr>\n",
       "    <tr>\n",
       "      <th>42653</th>\n",
       "      <td>20140709</td>\n",
       "      <td>20140917</td>\n",
       "      <td>1</td>\n",
       "      <td>3500.0</td>\n",
       "      <td>8.0</td>\n",
       "      <td>7</td>\n",
       "      <td>20</td>\n",
       "      <td>20140702</td>\n",
       "      <td>17</td>\n",
       "      <td>201407</td>\n",
       "      <td>...</td>\n",
       "      <td>0</td>\n",
       "      <td>0</td>\n",
       "      <td>0</td>\n",
       "      <td>0</td>\n",
       "      <td>0</td>\n",
       "      <td>0</td>\n",
       "      <td>0</td>\n",
       "      <td>0</td>\n",
       "      <td>0</td>\n",
       "      <td>1</td>\n",
       "    </tr>\n",
       "    <tr>\n",
       "      <th>42654</th>\n",
       "      <td>20140709</td>\n",
       "      <td>20140917</td>\n",
       "      <td>1</td>\n",
       "      <td>3500.0</td>\n",
       "      <td>3.0</td>\n",
       "      <td>7</td>\n",
       "      <td>6</td>\n",
       "      <td>20140707</td>\n",
       "      <td>18</td>\n",
       "      <td>201407</td>\n",
       "      <td>...</td>\n",
       "      <td>0</td>\n",
       "      <td>0</td>\n",
       "      <td>1</td>\n",
       "      <td>0</td>\n",
       "      <td>1</td>\n",
       "      <td>0</td>\n",
       "      <td>0</td>\n",
       "      <td>0</td>\n",
       "      <td>0</td>\n",
       "      <td>0</td>\n",
       "    </tr>\n",
       "    <tr>\n",
       "      <th>42656</th>\n",
       "      <td>20140708</td>\n",
       "      <td>20140918</td>\n",
       "      <td>1</td>\n",
       "      <td>4000.0</td>\n",
       "      <td>1.0</td>\n",
       "      <td>0</td>\n",
       "      <td>2</td>\n",
       "      <td>20140708</td>\n",
       "      <td>6</td>\n",
       "      <td>201407</td>\n",
       "      <td>...</td>\n",
       "      <td>0</td>\n",
       "      <td>0</td>\n",
       "      <td>0</td>\n",
       "      <td>0</td>\n",
       "      <td>0</td>\n",
       "      <td>0</td>\n",
       "      <td>0</td>\n",
       "      <td>0</td>\n",
       "      <td>1</td>\n",
       "      <td>0</td>\n",
       "    </tr>\n",
       "    <tr>\n",
       "      <th>42659</th>\n",
       "      <td>20140708</td>\n",
       "      <td>20140918</td>\n",
       "      <td>1</td>\n",
       "      <td>4000.0</td>\n",
       "      <td>3.0</td>\n",
       "      <td>7</td>\n",
       "      <td>17</td>\n",
       "      <td>20140706</td>\n",
       "      <td>17</td>\n",
       "      <td>201407</td>\n",
       "      <td>...</td>\n",
       "      <td>0</td>\n",
       "      <td>0</td>\n",
       "      <td>0</td>\n",
       "      <td>0</td>\n",
       "      <td>0</td>\n",
       "      <td>0</td>\n",
       "      <td>1</td>\n",
       "      <td>0</td>\n",
       "      <td>0</td>\n",
       "      <td>0</td>\n",
       "    </tr>\n",
       "    <tr>\n",
       "      <th>42662</th>\n",
       "      <td>20140708</td>\n",
       "      <td>20140918</td>\n",
       "      <td>1</td>\n",
       "      <td>4000.0</td>\n",
       "      <td>7.0</td>\n",
       "      <td>0</td>\n",
       "      <td>3</td>\n",
       "      <td>20140702</td>\n",
       "      <td>7</td>\n",
       "      <td>201407</td>\n",
       "      <td>...</td>\n",
       "      <td>0</td>\n",
       "      <td>0</td>\n",
       "      <td>0</td>\n",
       "      <td>0</td>\n",
       "      <td>0</td>\n",
       "      <td>0</td>\n",
       "      <td>0</td>\n",
       "      <td>0</td>\n",
       "      <td>0</td>\n",
       "      <td>1</td>\n",
       "    </tr>\n",
       "    <tr>\n",
       "      <th>42668</th>\n",
       "      <td>20140708</td>\n",
       "      <td>20140918</td>\n",
       "      <td>1</td>\n",
       "      <td>4000.0</td>\n",
       "      <td>1.0</td>\n",
       "      <td>14</td>\n",
       "      <td>172</td>\n",
       "      <td>20140708</td>\n",
       "      <td>22</td>\n",
       "      <td>201407</td>\n",
       "      <td>...</td>\n",
       "      <td>0</td>\n",
       "      <td>0</td>\n",
       "      <td>0</td>\n",
       "      <td>0</td>\n",
       "      <td>0</td>\n",
       "      <td>0</td>\n",
       "      <td>0</td>\n",
       "      <td>0</td>\n",
       "      <td>1</td>\n",
       "      <td>0</td>\n",
       "    </tr>\n",
       "    <tr>\n",
       "      <th>42669</th>\n",
       "      <td>20140708</td>\n",
       "      <td>20140918</td>\n",
       "      <td>1</td>\n",
       "      <td>4000.0</td>\n",
       "      <td>6.0</td>\n",
       "      <td>7</td>\n",
       "      <td>7</td>\n",
       "      <td>20140703</td>\n",
       "      <td>18</td>\n",
       "      <td>201407</td>\n",
       "      <td>...</td>\n",
       "      <td>0</td>\n",
       "      <td>0</td>\n",
       "      <td>0</td>\n",
       "      <td>0</td>\n",
       "      <td>0</td>\n",
       "      <td>0</td>\n",
       "      <td>0</td>\n",
       "      <td>1</td>\n",
       "      <td>0</td>\n",
       "      <td>0</td>\n",
       "    </tr>\n",
       "    <tr>\n",
       "      <th>42670</th>\n",
       "      <td>20140708</td>\n",
       "      <td>20140918</td>\n",
       "      <td>1</td>\n",
       "      <td>4000.0</td>\n",
       "      <td>2.0</td>\n",
       "      <td>14</td>\n",
       "      <td>11</td>\n",
       "      <td>20140707</td>\n",
       "      <td>22</td>\n",
       "      <td>201407</td>\n",
       "      <td>...</td>\n",
       "      <td>0</td>\n",
       "      <td>0</td>\n",
       "      <td>0</td>\n",
       "      <td>0</td>\n",
       "      <td>1</td>\n",
       "      <td>0</td>\n",
       "      <td>0</td>\n",
       "      <td>0</td>\n",
       "      <td>0</td>\n",
       "      <td>0</td>\n",
       "    </tr>\n",
       "    <tr>\n",
       "      <th>42677</th>\n",
       "      <td>20140707</td>\n",
       "      <td>20140910</td>\n",
       "      <td>0</td>\n",
       "      <td>4000.0</td>\n",
       "      <td>6.0</td>\n",
       "      <td>7</td>\n",
       "      <td>2</td>\n",
       "      <td>20140701</td>\n",
       "      <td>7</td>\n",
       "      <td>201407</td>\n",
       "      <td>...</td>\n",
       "      <td>0</td>\n",
       "      <td>0</td>\n",
       "      <td>0</td>\n",
       "      <td>0</td>\n",
       "      <td>0</td>\n",
       "      <td>0</td>\n",
       "      <td>0</td>\n",
       "      <td>0</td>\n",
       "      <td>1</td>\n",
       "      <td>0</td>\n",
       "    </tr>\n",
       "    <tr>\n",
       "      <th>42687</th>\n",
       "      <td>20140707</td>\n",
       "      <td>20140910</td>\n",
       "      <td>1</td>\n",
       "      <td>4000.0</td>\n",
       "      <td>3.0</td>\n",
       "      <td>0</td>\n",
       "      <td>1</td>\n",
       "      <td>20140704</td>\n",
       "      <td>6</td>\n",
       "      <td>201407</td>\n",
       "      <td>...</td>\n",
       "      <td>0</td>\n",
       "      <td>0</td>\n",
       "      <td>0</td>\n",
       "      <td>1</td>\n",
       "      <td>0</td>\n",
       "      <td>0</td>\n",
       "      <td>0</td>\n",
       "      <td>0</td>\n",
       "      <td>0</td>\n",
       "      <td>0</td>\n",
       "    </tr>\n",
       "  </tbody>\n",
       "</table>\n",
       "<p>31545 rows × 99 columns</p>\n",
       "</div>"
      ],
      "text/plain": [
       "       Startdate   Enddate  PhoneValid   Price  DaysEnroltoStart  \\\n",
       "758     20170628  20170918           1  3950.0              96.0   \n",
       "759     20170628  20170918           1  3950.0               8.0   \n",
       "760     20170628  20170918           1  3950.0               6.0   \n",
       "761     20170628  20170918           1  3950.0              40.0   \n",
       "762     20170628  20170918           1  3950.0              44.0   \n",
       "764     20170628  20170918           1  3950.0              20.0   \n",
       "765     20170628  20170918           1  3950.0              18.0   \n",
       "766     20170628  20170918           1  3950.0              61.0   \n",
       "768     20170627  20170905           1  3950.0              90.0   \n",
       "771     20170627  20170831           1  3000.0              61.0   \n",
       "772     20170627  20170905           1  3950.0              19.0   \n",
       "773     20170627  20170831           1  3000.0              61.0   \n",
       "774     20170627  20170905           1  3950.0              12.0   \n",
       "775     20170627  20170905           1  3950.0               8.0   \n",
       "776     20170627  20170905           1  3950.0              20.0   \n",
       "777     20170627  20170905           1  3950.0              14.0   \n",
       "779     20170627  20170905           1  3950.0              46.0   \n",
       "781     20170627  20170905           1  3950.0              21.0   \n",
       "782     20170627  20170905           0  3950.0              61.0   \n",
       "783     20170627  20170905           1  3950.0              47.0   \n",
       "784     20170627  20170905           0  3950.0               7.0   \n",
       "786     20170627  20170905           1  3950.0              41.0   \n",
       "787     20170627  20170905           1  3950.0              19.0   \n",
       "789     20170627  20170831           1  3000.0              17.0   \n",
       "790     20170627  20170907           1  3950.0              46.0   \n",
       "793     20170627  20170831           1  4500.0               7.0   \n",
       "794     20170627  20170831           1  3000.0               4.0   \n",
       "795     20170627  20170831           1  4500.0               4.0   \n",
       "796     20170627  20170905           1  3950.0              13.0   \n",
       "800     20170627  20170905           1  3950.0              14.0   \n",
       "...          ...       ...         ...     ...               ...   \n",
       "42577   20140717  20140925           1  3250.0               3.0   \n",
       "42578   20140717  20140925           0  3250.0               4.0   \n",
       "42579   20140717  20140925           1  3250.0              10.0   \n",
       "42580   20140717  20140925           1  3250.0               2.0   \n",
       "42582   20140717  20140925           1  3250.0               5.0   \n",
       "42583   20140717  20140925           1  3250.0              10.0   \n",
       "42584   20140717  20140925           1  3250.0              10.0   \n",
       "42586   20140717  20140925           0  3250.0               2.0   \n",
       "42588   20140717  20140925           1  3250.0               7.0   \n",
       "42589   20140717  20140925           1  3250.0               4.0   \n",
       "42590   20140717  20140925           1  3250.0               3.0   \n",
       "42603   20140715  20140918           1  3250.0               5.0   \n",
       "42616   20140715  20140918           1  3500.0              12.0   \n",
       "42619   20140715  20140918           1  3500.0               3.0   \n",
       "42623   20140714  20140917           1  4000.0               1.0   \n",
       "42624   20140714  20140917           1  4000.0               3.0   \n",
       "42632   20140714  20140917           1  4000.0               5.0   \n",
       "42636   20140714  20140917           1  4000.0              13.0   \n",
       "42637   20140714  20140917           1  4000.0              13.0   \n",
       "42647   20140709  20140917           1  3500.0               8.0   \n",
       "42653   20140709  20140917           1  3500.0               8.0   \n",
       "42654   20140709  20140917           1  3500.0               3.0   \n",
       "42656   20140708  20140918           1  4000.0               1.0   \n",
       "42659   20140708  20140918           1  4000.0               3.0   \n",
       "42662   20140708  20140918           1  4000.0               7.0   \n",
       "42668   20140708  20140918           1  4000.0               1.0   \n",
       "42669   20140708  20140918           1  4000.0               6.0   \n",
       "42670   20140708  20140918           1  4000.0               2.0   \n",
       "42677   20140707  20140910           0  4000.0               6.0   \n",
       "42687   20140707  20140910           1  4000.0               3.0   \n",
       "\n",
       "       DaysInvoicetoEnrol  DaysLeadtoEnroled  EnrolDate  EnrolHour   Month  \\\n",
       "758                     0                 93   20170324         15  201703   \n",
       "759                     0                  1   20170620         17  201706   \n",
       "760                     0                134   20170622         23  201706   \n",
       "761                     7                 16   20170519         23  201705   \n",
       "762                     7                 48   20170515         18  201705   \n",
       "764                     7                 31   20170608          0  201706   \n",
       "765                     0                 78   20170610         16  201706   \n",
       "766                     0                  2   20170428         17  201704   \n",
       "768                     0                113   20170329          4  201703   \n",
       "771                     0                 85   20170427         15  201704   \n",
       "772                     0                  3   20170609         20  201706   \n",
       "773                     0                 56   20170427         17  201704   \n",
       "774                     0                  0   20170616         21  201706   \n",
       "775                     0                  6   20170620          8  201706   \n",
       "776                     0                 20   20170607         21  201706   \n",
       "777                     0                 12   20170614         20  201706   \n",
       "779                     0                  7   20170512         22  201705   \n",
       "781                     0                 19   20170606         22  201706   \n",
       "782                     0                162   20170427          3  201704   \n",
       "783                     7                 11   20170511          0  201705   \n",
       "784                     0                 40   20170621          2  201706   \n",
       "786                     0                  7   20170517         15  201705   \n",
       "787                     7                  6   20170608         16  201706   \n",
       "789                    70                 95   20170610         15  201706   \n",
       "790                     0                240   20170513         22  201705   \n",
       "793                     0                  0   20170620         10  201706   \n",
       "794                     0                151   20170623         10  201706   \n",
       "795                    49                240   20170623          0  201706   \n",
       "796                     0                 21   20170615         19  201706   \n",
       "800                     0                110   20170613         18  201706   \n",
       "...                   ...                ...        ...        ...     ...   \n",
       "42577                   0                  3   20140714         21  201407   \n",
       "42578                   0                  2   20140713         15  201407   \n",
       "42579                   7                 13   20140707          2  201407   \n",
       "42580                   7                 14   20140715          2  201407   \n",
       "42582                   0                  4   20140712         14  201407   \n",
       "42583                  21                 27   20140707         20  201407   \n",
       "42584                  21                 21   20140707         20  201407   \n",
       "42586                   0                  0   20140715         16  201407   \n",
       "42588                   0                 16   20140710         14  201407   \n",
       "42589                   0                 25   20140713         16  201407   \n",
       "42590                   7                 19   20140714         15  201407   \n",
       "42603                   0                  1   20140710         20  201407   \n",
       "42616                   0                  7   20140703          1  201407   \n",
       "42619                   0                 27   20140712         14  201407   \n",
       "42623                   7                  9   20140713         21  201407   \n",
       "42624                   0                  1   20140711          4  201407   \n",
       "42632                   0                  8   20140709          3  201407   \n",
       "42636                   0                  2   20140701          0  201407   \n",
       "42637                   7                 17   20140701          1  201407   \n",
       "42647                   7                 13   20140702          4  201407   \n",
       "42653                   7                 20   20140702         17  201407   \n",
       "42654                   7                  6   20140707         18  201407   \n",
       "42656                   0                  2   20140708          6  201407   \n",
       "42659                   7                 17   20140706         17  201407   \n",
       "42662                   0                  3   20140702          7  201407   \n",
       "42668                  14                172   20140708         22  201407   \n",
       "42669                   7                  7   20140703         18  201407   \n",
       "42670                  14                 11   20140707         22  201407   \n",
       "42677                   7                  2   20140701          7  201407   \n",
       "42687                   0                  1   20140704          6  201407   \n",
       "\n",
       "              ...          PardotCategory_Uncategorized  \\\n",
       "758           ...                                     0   \n",
       "759           ...                                     0   \n",
       "760           ...                                     0   \n",
       "761           ...                                     0   \n",
       "762           ...                                     0   \n",
       "764           ...                                     0   \n",
       "765           ...                                     0   \n",
       "766           ...                                     0   \n",
       "768           ...                                     0   \n",
       "771           ...                                     0   \n",
       "772           ...                                     0   \n",
       "773           ...                                     0   \n",
       "774           ...                                     0   \n",
       "775           ...                                     0   \n",
       "776           ...                                     0   \n",
       "777           ...                                     0   \n",
       "779           ...                                     0   \n",
       "781           ...                                     0   \n",
       "782           ...                                     0   \n",
       "783           ...                                     0   \n",
       "784           ...                                     0   \n",
       "786           ...                                     0   \n",
       "787           ...                                     0   \n",
       "789           ...                                     0   \n",
       "790           ...                                     0   \n",
       "793           ...                                     0   \n",
       "794           ...                                     0   \n",
       "795           ...                                     0   \n",
       "796           ...                                     0   \n",
       "800           ...                                     0   \n",
       "...           ...                                   ...   \n",
       "42577         ...                                     0   \n",
       "42578         ...                                     0   \n",
       "42579         ...                                     1   \n",
       "42580         ...                                     1   \n",
       "42582         ...                                     0   \n",
       "42583         ...                                     0   \n",
       "42584         ...                                     0   \n",
       "42586         ...                                     0   \n",
       "42588         ...                                     0   \n",
       "42589         ...                                     0   \n",
       "42590         ...                                     0   \n",
       "42603         ...                                     0   \n",
       "42616         ...                                     0   \n",
       "42619         ...                                     0   \n",
       "42623         ...                                     0   \n",
       "42624         ...                                     0   \n",
       "42632         ...                                     0   \n",
       "42636         ...                                     0   \n",
       "42637         ...                                     0   \n",
       "42647         ...                                     0   \n",
       "42653         ...                                     0   \n",
       "42654         ...                                     0   \n",
       "42656         ...                                     0   \n",
       "42659         ...                                     0   \n",
       "42662         ...                                     0   \n",
       "42668         ...                                     0   \n",
       "42669         ...                                     0   \n",
       "42670         ...                                     0   \n",
       "42677         ...                                     0   \n",
       "42687         ...                                     0   \n",
       "\n",
       "       PardotCategory_Unknown  PardotCategory_Website  EnrolDay_Friday  \\\n",
       "758                         0                       0                1   \n",
       "759                         0                       0                0   \n",
       "760                         0                       0                0   \n",
       "761                         0                       0                1   \n",
       "762                         1                       0                0   \n",
       "764                         0                       0                0   \n",
       "765                         0                       0                0   \n",
       "766                         0                       0                1   \n",
       "768                         0                       1                0   \n",
       "771                         0                       0                0   \n",
       "772                         0                       1                1   \n",
       "773                         0                       0                0   \n",
       "774                         0                       0                1   \n",
       "775                         0                       0                0   \n",
       "776                         0                       1                0   \n",
       "777                         0                       0                0   \n",
       "779                         0                       0                1   \n",
       "781                         0                       0                0   \n",
       "782                         0                       0                0   \n",
       "783                         0                       0                0   \n",
       "784                         0                       0                0   \n",
       "786                         0                       0                0   \n",
       "787                         0                       0                0   \n",
       "789                         0                       0                0   \n",
       "790                         0                       0                0   \n",
       "793                         0                       0                0   \n",
       "794                         0                       1                1   \n",
       "795                         0                       0                1   \n",
       "796                         0                       1                0   \n",
       "800                         0                       0                0   \n",
       "...                       ...                     ...              ...   \n",
       "42577                       0                       0                0   \n",
       "42578                       0                       0                0   \n",
       "42579                       0                       0                0   \n",
       "42580                       0                       0                0   \n",
       "42582                       0                       1                0   \n",
       "42583                       0                       0                0   \n",
       "42584                       0                       1                0   \n",
       "42586                       0                       0                0   \n",
       "42588                       0                       0                0   \n",
       "42589                       0                       0                0   \n",
       "42590                       0                       0                0   \n",
       "42603                       0                       0                0   \n",
       "42616                       0                       0                0   \n",
       "42619                       0                       1                0   \n",
       "42623                       0                       0                0   \n",
       "42624                       0                       0                1   \n",
       "42632                       0                       0                0   \n",
       "42636                       0                       0                0   \n",
       "42637                       0                       1                0   \n",
       "42647                       0                       0                0   \n",
       "42653                       0                       0                0   \n",
       "42654                       0                       1                0   \n",
       "42656                       0                       0                0   \n",
       "42659                       0                       0                0   \n",
       "42662                       0                       0                0   \n",
       "42668                       0                       0                0   \n",
       "42669                       0                       0                0   \n",
       "42670                       0                       0                0   \n",
       "42677                       0                       0                0   \n",
       "42687                       0                       0                1   \n",
       "\n",
       "      EnrolDay_Monday  EnrolDay_Saturday  EnrolDay_Sunday  EnrolDay_Thursday  \\\n",
       "758                 0                  0                0                  0   \n",
       "759                 0                  0                0                  0   \n",
       "760                 0                  0                0                  1   \n",
       "761                 0                  0                0                  0   \n",
       "762                 1                  0                0                  0   \n",
       "764                 0                  0                0                  1   \n",
       "765                 0                  1                0                  0   \n",
       "766                 0                  0                0                  0   \n",
       "768                 0                  0                0                  0   \n",
       "771                 0                  0                0                  1   \n",
       "772                 0                  0                0                  0   \n",
       "773                 0                  0                0                  1   \n",
       "774                 0                  0                0                  0   \n",
       "775                 0                  0                0                  0   \n",
       "776                 0                  0                0                  0   \n",
       "777                 0                  0                0                  0   \n",
       "779                 0                  0                0                  0   \n",
       "781                 0                  0                0                  0   \n",
       "782                 0                  0                0                  1   \n",
       "783                 0                  0                0                  1   \n",
       "784                 0                  0                0                  0   \n",
       "786                 0                  0                0                  0   \n",
       "787                 0                  0                0                  1   \n",
       "789                 0                  1                0                  0   \n",
       "790                 0                  1                0                  0   \n",
       "793                 0                  0                0                  0   \n",
       "794                 0                  0                0                  0   \n",
       "795                 0                  0                0                  0   \n",
       "796                 0                  0                0                  1   \n",
       "800                 0                  0                0                  0   \n",
       "...               ...                ...              ...                ...   \n",
       "42577               1                  0                0                  0   \n",
       "42578               0                  0                1                  0   \n",
       "42579               1                  0                0                  0   \n",
       "42580               0                  0                0                  0   \n",
       "42582               0                  1                0                  0   \n",
       "42583               1                  0                0                  0   \n",
       "42584               1                  0                0                  0   \n",
       "42586               0                  0                0                  0   \n",
       "42588               0                  0                0                  1   \n",
       "42589               0                  0                1                  0   \n",
       "42590               1                  0                0                  0   \n",
       "42603               0                  0                0                  1   \n",
       "42616               0                  0                0                  1   \n",
       "42619               0                  1                0                  0   \n",
       "42623               0                  0                1                  0   \n",
       "42624               0                  0                0                  0   \n",
       "42632               0                  0                0                  0   \n",
       "42636               0                  0                0                  0   \n",
       "42637               0                  0                0                  0   \n",
       "42647               0                  0                0                  0   \n",
       "42653               0                  0                0                  0   \n",
       "42654               1                  0                0                  0   \n",
       "42656               0                  0                0                  0   \n",
       "42659               0                  0                1                  0   \n",
       "42662               0                  0                0                  0   \n",
       "42668               0                  0                0                  0   \n",
       "42669               0                  0                0                  1   \n",
       "42670               1                  0                0                  0   \n",
       "42677               0                  0                0                  0   \n",
       "42687               0                  0                0                  0   \n",
       "\n",
       "       EnrolDay_Tuesday  EnrolDay_Wednesday  \n",
       "758                   0                   0  \n",
       "759                   1                   0  \n",
       "760                   0                   0  \n",
       "761                   0                   0  \n",
       "762                   0                   0  \n",
       "764                   0                   0  \n",
       "765                   0                   0  \n",
       "766                   0                   0  \n",
       "768                   0                   1  \n",
       "771                   0                   0  \n",
       "772                   0                   0  \n",
       "773                   0                   0  \n",
       "774                   0                   0  \n",
       "775                   1                   0  \n",
       "776                   0                   1  \n",
       "777                   0                   1  \n",
       "779                   0                   0  \n",
       "781                   1                   0  \n",
       "782                   0                   0  \n",
       "783                   0                   0  \n",
       "784                   0                   1  \n",
       "786                   0                   1  \n",
       "787                   0                   0  \n",
       "789                   0                   0  \n",
       "790                   0                   0  \n",
       "793                   1                   0  \n",
       "794                   0                   0  \n",
       "795                   0                   0  \n",
       "796                   0                   0  \n",
       "800                   1                   0  \n",
       "...                 ...                 ...  \n",
       "42577                 0                   0  \n",
       "42578                 0                   0  \n",
       "42579                 0                   0  \n",
       "42580                 1                   0  \n",
       "42582                 0                   0  \n",
       "42583                 0                   0  \n",
       "42584                 0                   0  \n",
       "42586                 1                   0  \n",
       "42588                 0                   0  \n",
       "42589                 0                   0  \n",
       "42590                 0                   0  \n",
       "42603                 0                   0  \n",
       "42616                 0                   0  \n",
       "42619                 0                   0  \n",
       "42623                 0                   0  \n",
       "42624                 0                   0  \n",
       "42632                 0                   1  \n",
       "42636                 1                   0  \n",
       "42637                 1                   0  \n",
       "42647                 0                   1  \n",
       "42653                 0                   1  \n",
       "42654                 0                   0  \n",
       "42656                 1                   0  \n",
       "42659                 0                   0  \n",
       "42662                 0                   1  \n",
       "42668                 1                   0  \n",
       "42669                 0                   0  \n",
       "42670                 0                   0  \n",
       "42677                 1                   0  \n",
       "42687                 0                   0  \n",
       "\n",
       "[31545 rows x 99 columns]"
      ]
     },
     "execution_count": 47,
     "metadata": {},
     "output_type": "execute_result"
    }
   ],
   "source": [
    "from sklearn import tree\n",
    "from sklearn.cross_validation import train_test_split\n",
    "from sklearn import metrics\n",
    "import matplotlib.pyplot as plt\n",
    "\n",
    "%matplotlib inline\n",
    "\n",
    "cancelled = treesubset['Cancelled']\n",
    "del treesubset['Cancelled']\n",
    "treesubset"
   ]
  },
  {
   "cell_type": "code",
   "execution_count": 48,
   "metadata": {
    "collapsed": false
   },
   "outputs": [
    {
     "data": {
      "text/plain": [
       "['Startdate',\n",
       " 'Enddate',\n",
       " 'PhoneValid',\n",
       " 'Price',\n",
       " 'DaysEnroltoStart',\n",
       " 'DaysInvoicetoEnrol',\n",
       " 'DaysLeadtoEnroled',\n",
       " 'EnrolDate',\n",
       " 'EnrolHour',\n",
       " 'Month',\n",
       " 'EnrolWeek',\n",
       " 'Year',\n",
       " 'LeadID',\n",
       " 'SpeedtoLead',\n",
       " 'APAC',\n",
       " 'Metro_atlanta',\n",
       " 'Metro_austin',\n",
       " 'Metro_boston',\n",
       " 'Metro_brisbane',\n",
       " 'Metro_chicago',\n",
       " 'Metro_denver',\n",
       " 'Metro_hong-kong',\n",
       " 'Metro_london',\n",
       " 'Metro_los-angeles',\n",
       " 'Metro_melbourne',\n",
       " 'Metro_new-york-city',\n",
       " 'Metro_online',\n",
       " 'Metro_san-francisco',\n",
       " 'Metro_seattle',\n",
       " 'Metro_singapore',\n",
       " 'Metro_sydney',\n",
       " 'Metro_washington-dc',\n",
       " 'Course_android-development-immersive',\n",
       " 'Course_back-end-web-development',\n",
       " 'Course_business-fundamentals-tactics',\n",
       " 'Course_data-analytics',\n",
       " 'Course_data-science',\n",
       " 'Course_data-science-immersive',\n",
       " 'Course_digital-marketing',\n",
       " 'Course_front-end-web-development',\n",
       " 'Course_ios-development',\n",
       " 'Course_javascript-development',\n",
       " 'Course_product-management',\n",
       " 'Course_product-management-immersive',\n",
       " 'Course_user-experience-design',\n",
       " 'Course_user-experience-design-immersive',\n",
       " 'Course_visual-design',\n",
       " 'Course_web-development-immersive',\n",
       " 'Course_web-development-immersive-remote',\n",
       " 'Type_course',\n",
       " 'Type_immersive',\n",
       " 'Type_remote',\n",
       " 'ExpectedPayment_Employer',\n",
       " 'ExpectedPayment_Family',\n",
       " 'ExpectedPayment_GA Employee/Instructor',\n",
       " 'ExpectedPayment_Government Funding / Grant',\n",
       " 'ExpectedPayment_Loan (Private)',\n",
       " 'ExpectedPayment_Loan Partner',\n",
       " 'ExpectedPayment_Other',\n",
       " 'ExpectedPayment_Scholarship',\n",
       " 'ExpectedPayment_Student / Self',\n",
       " 'ExpectedPayment_Unknown',\n",
       " 'ExpectedPayment_Veterans Affairs',\n",
       " 'ApplicationType_apply now',\n",
       " 'ApplicationType_contact_admissions',\n",
       " 'ApplicationType_cwe_feedback',\n",
       " 'ApplicationType_financing contact us',\n",
       " 'ApplicationType_get notified',\n",
       " 'ApplicationType_info session',\n",
       " 'ApplicationType_invoice',\n",
       " 'ApplicationType_lander',\n",
       " 'ApplicationType_open house',\n",
       " 'ApplicationType_referral',\n",
       " 'ApplicationType_request info',\n",
       " 'ApplicationType_trial class',\n",
       " 'PardotCategory_CWE Purchase',\n",
       " 'PardotCategory_Content Partnership',\n",
       " 'PardotCategory_Facebook Acquisition',\n",
       " 'PardotCategory_GA Circuits Leads',\n",
       " 'PardotCategory_GA Course Leads',\n",
       " 'PardotCategory_GA Dash',\n",
       " 'PardotCategory_GA Front Row Signup',\n",
       " 'PardotCategory_Livestream Purchase',\n",
       " 'PardotCategory_Other',\n",
       " 'PardotCategory_Partner Event',\n",
       " 'PardotCategory_Student Enrollment',\n",
       " 'PardotCategory_Sweepstake',\n",
       " 'PardotCategory_Twitter Acquisition',\n",
       " 'PardotCategory_Twitter Promoted',\n",
       " 'PardotCategory_Uncategorized',\n",
       " 'PardotCategory_Unknown',\n",
       " 'PardotCategory_Website',\n",
       " 'EnrolDay_Friday',\n",
       " 'EnrolDay_Monday',\n",
       " 'EnrolDay_Saturday',\n",
       " 'EnrolDay_Sunday',\n",
       " 'EnrolDay_Thursday',\n",
       " 'EnrolDay_Tuesday',\n",
       " 'EnrolDay_Wednesday']"
      ]
     },
     "execution_count": 48,
     "metadata": {},
     "output_type": "execute_result"
    }
   ],
   "source": [
    "X_train, X_test, y_train, y_test = train_test_split(treesubset, cancelled, random_state=1)\n",
    "ctree = tree.DecisionTreeClassifier(random_state=1, max_depth=2)\n",
    "# Fit the decision tree classifier\n",
    "ctree.fit(X_train, y_train)\n",
    "# Create a feature vector\n",
    "features = treesubset.columns.tolist()\n",
    "features"
   ]
  },
  {
   "cell_type": "code",
   "execution_count": 49,
   "metadata": {
    "collapsed": false
   },
   "outputs": [],
   "source": [
    "from io import StringIO\n",
    "out = StringIO()\n",
    "tree.export_graphviz(ctree, out_file = out)\n",
    "from sklearn.tree import export_graphviz\n",
    "export_graphviz(ctree, out_file='decisiontree.dot', feature_names=features)"
   ]
  },
  {
   "cell_type": "markdown",
   "metadata": {
    "collapsed": true
   },
   "source": [
    "#### Previously exported: \n",
    "<img src=\"assets/img/decisiontree-enrolments.png\">"
   ]
  },
  {
   "cell_type": "markdown",
   "metadata": {
    "collapsed": true
   },
   "source": [
    "### Logistic Regression\n",
    "##### Plain ol' logistic regression:"
   ]
  },
  {
   "cell_type": "code",
   "execution_count": 104,
   "metadata": {
    "collapsed": false
   },
   "outputs": [],
   "source": [
    "import pandas as pd\n",
    "# data = dummydata\n",
    "all_ftcolumns = dummydata.columns.tolist()\n",
    "all_ftcolumns.remove('Cancelled')"
   ]
  },
  {
   "cell_type": "code",
   "execution_count": 105,
   "metadata": {
    "collapsed": false
   },
   "outputs": [],
   "source": [
    "X = dummydata[all_ftcolumns]\n",
    "y = dummydata.Cancelled"
   ]
  },
  {
   "cell_type": "code",
   "execution_count": 106,
   "metadata": {
    "collapsed": false
   },
   "outputs": [
    {
     "name": "stdout",
     "output_type": "stream",
     "text": [
      "LogisticRegression(C=1.0, class_weight=None, dual=False, fit_intercept=True,\n",
      "          intercept_scaling=1, max_iter=100, multi_class='ovr', n_jobs=1,\n",
      "          penalty='l2', random_state=None, solver='liblinear', tol=0.0001,\n",
      "          verbose=0, warm_start=False)\n"
     ]
    }
   ],
   "source": [
    "#split the data\n",
    "from sklearn.cross_validation import train_test_split\n",
    "from sklearn.cross_validation import cross_val_score\n",
    "\n",
    "X_train, X_test, y_train, y_test = train_test_split(X, y, random_state=1)\n",
    "#fit the logreg model and print the coefficients\n",
    "from sklearn.linear_model import LogisticRegression\n",
    "logreg = LogisticRegression()\n",
    "logreg.fit(X_train, y_train)\n",
    "zip(all_ftcolumns, logreg.coef_[0])\n",
    "print(logreg.fit(X_train, y_train))"
   ]
  },
  {
   "cell_type": "code",
   "execution_count": 109,
   "metadata": {
    "collapsed": false
   },
   "outputs": [
    {
     "name": "stdout",
     "output_type": "stream",
     "text": [
      "0.892354507417\n"
     ]
    }
   ],
   "source": [
    "#test accuracy\n",
    "y_pred_class = logreg.predict(X_test)\n",
    "from sklearn import metrics\n",
    "print(metrics.accuracy_score(y_test,y_pred_class))"
   ]
  },
  {
   "cell_type": "code",
   "execution_count": 113,
   "metadata": {
    "collapsed": false
   },
   "outputs": [
    {
     "name": "stdout",
     "output_type": "stream",
     "text": [
      "0.892354507417\n"
     ]
    }
   ],
   "source": [
    "from sklearn.dummy import DummyClassifier\n",
    "dumb = DummyClassifier(strategy='most_frequent')\n",
    "dumb.fit(X_train, y_train)\n",
    "y_dumb_class = dumb.predict(X_test)\n",
    "print (metrics.accuracy_score(y_test, y_dumb_class))"
   ]
  },
  {
   "cell_type": "markdown",
   "metadata": {},
   "source": [
    "* Logistic regression is as good as picking the most frequent class for all of them.\n",
    "\n",
    "\n",
    "##### Cross-validation doesn't help us much more:"
   ]
  },
  {
   "cell_type": "code",
   "execution_count": 116,
   "metadata": {
    "collapsed": false
   },
   "outputs": [
    {
     "name": "stdout",
     "output_type": "stream",
     "text": [
      "[ 0.89240506  0.89240506  0.89240506  0.89240506  0.89240506  0.89240506\n",
      "  0.89240506  0.89240506  0.89240506  0.89240506  0.89240506  0.89240506\n",
      "  0.89240506  0.89240506  0.89240506  0.89240506  0.89240506  0.89240506\n",
      "  0.89240506  0.89240506  0.89240506  0.89240506  0.89240506  0.89240506\n",
      "  0.89240506  0.89240506  0.89240506  0.89240506  0.89240506  0.89240506\n",
      "  0.89240506  0.89240506  0.89240506  0.89240506  0.89240506  0.89240506\n",
      "  0.89240506  0.89240506  0.89240506  0.89240506  0.89240506  0.89240506\n",
      "  0.89240506  0.89240506  0.89240506  0.89240506  0.89240506  0.89240506\n",
      "  0.89240506  0.89240506  0.89240506  0.89240506  0.89240506  0.89240506\n",
      "  0.89240506  0.89240506  0.89240506  0.89240506  0.89240506  0.89240506\n",
      "  0.89240506  0.89240506  0.89206349  0.89206349  0.89206349  0.89206349\n",
      "  0.89206349  0.89206349  0.89206349  0.89206349  0.89206349  0.89206349\n",
      "  0.89206349  0.89206349  0.89206349  0.89206349  0.89206349  0.89206349\n",
      "  0.89206349  0.89206349  0.89206349  0.89206349  0.89206349  0.89490446\n",
      "  0.89490446  0.89490446  0.89490446  0.89490446  0.89490446  0.89490446\n",
      "  0.89490446  0.89490446  0.89490446  0.89490446  0.89490446  0.89490446\n",
      "  0.89490446  0.89490446  0.89490446  0.89490446]\n"
     ]
    }
   ],
   "source": [
    "scores = cross_val_score(LogisticRegression(), X, y, scoring='accuracy', cv=100)\n",
    "print(scores)"
   ]
  },
  {
   "cell_type": "code",
   "execution_count": 117,
   "metadata": {
    "collapsed": false
   },
   "outputs": [
    {
     "name": "stdout",
     "output_type": "stream",
     "text": [
      "0.892758230536\n"
     ]
    }
   ],
   "source": [
    "print(scores.mean())"
   ]
  },
  {
   "cell_type": "code",
   "execution_count": 114,
   "metadata": {
    "collapsed": false
   },
   "outputs": [
    {
     "name": "stdout",
     "output_type": "stream",
     "text": [
      "[[7038    0]\n",
      " [ 849    0]]\n"
     ]
    }
   ],
   "source": [
    "#print the confusion matrix\n",
    "from sklearn import metrics\n",
    "prds = logreg.predict(X)\n",
    "print(metrics.confusion_matrix(y_test, y_pred_class))"
   ]
  },
  {
   "cell_type": "code",
   "execution_count": 115,
   "metadata": {
    "collapsed": false
   },
   "outputs": [
    {
     "data": {
      "image/png": "[encoded data removed]",
      "text/plain": [
       "<matplotlib.figure.Figure at 0x10a6056a0>"
      ]
     },
     "metadata": {},
     "output_type": "display_data"
    }
   ],
   "source": [
    "#generate the ROC curve\n",
    "import matplotlib.pyplot as plt\n",
    "# Generate the prediction values for each of the test observations using predict_proba() function rather than just predict\n",
    "preds = logreg.predict_proba(X_test)[:,1]\n",
    "# Store the false positive rate(fpr), true positive rate (tpr) in vectors for use in the graph\n",
    "fpr, tpr, _ = metrics.roc_curve(y_test, preds)\n",
    "# Store the Area Under the Curve (AUC) so we can annotate our graph with this metric\n",
    "roc_auc = metrics.auc(fpr,tpr)\n",
    "# Plot the ROC Curve\n",
    "plt.figure()\n",
    "lw = 2\n",
    "plt.plot(fpr, tpr, color='darkorange',\n",
    "         lw=lw, label='ROC curve (area = %0.2f)' % roc_auc)\n",
    "plt.plot([0, 1], [0, 1], color='navy', lw=lw, linestyle='--')\n",
    "plt.xlim([0.0, 1.0])\n",
    "plt.ylim([0.0, 1.05])\n",
    "plt.xlabel('False Positive Rate')\n",
    "plt.ylabel('True Positive Rate')\n",
    "plt.title('Receiver operating characteristic example')\n",
    "plt.legend(loc=\"lower right\")\n",
    "plt.show()\n",
    "# Our aim when modelling is to maximise the area under the curve, the closer to one the better the model."
   ]
  },
  {
   "cell_type": "markdown",
   "metadata": {},
   "source": [
    "### Regression "
   ]
  },
  {
   "cell_type": "code",
   "execution_count": null,
   "metadata": {
    "collapsed": false
   },
   "outputs": [],
   "source": [
    "print('RMSE (No reg.) =', np.sqrt(metrics.mean_squared_error(y_test,y_pred_class)))"
   ]
  },
  {
   "cell_type": "code",
   "execution_count": null,
   "metadata": {
    "collapsed": false
   },
   "outputs": [],
   "source": [
    "from sklearn.linear_model import RidgeCV\n",
    "alpha_range = 10.**np.arange(-5, 5)\n",
    "rregcv = RidgeCV(normalize=True, scoring='neg_mean_squared_error', alphas=alpha_range)\n",
    "rregcv.fit(X_train, y_train)\n",
    "# Print the optimal value of Alpha for Ridge Regression\n",
    "print('Optimal Alpha Value: ', rregcv.alpha_)\n",
    "# Print the RMSE for the ridge regression model\n",
    "preds = rregcv.predict(X_test)\n",
    "print ('RMSE (Ridge CV reg.) =', np.sqrt(metrics.mean_squared_error(y_test, preds)))"
   ]
  },
  {
   "cell_type": "code",
   "execution_count": null,
   "metadata": {
    "collapsed": false
   },
   "outputs": [],
   "source": [
    "from sklearn.linear_model import LassoCV\n",
    "alpha_range = 10.**np.arange(-4, 4)\n",
    "lascv = LassoCV(normalize=True, alphas=alpha_range)\n",
    "lascv.fit(X_train, y_train)\n",
    "print('Optimal Alpha Value: ',lascv.alpha_)\n",
    "lascv.coef_\n",
    "preds = lascv.predict(X_test)\n",
    "print('RMSE (Lasso CV reg.) =', np.sqrt(metrics.mean_squared_error(y_test, preds)))"
   ]
  },
  {
   "cell_type": "code",
   "execution_count": null,
   "metadata": {
    "collapsed": false
   },
   "outputs": [],
   "source": [
    "from sklearn.linear_model import ElasticNetCV\n",
    "alpha_range = 10.**np.arange(-3, 3)\n",
    "enetCV = ElasticNetCV(normalize=True, alphas=alpha_range)\n",
    "enetCV.fit(X_train, y_train)\n",
    "print('Optimal Alpha Value: ',enetCV.alpha_)\n",
    "enetCV.coef_\n",
    "preds = enetCV.predict(X_test)\n",
    "print('RMSE (ENET CV reg.)', np.sqrt(metrics.mean_squared_error(y_test, preds)))"
   ]
  },
  {
   "cell_type": "markdown",
   "metadata": {},
   "source": [
    "### KNN Classifier"
   ]
  },
  {
   "cell_type": "code",
   "execution_count": null,
   "metadata": {
    "collapsed": false
   },
   "outputs": [],
   "source": [
    "from sklearn.neighbors import KNeighborsClassifier\n",
    "KNN_model = KNeighborsClassifier(5)\n",
    "KNN_model.fit(X_train, y_train)\n",
    "y_pred_class = KNN_model.predict(X_test)\n",
    "# Print the new accuracy rate\n",
    "print(metrics.accuracy_score(y_test, y_pred_class))"
   ]
  },
  {
   "cell_type": "markdown",
   "metadata": {},
   "source": [
    "### Random Forrest"
   ]
  },
  {
   "cell_type": "code",
   "execution_count": null,
   "metadata": {
    "collapsed": false
   },
   "outputs": [],
   "source": [
    "#all_ftcolumns"
   ]
  },
  {
   "cell_type": "code",
   "execution_count": 94,
   "metadata": {
    "collapsed": false
   },
   "outputs": [
    {
     "data": {
      "text/plain": [
       "0.89262957679505472"
      ]
     },
     "execution_count": 94,
     "metadata": {},
     "output_type": "execute_result"
    }
   ],
   "source": [
    "from sklearn.ensemble import RandomForestClassifier\n",
    "rfclf = RandomForestClassifier(n_estimators=400, max_features=2, oob_score=True, random_state=1)\n",
    "rfclf.fit(dummydata[all_ftcolumns], dummydata.Cancelled)\n",
    "rfclf.oob_score_"
   ]
  },
  {
   "cell_type": "code",
   "execution_count": 95,
   "metadata": {
    "collapsed": false
   },
   "outputs": [
    {
     "data": {
      "text/html": [
       "<div>\n",
       "<table border=\"1\" class=\"dataframe\">\n",
       "  <thead>\n",
       "    <tr style=\"text-align: right;\">\n",
       "      <th></th>\n",
       "      <th>feature</th>\n",
       "      <th>importance</th>\n",
       "    </tr>\n",
       "  </thead>\n",
       "  <tbody>\n",
       "    <tr>\n",
       "      <th>0</th>\n",
       "      <td>Startdate</td>\n",
       "      <td>0.059848</td>\n",
       "    </tr>\n",
       "    <tr>\n",
       "      <th>1</th>\n",
       "      <td>Enddate</td>\n",
       "      <td>0.060110</td>\n",
       "    </tr>\n",
       "    <tr>\n",
       "      <th>2</th>\n",
       "      <td>PhoneValid</td>\n",
       "      <td>0.008966</td>\n",
       "    </tr>\n",
       "    <tr>\n",
       "      <th>3</th>\n",
       "      <td>Price</td>\n",
       "      <td>0.027659</td>\n",
       "    </tr>\n",
       "    <tr>\n",
       "      <th>4</th>\n",
       "      <td>DaysEnroltoStart</td>\n",
       "      <td>0.067684</td>\n",
       "    </tr>\n",
       "    <tr>\n",
       "      <th>5</th>\n",
       "      <td>DaysInvoicetoEnrol</td>\n",
       "      <td>0.021960</td>\n",
       "    </tr>\n",
       "    <tr>\n",
       "      <th>6</th>\n",
       "      <td>DaysLeadtoEnroled</td>\n",
       "      <td>0.070869</td>\n",
       "    </tr>\n",
       "    <tr>\n",
       "      <th>7</th>\n",
       "      <td>EnrolDate</td>\n",
       "      <td>0.067309</td>\n",
       "    </tr>\n",
       "    <tr>\n",
       "      <th>8</th>\n",
       "      <td>EnrolHour</td>\n",
       "      <td>0.060995</td>\n",
       "    </tr>\n",
       "    <tr>\n",
       "      <th>9</th>\n",
       "      <td>Month</td>\n",
       "      <td>0.048747</td>\n",
       "    </tr>\n",
       "    <tr>\n",
       "      <th>10</th>\n",
       "      <td>EnrolWeek</td>\n",
       "      <td>0.062017</td>\n",
       "    </tr>\n",
       "    <tr>\n",
       "      <th>11</th>\n",
       "      <td>Year</td>\n",
       "      <td>0.013664</td>\n",
       "    </tr>\n",
       "    <tr>\n",
       "      <th>12</th>\n",
       "      <td>LeadID</td>\n",
       "      <td>0.075284</td>\n",
       "    </tr>\n",
       "    <tr>\n",
       "      <th>13</th>\n",
       "      <td>SpeedtoLead</td>\n",
       "      <td>0.026343</td>\n",
       "    </tr>\n",
       "    <tr>\n",
       "      <th>14</th>\n",
       "      <td>APAC</td>\n",
       "      <td>0.004536</td>\n",
       "    </tr>\n",
       "    <tr>\n",
       "      <th>15</th>\n",
       "      <td>Metro_atlanta</td>\n",
       "      <td>0.003522</td>\n",
       "    </tr>\n",
       "    <tr>\n",
       "      <th>16</th>\n",
       "      <td>Metro_austin</td>\n",
       "      <td>0.003075</td>\n",
       "    </tr>\n",
       "    <tr>\n",
       "      <th>17</th>\n",
       "      <td>Metro_boston</td>\n",
       "      <td>0.004294</td>\n",
       "    </tr>\n",
       "    <tr>\n",
       "      <th>18</th>\n",
       "      <td>Metro_brisbane</td>\n",
       "      <td>0.000013</td>\n",
       "    </tr>\n",
       "    <tr>\n",
       "      <th>19</th>\n",
       "      <td>Metro_chicago</td>\n",
       "      <td>0.003569</td>\n",
       "    </tr>\n",
       "    <tr>\n",
       "      <th>20</th>\n",
       "      <td>Metro_denver</td>\n",
       "      <td>0.000959</td>\n",
       "    </tr>\n",
       "    <tr>\n",
       "      <th>21</th>\n",
       "      <td>Metro_hong-kong</td>\n",
       "      <td>0.001592</td>\n",
       "    </tr>\n",
       "    <tr>\n",
       "      <th>22</th>\n",
       "      <td>Metro_london</td>\n",
       "      <td>0.004490</td>\n",
       "    </tr>\n",
       "    <tr>\n",
       "      <th>23</th>\n",
       "      <td>Metro_los-angeles</td>\n",
       "      <td>0.009049</td>\n",
       "    </tr>\n",
       "    <tr>\n",
       "      <th>24</th>\n",
       "      <td>Metro_melbourne</td>\n",
       "      <td>0.002537</td>\n",
       "    </tr>\n",
       "    <tr>\n",
       "      <th>25</th>\n",
       "      <td>Metro_new-york-city</td>\n",
       "      <td>0.009468</td>\n",
       "    </tr>\n",
       "    <tr>\n",
       "      <th>26</th>\n",
       "      <td>Metro_online</td>\n",
       "      <td>0.000911</td>\n",
       "    </tr>\n",
       "    <tr>\n",
       "      <th>27</th>\n",
       "      <td>Metro_san-francisco</td>\n",
       "      <td>0.008790</td>\n",
       "    </tr>\n",
       "    <tr>\n",
       "      <th>28</th>\n",
       "      <td>Metro_seattle</td>\n",
       "      <td>0.003605</td>\n",
       "    </tr>\n",
       "    <tr>\n",
       "      <th>29</th>\n",
       "      <td>Metro_singapore</td>\n",
       "      <td>0.001244</td>\n",
       "    </tr>\n",
       "    <tr>\n",
       "      <th>...</th>\n",
       "      <td>...</td>\n",
       "      <td>...</td>\n",
       "    </tr>\n",
       "    <tr>\n",
       "      <th>69</th>\n",
       "      <td>ApplicationType_invoice</td>\n",
       "      <td>0.001682</td>\n",
       "    </tr>\n",
       "    <tr>\n",
       "      <th>70</th>\n",
       "      <td>ApplicationType_lander</td>\n",
       "      <td>0.001118</td>\n",
       "    </tr>\n",
       "    <tr>\n",
       "      <th>71</th>\n",
       "      <td>ApplicationType_open house</td>\n",
       "      <td>0.000894</td>\n",
       "    </tr>\n",
       "    <tr>\n",
       "      <th>72</th>\n",
       "      <td>ApplicationType_referral</td>\n",
       "      <td>0.002214</td>\n",
       "    </tr>\n",
       "    <tr>\n",
       "      <th>73</th>\n",
       "      <td>ApplicationType_request info</td>\n",
       "      <td>0.012203</td>\n",
       "    </tr>\n",
       "    <tr>\n",
       "      <th>74</th>\n",
       "      <td>ApplicationType_trial class</td>\n",
       "      <td>0.001172</td>\n",
       "    </tr>\n",
       "    <tr>\n",
       "      <th>75</th>\n",
       "      <td>PardotCategory_CWE Purchase</td>\n",
       "      <td>0.008685</td>\n",
       "    </tr>\n",
       "    <tr>\n",
       "      <th>76</th>\n",
       "      <td>PardotCategory_Content Partnership</td>\n",
       "      <td>0.000692</td>\n",
       "    </tr>\n",
       "    <tr>\n",
       "      <th>77</th>\n",
       "      <td>PardotCategory_Facebook Acquisition</td>\n",
       "      <td>0.005314</td>\n",
       "    </tr>\n",
       "    <tr>\n",
       "      <th>78</th>\n",
       "      <td>PardotCategory_GA Circuits Leads</td>\n",
       "      <td>0.001508</td>\n",
       "    </tr>\n",
       "    <tr>\n",
       "      <th>79</th>\n",
       "      <td>PardotCategory_GA Course Leads</td>\n",
       "      <td>0.013673</td>\n",
       "    </tr>\n",
       "    <tr>\n",
       "      <th>80</th>\n",
       "      <td>PardotCategory_GA Dash</td>\n",
       "      <td>0.003973</td>\n",
       "    </tr>\n",
       "    <tr>\n",
       "      <th>81</th>\n",
       "      <td>PardotCategory_GA Front Row Signup</td>\n",
       "      <td>0.003069</td>\n",
       "    </tr>\n",
       "    <tr>\n",
       "      <th>82</th>\n",
       "      <td>PardotCategory_Livestream Purchase</td>\n",
       "      <td>0.000947</td>\n",
       "    </tr>\n",
       "    <tr>\n",
       "      <th>83</th>\n",
       "      <td>PardotCategory_Other</td>\n",
       "      <td>0.003626</td>\n",
       "    </tr>\n",
       "    <tr>\n",
       "      <th>84</th>\n",
       "      <td>PardotCategory_Partner Event</td>\n",
       "      <td>0.001939</td>\n",
       "    </tr>\n",
       "    <tr>\n",
       "      <th>85</th>\n",
       "      <td>PardotCategory_Student Enrollment</td>\n",
       "      <td>0.000257</td>\n",
       "    </tr>\n",
       "    <tr>\n",
       "      <th>86</th>\n",
       "      <td>PardotCategory_Sweepstake</td>\n",
       "      <td>0.003394</td>\n",
       "    </tr>\n",
       "    <tr>\n",
       "      <th>87</th>\n",
       "      <td>PardotCategory_Twitter Acquisition</td>\n",
       "      <td>0.001076</td>\n",
       "    </tr>\n",
       "    <tr>\n",
       "      <th>88</th>\n",
       "      <td>PardotCategory_Twitter Promoted</td>\n",
       "      <td>0.001995</td>\n",
       "    </tr>\n",
       "    <tr>\n",
       "      <th>89</th>\n",
       "      <td>PardotCategory_Uncategorized</td>\n",
       "      <td>0.001098</td>\n",
       "    </tr>\n",
       "    <tr>\n",
       "      <th>90</th>\n",
       "      <td>PardotCategory_Unknown</td>\n",
       "      <td>0.001680</td>\n",
       "    </tr>\n",
       "    <tr>\n",
       "      <th>91</th>\n",
       "      <td>PardotCategory_Website</td>\n",
       "      <td>0.009393</td>\n",
       "    </tr>\n",
       "    <tr>\n",
       "      <th>92</th>\n",
       "      <td>EnrolDay_Friday</td>\n",
       "      <td>0.010759</td>\n",
       "    </tr>\n",
       "    <tr>\n",
       "      <th>93</th>\n",
       "      <td>EnrolDay_Monday</td>\n",
       "      <td>0.009261</td>\n",
       "    </tr>\n",
       "    <tr>\n",
       "      <th>94</th>\n",
       "      <td>EnrolDay_Saturday</td>\n",
       "      <td>0.006552</td>\n",
       "    </tr>\n",
       "    <tr>\n",
       "      <th>95</th>\n",
       "      <td>EnrolDay_Sunday</td>\n",
       "      <td>0.004940</td>\n",
       "    </tr>\n",
       "    <tr>\n",
       "      <th>96</th>\n",
       "      <td>EnrolDay_Thursday</td>\n",
       "      <td>0.009374</td>\n",
       "    </tr>\n",
       "    <tr>\n",
       "      <th>97</th>\n",
       "      <td>EnrolDay_Tuesday</td>\n",
       "      <td>0.009978</td>\n",
       "    </tr>\n",
       "    <tr>\n",
       "      <th>98</th>\n",
       "      <td>EnrolDay_Wednesday</td>\n",
       "      <td>0.010606</td>\n",
       "    </tr>\n",
       "  </tbody>\n",
       "</table>\n",
       "<p>99 rows × 2 columns</p>\n",
       "</div>"
      ],
      "text/plain": [
       "                                feature  importance\n",
       "0                             Startdate    0.059848\n",
       "1                               Enddate    0.060110\n",
       "2                            PhoneValid    0.008966\n",
       "3                                 Price    0.027659\n",
       "4                      DaysEnroltoStart    0.067684\n",
       "5                    DaysInvoicetoEnrol    0.021960\n",
       "6                     DaysLeadtoEnroled    0.070869\n",
       "7                             EnrolDate    0.067309\n",
       "8                             EnrolHour    0.060995\n",
       "9                                 Month    0.048747\n",
       "10                            EnrolWeek    0.062017\n",
       "11                                 Year    0.013664\n",
       "12                               LeadID    0.075284\n",
       "13                          SpeedtoLead    0.026343\n",
       "14                                 APAC    0.004536\n",
       "15                        Metro_atlanta    0.003522\n",
       "16                         Metro_austin    0.003075\n",
       "17                         Metro_boston    0.004294\n",
       "18                       Metro_brisbane    0.000013\n",
       "19                        Metro_chicago    0.003569\n",
       "20                         Metro_denver    0.000959\n",
       "21                      Metro_hong-kong    0.001592\n",
       "22                         Metro_london    0.004490\n",
       "23                    Metro_los-angeles    0.009049\n",
       "24                      Metro_melbourne    0.002537\n",
       "25                  Metro_new-york-city    0.009468\n",
       "26                         Metro_online    0.000911\n",
       "27                  Metro_san-francisco    0.008790\n",
       "28                        Metro_seattle    0.003605\n",
       "29                      Metro_singapore    0.001244\n",
       "..                                  ...         ...\n",
       "69              ApplicationType_invoice    0.001682\n",
       "70               ApplicationType_lander    0.001118\n",
       "71           ApplicationType_open house    0.000894\n",
       "72             ApplicationType_referral    0.002214\n",
       "73         ApplicationType_request info    0.012203\n",
       "74          ApplicationType_trial class    0.001172\n",
       "75          PardotCategory_CWE Purchase    0.008685\n",
       "76   PardotCategory_Content Partnership    0.000692\n",
       "77  PardotCategory_Facebook Acquisition    0.005314\n",
       "78     PardotCategory_GA Circuits Leads    0.001508\n",
       "79       PardotCategory_GA Course Leads    0.013673\n",
       "80               PardotCategory_GA Dash    0.003973\n",
       "81   PardotCategory_GA Front Row Signup    0.003069\n",
       "82   PardotCategory_Livestream Purchase    0.000947\n",
       "83                 PardotCategory_Other    0.003626\n",
       "84         PardotCategory_Partner Event    0.001939\n",
       "85    PardotCategory_Student Enrollment    0.000257\n",
       "86            PardotCategory_Sweepstake    0.003394\n",
       "87   PardotCategory_Twitter Acquisition    0.001076\n",
       "88      PardotCategory_Twitter Promoted    0.001995\n",
       "89         PardotCategory_Uncategorized    0.001098\n",
       "90               PardotCategory_Unknown    0.001680\n",
       "91               PardotCategory_Website    0.009393\n",
       "92                      EnrolDay_Friday    0.010759\n",
       "93                      EnrolDay_Monday    0.009261\n",
       "94                    EnrolDay_Saturday    0.006552\n",
       "95                      EnrolDay_Sunday    0.004940\n",
       "96                    EnrolDay_Thursday    0.009374\n",
       "97                     EnrolDay_Tuesday    0.009978\n",
       "98                   EnrolDay_Wednesday    0.010606\n",
       "\n",
       "[99 rows x 2 columns]"
      ]
     },
     "execution_count": 95,
     "metadata": {},
     "output_type": "execute_result"
    }
   ],
   "source": [
    "pd.DataFrame({'feature':all_ftcolumns, 'importance':rfclf.feature_importances_})"
   ]
  },
  {
   "cell_type": "code",
   "execution_count": 100,
   "metadata": {
    "collapsed": false
   },
   "outputs": [
    {
     "name": "stdout",
     "output_type": "stream",
     "text": [
      "RMSE (no regularization) = 0.11329543539\n"
     ]
    }
   ],
   "source": [
    "preds = rfclf.predict_proba(X_test)[:,1]\n",
    "print('RMSE (no regularization) =', np.sqrt(metrics.mean_squared_error(y_test, preds)))"
   ]
  },
  {
   "cell_type": "markdown",
   "metadata": {},
   "source": [
    "## Parameter tuning?"
   ]
  },
  {
   "cell_type": "code",
   "execution_count": null,
   "metadata": {
    "collapsed": true
   },
   "outputs": [],
   "source": []
  },
  {
   "cell_type": "code",
   "execution_count": null,
   "metadata": {
    "collapsed": true
   },
   "outputs": [],
   "source": []
  }
 ],
 "metadata": {
  "kernelspec": {
   "display_name": "Python 3",
   "language": "python",
   "name": "python3"
  },
  "language_info": {
   "codemirror_mode": {
    "name": "ipython",
    "version": 3
   },
   "file_extension": ".py",
   "mimetype": "text/x-python",
   "name": "python",
   "nbconvert_exporter": "python",
   "pygments_lexer": "ipython3",
   "version": "3.6.0"
  }
 },
 "nbformat": 4,
 "nbformat_minor": 2
}
